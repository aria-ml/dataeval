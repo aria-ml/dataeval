{
 "cells": [
  {
   "cell_type": "markdown",
   "metadata": {},
   "source": [
    "# Set up code\n"
   ]
  },
  {
   "cell_type": "code",
   "execution_count": 1,
   "metadata": {},
   "outputs": [],
   "source": [
    "import matplotlib.pyplot as plt\n",
    "import numpy as np\n",
    "import sklearn.datasets as dsets\n",
    "\n",
    "from dataeval.detectors.linters import Clusterer as fc\n",
    "from dataeval.utils._clusterer import sorted_union_find"
   ]
  },
  {
   "cell_type": "code",
   "execution_count": null,
   "metadata": {},
   "outputs": [],
   "source": [
    "small = np.load('./data/clusterable_data.npy')"
   ]
  },
  {
   "cell_type": "code",
   "execution_count": null,
   "metadata": {},
   "outputs": [],
   "source": [
    "# Create scatter plot\n",
    "plt.figure(figsize=(20,20))\n",
    "plot_kwds = {\"alpha\": 0.5, \"s\": 50, \"linewidths\": 0}\n",
    "plt.scatter(small.T[0], small.T[1], **plot_kwds)\n",
    "plt.show()"
   ]
  },
  {
   "cell_type": "code",
   "execution_count": 7,
   "metadata": {},
   "outputs": [],
   "source": [
    "small, small_label = dsets.make_circles(\n",
    "    n_samples=200000, factor=0.5, noise=0.05, random_state=30\n",
    ")"
   ]
  },
  {
   "cell_type": "code",
   "execution_count": null,
   "metadata": {},
   "outputs": [],
   "source": [
    "# Create scatter plot\n",
    "plt.figure(figsize=(20,20))\n",
    "plot_kwds = {\"alpha\": 0.5, \"s\": 50, \"linewidths\": 0}\n",
    "plt.scatter(small.T[0], small.T[1], **plot_kwds)\n",
    "\n",
    "# Annotate each point in the scatter plot\n",
    "# that = np.concatenate(edge_points)\n",
    "# for i, (x, y) in enumerate(small[that,:2]):\n",
    "#     plt.annotate(str(that[i]), (x, y), textcoords=\"offset points\", xytext=(0, 1), ha=\"center\")\n",
    "\n",
    "plt.show()"
   ]
  },
  {
   "cell_type": "code",
   "execution_count": null,
   "metadata": {},
   "outputs": [],
   "source": [
    "blob, blob_label = dsets.make_blobs(  # type: ignore\n",
    "    n_samples=48000,\n",
    "    n_features=2,#048,\n",
    "    centers=4,\n",
    "    center_box=(-250,200),\n",
    "    cluster_std=35,\n",
    "    random_state=31,\n",
    ")\n",
    "blob2, blob_label2 = dsets.make_blobs(  # type: ignore\n",
    "    n_samples=1500,\n",
    "    n_features=2,#048,\n",
    "    centers=1,\n",
    "    center_box=(300,350),\n",
    "    cluster_std=50,\n",
    "    random_state=35,\n",
    ")\n",
    "blob3, blob_label3 = dsets.make_blobs(  # type: ignore\n",
    "    n_samples=500,\n",
    "    n_features=2,#048,\n",
    "    centers=1,\n",
    "    center_box=(-350,-400),\n",
    "    cluster_std=25,\n",
    "    random_state=33,\n",
    ")\n",
    "small = np.concatenate([blob,blob2,blob3])\n",
    "small_label = np.concatenate([blob_label, blob_label2+4, blob_label3+5])"
   ]
  },
  {
   "cell_type": "code",
   "execution_count": null,
   "metadata": {},
   "outputs": [],
   "source": [
    "# Mapping from labels to colors\n",
    "label_to_color = np.array([\"b\", \"r\", \"g\", \"y\", \"m\", 'c'])\n",
    "\n",
    "# Translate labels to colors using vectorized operation\n",
    "color_array = label_to_color[small_label]\n",
    "\n",
    "# Additional parameters for plotting\n",
    "plot_kwds = {\"alpha\": 0.5, \"s\": 50, \"linewidths\": 0}\n",
    "\n",
    "plt.figure(figsize=(20,20))\n",
    "\n",
    "# Create scatter plot\n",
    "plt.scatter(small.T[0], small.T[1], c=color_array, **plot_kwds)\n",
    "\n",
    "plt.show()"
   ]
  },
  {
   "cell_type": "markdown",
   "metadata": {},
   "source": [
    "# Test code below\n"
   ]
  },
  {
   "cell_type": "code",
   "execution_count": 8,
   "metadata": {},
   "outputs": [],
   "source": [
    "clustering = fc(small)"
   ]
  },
  {
   "cell_type": "code",
   "execution_count": 9,
   "metadata": {},
   "outputs": [],
   "source": [
    "result = clustering.evaluate()"
   ]
  },
  {
   "cell_type": "code",
   "execution_count": null,
   "metadata": {},
   "outputs": [],
   "source": [
    "np.count_nonzero(result.clusters == -1)"
   ]
  },
  {
   "cell_type": "code",
   "execution_count": null,
   "metadata": {},
   "outputs": [],
   "source": [
    "%timeit -r 3 -n 1 fc(small)"
   ]
  },
  {
   "cell_type": "code",
   "execution_count": null,
   "metadata": {},
   "outputs": [],
   "source": [
    "%timeit -r 3 -n 1 clustering.evaluate()"
   ]
  },
  {
   "cell_type": "code",
   "execution_count": null,
   "metadata": {},
   "outputs": [],
   "source": [
    "# Mapping from labels to colors\n",
    "label_to_color = np.array([\"b\", \"r\", \"g\", \"y\", \"m\", 'c', 'tab:orange', 'tab:purple'])\n",
    "\n",
    "# Translate labels to colors using vectorized operation\n",
    "color_array = label_to_color[result.clusters % len(label_to_color)]\n",
    "color_array = np.where(result.clusters == -1, \"k\", color_array)\n",
    "\n",
    "# Additional parameters for plotting\n",
    "plot_kwds = {\"alpha\": 0.5, \"s\": 50, \"linewidths\": 0}\n",
    "\n",
    "plt.figure(figsize=(20,20))\n",
    "\n",
    "# Create scatter plot\n",
    "plt.scatter(small.T[0], small.T[1], c=color_array, **plot_kwds)\n",
    "\n",
    "plt.show()"
   ]
  }
 ],
 "metadata": {
  "kernelspec": {
   "display_name": ".venv-3.11",
   "language": "python",
   "name": "python3"
  },
  "language_info": {
   "codemirror_mode": {
    "name": "ipython",
    "version": 3
   },
   "file_extension": ".py",
   "mimetype": "text/x-python",
   "name": "python",
   "nbconvert_exporter": "python",
   "pygments_lexer": "ipython3",
   "version": "3.11.10"
  }
 },
 "nbformat": 4,
 "nbformat_minor": 2
}
