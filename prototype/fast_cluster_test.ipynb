{
 "cells": [
  {
   "cell_type": "markdown",
   "metadata": {},
   "source": [
    "# Set up code\n"
   ]
  },
  {
   "cell_type": "code",
   "execution_count": 1,
   "metadata": {},
   "outputs": [],
   "source": [
    "import matplotlib.pyplot as plt\n",
    "import numpy as np\n",
    "import sklearn.datasets as dsets\n",
    "\n",
    "from dataeval.metrics.estimators import clusterer"
   ]
  },
  {
   "cell_type": "code",
   "execution_count": null,
   "metadata": {},
   "outputs": [],
   "source": [
    "small = np.load('./data/clusterable_data.npy')"
   ]
  },
  {
   "cell_type": "code",
   "execution_count": null,
   "metadata": {},
   "outputs": [],
   "source": [
    "# Create scatter plot\n",
    "plt.figure(figsize=(20,20))\n",
    "plot_kwds = {\"alpha\": 0.5, \"s\": 50, \"linewidths\": 0}\n",
    "plt.scatter(small.T[0], small.T[1], **plot_kwds)\n",
    "plt.show()"
   ]
  },
  {
   "cell_type": "code",
   "execution_count": 7,
   "metadata": {},
   "outputs": [],
   "source": [
    "small, small_label = dsets.make_circles(\n",
    "    n_samples=200000, factor=0.5, noise=0.05, random_state=30\n",
    ")"
   ]
  },
  {
   "cell_type": "code",
   "execution_count": null,
   "metadata": {},
   "outputs": [],
   "source": [
    "# Create scatter plot\n",
    "plt.figure(figsize=(20,20))\n",
    "plot_kwds = {\"alpha\": 0.5, \"s\": 50, \"linewidths\": 0}\n",
    "plt.scatter(small.T[0], small.T[1], **plot_kwds)\n",
    "\n",
    "# Annotate each point in the scatter plot\n",
    "# that = np.concatenate(edge_points)\n",
    "# for i, (x, y) in enumerate(small[that,:2]):\n",
    "#     plt.annotate(str(that[i]), (x, y), textcoords=\"offset points\", xytext=(0, 1), ha=\"center\")\n",
    "\n",
    "plt.show()"
   ]
  },
  {
   "cell_type": "code",
   "execution_count": null,
   "metadata": {},
   "outputs": [],
   "source": [
    "blob, blob_label = dsets.make_blobs(  # type: ignore\n",
    "    n_samples=48000,\n",
    "    n_features=2,#048,\n",
    "    centers=4,\n",
    "    center_box=(-250,200),\n",
    "    cluster_std=35,\n",
    "    random_state=31,\n",
    ")\n",
    "blob2, blob_label2 = dsets.make_blobs(  # type: ignore\n",
    "    n_samples=1500,\n",
    "    n_features=2,#048,\n",
    "    centers=1,\n",
    "    center_box=(300,350),\n",
    "    cluster_std=50,\n",
    "    random_state=35,\n",
    ")\n",
    "blob3, blob_label3 = dsets.make_blobs(  # type: ignore\n",
    "    n_samples=500,\n",
    "    n_features=2,#048,\n",
    "    centers=1,\n",
    "    center_box=(-350,-400),\n",
    "    cluster_std=25,\n",
    "    random_state=33,\n",
    ")\n",
    "small = np.concatenate([blob,blob2,blob3])\n",
    "small_label = np.concatenate([blob_label, blob_label2+4, blob_label3+5])"
   ]
  },
  {
   "cell_type": "code",
   "execution_count": null,
   "metadata": {},
   "outputs": [],
   "source": [
    "# Mapping from labels to colors\n",
    "label_to_color = np.array([\"b\", \"r\", \"g\", \"y\", \"m\", 'c'])\n",
    "\n",
    "# Translate labels to colors using vectorized operation\n",
    "color_array = label_to_color[small_label]\n",
    "\n",
    "# Additional parameters for plotting\n",
    "plot_kwds = {\"alpha\": 0.5, \"s\": 50, \"linewidths\": 0}\n",
    "\n",
    "plt.figure(figsize=(20,20))\n",
    "\n",
    "# Create scatter plot\n",
    "plt.scatter(small.T[0], small.T[1], c=color_array, **plot_kwds)\n",
    "\n",
    "plt.show()"
   ]
  },
  {
   "cell_type": "markdown",
   "metadata": {},
   "source": [
    "# Test code below\n"
   ]
  },
  {
   "cell_type": "code",
   "execution_count": 9,
   "metadata": {},
   "outputs": [],
   "source": [
    "result = clusterer(small)"
   ]
  },
  {
   "cell_type": "code",
   "execution_count": null,
   "metadata": {},
   "outputs": [],
   "source": [
    "np.count_nonzero(result.clusters == -1)"
   ]
  },
  {
   "cell_type": "code",
   "execution_count": null,
   "metadata": {},
   "outputs": [],
   "source": [
    "%timeit -r 3 -n 1 clusterer(small)"
   ]
  },
  {
   "cell_type": "code",
   "execution_count": null,
   "metadata": {},
   "outputs": [],
   "source": [
    "# Mapping from labels to colors\n",
    "label_to_color = np.array([\"b\", \"r\", \"g\", \"y\", \"m\", 'c', 'tab:orange', 'tab:purple'])\n",
    "\n",
    "# Translate labels to colors using vectorized operation\n",
    "color_array = label_to_color[result.clusters % len(label_to_color)]\n",
    "color_array = np.where(result.clusters == -1, \"k\", color_array)\n",
    "\n",
    "# Additional parameters for plotting\n",
    "plot_kwds = {\"alpha\": 0.5, \"s\": 50, \"linewidths\": 0}\n",
    "\n",
    "plt.figure(figsize=(20,20))\n",
    "\n",
    "# Create scatter plot\n",
    "plt.scatter(small.T[0], small.T[1], c=color_array, **plot_kwds)\n",
    "\n",
    "plt.show()"
   ]
  },
  {
   "cell_type": "code",
   "execution_count": 2,
   "metadata": {},
   "outputs": [],
   "source": [
    "small, _ = dsets.make_blobs(  # type: ignore\n",
    "    n_samples=100,\n",
    "    centers=[(-1.5, 1.8), (-1, 3), (0.8, 2.1), (2.8, 1.5), (2.5, 3.5)],  # type: ignore\n",
    "    cluster_std=0.3,\n",
    "    random_state=33,\n",
    ")\n",
    "small[79] = small[24]\n",
    "small[63] = small[58] + 1e-5"
   ]
  },
  {
   "cell_type": "code",
   "execution_count": 3,
   "metadata": {},
   "outputs": [
    {
     "name": "stdout",
     "output_type": "stream",
     "text": [
      "[[80 93]\n",
      " [ 8 27]\n",
      " [29 27]\n",
      " [16 99]\n",
      " [41 62]\n",
      " [81 93]\n",
      " [22 87]\n",
      " [39 55]\n",
      " [40 72]\n",
      " [10 65]\n",
      " [19 64]\n",
      " [33 76]\n",
      " [95 87]\n",
      " [30 57]\n",
      " [ 0 13]\n",
      " [82 97]\n",
      " [83 58]\n",
      " [67  0]\n",
      " [96 72]\n",
      " [31 86]\n",
      " [78 91]\n",
      " [36 66]\n",
      " [67 22]\n",
      " [ 3 79]\n",
      " [15 67]\n",
      " [30 87]]\n"
     ]
    },
    {
     "data": {
      "text/plain": [
       "[[0, 13, 15, 22, 30, 57, 67, 87, 95],\n",
       " [3, 79],\n",
       " [8, 27, 29],\n",
       " [10, 65],\n",
       " [16, 99],\n",
       " [19, 64],\n",
       " [31, 86],\n",
       " [33, 76],\n",
       " [36, 66],\n",
       " [39, 55],\n",
       " [40, 72, 96],\n",
       " [41, 62],\n",
       " [58, 83],\n",
       " [78, 91],\n",
       " [80, 81, 93],\n",
       " [82, 97]]"
      ]
     },
     "execution_count": 3,
     "metadata": {},
     "output_type": "execute_result"
    }
   ],
   "source": [
    "cl = clusterer(small)\n",
    "\n",
    "outliers = cl.find_outliers()\n",
    "assert len(outliers) == 0\n",
    "\n",
    "duplicates, potential_duplicates = cl.find_duplicates()\n",
    "assert duplicates == [[24, 79], [58, 63]]\n",
    "potential_duplicates"
   ]
  },
  {
   "cell_type": "code",
   "execution_count": null,
   "metadata": {},
   "outputs": [],
   "source": [
    "[80 93] 81\n",
    "[ 8 27] 29\n",
    "[16 99]\n",
    "[41 62]\n",
    "[39 55]\n",
    "[40 72] 96\n",
    "[10 65]\n",
    "[19 64]\n",
    "[33 76]\n",
    "[ 0 13] 15 22 30 57 67 87 95\n",
    "[82 97]\n",
    "[83 58]\n",
    "[31 86]\n",
    "[78 91]\n",
    "[36 66]\n",
    "[ 3 79]"
   ]
  },
  {
   "cell_type": "code",
   "execution_count": null,
   "metadata": {},
   "outputs": [],
   "source": [
    "[[2.40000000e+01 7.90000000e+01 0.00000000e+00]\n",
    " [5.80000000e+01 6.30000000e+01 1.41420105e-05]\n",
    " [8.00000000e+01 9.30000000e+01 1.93723738e-02]\n",
    " [8.00000000e+00 2.70000000e+01 4.38723825e-02]\n",
    " [2.90000000e+01 2.70000000e+01 4.39785533e-02]\n",
    "5[1.60000000e+01 9.90000000e+01 4.75828052e-02]\n",
    " [4.10000000e+01 6.20000000e+01 4.95797694e-02]\n",
    " [8.10000000e+01 9.30000000e+01 5.63204102e-02]\n",
    " [2.20000000e+01 8.70000000e+01 5.83481789e-02]\n",
    " [3.90000000e+01 5.50000000e+01 6.17628843e-02]\n",
    "10[4.00000000e+01 7.20000000e+01 6.51545674e-02]\n",
    " [1.00000000e+01 6.50000000e+01 6.69723451e-02]\n",
    " [1.90000000e+01 6.40000000e+01 6.77468255e-02]\n",
    " [3.30000000e+01 7.60000000e+01 7.06057027e-02]\n",
    " [9.50000000e+01 8.70000000e+01 7.81138688e-02]\n",
    "15[3.00000000e+01 5.70000000e+01 7.99494460e-02]\n",
    " [7.30000000e+01 1.00000000e+01 8.15897211e-02]\n",
    " [2.60000000e+01 5.30000000e+01 8.18526596e-02]\n",
    " [0.00000000e+00 1.30000000e+01 8.19921494e-02]\n",
    " [8.20000000e+01 9.70000000e+01 8.30906779e-02]\n",
    "20[8.30000000e+01 5.80000000e+01 8.49111006e-02]\n",
    " [6.70000000e+01 0.00000000e+00 8.74626264e-02]\n",
    " [9.60000000e+01 7.20000000e+01 9.69226584e-02]\n",
    " [3.10000000e+01 8.60000000e+01 9.70748141e-02]\n",
    " [7.80000000e+01 9.10000000e+01 1.09859891e-01]\n",
    "25[3.60000000e+01 6.60000000e+01 1.27073020e-01]\n",
    " [6.70000000e+01 2.20000000e+01 1.31603882e-01]\n",
    " [4.40000000e+01 9.00000000e+01 1.33900255e-01]\n",
    " [6.80000000e+01 4.10000000e+01 1.34098917e-01]\n",
    " [1.40000000e+01 2.50000000e+01 1.34994715e-01]\n",
    "30[3.10000000e+01 6.80000000e+01 1.42016828e-01]\n",
    " [9.70000000e+01 6.30000000e+01 1.44096270e-01]\n",
    " [3.40000000e+01 4.00000000e+01 1.44538149e-01]\n",
    " [1.90000000e+01 2.90000000e+01 1.47586703e-01]\n",
    " [5.40000000e+01 8.40000000e+01 1.49761766e-01]\n",
    "35[1.80000000e+01 4.40000000e+01 1.53226167e-01]\n",
    " [3.00000000e+00 7.90000000e+01 1.54544100e-01]\n",
    " [9.00000000e+01 6.50000000e+01 1.55288324e-01]\n",
    " [4.50000000e+01 6.00000000e+01 1.55573741e-01]\n",
    " [1.50000000e+01 6.70000000e+01 1.60105243e-01]\n",
    "40[6.10000000e+01 7.30000000e+01 1.61138058e-01]\n",
    " [3.70000000e+01 6.10000000e+01 1.61871478e-01]\n",
    " [2.60000000e+01 4.40000000e+01 1.66710451e-01]\n",
    " [3.00000000e+01 8.70000000e+01 1.73005000e-01]\n",
    " [9.10000000e+01 8.00000000e+01 1.73716098e-01]\n",
    " [2.80000000e+01 8.10000000e+01 1.74548090e-01]\n",
    " [5.10000000e+01 7.60000000e+01 1.76375836e-01]\n",
    " [6.90000000e+01 8.50000000e+01 1.80574208e-01]\n",
    " [9.20000000e+01 3.90000000e+01 1.88160688e-01]\n",
    " [5.00000000e+00 6.50000000e+01 1.90196916e-01]\n",
    " [4.90000000e+01 9.60000000e+01 1.90925524e-01]\n",
    " [5.50000000e+01 7.60000000e+01 1.91690147e-01]\n",
    " [5.90000000e+01 3.40000000e+01 1.93613812e-01]\n",
    " [7.40000000e+01 9.40000000e+01 1.97453693e-01]\n",
    " [3.50000000e+01 3.70000000e+01 1.98705941e-01]\n",
    " [4.50000000e+01 4.40000000e+01 2.02842206e-01]\n",
    " [7.80000000e+01 5.80000000e+01 2.04033464e-01]\n",
    " [2.30000000e+01 1.40000000e+01 2.07466558e-01]\n",
    " [4.20000000e+01 6.10000000e+01 2.08748624e-01]\n",
    " [4.80000000e+01 6.00000000e+01 2.22584888e-01]\n",
    " [1.70000000e+01 4.70000000e+01 2.24895343e-01]\n",
    " [9.20000000e+01 6.40000000e+01 2.29823887e-01]\n",
    " [8.90000000e+01 8.60000000e+01 2.30406180e-01]\n",
    " [9.40000000e+01 3.30000000e+01 2.32105210e-01]\n",
    " [8.50000000e+01 8.30000000e+01 2.32824966e-01]\n",
    " [9.90000000e+01 9.50000000e+01 2.37965658e-01]\n",
    " [5.20000000e+01 7.00000000e+01 2.38556400e-01]\n",
    " [5.60000000e+01 7.70000000e+01 2.40678996e-01]\n",
    " [2.00000000e+01 9.80000000e+01 2.40980923e-01]\n",
    " [7.50000000e+01 8.00000000e+00 2.47667879e-01]\n",
    " [8.80000000e+01 2.30000000e+01 2.49174327e-01]\n",
    " [2.00000000e+00 1.60000000e+01 2.70271480e-01]\n",
    " [5.00000000e+01 4.70000000e+01 2.74925470e-01]\n",
    " [9.80000000e+01 7.70000000e+01 2.80796975e-01]\n",
    " [8.90000000e+01 9.60000000e+01 2.83054769e-01]\n",
    " [7.00000000e+00 5.00000000e+01 2.87092388e-01]\n",
    " [1.20000000e+01 5.10000000e+01 2.90863782e-01]\n",
    " [3.20000000e+01 1.20000000e+01 2.92455971e-01]\n",
    " [5.20000000e+01 9.20000000e+01 2.92708695e-01]\n",
    " [4.60000000e+01 1.60000000e+01 2.94213593e-01]\n",
    " [5.60000000e+01 8.10000000e+01 2.99653411e-01]\n",
    " [8.40000000e+01 4.90000000e+01 3.01872313e-01]\n",
    " [9.00000000e+00 7.80000000e+01 3.08839470e-01]\n",
    " [2.10000000e+01 5.30000000e+01 3.14647526e-01]\n",
    " [7.00000000e+00 5.10000000e+01 3.17013860e-01]\n",
    " [1.00000000e+00 8.20000000e+01 3.25594276e-01]\n",
    " [6.60000000e+01 2.20000000e+01 3.48860323e-01]\n",
    " [4.30000000e+01 8.90000000e+01 3.50972414e-01]\n",
    " [6.00000000e+00 4.80000000e+01 3.68133068e-01]\n",
    " [8.80000000e+01 4.90000000e+01 3.77433121e-01]\n",
    " [1.70000000e+01 2.10000000e+01 3.89531463e-01]\n",
    " [4.00000000e+00 4.60000000e+01 4.55356091e-01]\n",
    " [7.10000000e+01 6.90000000e+01 4.85076457e-01]\n",
    " [3.80000000e+01 5.40000000e+01 4.86682594e-01]\n",
    " [1.10000000e+01 3.00000000e+00 6.39307141e-01]\n",
    " [1.10000000e+01 5.70000000e+01 6.65097535e-01]\n",
    " [1.10000000e+01 3.40000000e+01 9.08545613e-01]\n",
    " [4.00000000e+00 5.00000000e+01 1.01113307e+00]\n",
    " [3.40000000e+01 9.80000000e+01 1.07852840e+00]]\n",
    "Cluster 0.11735123052149384 [ 1  2  7 19 20 24 31 44 45 47 56 64 67 68 73 80 82 85 92]\n",
    "[ 2  7 19 20 24]\n",
    "[[80, 81, 93],[82, 97],[83, 58],[78, 91]]\n",
    "\n",
    "Cluster 0.18652133619423072 [ 0  5  8 14 15 18 21 25 26 36 39 43 65 71 79 86 91 94 95]\n",
    "[ 5  8 14 15 18 21 25 26 36 39 43]\n",
    "[[16, 99],[0, 13, 15, 22, 30, 57, 67, 87, 95],[36,66],[3, 79]]\n",
    "\n",
    "Cluster 0.11155159068547509 [ 6 10 22 23 28 29 30 32 34 50 52 57 62 70 74 81 87 89 93]\n",
    "[ 6 10 22 23]\n",
    "[[41, 62], [40, 72, 96], [31, 86]]\n",
    "\n",
    "Cluster 0.07438627539419013 [11 16 17 27 35 37 38 40 41 42 49 54 55 58 59 83 88]\n",
    "[11]\n",
    "[[10, 65]]\n",
    "\n",
    "Cluster 0.08833017712762155 [ 3  4  9 12 13 33 46 48 51 53 60 61 63 66 69 72 75 76 77 78 84]\n",
    "[ 3  4  9 12 13]\n",
    "[[8, 27, 29], [39, 55], [19, 64], [33, 76]]\n",
    "\n",
    "[[0, 13, 15, 22, 30, 57, 67, 87, 95],\n",
    " [3, 79],\n",
    " [8, 27, 29],\n",
    " [10, 65],\n",
    " [16, 99],\n",
    " [19, 64],\n",
    " [31, 86],\n",
    " [33, 76],\n",
    " [36, 66],\n",
    " [39, 55],\n",
    " [40, 72, 96],\n",
    " [41, 62],\n",
    " [58, 83],\n",
    " [78, 91],\n",
    " [80, 81, 93],\n",
    " [82, 97]]"
   ]
  }
 ],
 "metadata": {
  "kernelspec": {
   "display_name": ".venv-3.11",
   "language": "python",
   "name": "python3"
  },
  "language_info": {
   "codemirror_mode": {
    "name": "ipython",
    "version": 3
   },
   "file_extension": ".py",
   "mimetype": "text/x-python",
   "name": "python",
   "nbconvert_exporter": "python",
   "pygments_lexer": "ipython3",
   "version": "3.11.10"
  }
 },
 "nbformat": 4,
 "nbformat_minor": 2
}
