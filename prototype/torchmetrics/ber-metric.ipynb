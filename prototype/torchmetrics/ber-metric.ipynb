{
 "cells": [
  {
   "cell_type": "code",
   "execution_count": null,
   "metadata": {},
   "outputs": [],
   "source": [
    "import random\n",
    "\n",
    "import numpy as np\n",
    "import torch\n",
    "import torch.nn as nn\n",
    "import torchmetrics\n",
    "import torchvision as tv\n",
    "import torchvision.transforms as transforms\n",
    "from torch.utils.data import DataLoader\n",
    "\n",
    "from dataeval._internal.metrics.ber import BER, _knn"
   ]
  },
  {
   "cell_type": "code",
   "execution_count": null,
   "metadata": {},
   "outputs": [],
   "source": [
    "torch.manual_seed(42)\n",
    "np.random.seed(42)\n",
    "random.seed(0)"
   ]
  },
  {
   "cell_type": "code",
   "execution_count": null,
   "metadata": {},
   "outputs": [],
   "source": [
    "from torchmetrics.utilities.data import dim_zero_cat\n",
    "\n",
    "\n",
    "class BERMetric(torchmetrics.Metric):\n",
    "    def __init__(self, **kwargs):\n",
    "        super().__init__(**kwargs)\n",
    "        self.add_state(\"images\", default=[], dist_reduce_fx=\"cat\")\n",
    "        self.add_state(\"labels\", default=[], dist_reduce_fx=\"cat\")\n",
    "\n",
    "    def update(self, images: torch.Tensor, labels: torch.Tensor) -> None:\n",
    "        self.images.append(images)\n",
    "        self.labels.append(labels)\n",
    "\n",
    "    def compute(self) -> torch.Tensor:\n",
    "        images = dim_zero_cat(self.images).detach().cpu().numpy()\n",
    "        labels = dim_zero_cat(self.labels).detach().cpu().numpy()\n",
    "        return torch.tensor(_knn(images, labels, 1))"
   ]
  },
  {
   "cell_type": "code",
   "execution_count": null,
   "metadata": {},
   "outputs": [],
   "source": [
    "transform = transforms.Compose([transforms.ToTensor(), transforms.Normalize((0.1307,), (0.3081,))])\n",
    "trainset = tv.datasets.MNIST(root=\"./data\", train=True, download=True, transform=transform)\n",
    "\n",
    "num_epochs = 250\n",
    "batch_size = 128"
   ]
  },
  {
   "cell_type": "code",
   "execution_count": null,
   "metadata": {},
   "outputs": [],
   "source": [
    "subset = torch.utils.data.Subset(trainset, range(2000))\n",
    "dataloader = DataLoader(subset, batch_size=batch_size)"
   ]
  },
  {
   "cell_type": "code",
   "execution_count": null,
   "metadata": {},
   "outputs": [],
   "source": [
    "# Define model architecture\n",
    "class Autoencoder(nn.Module):\n",
    "    def __init__(self):\n",
    "        super().__init__()\n",
    "        self.encoder = nn.Sequential(\n",
    "            # 28 x 28\n",
    "            nn.Conv2d(1, 4, kernel_size=5),\n",
    "            # 4 x 24 x 24\n",
    "            nn.ReLU(True),\n",
    "            nn.Conv2d(4, 8, kernel_size=5),\n",
    "            nn.ReLU(True),\n",
    "            # 8 x 20 x 20 = 3200\n",
    "            nn.Flatten(),\n",
    "            nn.Linear(3200, 10),\n",
    "            # 10\n",
    "            nn.Sigmoid(),\n",
    "        )\n",
    "        self.decoder = nn.Sequential(\n",
    "            # 10\n",
    "            nn.Linear(10, 400),\n",
    "            # 400\n",
    "            nn.ReLU(True),\n",
    "            nn.Linear(400, 4000),\n",
    "            # 4000\n",
    "            nn.ReLU(True),\n",
    "            nn.Unflatten(1, (10, 20, 20)),\n",
    "            # 10 x 20 x 20\n",
    "            nn.ConvTranspose2d(10, 10, kernel_size=5),\n",
    "            # 24 x 24\n",
    "            nn.ConvTranspose2d(10, 1, kernel_size=5),\n",
    "            # 28 x 28\n",
    "            nn.Sigmoid(),\n",
    "        )\n",
    "\n",
    "    def forward(self, x):\n",
    "        x = self.encoder(x)\n",
    "        x = self.decoder(x)\n",
    "        return x\n",
    "\n",
    "    def encode(self, x):\n",
    "        x = self.encoder(x)\n",
    "        return x"
   ]
  },
  {
   "cell_type": "code",
   "execution_count": null,
   "metadata": {},
   "outputs": [],
   "source": [
    "# Initialize model and train\n",
    "model = Autoencoder()\n",
    "distance = nn.MSELoss()\n",
    "optimizer = torch.optim.SGD(model.parameters(), lr=0.005, momentum=0.5)\n",
    "losses = []\n",
    "for epoch in range(num_epochs):\n",
    "    for data in dataloader:\n",
    "        img, _ = data\n",
    "        img = torch.tensor(img)\n",
    "        output = model(img)\n",
    "        loss = distance(output, img)\n",
    "        optimizer.zero_grad()\n",
    "        loss.backward()\n",
    "        optimizer.step()\n",
    "        losses.append(loss.detach().numpy())\n",
    "    print(f\"epoch [{epoch + 1}/{num_epochs}], loss: {loss.item():.4f}\")"
   ]
  },
  {
   "cell_type": "code",
   "execution_count": 114,
   "metadata": {},
   "outputs": [
    {
     "name": "stdout",
     "output_type": "stream",
     "text": [
      "Metric BER: tensor([0.3010, 0.1658], dtype=torch.float64)\n",
      "Class BER: {'ber': 0.301, 'ber_lower': 0.165765704968775}\n"
     ]
    }
   ],
   "source": [
    "encoding_list = []\n",
    "labels_list = []\n",
    "imgs_list = []\n",
    "\n",
    "ber = BERMetric()\n",
    "\n",
    "with torch.no_grad():\n",
    "    for batch in dataloader:\n",
    "        imgs, labels = batch\n",
    "        encodings = model.encode(imgs)\n",
    "        x = ber(encodings, labels)\n",
    "\n",
    "        encoding_list.append(encodings.detach().cpu())\n",
    "        labels_list.append(labels.detach().cpu())\n",
    "        imgs_list.append(imgs.detach().cpu())\n",
    "\n",
    "metric_ber = ber.compute()\n",
    "print(\"Metric BER:\", metric_ber)\n",
    "\n",
    "np_encodings = dim_zero_cat(encoding_list).numpy()\n",
    "np_labels = dim_zero_cat(labels_list).numpy()\n",
    "np_imgs = dim_zero_cat(imgs_list).numpy()\n",
    "\n",
    "b = BER(np_encodings, np_labels)\n",
    "class_ber = b.evaluate()\n",
    "print(\"Class BER:\", class_ber)"
   ]
  }
 ],
 "metadata": {
  "kernelspec": {
   "display_name": "Python 3",
   "language": "python",
   "name": "python3"
  },
  "language_info": {
   "codemirror_mode": {
    "name": "ipython",
    "version": 3
   },
   "file_extension": ".py",
   "mimetype": "text/x-python",
   "name": "python",
   "nbconvert_exporter": "python",
   "pygments_lexer": "ipython3",
   "version": "3.11.7"
  }
 },
 "nbformat": 4,
 "nbformat_minor": 2
}
