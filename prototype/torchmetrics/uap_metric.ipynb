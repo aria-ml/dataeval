{
 "cells": [
  {
   "cell_type": "code",
   "execution_count": null,
   "metadata": {},
   "outputs": [],
   "source": [
    "import torch\n",
    "from uap_metric import UAPMetric\n",
    "\n",
    "from dataeval.metrics import UAP"
   ]
  },
  {
   "cell_type": "code",
   "execution_count": null,
   "metadata": {},
   "outputs": [],
   "source": [
    "size = (1000,)\n",
    "labels = torch.randint(0, 5, size=(1000,))\n",
    "scores = torch.rand((1000, 5))\n",
    "print(f\"Labels: {labels.unique(return_counts=True)}\")\n",
    "print(f\"Scores: {scores.shape}\")"
   ]
  },
  {
   "cell_type": "code",
   "execution_count": null,
   "metadata": {},
   "outputs": [],
   "source": [
    "uap_metric = UAPMetric(len(labels.unique()))\n",
    "\n",
    "uap_metric.update(scores, labels)\n",
    "x1 = uap_metric.compute()\n",
    "print(x1)\n",
    "\n",
    "x2 = UAP(labels.numpy(), scores.numpy()).evaluate()\n",
    "print(x2)"
   ]
  }
 ],
 "metadata": {
  "kernelspec": {
   "display_name": "Python 3",
   "language": "python",
   "name": "python3"
  },
  "language_info": {
   "codemirror_mode": {
    "name": "ipython",
    "version": 3
   },
   "file_extension": ".py",
   "mimetype": "text/x-python",
   "name": "python",
   "nbconvert_exporter": "python",
   "pygments_lexer": "ipython3",
   "version": "3.11.7"
  }
 },
 "nbformat": 4,
 "nbformat_minor": 2
}
