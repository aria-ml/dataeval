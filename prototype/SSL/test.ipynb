{
 "cells": [
  {
   "cell_type": "code",
   "execution_count": 37,
   "metadata": {},
   "outputs": [],
   "source": [
    "import numpy as np\n",
    "from scipy.spatial import distance_matrix, minkowski_distance_p"
   ]
  },
  {
   "cell_type": "code",
   "execution_count": 19,
   "metadata": {},
   "outputs": [],
   "source": [
    "def psquare(x):\n",
    "    mat = squareform(pdist(x))\n",
    "    return mat\n",
    "\n",
    "\n",
    "def dismat(x):\n",
    "    mat = distance_matrix(x, x)\n",
    "    return mat\n",
    "\n",
    "\n",
    "def mindist(x):\n",
    "    mat = minkowski_distance_p(x[:, np.newaxis, :], x[np.newaxis, :, :], 2) ** (1 / 2)\n",
    "    return mat\n",
    "\n",
    "\n",
    "def manual(x):\n",
    "    mat = np.matmul(x, x.T)\n",
    "    x2 = np.sum(np.square(x), axis=1)\n",
    "\n",
    "    for i in range(mat.shape[0]):\n",
    "        mat[i, :] = np.multiply(mat[i, :], -2)\n",
    "        mat[i, :] = np.add(mat[i, :], x2.T[i])\n",
    "        mat[i, :] = np.add(mat[i, :], x2)\n",
    "\n",
    "    np.fill_diagonal(mat, 0)\n",
    "    return np.sqrt(mat)\n",
    "\n",
    "\n",
    "def opt_man(x):\n",
    "    # Compute the squared magnitudes of each vector\n",
    "    x2 = np.sum(np.square(x), axis=1, keepdims=True)\n",
    "    # Compute the matrix product between x and its transpose\n",
    "    mat = np.matmul(x, x.T)\n",
    "    # Utilize broadcasting to perform the subtraction and addition operations\n",
    "    mat *= -2\n",
    "    mat += x2\n",
    "    mat += x2.T\n",
    "    # Ensure the diagonal elements are 0 and not a tiny negative number due to floating point arithmetic issues\n",
    "    np.fill_diagonal(mat, 0)\n",
    "    # Square root of the matrix to get the Euclidean distances\n",
    "    return np.sqrt(mat)"
   ]
  },
  {
   "cell_type": "code",
   "execution_count": 4,
   "metadata": {},
   "outputs": [],
   "source": [
    "rng = np.random.default_rng(33)"
   ]
  },
  {
   "cell_type": "code",
   "execution_count": 8,
   "metadata": {},
   "outputs": [],
   "source": [
    "x10_256 = rng.random((10000, 256))\n",
    "x10_512 = rng.random((10000, 512))\n",
    "x10_1024 = rng.random((10000, 1024))\n",
    "\n",
    "x30_256 = rng.random((30000, 256))\n",
    "x30_512 = rng.random((30000, 512))\n",
    "x30_1024 = rng.random((30000, 1024))"
   ]
  },
  {
   "cell_type": "code",
   "execution_count": 4,
   "metadata": {},
   "outputs": [
    {
     "name": "stdout",
     "output_type": "stream",
     "text": [
      "5.36 s ± 97.5 ms per loop (mean ± std. dev. of 7 runs, 1 loop each)\n"
     ]
    }
   ],
   "source": [
    "%timeit psquare(x10_256)"
   ]
  },
  {
   "cell_type": "code",
   "execution_count": 5,
   "metadata": {},
   "outputs": [
    {
     "name": "stdout",
     "output_type": "stream",
     "text": [
      "10.7 s ± 132 ms per loop (mean ± std. dev. of 7 runs, 1 loop each)\n"
     ]
    }
   ],
   "source": [
    "%timeit psquare(x10_512)"
   ]
  },
  {
   "cell_type": "code",
   "execution_count": 6,
   "metadata": {},
   "outputs": [
    {
     "name": "stdout",
     "output_type": "stream",
     "text": [
      "20.8 s ± 167 ms per loop (mean ± std. dev. of 7 runs, 1 loop each)\n"
     ]
    }
   ],
   "source": [
    "%timeit psquare(x10_1024)"
   ]
  },
  {
   "cell_type": "code",
   "execution_count": 7,
   "metadata": {},
   "outputs": [
    {
     "name": "stdout",
     "output_type": "stream",
     "text": [
      "1min 56s ± 783 ms per loop (mean ± std. dev. of 7 runs, 1 loop each)\n"
     ]
    }
   ],
   "source": [
    "%timeit dismat(x10_256)"
   ]
  },
  {
   "cell_type": "code",
   "execution_count": 9,
   "metadata": {},
   "outputs": [
    {
     "name": "stdout",
     "output_type": "stream",
     "text": [
      "890 ms ± 6.19 ms per loop (mean ± std. dev. of 7 runs, 1 loop each)\n"
     ]
    }
   ],
   "source": [
    "%timeit manual(x10_256)"
   ]
  },
  {
   "cell_type": "code",
   "execution_count": 10,
   "metadata": {},
   "outputs": [
    {
     "name": "stdout",
     "output_type": "stream",
     "text": [
      "947 ms ± 11.8 ms per loop (mean ± std. dev. of 7 runs, 1 loop each)\n"
     ]
    }
   ],
   "source": [
    "%timeit manual(x10_512)"
   ]
  },
  {
   "cell_type": "code",
   "execution_count": 20,
   "metadata": {},
   "outputs": [
    {
     "name": "stdout",
     "output_type": "stream",
     "text": [
      "1min 22s ± 669 ms per loop (mean ± std. dev. of 7 runs, 1 loop each)\n"
     ]
    }
   ],
   "source": [
    "%timeit psquare(x30_256)"
   ]
  },
  {
   "cell_type": "code",
   "execution_count": 22,
   "metadata": {},
   "outputs": [
    {
     "name": "stdout",
     "output_type": "stream",
     "text": [
      "1.5 s ± 17.7 ms per loop (mean ± std. dev. of 7 runs, 1 loop each)\n"
     ]
    }
   ],
   "source": [
    "%timeit opt_man(x10_1024)"
   ]
  },
  {
   "cell_type": "code",
   "execution_count": 11,
   "metadata": {},
   "outputs": [
    {
     "name": "stdout",
     "output_type": "stream",
     "text": [
      "1.15 s ± 25.1 ms per loop (mean ± std. dev. of 7 runs, 1 loop each)\n"
     ]
    }
   ],
   "source": [
    "%timeit manual(x10_1024)"
   ]
  },
  {
   "cell_type": "code",
   "execution_count": 19,
   "metadata": {},
   "outputs": [
    {
     "name": "stdout",
     "output_type": "stream",
     "text": [
      "10 s ± 114 ms per loop (mean ± std. dev. of 7 runs, 1 loop each)\n"
     ]
    }
   ],
   "source": [
    "%timeit manual(x30_1024)"
   ]
  },
  {
   "cell_type": "code",
   "execution_count": 33,
   "metadata": {},
   "outputs": [
    {
     "name": "stdout",
     "output_type": "stream",
     "text": [
      "11.2 s ± 210 ms per loop (mean ± std. dev. of 7 runs, 1 loop each)\n"
     ]
    }
   ],
   "source": [
    "%timeit opt_man(x30_1024)"
   ]
  },
  {
   "cell_type": "code",
   "execution_count": 34,
   "metadata": {},
   "outputs": [
    {
     "name": "stdout",
     "output_type": "stream",
     "text": [
      "1.2 s ± 23 ms per loop (mean ± std. dev. of 7 runs, 1 loop each)\n"
     ]
    }
   ],
   "source": [
    "%timeit opt_man(x10_1024)"
   ]
  },
  {
   "cell_type": "code",
   "execution_count": 35,
   "metadata": {},
   "outputs": [],
   "source": [
    "checko = opt_man(x10_512)\n",
    "assert checko.all() == checkp.all()"
   ]
  },
  {
   "cell_type": "code",
   "execution_count": 5,
   "metadata": {},
   "outputs": [],
   "source": [
    "x50_1024 = rng.random((50000, 1024), dtype=np.float32)"
   ]
  },
  {
   "cell_type": "code",
   "execution_count": 6,
   "metadata": {},
   "outputs": [
    {
     "name": "stdout",
     "output_type": "stream",
     "text": [
      "16 s ± 213 ms per loop (mean ± std. dev. of 7 runs, 1 loop each)\n"
     ]
    }
   ],
   "source": [
    "%timeit opt_man(x50_1024)"
   ]
  },
  {
   "cell_type": "code",
   "execution_count": 7,
   "metadata": {},
   "outputs": [
    {
     "name": "stdout",
     "output_type": "stream",
     "text": [
      "14.8 s ± 201 ms per loop (mean ± std. dev. of 7 runs, 1 loop each)\n"
     ]
    }
   ],
   "source": [
    "%timeit manual(x50_1024)"
   ]
  },
  {
   "cell_type": "code",
   "execution_count": 14,
   "metadata": {},
   "outputs": [
    {
     "name": "stdout",
     "output_type": "stream",
     "text": [
      "11.4 s ± 240 ms per loop (mean ± std. dev. of 7 runs, 1 loop each)\n"
     ]
    }
   ],
   "source": [
    "%timeit manual(x30_1024)"
   ]
  },
  {
   "cell_type": "code",
   "execution_count": 19,
   "metadata": {},
   "outputs": [
    {
     "name": "stdout",
     "output_type": "stream",
     "text": [
      "13.6 s ± 175 ms per loop (mean ± std. dev. of 7 runs, 1 loop each)\n"
     ]
    }
   ],
   "source": [
    "%timeit opt_man(x30_1024)"
   ]
  },
  {
   "cell_type": "code",
   "execution_count": 20,
   "metadata": {},
   "outputs": [
    {
     "name": "stdout",
     "output_type": "stream",
     "text": [
      "[[0.         9.05017016 8.90532485 9.19391913 9.57348328]\n",
      " [9.05017016 0.         9.89339359 9.64133312 9.07223626]\n",
      " [8.90532485 9.89339359 0.         9.23835396 9.33599252]\n",
      " [9.19391913 9.64133312 9.23835396 0.         8.91816132]\n",
      " [9.57348328 9.07223626 9.33599252 8.91816132 0.        ]]\n",
      "[[0.         9.05017016 8.90532485 9.19391913 9.57348328]\n",
      " [9.05017016 0.         9.89339359 9.64133312 9.07223626]\n",
      " [8.90532485 9.89339359 0.         9.23835396 9.33599252]\n",
      " [9.19391913 9.64133312 9.23835396 0.         8.91816132]\n",
      " [9.57348328 9.07223626 9.33599252 8.91816132 0.        ]]\n",
      "[[0.         9.05017016 8.90532485 9.19391913 9.57348328]\n",
      " [9.05017016 0.         9.89339359 9.64133312 9.07223626]\n",
      " [8.90532485 9.89339359 0.         9.23835396 9.33599252]\n",
      " [9.19391913 9.64133312 9.23835396 0.         8.91816132]\n",
      " [9.57348328 9.07223626 9.33599252 8.91816132 0.        ]]\n"
     ]
    }
   ],
   "source": [
    "checkp = psquare(x10_512)\n",
    "checko = opt_man(x10_512)\n",
    "checkm = manual(x10_512)\n",
    "\n",
    "print(checkp[:5, :5])\n",
    "print(checko[:5, :5])\n",
    "print(checkm[:5, :5])"
   ]
  },
  {
   "cell_type": "code",
   "execution_count": 21,
   "metadata": {},
   "outputs": [
    {
     "name": "stdout",
     "output_type": "stream",
     "text": [
      "[[0.         9.05017016 8.90532485 9.19391913 9.57348328]\n",
      " [9.05017016 0.         9.89339359 9.64133312 9.07223626]\n",
      " [8.90532485 9.89339359 0.         9.23835396 9.33599252]\n",
      " [9.19391913 9.64133312 9.23835396 0.         8.91816132]\n",
      " [9.57348328 9.07223626 9.33599252 8.91816132 0.        ]]\n"
     ]
    }
   ],
   "source": [
    "from sklearn.metrics import pairwise_distances\n",
    "\n",
    "distance_matrix = pairwise_distances(x10_512, metric=\"euclidean\")\n",
    "print(distance_matrix[:5, :5])"
   ]
  },
  {
   "cell_type": "code",
   "execution_count": 22,
   "metadata": {},
   "outputs": [
    {
     "name": "stdout",
     "output_type": "stream",
     "text": [
      "12 s ± 174 ms per loop (mean ± std. dev. of 7 runs, 1 loop each)\n"
     ]
    }
   ],
   "source": [
    "%timeit pairwise_distances(x30_1024)"
   ]
  },
  {
   "cell_type": "code",
   "execution_count": 23,
   "metadata": {},
   "outputs": [
    {
     "ename": "ModuleNotFoundError",
     "evalue": "No module named 'faiss'",
     "output_type": "error",
     "traceback": [
      "\u001b[0;31m---------------------------------------------------------------------------\u001b[0m",
      "\u001b[0;31mModuleNotFoundError\u001b[0m                       Traceback (most recent call last)",
      "Cell \u001b[0;32mIn[23], line 1\u001b[0m\n\u001b[0;32m----> 1\u001b[0m \u001b[38;5;28;01mimport\u001b[39;00m \u001b[38;5;21;01mfaiss\u001b[39;00m\n\u001b[1;32m      3\u001b[0m x \u001b[38;5;241m=\u001b[39m x10_1024\u001b[38;5;241m.\u001b[39mastype(np\u001b[38;5;241m.\u001b[39mfloat32)\n\u001b[1;32m      4\u001b[0m index \u001b[38;5;241m=\u001b[39m faiss\u001b[38;5;241m.\u001b[39mIndexFlatL2(x\u001b[38;5;241m.\u001b[39mshape[\u001b[38;5;241m1\u001b[39m])  \u001b[38;5;66;03m# L2 distance\u001b[39;00m\n",
      "\u001b[0;31mModuleNotFoundError\u001b[0m: No module named 'faiss'"
     ]
    }
   ],
   "source": [
    "import faiss\n",
    "\n",
    "x = x10_1024.astype(np.float32)\n",
    "index = faiss.IndexFlatL2(x.shape[1])  # L2 distance\n",
    "index.add(x)\n",
    "D, I = index.search(x, k=x.shape[0])\n",
    "print(D.shape)\n",
    "print(I.shape)"
   ]
  },
  {
   "cell_type": "markdown",
   "metadata": {},
   "source": [
    "Faiss on the cpu is not faster if everything fits into memory. Faiss comes into play with larger datasets and the use of the gpu.\n"
   ]
  },
  {
   "cell_type": "markdown",
   "metadata": {},
   "source": [
    "Could adjust mst to use linkage and just create labels for new rows such that labels are aggregated for clusters, allows easy combining with cleaning code and cluster formation/mislabeling.\n"
   ]
  },
  {
   "cell_type": "markdown",
   "metadata": {},
   "source": [
    "# Testing Starts Here\n"
   ]
  },
  {
   "cell_type": "code",
   "execution_count": 1,
   "metadata": {},
   "outputs": [],
   "source": [
    "import hashlib\n",
    "import os\n",
    "import typing\n",
    "from copy import deepcopy\n",
    "from urllib.error import HTTPError, URLError\n",
    "from urllib.request import urlretrieve\n",
    "\n",
    "import numpy as np\n",
    "from scipy.cluster.hierarchy import linkage\n",
    "from scipy.spatial.distance import pdist, squareform"
   ]
  },
  {
   "cell_type": "code",
   "execution_count": 2,
   "metadata": {},
   "outputs": [],
   "source": [
    "def _validate_file(fpath, file_hash, chunk_size=65535):\n",
    "    hasher = hashlib.sha256()\n",
    "    with open(fpath, \"rb\") as fpath_file:\n",
    "        for chunk in iter(lambda: fpath_file.read(chunk_size), b\"\"):\n",
    "            hasher.update(chunk)\n",
    "\n",
    "    return str(hasher.hexdigest()) == str(file_hash)\n",
    "\n",
    "\n",
    "def _get_file(\n",
    "    fname: str,\n",
    "    origin: str,\n",
    "    file_hash: typing.Optional[str] = None,\n",
    "):\n",
    "    cache_dir = os.path.join(os.path.expanduser(\"~\"), \".keras\")\n",
    "    datadir_base = os.path.expanduser(cache_dir)\n",
    "    if not os.access(datadir_base, os.W_OK):\n",
    "        datadir_base = os.path.join(\"/tmp\", \".keras\")\n",
    "    datadir = os.path.join(datadir_base, \"datasets\")\n",
    "    os.makedirs(datadir, exist_ok=True)\n",
    "\n",
    "    fname = os.fspath(fname) if isinstance(fname, os.PathLike) else fname\n",
    "    fpath = os.path.join(datadir, fname)\n",
    "\n",
    "    download = False\n",
    "    if os.path.exists(fpath):\n",
    "        if file_hash is not None and not _validate_file(fpath, file_hash):\n",
    "            download = True\n",
    "    else:\n",
    "        download = True\n",
    "\n",
    "    if download:\n",
    "        try:\n",
    "            error_msg = \"URL fetch failure on {}: {} -- {}\"\n",
    "            try:\n",
    "                urlretrieve(origin, fpath)\n",
    "            except HTTPError as e:\n",
    "                raise Exception(error_msg.format(origin, e.code, e.msg)) from e\n",
    "            except URLError as e:\n",
    "                raise Exception(error_msg.format(origin, e.errno, e.reason)) from e\n",
    "        except (Exception, KeyboardInterrupt):\n",
    "            if os.path.exists(fpath):\n",
    "                os.remove(fpath)\n",
    "            raise\n",
    "\n",
    "        if (\n",
    "            os.path.exists(fpath)\n",
    "            and file_hash is not None\n",
    "            and not _validate_file(fpath, file_hash)\n",
    "        ):\n",
    "            raise ValueError(\n",
    "                \"Incomplete or corrupted file detected. \"\n",
    "                f\"The sha256 file hash does not match the provided value \"\n",
    "                f\"of {file_hash}.\",\n",
    "            )\n",
    "    return fpath"
   ]
  },
  {
   "cell_type": "code",
   "execution_count": 3,
   "metadata": {},
   "outputs": [],
   "source": [
    "origin_folder = \"https://storage.googleapis.com/tensorflow/tf-keras-datasets/\"\n",
    "path = _get_file(\n",
    "    \"mnist.npz\",\n",
    "    origin=origin_folder + \"mnist.npz\",\n",
    "    file_hash=(\"731c5ac602752760c8e48fbffcf8c3b850d9dc2a2aedcf2cc48468fc17b673d1\"),\n",
    ")\n",
    "\n",
    "with np.load(path, allow_pickle=True) as fp:\n",
    "    images, labels = fp[\"x_train\"][:100], fp[\"y_train\"][:100]"
   ]
  },
  {
   "cell_type": "code",
   "execution_count": 4,
   "metadata": {},
   "outputs": [],
   "source": [
    "rng = np.random.default_rng(33)"
   ]
  },
  {
   "cell_type": "code",
   "execution_count": 5,
   "metadata": {},
   "outputs": [
    {
     "data": {
      "text/plain": [
       "(100, 28, 28)"
      ]
     },
     "execution_count": 5,
     "metadata": {},
     "output_type": "execute_result"
    }
   ],
   "source": [
    "images.shape"
   ]
  },
  {
   "cell_type": "code",
   "execution_count": 6,
   "metadata": {},
   "outputs": [],
   "source": [
    "dup_images = deepcopy(images[:8])\n",
    "dup_images[:, :25, :25] = images[:8, 3:, 3:]\n",
    "dup_images[:, 25:, 25:] = images[:8, :3, :3]"
   ]
  },
  {
   "cell_type": "code",
   "execution_count": 7,
   "metadata": {},
   "outputs": [],
   "source": [
    "test_img = np.concatenate([images, dup_images], dtype=np.float64)\n",
    "test_img /= 255.0"
   ]
  },
  {
   "cell_type": "code",
   "execution_count": 8,
   "metadata": {},
   "outputs": [
    {
     "data": {
      "text/plain": [
       "(108, 28, 28)"
      ]
     },
     "execution_count": 8,
     "metadata": {},
     "output_type": "execute_result"
    }
   ],
   "source": [
    "test_img.shape"
   ]
  },
  {
   "cell_type": "code",
   "execution_count": 9,
   "metadata": {},
   "outputs": [],
   "source": [
    "rng.shuffle(test_img)"
   ]
  },
  {
   "cell_type": "code",
   "execution_count": 10,
   "metadata": {},
   "outputs": [],
   "source": [
    "def square_to_condensed(square_matrix):\n",
    "    \"\"\"Convert a square distance matrix to a condensed distance matrix.\"\"\"\n",
    "    assert square_matrix.shape[0] == square_matrix.shape[1], \"Matrix must be square\"\n",
    "    n = square_matrix.shape[0]\n",
    "    tri_indices = np.triu_indices(n, 1)\n",
    "    condensed_matrix = square_matrix[tri_indices]\n",
    "    return condensed_matrix\n",
    "\n",
    "\n",
    "def L2_distance_matrix_sq(x):\n",
    "    \"\"\"\n",
    "    Takes advantage that Euclidean distance can be written as\n",
    "    ||a-b||**2 = ||a||**2 + ||b||**2 - 2 a @ b\n",
    "    Also, does not compute the sqrt at the end since the squared distance\n",
    "    is still going to produce an equivalent nearest neighbor matrix\n",
    "    \"\"\"\n",
    "    # Adjusting dtype to be friendlier for speed and memory\n",
    "    # x = x.astype(np.float32)\n",
    "    # Compute the squared magnitude of the vector\n",
    "    x2 = np.sum(np.square(x), axis=1, keepdims=True, dtype=x.dtype)\n",
    "    # Compute the matrix product between x and its transpose\n",
    "    mat = np.matmul(x, x.T) * -2\n",
    "    # Utilize broadcasting to perform the addition\n",
    "    mat += x2\n",
    "    mat += x2.T\n",
    "\n",
    "    return square_to_condensed(mat)\n",
    "\n",
    "\n",
    "def sort_linkage(Z):\n",
    "    \"\"\"\n",
    "    Sort the linkage matrix Z in reverse order by distance and\n",
    "    then by cluster size (new_size).\n",
    "\n",
    "    Parameters:\n",
    "    - arr: linkage matrix\n",
    "\n",
    "    Returns:\n",
    "    - arr: Sorted linkage matrix\n",
    "    \"\"\"\n",
    "    # Adjusting linkage matrix to accomodate renumbering\n",
    "    arr = np.zeros((Z.shape[0], Z.shape[1] + 1))\n",
    "    arr[:, :-1] = Z.copy()\n",
    "    arr[:, -1] = np.arange(Z.shape[0] + 1, 2 * Z.shape[0] + 1)\n",
    "\n",
    "    # Sort by decreasing distance, then by increasing new_size\n",
    "    # arr = arr[arr[:, 2].argsort()[::-1]]\n",
    "    # arr = arr[arr[:, -2].argsort(kind=\"stable\")]\n",
    "\n",
    "    return arr"
   ]
  },
  {
   "cell_type": "code",
   "execution_count": 11,
   "metadata": {},
   "outputs": [],
   "source": [
    "dist_mat = pdist(test_img.reshape((test_img.shape[0], -1)), metric=\"euclidean\")\n",
    "Z = linkage(dist_mat)\n",
    "Zsort = sort_linkage(Z)"
   ]
  },
  {
   "cell_type": "code",
   "execution_count": 35,
   "metadata": {},
   "outputs": [],
   "source": [
    "def find_longest_step_path(linkage_matrix):\n",
    "    n = linkage_matrix.shape[0]  # Number of original samples\n",
    "\n",
    "    # Construct trace paths for non-leaf clusters\n",
    "    step = 0\n",
    "    for i, (idx1, idx2, dist, sample_count, group) in enumerate(linkage_matrix[::-1]):\n",
    "        print(idx1, idx2, dist, sample_count, group)\n",
    "        if idx1 > n and idx2 > n:\n",
    "            step += 1\n",
    "\n",
    "    #     new_cluster_index = n + i\n",
    "    #     # Combine paths of the two clusters being merged\n",
    "    #     cluster_trace[new_cluster_index] = cluster_trace[int(idx1)] + cluster_trace[int(idx2)]\n",
    "\n",
    "    # # The last merge is the longest path in terms of steps\n",
    "    # longest_path = cluster_trace[2*n - 2]\n",
    "    # num_steps = len(longest_path) - 1  # number of steps is one less than the number of nodes in the path\n",
    "\n",
    "    # return longest_path, num_steps"
   ]
  },
  {
   "cell_type": "code",
   "execution_count": 78,
   "metadata": {},
   "outputs": [],
   "source": [
    "def find_longest_path(linkage_matrix):\n",
    "    n = linkage_matrix.shape[0] + 1  # number of original samples\n",
    "    current_index = linkage_matrix.shape[0] + n - 1  # start from the last cluster index\n",
    "\n",
    "    # Record path: store (cluster index, distance)\n",
    "    path = []\n",
    "\n",
    "    # A map from cluster index to row in the linkage matrix where it was created\n",
    "    cluster_map = {n + i: i for i in range(linkage_matrix.shape[0])}\n",
    "\n",
    "    step = 0\n",
    "    while current_index >= n:\n",
    "        row_idx = cluster_map[current_index]\n",
    "        row = linkage_matrix[row_idx]\n",
    "\n",
    "        # Determine the next cluster to move to (the one with the higher merging distance)\n",
    "        left, right = int(row[0]), int(row[1])\n",
    "        # This selects the next step to be the one that had a higher distance prior to this merge\n",
    "        if left >= n and right >= n:  # both are non-leaf nodes\n",
    "            path.append((current_index, step))\n",
    "            left_idx = cluster_map[left]\n",
    "            right_idx = cluster_map[right]\n",
    "            if linkage_matrix[left_idx][3] > linkage_matrix[right_idx][3]:\n",
    "                current_index = left\n",
    "            else:\n",
    "                current_index = right\n",
    "            step += 1\n",
    "        else:\n",
    "            current_index = right\n",
    "\n",
    "        if current_index < n:\n",
    "            print(current_index)\n",
    "            check = np.argwhere(linkage_matrix[:, 1] == current_index)\n",
    "            print(check.shape)\n",
    "            print(linkage_matrix[0])\n",
    "            current_index = n\n",
    "            break\n",
    "\n",
    "    # Finally, include the last part of the path leading to a leaf node\n",
    "    path.append((current_index, step))  # distance to a leaf node itself is 0\n",
    "\n",
    "    return path"
   ]
  },
  {
   "cell_type": "code",
   "execution_count": 79,
   "metadata": {},
   "outputs": [
    {
     "name": "stdout",
     "output_type": "stream",
     "text": [
      "107\n",
      "(1, 1)\n",
      "[ 13.         107.           1.64542403   2.        ]\n"
     ]
    },
    {
     "data": {
      "text/plain": [
       "[(212, 0),\n",
       " (207, 1),\n",
       " (195, 2),\n",
       " (183, 3),\n",
       " (182, 4),\n",
       " (181, 5),\n",
       " (177, 6),\n",
       " (173, 7),\n",
       " (167, 8),\n",
       " (158, 9),\n",
       " (150, 10),\n",
       " (148, 11),\n",
       " (146, 12),\n",
       " (133, 13),\n",
       " (120, 14),\n",
       " (108, 15)]"
      ]
     },
     "execution_count": 79,
     "metadata": {},
     "output_type": "execute_result"
    }
   ],
   "source": [
    "find_longest_path(Z)"
   ]
  },
  {
   "cell_type": "code",
   "execution_count": 32,
   "metadata": {},
   "outputs": [
    {
     "name": "stdout",
     "output_type": "stream",
     "text": [
      "69.0 213.0 9.69147593931662 108.0 214.0\n",
      "57.0 212.0 9.675248944478863 107.0 213.0\n",
      "210.0 211.0 9.432771491372948 106.0 212.0\n",
      "56.0 205.0 9.361222132577332 3.0 211.0\n",
      "85.0 209.0 9.233219033349144 103.0 210.0\n",
      "76.0 208.0 9.170560355808322 102.0 209.0\n",
      "96.0 207.0 8.814522636201792 101.0 208.0\n",
      "180.0 206.0 8.753773064692023 100.0 207.0\n",
      "99.0 204.0 8.62415088398964 98.0 206.0\n",
      "73.0 74.0 8.509666575199569 2.0 205.0\n",
      "9.0 203.0 8.440352718795914 97.0 204.0\n",
      "64.0 202.0 8.391345022121117 96.0 203.0\n",
      "104.0 201.0 8.38100413411424 95.0 202.0\n",
      "91.0 200.0 8.25651421077478 94.0 201.0\n",
      "55.0 199.0 8.228837805322067 93.0 200.0\n",
      "33.0 198.0 7.995063836620318 92.0 199.0\n",
      "18.0 197.0 7.98105600168053 91.0 198.0\n",
      "43.0 196.0 7.932206020338637 90.0 197.0\n",
      "6.0 195.0 7.904196637899424 89.0 196.0\n",
      "193.0 194.0 7.857437942900238 88.0 195.0\n",
      "80.0 192.0 7.841767527454052 86.0 194.0\n",
      "2.0 39.0 7.8243402204057935 2.0 193.0\n",
      "21.0 191.0 7.805345224364584 85.0 192.0\n",
      "27.0 190.0 7.72090537786226 84.0 191.0\n",
      "102.0 189.0 7.661144392989007 83.0 190.0\n",
      "7.0 188.0 7.651061797940808 82.0 189.0\n",
      "92.0 187.0 7.620333389613483 81.0 188.0\n",
      "1.0 186.0 7.520901031527306 80.0 187.0\n",
      "49.0 185.0 7.512024450292449 79.0 186.0\n",
      "10.0 184.0 7.507796793162951 78.0 185.0\n",
      "94.0 183.0 7.498636041551834 77.0 184.0\n",
      "176.0 182.0 7.476062016059917 76.0 183.0\n",
      "171.0 181.0 7.473663100408548 68.0 182.0\n",
      "175.0 179.0 7.437288761987202 57.0 181.0\n",
      "50.0 62.0 7.419319730757322 2.0 180.0\n",
      "14.0 178.0 7.272593162232083 54.0 179.0\n",
      "8.0 177.0 7.259043862716758 53.0 178.0\n",
      "168.0 174.0 7.231906322012562 52.0 177.0\n",
      "132.0 154.0 7.209198916634766 8.0 176.0\n",
      "40.0 172.0 7.1975069373383365 3.0 175.0\n",
      "15.0 173.0 7.1862956423732305 43.0 174.0\n",
      "122.0 169.0 7.105836904152802 42.0 173.0\n",
      "95.0 101.0 6.960599831855254 2.0 172.0\n",
      "157.0 170.0 6.952401469824386 11.0 171.0\n",
      "28.0 155.0 6.8971997839463315 9.0 170.0\n",
      "25.0 167.0 6.892610645257184 40.0 169.0\n",
      "165.0 166.0 6.8412357603127125 9.0 168.0\n",
      "161.0 163.0 6.785313311831333 39.0 167.0\n",
      "38.0 164.0 6.75795855600455 5.0 166.0\n",
      "58.0 162.0 6.656393468688291 4.0 165.0\n",
      "53.0 159.0 6.607701167963468 4.0 164.0\n",
      "4.0 89.0 6.511998212745373 2.0 163.0\n",
      "63.0 160.0 6.504170725925616 3.0 162.0\n",
      "0.0 158.0 6.433399967383549 37.0 161.0\n",
      "12.0 26.0 6.382826102156105 2.0 160.0\n",
      "77.0 116.0 6.375451526026015 3.0 159.0\n",
      "149.0 156.0 6.36455486513359 36.0 158.0\n",
      "47.0 75.0 6.329274484017956 2.0 157.0\n",
      "90.0 150.0 6.308671707727269 31.0 156.0\n",
      "152.0 153.0 6.296659434236332 8.0 155.0\n",
      "79.0 147.0 6.174239248364125 6.0 154.0\n",
      "70.0 151.0 6.125265492602221 6.0 153.0\n",
      "16.0 66.0 6.122131337893364 2.0 152.0\n",
      "98.0 144.0 6.117223464470114 5.0 151.0\n",
      "145.0 148.0 6.1034299355432395 30.0 150.0\n",
      "105.0 137.0 6.040823570017199 5.0 149.0\n",
      "129.0 146.0 6.009935385441179 27.0 148.0\n",
      "127.0 143.0 5.998511926196338 5.0 147.0\n",
      "139.0 142.0 5.927759392130872 25.0 146.0\n",
      "87.0 117.0 5.890979295725643 3.0 145.0\n",
      "31.0 140.0 5.855544138245427 4.0 144.0\n",
      "93.0 106.0 5.847684768115586 2.0 143.0\n",
      "46.0 141.0 5.727602350135389 14.0 142.0\n",
      "84.0 133.0 5.652044367866567 13.0 141.0\n",
      "103.0 123.0 5.597942720915542 3.0 140.0\n",
      "5.0 138.0 5.550036628202956 11.0 139.0\n",
      "128.0 136.0 5.530212707948556 10.0 138.0\n",
      "60.0 134.0 5.526423890274273 4.0 137.0\n",
      "22.0 135.0 5.503435018345671 8.0 136.0\n",
      "124.0 131.0 5.494356966698526 7.0 135.0\n",
      "51.0 130.0 5.493624979660266 3.0 134.0\n",
      "119.0 120.0 5.481755416398417 12.0 133.0\n",
      "11.0 67.0 5.443159857556053 2.0 132.0\n",
      "17.0 125.0 5.404995766765625 4.0 131.0\n",
      "20.0 88.0 5.397271015044768 2.0 130.0\n",
      "68.0 100.0 5.391947233001783 2.0 129.0\n",
      "24.0 83.0 5.375555191590846 2.0 128.0\n",
      "81.0 126.0 5.347813388233646 3.0 127.0\n",
      "35.0 48.0 5.329882101336615 2.0 126.0\n",
      "34.0 121.0 5.296824289952546 3.0 125.0\n",
      "72.0 115.0 5.255244355248551 3.0 124.0\n",
      "52.0 59.0 5.207395740291067 2.0 123.0\n",
      "3.0 29.0 5.102672103056498 2.0 122.0\n",
      "44.0 54.0 5.028885421374687 2.0 121.0\n",
      "114.0 118.0 4.829920841231707 7.0 120.0\n",
      "78.0 113.0 4.5523652335386 5.0 119.0\n",
      "41.0 112.0 4.540466943114419 5.0 118.0\n",
      "36.0 86.0 4.420747282524496 2.0 117.0\n",
      "19.0 61.0 4.341054251959361 2.0 116.0\n",
      "32.0 97.0 4.101259640898238 2.0 115.0\n",
      "65.0 71.0 4.071804571002488 2.0 114.0\n",
      "30.0 111.0 3.8713708806047187 4.0 113.0\n",
      "37.0 109.0 3.796740745981387 4.0 112.0\n",
      "42.0 110.0 3.7824622108856762 3.0 111.0\n",
      "23.0 45.0 3.6990142810332545 2.0 110.0\n",
      "82.0 108.0 3.174385662895033 3.0 109.0\n",
      "13.0 107.0 1.6454240252868435 2.0 108.0\n",
      "22\n"
     ]
    }
   ],
   "source": [
    "find_longest_step_path(Zsort)"
   ]
  },
  {
   "cell_type": "code",
   "execution_count": 29,
   "metadata": {},
   "outputs": [],
   "source": [
    "def get_duplicate(link_arr, distance):\n",
    "    link_std = link_arr.std()\n",
    "\n",
    "    if distance <= link_std / 1e3:\n",
    "        return \"exact duplicate\"\n",
    "    elif distance <= link_std:\n",
    "        return \"near duplicate\"\n",
    "    else:\n",
    "        return \"\"\n",
    "\n",
    "\n",
    "def get_outlier(level, distance, dist_arr):\n",
    "    dist_mean, dist_std = dist_arr[level].mean(), dist_arr[level].std()\n",
    "\n",
    "    if abs(dist_mean - distance) < dist_std * 2:\n",
    "        return \"outlier\"\n",
    "    elif level >= dist_arr.shape[0] * 2 / 3:\n",
    "        return \"potential outlier\"\n",
    "    else:\n",
    "        return \"\"\n",
    "\n",
    "\n",
    "def get_distance(\n",
    "    cluster, level, sample, distance_array, distance_matrix, sample_clusters\n",
    "):\n",
    "    # Convert the condensed distance matrix to a square form\n",
    "    square_distance_matrix = squareform(distance_matrix)\n",
    "\n",
    "    # For each cluster, check if it is active at the current level\n",
    "    for cluster_num, level_info in sample_clusters.items():\n",
    "        if cluster_num != cluster and level in level_info:\n",
    "            samples = level_info[level][\"samples\"]\n",
    "\n",
    "            for other_sample in samples:\n",
    "                if (\n",
    "                    square_distance_matrix[sample, other_sample]\n",
    "                    < distance_array[cluster]\n",
    "                ):\n",
    "                    distance_array[cluster] = square_distance_matrix[\n",
    "                        sample, other_sample\n",
    "                    ]\n",
    "\n",
    "    return distance_array\n",
    "\n",
    "\n",
    "def reorganize_clusters(clusters):\n",
    "    \"\"\"\n",
    "    Reorganize the clusters dictionary to be nested by cluster_num, then by level,\n",
    "    and include avg_dist, sample_dist, and samples within each level.\n",
    "\n",
    "    Parameters:\n",
    "    - clusters: A dictionary containing the original clusters information.\n",
    "\n",
    "    Returns:\n",
    "    - new_structure: A dictionary reorganized by cluster_num,\n",
    "                      then by level, with details.\n",
    "    \"\"\"\n",
    "    new_structure = {}\n",
    "\n",
    "    for _, info in clusters.items():\n",
    "        # Extract necessary information\n",
    "        cluster_num = info[\"cluster_num\"]\n",
    "        level = info[\"level\"]\n",
    "        samples = info.get(\"samples_added\", [])\n",
    "\n",
    "        # Initialize the structure if not present\n",
    "        if cluster_num not in new_structure:\n",
    "            new_structure[cluster_num] = {}\n",
    "\n",
    "        if level not in new_structure[cluster_num] and level == 1:\n",
    "            new_structure[cluster_num][level] = {\"samples\": []}\n",
    "        elif level not in new_structure[cluster_num] and level > 1:\n",
    "            new_structure[cluster_num][level] = {\n",
    "                \"samples\": deepcopy(new_structure[cluster_num][level - 1][\"samples\"])\n",
    "            }\n",
    "\n",
    "        # Extending the samples list.\n",
    "        new_structure[cluster_num][level][\"samples\"].extend(samples)\n",
    "\n",
    "    return new_structure\n",
    "\n",
    "\n",
    "def get_sample_info(arr, distance_matrix):\n",
    "    \"\"\"\n",
    "    Initialize clusters based on number of individual sample merges.\n",
    "\n",
    "    Parameters:\n",
    "    - arr: sorted linkage matrix\n",
    "\n",
    "    Returns:\n",
    "    - clusters: A dictionary containing the clusters\n",
    "    \"\"\"\n",
    "    # Determining maximum number of levels and clusters\n",
    "    max_clusters = 1\n",
    "    max_levels = 1\n",
    "    clusters = {}\n",
    "    for i in range(len(arr)):\n",
    "        level = 1\n",
    "        cluster_num = max_clusters\n",
    "        distance = 0\n",
    "        count = 0\n",
    "        sample_added = []\n",
    "        if arr[i, 0] in clusters:\n",
    "            cluster_num = min([cluster_num, clusters[arr[i, 0]][\"cluster_num\"]])\n",
    "            left_level = max([level, clusters[arr[i, 0]][\"level\"] + 1])\n",
    "            distance += clusters[arr[i, 0]][\"total_dist\"]\n",
    "            count += clusters[arr[i, 0]][\"count\"]\n",
    "        else:\n",
    "            sample_added.append(int(arr[i, 0]))\n",
    "\n",
    "        if arr[i, 1] in clusters:\n",
    "            cluster_num = min([cluster_num, clusters[arr[i, 1]][\"cluster_num\"]])\n",
    "            right_level = max([level, clusters[arr[i, 1]][\"level\"] + 1])\n",
    "            distance += clusters[arr[i, 1]][\"total_dist\"]\n",
    "            count += clusters[arr[i, 1]][\"count\"]\n",
    "        else:\n",
    "            sample_added.append(int(arr[i, 1]))\n",
    "\n",
    "        if arr[i, 0] in clusters and arr[i, 1] in clusters:\n",
    "            if cluster_num == clusters[arr[i, 0]][\"cluster_num\"]:\n",
    "                level = left_level\n",
    "            elif cluster_num == clusters[arr[i, 1]][\"cluster_num\"]:\n",
    "                level = right_level\n",
    "        elif arr[i, 0] in clusters:\n",
    "            level = left_level\n",
    "        elif arr[i, 1] in clusters:\n",
    "            level = right_level\n",
    "\n",
    "        count += 1\n",
    "        distance += arr[i, 2]\n",
    "\n",
    "        clusters[arr[i, -1]] = {\n",
    "            \"cluster_num\": cluster_num,\n",
    "            \"level\": level,\n",
    "            \"total_dist\": distance,\n",
    "            \"count\": count,\n",
    "            \"avg_dist\": distance / count,\n",
    "            \"samples_added\": sample_added,\n",
    "            \"sample_dist\": arr[i, 2],\n",
    "        }\n",
    "\n",
    "        if cluster_num == max_clusters and i < len(arr) - 1:\n",
    "            max_clusters += 1\n",
    "\n",
    "        if level > max_levels:\n",
    "            max_levels = level\n",
    "\n",
    "    # Reorganizing the clusters dictionary\n",
    "    sample_clusters = reorganize_clusters(clusters)\n",
    "\n",
    "    # Creating the cluster tracking dictionary\n",
    "    sample_tracking = {\n",
    "        i: {\n",
    "            \"cluster\": np.zeros(max_levels),\n",
    "            \"distance\": np.full((max_levels, max_clusters), np.inf),\n",
    "            \"duplicate\": \"\",\n",
    "            \"outlier\": \"\",\n",
    "        }\n",
    "        for i in range(len(arr) + 1)\n",
    "    }\n",
    "\n",
    "    for _, values in clusters.items():\n",
    "        if values[\"samples_added\"]:\n",
    "            level = values[\"level\"] - 1\n",
    "            cluster = values[\"cluster_num\"] - 1\n",
    "            for sample in values[\"samples_added\"]:\n",
    "                sample_tracking[sample][\"cluster\"][level] = values[\"cluster_num\"]\n",
    "                sample_tracking[sample][\"distance\"][level, cluster] = values[\n",
    "                    \"sample_dist\"\n",
    "                ]\n",
    "                sample_tracking[sample][\"distance\"][level, :] = get_distance(\n",
    "                    cluster,\n",
    "                    level,\n",
    "                    sample,\n",
    "                    sample_tracking[sample][\"distance\"][level, :],\n",
    "                    distance_matrix,\n",
    "                    sample_clusters,\n",
    "                )\n",
    "                sample_tracking[sample][\"duplicate\"] = get_duplicate(\n",
    "                    arr[:, 2],\n",
    "                    values[\"sample_dist\"],\n",
    "                )\n",
    "                sample_tracking[sample][\"outlier\"] = get_outlier(\n",
    "                    level,\n",
    "                    values[\"sample_dist\"],\n",
    "                    sample_tracking[sample][\"distance\"],\n",
    "                )\n",
    "\n",
    "    return clusters, sample_tracking"
   ]
  },
  {
   "cell_type": "code",
   "execution_count": 30,
   "metadata": {},
   "outputs": [],
   "source": [
    "clusters, sample_tracking = get_sample_info(Zsort, dist_mat)"
   ]
  },
  {
   "cell_type": "code",
   "execution_count": 31,
   "metadata": {},
   "outputs": [
    {
     "name": "stdout",
     "output_type": "stream",
     "text": [
      "{'cluster_num': 1, 'level': 1, 'total_dist': 1.6454240252868435, 'count': 1, 'avg_dist': 1.6454240252868435, 'samples_added': [13, 107], 'sample_dist': 1.6454240252868435}\n"
     ]
    }
   ],
   "source": [
    "for _, values in clusters.items():\n",
    "    if values[\"samples_added\"]:\n",
    "        print(values)\n",
    "        break"
   ]
  },
  {
   "cell_type": "code",
   "execution_count": 21,
   "metadata": {},
   "outputs": [
    {
     "data": {
      "text/plain": [
       "array([[ 13.        , 107.        ,   1.64542403,   2.        ,\n",
       "        108.        ],\n",
       "       [ 82.        , 108.        ,   3.17438566,   3.        ,\n",
       "        109.        ],\n",
       "       [ 23.        ,  45.        ,   3.69901428,   2.        ,\n",
       "        110.        ],\n",
       "       [ 42.        , 110.        ,   3.78246221,   3.        ,\n",
       "        111.        ],\n",
       "       [ 37.        , 109.        ,   3.79674075,   4.        ,\n",
       "        112.        ],\n",
       "       [ 30.        , 111.        ,   3.87137088,   4.        ,\n",
       "        113.        ],\n",
       "       [ 65.        ,  71.        ,   4.07180457,   2.        ,\n",
       "        114.        ],\n",
       "       [ 32.        ,  97.        ,   4.10125964,   2.        ,\n",
       "        115.        ],\n",
       "       [ 19.        ,  61.        ,   4.34105425,   2.        ,\n",
       "        116.        ],\n",
       "       [ 36.        ,  86.        ,   4.42074728,   2.        ,\n",
       "        117.        ],\n",
       "       [ 41.        , 112.        ,   4.54046694,   5.        ,\n",
       "        118.        ],\n",
       "       [ 78.        , 113.        ,   4.55236523,   5.        ,\n",
       "        119.        ],\n",
       "       [114.        , 118.        ,   4.82992084,   7.        ,\n",
       "        120.        ],\n",
       "       [ 44.        ,  54.        ,   5.02888542,   2.        ,\n",
       "        121.        ],\n",
       "       [  3.        ,  29.        ,   5.1026721 ,   2.        ,\n",
       "        122.        ],\n",
       "       [ 52.        ,  59.        ,   5.20739574,   2.        ,\n",
       "        123.        ],\n",
       "       [ 72.        , 115.        ,   5.25524436,   3.        ,\n",
       "        124.        ],\n",
       "       [ 34.        , 121.        ,   5.29682429,   3.        ,\n",
       "        125.        ],\n",
       "       [ 35.        ,  48.        ,   5.3298821 ,   2.        ,\n",
       "        126.        ],\n",
       "       [ 81.        , 126.        ,   5.34781339,   3.        ,\n",
       "        127.        ],\n",
       "       [ 24.        ,  83.        ,   5.37555519,   2.        ,\n",
       "        128.        ],\n",
       "       [ 68.        , 100.        ,   5.39194723,   2.        ,\n",
       "        129.        ],\n",
       "       [ 20.        ,  88.        ,   5.39727102,   2.        ,\n",
       "        130.        ],\n",
       "       [ 17.        , 125.        ,   5.40499577,   4.        ,\n",
       "        131.        ],\n",
       "       [ 11.        ,  67.        ,   5.44315986,   2.        ,\n",
       "        132.        ],\n",
       "       [119.        , 120.        ,   5.48175542,  12.        ,\n",
       "        133.        ],\n",
       "       [ 51.        , 130.        ,   5.49362498,   3.        ,\n",
       "        134.        ],\n",
       "       [124.        , 131.        ,   5.49435697,   7.        ,\n",
       "        135.        ],\n",
       "       [ 22.        , 135.        ,   5.50343502,   8.        ,\n",
       "        136.        ],\n",
       "       [ 60.        , 134.        ,   5.52642389,   4.        ,\n",
       "        137.        ],\n",
       "       [128.        , 136.        ,   5.53021271,  10.        ,\n",
       "        138.        ],\n",
       "       [  5.        , 138.        ,   5.55003663,  11.        ,\n",
       "        139.        ],\n",
       "       [103.        , 123.        ,   5.59794272,   3.        ,\n",
       "        140.        ],\n",
       "       [ 84.        , 133.        ,   5.65204437,  13.        ,\n",
       "        141.        ],\n",
       "       [ 46.        , 141.        ,   5.72760235,  14.        ,\n",
       "        142.        ],\n",
       "       [ 93.        , 106.        ,   5.84768477,   2.        ,\n",
       "        143.        ],\n",
       "       [ 31.        , 140.        ,   5.85554414,   4.        ,\n",
       "        144.        ],\n",
       "       [ 87.        , 117.        ,   5.8909793 ,   3.        ,\n",
       "        145.        ],\n",
       "       [139.        , 142.        ,   5.92775939,  25.        ,\n",
       "        146.        ],\n",
       "       [127.        , 143.        ,   5.99851193,   5.        ,\n",
       "        147.        ],\n",
       "       [129.        , 146.        ,   6.00993539,  27.        ,\n",
       "        148.        ],\n",
       "       [105.        , 137.        ,   6.04082357,   5.        ,\n",
       "        149.        ],\n",
       "       [145.        , 148.        ,   6.10342994,  30.        ,\n",
       "        150.        ],\n",
       "       [ 98.        , 144.        ,   6.11722346,   5.        ,\n",
       "        151.        ],\n",
       "       [ 16.        ,  66.        ,   6.12213134,   2.        ,\n",
       "        152.        ],\n",
       "       [ 70.        , 151.        ,   6.12526549,   6.        ,\n",
       "        153.        ],\n",
       "       [ 79.        , 147.        ,   6.17423925,   6.        ,\n",
       "        154.        ],\n",
       "       [152.        , 153.        ,   6.29665943,   8.        ,\n",
       "        155.        ],\n",
       "       [ 90.        , 150.        ,   6.30867171,  31.        ,\n",
       "        156.        ],\n",
       "       [ 47.        ,  75.        ,   6.32927448,   2.        ,\n",
       "        157.        ],\n",
       "       [149.        , 156.        ,   6.36455487,  36.        ,\n",
       "        158.        ],\n",
       "       [ 77.        , 116.        ,   6.37545153,   3.        ,\n",
       "        159.        ],\n",
       "       [ 12.        ,  26.        ,   6.3828261 ,   2.        ,\n",
       "        160.        ],\n",
       "       [  0.        , 158.        ,   6.43339997,  37.        ,\n",
       "        161.        ],\n",
       "       [ 63.        , 160.        ,   6.50417073,   3.        ,\n",
       "        162.        ],\n",
       "       [  4.        ,  89.        ,   6.51199821,   2.        ,\n",
       "        163.        ],\n",
       "       [ 53.        , 159.        ,   6.60770117,   4.        ,\n",
       "        164.        ],\n",
       "       [ 58.        , 162.        ,   6.65639347,   4.        ,\n",
       "        165.        ],\n",
       "       [ 38.        , 164.        ,   6.75795856,   5.        ,\n",
       "        166.        ],\n",
       "       [161.        , 163.        ,   6.78531331,  39.        ,\n",
       "        167.        ],\n",
       "       [165.        , 166.        ,   6.84123576,   9.        ,\n",
       "        168.        ],\n",
       "       [ 25.        , 167.        ,   6.89261065,  40.        ,\n",
       "        169.        ],\n",
       "       [ 28.        , 155.        ,   6.89719978,   9.        ,\n",
       "        170.        ],\n",
       "       [157.        , 170.        ,   6.95240147,  11.        ,\n",
       "        171.        ],\n",
       "       [ 95.        , 101.        ,   6.96059983,   2.        ,\n",
       "        172.        ],\n",
       "       [122.        , 169.        ,   7.1058369 ,  42.        ,\n",
       "        173.        ],\n",
       "       [ 15.        , 173.        ,   7.18629564,  43.        ,\n",
       "        174.        ],\n",
       "       [ 40.        , 172.        ,   7.19750694,   3.        ,\n",
       "        175.        ],\n",
       "       [132.        , 154.        ,   7.20919892,   8.        ,\n",
       "        176.        ],\n",
       "       [168.        , 174.        ,   7.23190632,  52.        ,\n",
       "        177.        ],\n",
       "       [  8.        , 177.        ,   7.25904386,  53.        ,\n",
       "        178.        ],\n",
       "       [ 14.        , 178.        ,   7.27259316,  54.        ,\n",
       "        179.        ],\n",
       "       [ 50.        ,  62.        ,   7.41931973,   2.        ,\n",
       "        180.        ],\n",
       "       [175.        , 179.        ,   7.43728876,  57.        ,\n",
       "        181.        ],\n",
       "       [171.        , 181.        ,   7.4736631 ,  68.        ,\n",
       "        182.        ],\n",
       "       [176.        , 182.        ,   7.47606202,  76.        ,\n",
       "        183.        ],\n",
       "       [ 94.        , 183.        ,   7.49863604,  77.        ,\n",
       "        184.        ],\n",
       "       [ 10.        , 184.        ,   7.50779679,  78.        ,\n",
       "        185.        ],\n",
       "       [ 49.        , 185.        ,   7.51202445,  79.        ,\n",
       "        186.        ],\n",
       "       [  1.        , 186.        ,   7.52090103,  80.        ,\n",
       "        187.        ],\n",
       "       [ 92.        , 187.        ,   7.62033339,  81.        ,\n",
       "        188.        ],\n",
       "       [  7.        , 188.        ,   7.6510618 ,  82.        ,\n",
       "        189.        ],\n",
       "       [102.        , 189.        ,   7.66114439,  83.        ,\n",
       "        190.        ],\n",
       "       [ 27.        , 190.        ,   7.72090538,  84.        ,\n",
       "        191.        ],\n",
       "       [ 21.        , 191.        ,   7.80534522,  85.        ,\n",
       "        192.        ],\n",
       "       [  2.        ,  39.        ,   7.82434022,   2.        ,\n",
       "        193.        ],\n",
       "       [ 80.        , 192.        ,   7.84176753,  86.        ,\n",
       "        194.        ],\n",
       "       [193.        , 194.        ,   7.85743794,  88.        ,\n",
       "        195.        ],\n",
       "       [  6.        , 195.        ,   7.90419664,  89.        ,\n",
       "        196.        ],\n",
       "       [ 43.        , 196.        ,   7.93220602,  90.        ,\n",
       "        197.        ],\n",
       "       [ 18.        , 197.        ,   7.981056  ,  91.        ,\n",
       "        198.        ],\n",
       "       [ 33.        , 198.        ,   7.99506384,  92.        ,\n",
       "        199.        ],\n",
       "       [ 55.        , 199.        ,   8.22883781,  93.        ,\n",
       "        200.        ],\n",
       "       [ 91.        , 200.        ,   8.25651421,  94.        ,\n",
       "        201.        ],\n",
       "       [104.        , 201.        ,   8.38100413,  95.        ,\n",
       "        202.        ],\n",
       "       [ 64.        , 202.        ,   8.39134502,  96.        ,\n",
       "        203.        ],\n",
       "       [  9.        , 203.        ,   8.44035272,  97.        ,\n",
       "        204.        ],\n",
       "       [ 73.        ,  74.        ,   8.50966658,   2.        ,\n",
       "        205.        ],\n",
       "       [ 99.        , 204.        ,   8.62415088,  98.        ,\n",
       "        206.        ],\n",
       "       [180.        , 206.        ,   8.75377306, 100.        ,\n",
       "        207.        ],\n",
       "       [ 96.        , 207.        ,   8.81452264, 101.        ,\n",
       "        208.        ],\n",
       "       [ 76.        , 208.        ,   9.17056036, 102.        ,\n",
       "        209.        ],\n",
       "       [ 85.        , 209.        ,   9.23321903, 103.        ,\n",
       "        210.        ],\n",
       "       [ 56.        , 205.        ,   9.36122213,   3.        ,\n",
       "        211.        ],\n",
       "       [210.        , 211.        ,   9.43277149, 106.        ,\n",
       "        212.        ],\n",
       "       [ 57.        , 212.        ,   9.67524894, 107.        ,\n",
       "        213.        ],\n",
       "       [ 69.        , 213.        ,   9.69147594, 108.        ,\n",
       "        214.        ]])"
      ]
     },
     "execution_count": 21,
     "metadata": {},
     "output_type": "execute_result"
    }
   ],
   "source": [
    "Zsort"
   ]
  },
  {
   "cell_type": "code",
   "execution_count": 22,
   "metadata": {},
   "outputs": [
    {
     "data": {
      "text/plain": [
       "{'cluster': array([1., 0., 0., 0., 0., 0., 0., 0., 0., 0., 0., 0., 0., 0., 0., 0., 0.,\n",
       "        0., 0., 0., 0., 0., 0., 0., 0., 0., 0., 0., 0., 0., 0., 0., 0., 0.,\n",
       "        0., 0., 0., 0., 0., 0., 0., 0., 0., 0., 0., 0., 0., 0., 0., 0., 0.,\n",
       "        0.]),\n",
       " 'distance': array([[1.64542403,        inf,        inf, ...,        inf,        inf,\n",
       "                inf],\n",
       "        [       inf,        inf,        inf, ...,        inf,        inf,\n",
       "                inf],\n",
       "        [       inf,        inf,        inf, ...,        inf,        inf,\n",
       "                inf],\n",
       "        ...,\n",
       "        [       inf,        inf,        inf, ...,        inf,        inf,\n",
       "                inf],\n",
       "        [       inf,        inf,        inf, ...,        inf,        inf,\n",
       "                inf],\n",
       "        [       inf,        inf,        inf, ...,        inf,        inf,\n",
       "                inf]]),\n",
       " 'duplicate': '',\n",
       " 'outlier': ''}"
      ]
     },
     "execution_count": 22,
     "metadata": {},
     "output_type": "execute_result"
    }
   ],
   "source": [
    "sample_tracking[13]"
   ]
  },
  {
   "cell_type": "code",
   "execution_count": 106,
   "metadata": {},
   "outputs": [
    {
     "data": {
      "text/plain": [
       "1071"
      ]
     },
     "execution_count": 106,
     "metadata": {},
     "output_type": "execute_result"
    }
   ],
   "source": [
    "len(sample_tracking[205][\"cluster\"])"
   ]
  },
  {
   "cell_type": "code",
   "execution_count": 100,
   "metadata": {},
   "outputs": [
    {
     "data": {
      "text/plain": [
       "{'cluster': array([ 0., 13.,  0., ...,  0.,  0.,  0.]),\n",
       " 'distance': array([[inf, inf, inf, ..., inf, inf, inf],\n",
       "        [inf, inf, inf, ..., inf, inf, inf],\n",
       "        [inf, inf, inf, ..., inf, inf, inf],\n",
       "        ...,\n",
       "        [inf, inf, inf, ..., inf, inf, inf],\n",
       "        [inf, inf, inf, ..., inf, inf, inf],\n",
       "        [inf, inf, inf, ..., inf, inf, inf]]),\n",
       " 'duplicate': '',\n",
       " 'outlier': ''}"
      ]
     },
     "execution_count": 100,
     "metadata": {},
     "output_type": "execute_result"
    }
   ],
   "source": [
    "sample_tracking[205]"
   ]
  },
  {
   "cell_type": "code",
   "execution_count": null,
   "metadata": {},
   "outputs": [],
   "source": []
  }
 ],
 "metadata": {
  "kernelspec": {
   "display_name": "Python 3",
   "language": "python",
   "name": "python3"
  },
  "language_info": {
   "codemirror_mode": {
    "name": "ipython",
    "version": 3
   },
   "file_extension": ".py",
   "mimetype": "text/x-python",
   "name": "python",
   "nbconvert_exporter": "python",
   "pygments_lexer": "ipython3",
   "version": "3.11.7"
  }
 },
 "nbformat": 4,
 "nbformat_minor": 2
}
