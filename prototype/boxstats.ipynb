{
 "cells": [
  {
   "cell_type": "code",
   "execution_count": 1,
   "metadata": {},
   "outputs": [
    {
     "name": "stderr",
     "output_type": "stream",
     "text": [
      "2024-09-20 19:55:08.669474: I tensorflow/core/util/port.cc:113] oneDNN custom operations are on. You may see slightly different numerical results due to floating-point round-off errors from different computation orders. To turn them off, set the environment variable `TF_ENABLE_ONEDNN_OPTS=0`.\n",
      "2024-09-20 19:55:08.671541: I external/local_tsl/tsl/cuda/cudart_stub.cc:31] Could not find cuda drivers on your machine, GPU will not be used.\n",
      "2024-09-20 19:55:08.695848: E external/local_xla/xla/stream_executor/cuda/cuda_dnn.cc:9261] Unable to register cuDNN factory: Attempting to register factory for plugin cuDNN when one has already been registered\n",
      "2024-09-20 19:55:08.695872: E external/local_xla/xla/stream_executor/cuda/cuda_fft.cc:607] Unable to register cuFFT factory: Attempting to register factory for plugin cuFFT when one has already been registered\n",
      "2024-09-20 19:55:08.696617: E external/local_xla/xla/stream_executor/cuda/cuda_blas.cc:1515] Unable to register cuBLAS factory: Attempting to register factory for plugin cuBLAS when one has already been registered\n",
      "2024-09-20 19:55:08.700736: I external/local_tsl/tsl/cuda/cudart_stub.cc:31] Could not find cuda drivers on your machine, GPU will not be used.\n",
      "2024-09-20 19:55:08.701187: I tensorflow/core/platform/cpu_feature_guard.cc:182] This TensorFlow binary is optimized to use available CPU instructions in performance-critical operations.\n",
      "To enable the following instructions: AVX2 AVX512F AVX512_VNNI FMA, in other operations, rebuild TensorFlow with the appropriate compiler flags.\n",
      "2024-09-20 19:55:09.272890: W tensorflow/compiler/tf2tensorrt/utils/py_utils.cc:38] TF-TRT Warning: Could not find TensorRT\n"
     ]
    },
    {
     "name": "stdout",
     "output_type": "stream",
     "text": [
      "(2, 4)\n",
      "\t[ 5  7 15 32]\n",
      "\t[65 43 15 42]\n",
      "(1, 4)\n",
      "\t[50 50 25 25]\n",
      "(3, 4)\n",
      "\t[14  8 32 32]\n",
      "\t[34 23 49 67]\n",
      "\t[42 31 36 47]\n",
      "(1, 4)\n",
      "\t[14 19 58 59]\n"
     ]
    }
   ],
   "source": [
    "import numpy as np\n",
    "from boxstats import normalize_box_shape, to_numpy_iter\n",
    "\n",
    "bbox = [[[5,7,15,32],[65,43,15,42]], [[50,50,25,25]], [[14,8,32,32], [34,23,49,67], [42,31,36,47]], [14,19,58,59]]\n",
    "for boxes in to_numpy_iter(bbox):\n",
    "    norm_boxes = normalize_box_shape(boxes)\n",
    "    print(norm_boxes.shape)\n",
    "    for box in norm_boxes:\n",
    "        print(f\"\\t{box}\")"
   ]
  },
  {
   "cell_type": "code",
   "execution_count": 2,
   "metadata": {},
   "outputs": [],
   "source": [
    "img1 = np.ones((1,100,100))\n",
    "img1[0,7:67,10:75] += np.random.random((60,65))\n",
    "img2 = np.ones((1,75,75))\n",
    "img2[0,50:75,25:75] += 5*np.random.random((25,50))\n",
    "img3 = np.zeros((1,100,100))\n",
    "img3[0,20:70,:] += 5*np.random.random((50,100))\n",
    "img4 = np.zeros((1,90,90))\n",
    "img4[0,20:60,20:60] += np.random.random((40,40))\n",
    "\n",
    "images = [img1, img2, img3, img4]"
   ]
  },
  {
   "cell_type": "code",
   "execution_count": 3,
   "metadata": {},
   "outputs": [],
   "source": [
    "from dataeval._internal.metrics.stats import imagestats\n",
    "from boxstats import boxstats\n",
    "\n",
    "img_results = imagestats(images)\n",
    "box_results = boxstats(bbox, images)"
   ]
  },
  {
   "cell_type": "code",
   "execution_count": 4,
   "metadata": {},
   "outputs": [
    {
     "name": "stdout",
     "output_type": "stream",
     "text": [
      "[array([[ 5,  7],\n",
      "       [65, 43]], dtype=uint16), array([[50, 50]], dtype=uint16), array([[14,  8],\n",
      "       [34, 23],\n",
      "       [42, 31]], dtype=uint16), array([[14, 19]], dtype=uint16)]\n",
      "[array([[1.   , 1.   , 1.253, 1.589, 1.989],\n",
      "       [1.   , 1.   , 1.   , 1.355, 2.   ]], dtype=float16), array([[1.008, 2.363, 3.549, 4.805, 5.99 ]], dtype=float16), array([[0.    , 0.    , 1.066 , 3.035 , 4.96  ],\n",
      "       [0.    , 0.    , 1.501 , 3.252 , 5.    ],\n",
      "       [0.    , 0.5264, 2.107 , 3.56  , 5.    ]], dtype=float16), array([[0.    , 0.    , 0.    , 0.4778, 0.9995]], dtype=float16)]\n"
     ]
    }
   ],
   "source": [
    "result = []\n",
    "result2 = []\n",
    "for boxes, image in zip(to_numpy_iter(bbox), to_numpy_iter(images)):\n",
    "    norm_boxes = normalize_box_shape(boxes)\n",
    "    boxes_output = []\n",
    "    box_out = []\n",
    "    for box in norm_boxes:\n",
    "        box_image = image[:, box[1] : box[1] + box[3], box[0] : box[0] + box[2]]\n",
    "        boxes_output.append(np.asarray([np.uint16(box[0]), np.uint16(box[1])]))\n",
    "        box_out.append(np.float16(np.percentile(box_image, q=(0, 25, 50, 75, 100))))\n",
    "    result.append(np.asarray(boxes_output))\n",
    "    result2.append(np.asarray(box_out))\n",
    "print(result)\n",
    "print(result2)\n"
   ]
  },
  {
   "cell_type": "code",
   "execution_count": 5,
   "metadata": {},
   "outputs": [
    {
     "data": {
      "text/plain": [
       "array([2, 1, 3, 1], dtype=uint16)"
      ]
     },
     "execution_count": 5,
     "metadata": {},
     "output_type": "execute_result"
    }
   ],
   "source": [
    "box_results.box_count"
   ]
  },
  {
   "cell_type": "code",
   "execution_count": 6,
   "metadata": {},
   "outputs": [
    {
     "data": {
      "text/plain": [
       "StatsBoxOutput(box_count=array([2, 1, 3, 1], dtype=uint16), center=array([[[10, 19],\n",
       "        [40, 42],\n",
       "        [ 0,  0]],\n",
       "\n",
       "       [[37, 37],\n",
       "        [ 0,  0],\n",
       "        [ 0,  0]],\n",
       "\n",
       "       [[23, 20],\n",
       "        [41, 45],\n",
       "        [39, 39]],\n",
       "\n",
       "       [[36, 39],\n",
       "        [ 0,  0],\n",
       "        [ 0,  0]]], dtype=uint16), width=array([[15, 15,  0],\n",
       "       [25,  0,  0],\n",
       "       [32, 49, 36],\n",
       "       [58,  0,  0]], dtype=uint16), height=array([[32, 42,  0],\n",
       "       [25,  0,  0],\n",
       "       [32, 67, 47],\n",
       "       [59,  0,  0]], dtype=uint16), channels=array([], dtype=float64), size=array([[ 480,  630,    0],\n",
       "       [ 625,    0,    0],\n",
       "       [1024, 3283, 1692],\n",
       "       [3422,    0,    0]], dtype=uint32), aspect_ratio=array([[0.4688, 0.3572,    nan],\n",
       "       [1.    ,    nan,    nan],\n",
       "       [1.    , 0.7314, 0.766 ],\n",
       "       [0.983 ,    nan,    nan]], dtype=float16), depth=array([], dtype=float64), brightness=array([[  6.48 ,   6.48 ,     nan],\n",
       "       [303.2  ,     nan,     nan],\n",
       "       [312.5  , 312.5  , 312.5  ],\n",
       "       [  7.414,     nan,     nan]], dtype=float16), blurriness=array([[1.346, 1.109,   nan],\n",
       "       [6.746,   nan,   nan],\n",
       "       [6.023, 6.33 , 6.69 ],\n",
       "       [1.187,   nan,   nan]], dtype=float16), contrast=array([[0.75 , 0.839,   nan],\n",
       "       [1.4  ,   nan,   nan],\n",
       "       [3.156, 2.799, 2.34 ],\n",
       "       [4.2  ,   nan,   nan]], dtype=float16), darkness=array([[3.082 , 2.098 ,    nan],\n",
       "       [1.248 ,    nan,    nan],\n",
       "       [0.5684, 0.63  , 0.7993],\n",
       "       [2.318 ,    nan,    nan]], dtype=float16), missing=array([[ 0.,  0., nan],\n",
       "       [ 0., nan, nan],\n",
       "       [ 0.,  0.,  0.],\n",
       "       [ 0., nan, nan]], dtype=float16), zeros=array([[0.    , 0.    ,    nan],\n",
       "       [0.    ,    nan,    nan],\n",
       "       [0.375 , 0.2986, 0.1702],\n",
       "       [0.532 ,    nan,    nan]], dtype=float16), mean=array([[1.318   , 1.318   ,      nan],\n",
       "       [0.01395 ,      nan,      nan],\n",
       "       [0.006165, 0.006165, 0.006165],\n",
       "       [0.2382  ,      nan,      nan]], dtype=float16), std=array([[0.3215  , 0.3215  ,      nan],\n",
       "       [0.005604,      nan,      nan],\n",
       "       [0.006523, 0.006523, 0.006523],\n",
       "       [0.3206  ,      nan,      nan]], dtype=float16), var=array([[1.0345e-01, 1.0345e-01,        nan],\n",
       "       [3.1412e-05,        nan,        nan],\n",
       "       [4.2558e-05, 4.2558e-05, 4.2558e-05],\n",
       "       [1.0272e-01,        nan,        nan]], dtype=float16), skew=array([[ 0.517 ,  0.517 ,     nan],\n",
       "       [-0.038 ,     nan,     nan],\n",
       "       [ 0.581 ,  0.581 ,  0.581 ],\n",
       "       [ 0.9956,     nan,     nan]], dtype=float16), kurtosis=array([[-1.166, -1.166,    nan],\n",
       "       [-1.176,    nan,    nan],\n",
       "       [-1.126, -1.126, -1.126],\n",
       "       [-0.504,    nan,    nan]], dtype=float16), percentiles=array([[[1.      , 1.      , 1.253   , 1.589   , 1.989   ],\n",
       "        [1.      , 1.      , 1.253   , 1.589   , 1.989   ],\n",
       "        [     nan,      nan,      nan,      nan,      nan]],\n",
       "\n",
       "       [[0.003952, 0.00926 , 0.01392 , 0.01884 , 0.02348 ],\n",
       "        [     nan,      nan,      nan,      nan,      nan],\n",
       "        [     nan,      nan,      nan,      nan,      nan]],\n",
       "\n",
       "       [[0.      , 0.      , 0.00418 , 0.0119  , 0.01945 ],\n",
       "        [0.      , 0.      , 0.00418 , 0.0119  , 0.01945 ],\n",
       "        [0.      , 0.      , 0.00418 , 0.0119  , 0.01945 ]],\n",
       "\n",
       "       [[0.      , 0.      , 0.      , 0.4778  , 0.9995  ],\n",
       "        [     nan,      nan,      nan,      nan,      nan],\n",
       "        [     nan,      nan,      nan,      nan,      nan]]],\n",
       "      dtype=float16), histogram=array([[[   0,    0,    0, ...,    0,    0,  160],\n",
       "        [   0,    0,    0, ...,    0,    0,  160],\n",
       "        [   0,    0,    0, ...,    0,    0,    0]],\n",
       "\n",
       "       [[   0,  109,  128, ...,    0,    0,    0],\n",
       "        [   0,    0,    0, ...,    0,    0,    0],\n",
       "        [   0,    0,    0, ...,    0,    0,    0]],\n",
       "\n",
       "       [[ 499,  137,  127, ...,    0,    0,    0],\n",
       "        [ 499,  137,  127, ...,    0,    0,    0],\n",
       "        [ 499,  137,  127, ...,    0,    0,    0]],\n",
       "\n",
       "       [[1828,    3,    5, ...,    7,    5,    4],\n",
       "        [   0,    0,    0, ...,    0,    0,    0],\n",
       "        [   0,    0,    0, ...,    0,    0,    0]]], dtype=uint32), entropy=array([[0.   , 0.   ,   nan],\n",
       "       [1.63 ,   nan,   nan],\n",
       "       [1.403, 1.403, 1.403],\n",
       "       [3.236,   nan,   nan]], dtype=float16))"
      ]
     },
     "execution_count": 6,
     "metadata": {},
     "output_type": "execute_result"
    }
   ],
   "source": [
    "box_results"
   ]
  },
  {
   "cell_type": "code",
   "execution_count": 7,
   "metadata": {},
   "outputs": [
    {
     "data": {
      "text/plain": [
       "array([[50. , 50. ],\n",
       "       [37.5, 37.5],\n",
       "       [50. , 50. ],\n",
       "       [45. , 45. ]])"
      ]
     },
     "execution_count": 7,
     "metadata": {},
     "output_type": "execute_result"
    }
   ],
   "source": [
    "image_width = np.array([100, 75, 100, 90])\n",
    "image_height = np.array([100, 75, 100, 90])\n",
    "image_center = np.stack([image_width/2, image_height/2], axis=1)\n",
    "image_center"
   ]
  },
  {
   "cell_type": "code",
   "execution_count": 8,
   "metadata": {},
   "outputs": [
    {
     "data": {
      "text/plain": [
       "array([[10, 40,  0],\n",
       "       [37,  0,  0],\n",
       "       [23, 41, 39],\n",
       "       [36,  0,  0]], dtype=uint16)"
      ]
     },
     "execution_count": 8,
     "metadata": {},
     "output_type": "execute_result"
    }
   ],
   "source": [
    "box_results.center[:, :, 0]"
   ]
  },
  {
   "cell_type": "code",
   "execution_count": 9,
   "metadata": {},
   "outputs": [
    {
     "data": {
      "text/plain": [
       "array([[19, 42,  0],\n",
       "       [37,  0,  0],\n",
       "       [20, 45, 39],\n",
       "       [39,  0,  0]], dtype=uint16)"
      ]
     },
     "execution_count": 9,
     "metadata": {},
     "output_type": "execute_result"
    }
   ],
   "source": [
    "box_results.center[:, :, 1]"
   ]
  },
  {
   "cell_type": "code",
   "execution_count": 10,
   "metadata": {},
   "outputs": [
    {
     "data": {
      "text/plain": [
       "array([[[-0.8       ,  0.62      ],\n",
       "        [-0.2       ,  0.16      ],\n",
       "        [-1.        ,  1.        ]],\n",
       "\n",
       "       [[-0.01333333,  0.01333333],\n",
       "        [-1.        ,  1.        ],\n",
       "        [-1.        ,  1.        ]],\n",
       "\n",
       "       [[-0.54      ,  0.6       ],\n",
       "        [-0.18      ,  0.1       ],\n",
       "        [-0.22      ,  0.22      ]],\n",
       "\n",
       "       [[-0.2       ,  0.13333333],\n",
       "        [-1.        ,  1.        ],\n",
       "        [-1.        ,  1.        ]]])"
      ]
     },
     "execution_count": 10,
     "metadata": {},
     "output_type": "execute_result"
    }
   ],
   "source": [
    "width_ratio = (box_results.center[:, :, 0] - image_width[:, np.newaxis] / 2) / (\n",
    "    image_width[:, np.newaxis] / 2\n",
    ")\n",
    "height_ratio = (image_height[:, np.newaxis] / 2 - box_results.center[:, :, 1]) / (\n",
    "    image_height[:, np.newaxis] / 2\n",
    ")\n",
    "np.stack([width_ratio, height_ratio], axis=2)"
   ]
  },
  {
   "cell_type": "code",
   "execution_count": 11,
   "metadata": {},
   "outputs": [
    {
     "name": "stderr",
     "output_type": "stream",
     "text": [
      "/workspaces/dataeval/prototype/boxstats.py:507: RuntimeWarning: overflow encountered in cast\n",
      "  output[result] = (box_stats[stat] / image_divide[:, np.newaxis]).astype(np.float16)\n"
     ]
    },
    {
     "data": {
      "text/plain": [
       "StatsRatioOutput(density=array([0.111 , 0.1111, 0.6   , 0.4224], dtype=float16), count_density=array([18.02 ,  9.   ,  5.   ,  2.367], dtype=float16), center_ratio=array([[[-0.8     ,  0.62    ],\n",
       "        [-0.2     ,  0.16    ],\n",
       "        [-1.      ,  1.      ]],\n",
       "\n",
       "       [[-0.013336,  0.013336],\n",
       "        [-1.      ,  1.      ],\n",
       "        [-1.      ,  1.      ]],\n",
       "\n",
       "       [[-0.54    ,  0.6     ],\n",
       "        [-0.18    ,  0.1     ],\n",
       "        [-0.22    ,  0.22    ]],\n",
       "\n",
       "       [[-0.2     ,  0.1333  ],\n",
       "        [-1.      ,  1.      ],\n",
       "        [-1.      ,  1.      ]]], dtype=float16), width_ratio=array([[0.15  , 0.15  , 0.    ],\n",
       "       [0.3333, 0.    , 0.    ],\n",
       "       [0.32  , 0.49  , 0.36  ],\n",
       "       [0.6445, 0.    , 0.    ]], dtype=float16), height_ratio=array([[0.32  , 0.42  , 0.    ],\n",
       "       [0.3333, 0.    , 0.    ],\n",
       "       [0.32  , 0.67  , 0.47  ],\n",
       "       [0.656 , 0.    , 0.    ]], dtype=float16), size_ratio=array([[0.048 , 0.063 , 0.    ],\n",
       "       [0.1111, 0.    , 0.    ],\n",
       "       [0.1024, 0.3284, 0.1692],\n",
       "       [0.4224, 0.    , 0.    ]], dtype=float16), aspect_ratio_ratio=array([[0.4688, 0.3572,    nan],\n",
       "       [1.    ,    nan,    nan],\n",
       "       [1.    , 0.7314, 0.766 ],\n",
       "       [0.983 ,    nan,    nan]], dtype=float16), brightness_ratio=array([[4.801e+00, 4.801e+00,       nan],\n",
       "       [      inf,       nan,       nan],\n",
       "       [3.154e+04, 3.154e+04, 3.154e+04],\n",
       "       [7.416e+03,       nan,       nan]], dtype=float16), blurriness_ratio=array([[1.214, 1.001,   nan],\n",
       "       [1.657,   nan,   nan],\n",
       "       [1.071, 1.125, 1.189],\n",
       "       [1.494,   nan,   nan]], dtype=float16), contrast_ratio=array([[0.8945, 1.001 ,    nan],\n",
       "       [0.437 ,    nan,    nan],\n",
       "       [0.799 , 0.7085, 0.5923],\n",
       "       [0.4226,    nan,    nan]], dtype=float16), darkness_ratio=array([[3.082e+00, 2.098e+00,       nan],\n",
       "       [3.182e+02,       nan,       nan],\n",
       "       [5.685e+02, 6.300e+02, 7.995e+02],\n",
       "       [2.318e+03,       nan,       nan]], dtype=float16), zeros_ratio=array([[0.    , 0.    ,    nan],\n",
       "       [0.    ,    nan,    nan],\n",
       "       [0.75  , 0.597 , 0.3403],\n",
       "       [0.6636,    nan,    nan]], dtype=float16), mean_ratio=array([[1.105, 1.105,   nan],\n",
       "       [2.28 ,   nan,   nan],\n",
       "       [1.242, 1.242, 1.242],\n",
       "       [2.367,   nan,   nan]], dtype=float16), std_ratio=array([[1.067, 1.067,   nan],\n",
       "       [1.144,   nan,   nan],\n",
       "       [1.021, 1.021, 1.021],\n",
       "       [1.34 ,   nan,   nan]], dtype=float16), var_ratio=array([[1.141, 1.141,   nan],\n",
       "       [1.308,   nan,   nan],\n",
       "       [1.044, 1.044, 1.044],\n",
       "       [1.794,   nan,   nan]], dtype=float16), skew_ratio=array([[ 0.393  ,  0.393  ,      nan],\n",
       "       [-0.01738,      nan,      nan],\n",
       "       [ 0.633  ,  0.633  ,  0.633  ],\n",
       "       [ 0.4226 ,      nan,      nan]], dtype=float16), kurtosis_ratio=array([[-4.316 , -4.316 ,     nan],\n",
       "       [-0.3389,     nan,     nan],\n",
       "       [ 1.719 ,  1.719 ,  1.719 ],\n",
       "       [-0.1175,     nan,     nan]], dtype=float16), entropy_ratio=array([[0.   , 0.   ,   nan],\n",
       "       [2.246,   nan,   nan],\n",
       "       [1.135, 1.135, 1.135],\n",
       "       [2.06 ,   nan,   nan]], dtype=float16))"
      ]
     },
     "execution_count": 11,
     "metadata": {},
     "output_type": "execute_result"
    }
   ],
   "source": [
    "from boxstats import box_image_ratio_stats\n",
    "\n",
    "box_image_ratio_stats(box_results, img_results)"
   ]
  },
  {
   "cell_type": "code",
   "execution_count": null,
   "metadata": {},
   "outputs": [],
   "source": []
  }
 ],
 "metadata": {
  "kernelspec": {
   "display_name": ".venv-3.11",
   "language": "python",
   "name": "python3"
  },
  "language_info": {
   "codemirror_mode": {
    "name": "ipython",
    "version": 3
   },
   "file_extension": ".py",
   "mimetype": "text/x-python",
   "name": "python",
   "nbconvert_exporter": "python",
   "pygments_lexer": "ipython3",
   "version": "3.11.10"
  }
 },
 "nbformat": 4,
 "nbformat_minor": 2
}
