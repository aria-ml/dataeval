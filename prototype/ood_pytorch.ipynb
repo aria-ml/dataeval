{
 "cells": [
  {
   "cell_type": "code",
   "execution_count": 1,
   "metadata": {},
   "outputs": [],
   "source": [
    "import numpy as np\n",
    "\n",
    "from dataeval.detectors.ood.ae_torch import OOD_AE\n",
    "from dataeval.utils.torch.datasets import MNIST\n",
    "from dataeval.utils.torch.models import AriaAutoencoder, AE_torch"
   ]
  },
  {
   "cell_type": "code",
   "execution_count": 2,
   "metadata": {},
   "outputs": [
    {
     "name": "stdout",
     "output_type": "stream",
     "text": [
      "Files already downloaded and verified\n"
     ]
    }
   ],
   "source": [
    "# Load in the training mnist dataset and use the first 4000\n",
    "train_ds = MNIST(root=\"./data/\", train=True, download=True, size=4000, unit_interval=True, channels=\"channels_first\")\n",
    "\n",
    "# Split out the images and labels\n",
    "images, labels = train_ds.data, train_ds.targets\n",
    "input_shape = images[0].shape"
   ]
  },
  {
   "cell_type": "code",
   "execution_count": 3,
   "metadata": {},
   "outputs": [],
   "source": [
    "detectors = [\n",
    "    OOD_AE(AE_torch(input_shape=(1,28,28))),\n",
    "]\n"
   ]
  },
  {
   "cell_type": "code",
   "execution_count": 4,
   "metadata": {},
   "outputs": [],
   "source": [
    "# import torch\n",
    "# import os\n",
    "\n",
    "# new_ood = OOD_AE(AriaAutoencoder(channels=1))\n",
    "\n",
    "# # model = TheModelClass(*args, **kwargs)\n",
    "# # optimizer = TheOptimizerClass(*args, **kwargs)\n",
    "# checkpoint_path = os.getcwd()+'/OOD_20241111_0942.pt'\n",
    "\n",
    "# checkpoint = torch.load(checkpoint_path, weights_only=True)\n",
    "# new_ood.model.load_state_dict(checkpoint['model_state_dict'])\n",
    "# # optimizer.load_state_dict(checkpoint['optimizer_state_dict'])\n",
    "# epoch = checkpoint['epoch']\n",
    "# # loss = checkpoint['loss']\n",
    "\n",
    "# # new_ood.model.eval()\n",
    "# detectors = [new_ood]"
   ]
  },
  {
   "cell_type": "code",
   "execution_count": null,
   "metadata": {},
   "outputs": [
    {
     "name": "stdout",
     "output_type": "stream",
     "text": [
      "Training OOD_AE...\n",
      "Epoch 0...\n",
      "loss: 0.138, |grad|: 0.375\n",
      "loss: 0.049, |grad|: 0.239\n",
      "loss: 0.031, |grad|: 0.256\n",
      "loss: 0.019, |grad|: 0.186\n",
      "loss: 0.019, |grad|: 0.133\n",
      "loss: 0.016, |grad|: 0.117\n",
      "loss: 0.020, |grad|: 0.146\n",
      "loss: 0.016, |grad|: 0.149\n",
      "Epoch 1...\n",
      "loss: 0.012, |grad|: 0.099\n",
      "loss: 0.012, |grad|: 0.081\n",
      "loss: 0.014, |grad|: 0.132\n",
      "loss: 0.012, |grad|: 0.122\n",
      "loss: 0.011, |grad|: 0.086\n",
      "loss: 0.013, |grad|: 0.138\n",
      "loss: 0.013, |grad|: 0.115\n",
      "loss: 0.011, |grad|: 0.076\n",
      "Epoch 2...\n",
      "loss: 0.009, |grad|: 0.076\n",
      "loss: 0.008, |grad|: 0.094\n",
      "loss: 0.007, |grad|: 0.058\n",
      "loss: 0.009, |grad|: 0.105\n",
      "loss: 0.009, |grad|: 0.094\n",
      "loss: 0.010, |grad|: 0.099\n",
      "loss: 0.011, |grad|: 0.115\n",
      "loss: 0.011, |grad|: 0.089\n",
      "Epoch 3...\n",
      "loss: 0.009, |grad|: 0.100\n",
      "loss: 0.007, |grad|: 0.073\n",
      "loss: 0.007, |grad|: 0.072\n",
      "loss: 0.007, |grad|: 0.079\n",
      "loss: 0.008, |grad|: 0.079\n",
      "loss: 0.007, |grad|: 0.061\n",
      "loss: 0.009, |grad|: 0.117\n",
      "loss: 0.009, |grad|: 0.080\n",
      "Epoch 4...\n",
      "loss: 0.006, |grad|: 0.055\n",
      "loss: 0.008, |grad|: 0.105\n",
      "loss: 0.006, |grad|: 0.074\n",
      "loss: 0.006, |grad|: 0.073\n",
      "loss: 0.007, |grad|: 0.078\n",
      "loss: 0.007, |grad|: 0.071\n",
      "loss: 0.007, |grad|: 0.104\n",
      "loss: 0.008, |grad|: 0.082\n"
     ]
    }
   ],
   "source": [
    "for detector in detectors:\n",
    "    print(f\"Training {detector.__class__.__name__}...\")\n",
    "    detector.fit(images, threshold_perc=99, epochs=1, verbose=True)"
   ]
  },
  {
   "cell_type": "code",
   "execution_count": 6,
   "metadata": {},
   "outputs": [
    {
     "name": "stdout",
     "output_type": "stream",
     "text": [
      "Files already downloaded and verified\n"
     ]
    }
   ],
   "source": [
    "corruption = MNIST(\n",
    "    root=\"./data\",\n",
    "    train=True,\n",
    "    download=False,\n",
    "    size=2000,\n",
    "    unit_interval=True,\n",
    "    channels=\"channels_first\",\n",
    "    corruption=\"translate\",\n",
    ")\n",
    "corrupted_images = corruption.data"
   ]
  },
  {
   "cell_type": "code",
   "execution_count": 7,
   "metadata": {},
   "outputs": [],
   "source": [
    "# from importlib import reload\n",
    "# import dataeval.detectors.drift.torch\n",
    "\n",
    "# reload(dataeval.detectors.drift.torch)"
   ]
  },
  {
   "cell_type": "code",
   "execution_count": 8,
   "metadata": {},
   "outputs": [
    {
     "name": "stdout",
     "output_type": "stream",
     "text": [
      "[('OOD_AE', 0.01)]\n",
      "[('OOD_AE', 0.778)]\n"
     ]
    }
   ],
   "source": [
    "print([(type(detector).__name__, np.mean(detector.predict(images).is_ood)) for detector in detectors])\n",
    "print([(type(detector).__name__, np.mean(detector.predict(corrupted_images).is_ood)) for detector in detectors])"
   ]
  },
  {
   "cell_type": "code",
   "execution_count": null,
   "metadata": {},
   "outputs": [],
   "source": []
  },
  {
   "cell_type": "code",
   "execution_count": null,
   "metadata": {},
   "outputs": [],
   "source": [
    "# epoch = 250\n",
    "\n",
    "# # torch.save({\n",
    "# #             'epoch': epoch,\n",
    "# #             'model_state_dict': detector.model.state_dict(),\n",
    "# #             'optimizer_state_dict': detector. optimizer.state_dict(),\n",
    "# #             'loss': loss,\n",
    "# #             ...\n",
    "# #             }, PATH)\n",
    "\n",
    "# checkpoint_path = os.getcwd()+'/OOD_20241111_0942.pt'\n",
    "\n",
    "# torch.save({\n",
    "#             'epoch': epoch,\n",
    "#             'model_state_dict': detector.model.state_dict(),\n",
    "#             }, checkpoint_path)"
   ]
  },
  {
   "cell_type": "code",
   "execution_count": null,
   "metadata": {},
   "outputs": [],
   "source": [
    "import torch\n",
    "import os\n",
    "\n",
    "new_ood = OOD_AE(AriaAutoencoder(channels=1))\n",
    "\n",
    "checkpoint_path = os.getcwd()+'/OOD_20241111_0942.pt'\n",
    "\n",
    "checkpoint = torch.load(checkpoint_path, weights_only=True)\n",
    "new_ood.model.load_state_dict(checkpoint['model_state_dict'])\n",
    "# optimizer.load_state_dict(checkpoint['optimizer_state_dict'])\n",
    "epoch = checkpoint['epoch']\n",
    "# loss = checkpoint['loss']\n",
    "\n",
    "new_ood.model.eval()"
   ]
  },
  {
   "cell_type": "code",
   "execution_count": null,
   "metadata": {},
   "outputs": [],
   "source": [
    "for n, o in zip(new_ood.model.parameters(), detector.model.parameters()):\n",
    "    print((n==o).all())"
   ]
  },
  {
   "cell_type": "code",
   "execution_count": null,
   "metadata": {},
   "outputs": [],
   "source": [
    "detectors = [new_ood]"
   ]
  },
  {
   "cell_type": "code",
   "execution_count": null,
   "metadata": {},
   "outputs": [],
   "source": []
  }
 ],
 "metadata": {
  "kernelspec": {
   "display_name": ".venv-3.11",
   "language": "python",
   "name": "python3"
  },
  "language_info": {
   "codemirror_mode": {
    "name": "ipython",
    "version": 3
   },
   "file_extension": ".py",
   "mimetype": "text/x-python",
   "name": "python",
   "nbconvert_exporter": "python",
   "pygments_lexer": "ipython3",
   "version": "3.11.10"
  }
 },
 "nbformat": 4,
 "nbformat_minor": 2
}
