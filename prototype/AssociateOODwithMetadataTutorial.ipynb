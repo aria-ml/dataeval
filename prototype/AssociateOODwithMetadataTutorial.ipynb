{
 "cells": [
  {
   "cell_type": "markdown",
   "metadata": {},
   "source": [
    "# Tutorial on exploring out-of-distribution examples using metadata.\n"
   ]
  },
  {
   "cell_type": "markdown",
   "metadata": {},
   "source": [
    "## _Problem Statement_\n",
    "\n",
    "In computer vision tasks like **image classification** and **object detection**, when OOD examples are detected, there are two things we might like to know about them. First of all, looking at each example as an individual, what makes it stand out from the reference dataset? Second, as a population, what about them has shifted the most relative to the reference dataset? Metadata can help address both of these things.\n",
    "\n",
    "For the first, we can look at the values of each metadata feature of each example, and find which lies furthest out in the tails of the reference distribution. Since we are interested in extreme values, we should take the median of each reference feature, and then find the absolute deviation of each OOD example's from that median. (We can store the sign if we wish, but we should evaluate significance in terms of absolute deviation). In order to compare between features, we will normalize deviations by the inter-quartile range of each feature's reference distribution.\n",
    "\n",
    "For the second, we can compare the distribution of each feature to the reference using the Kolmogorov-Smirnov test. For features which show a statistically significant difference, we can use the Wasserstein to measure it (again, normalized by the IQR of the reference).\n"
   ]
  },
  {
   "cell_type": "markdown",
   "metadata": {},
   "source": [
    "### _When to use_\n",
    "\n",
    "When OOD examples have been detected, e.g. by the DataEval `OOD_AE` class or similar, the tools developed here should be used to try to learn more about specifically what image properties move each image out of the distribution.\n"
   ]
  },
  {
   "cell_type": "markdown",
   "metadata": {},
   "source": [
    "### _What you will need_\n",
    "\n",
    "1. A training image dataset with low percentage of known OOD images.\n",
    "2. A test image dataset to evaluate for OOD images.\n",
    "3. A python environment with the following packages installed:\n",
    "   - `dataeval[tensorflow]` or `dataeval[all]`\n",
    "   - `tensorflow-datasets`\n"
   ]
  },
  {
   "cell_type": "markdown",
   "metadata": {},
   "source": [
    "### _Setting up_\n",
    "\n",
    "Let's import the required libraries needed to set up a minimal working example\n"
   ]
  },
  {
   "cell_type": "code",
   "execution_count": 1,
   "metadata": {
    "tags": [
     "remove_cell"
    ]
   },
   "outputs": [],
   "source": [
    "# try:\n",
    "#     import google.colab  # noqa: F401\n",
    "\n",
    "#     # specify the version of DataEval (==X.XX.X) for versions other than the latest\n",
    "#     %pip install -q dataeval[tensorflow]\n",
    "# except Exception:\n",
    "#     pass\n",
    "\n",
    "# import os\n",
    "\n",
    "# os.environ[\"TF_CPP_MIN_LOG_LEVEL\"] = \"3\""
   ]
  },
  {
   "cell_type": "code",
   "execution_count": null,
   "metadata": {},
   "outputs": [],
   "source": [
    "import numpy as np\n",
    "import tensorflow as tf\n",
    "import tensorflow_datasets as tfds\n",
    "from metadata_utils import InstanceMNIST\n",
    "from metadata_utils import collate_fn_2 as collate_fn\n",
    "\n",
    "from dataeval.detectors.ood import OOD_AE, OOD_VAEGMM\n",
    "from dataeval.tensorflow.models import AE, VAEGMM, create_model\n",
    "\n",
    "from torch.utils.data import DataLoader\n",
    "\n",
    "tf.random.set_seed(108)\n",
    "tf.keras.utils.set_random_seed(408)"
   ]
  },
  {
   "cell_type": "markdown",
   "metadata": {},
   "source": [
    "## Load the data\n",
    "\n",
    "We will use InstanceMNIST, a PyTorch wrapper for the TensorFlow MNIST datasets, fgor this tutorial.\n"
   ]
  },
  {
   "cell_type": "code",
   "execution_count": null,
   "metadata": {},
   "outputs": [],
   "source": [
    "refdata = InstanceMNIST(None, split=\"train[:8000]\")\n",
    "valdata = InstanceMNIST(None, split=\"train[8000:16000]\")\n",
    "shiftdata = InstanceMNIST('translate', split=\"train[:8000]\")\n",
    "spikydata = InstanceMNIST('shot_noise', split=\"train[:8000]\")\n",
    "blurdata = InstanceMNIST('motion_blur', split=\"train[:8000]\")\n",
    "scaledata = InstanceMNIST('scale', split=\"train[:8000]\")\n"
   ]
  },
  {
   "cell_type": "code",
   "execution_count": 4,
   "metadata": {},
   "outputs": [],
   "source": [
    "big_batch_size = 2000\n",
    "collate_fn = collate_fn\n",
    "\n",
    "refbb = DataLoader(refdata, collate_fn=collate_fn, batch_size=big_batch_size)\n",
    "for images, labels, metadata in refbb:\n",
    "    break\n",
    "\n",
    "# Now adjust shape of images array. \n",
    "input_shape = (*images[0].shape, 1)\n",
    "bbshape = (*images.shape,1)\n",
    "images = images.reshape(bbshape).detach().numpy()"
   ]
  },
  {
   "cell_type": "markdown",
   "metadata": {},
   "source": [
    "## Initialize the model\n",
    "\n",
    "Now, lets look at how to use DataEval's OOD detection methods.  \n",
    "We will focus on a simple autoencoder network from our Alibi Detect provider.\n"
   ]
  },
  {
   "cell_type": "code",
   "execution_count": 5,
   "metadata": {},
   "outputs": [],
   "source": [
    "detectors = [\n",
    "    OOD_AE(create_model(AE, input_shape))] # implement as list to make it easy to try additional detectors. "
   ]
  },
  {
   "cell_type": "markdown",
   "metadata": {},
   "source": [
    "## Train the model\n",
    "\n",
    "Next we will train a model on the dataset.\n",
    "For better results, the epochs can be increased.\n",
    "We set the threshold to detect the most extreme 1% of training data as out-of-distribution. (Training may take several minutes.)\n"
   ]
  },
  {
   "cell_type": "code",
   "execution_count": null,
   "metadata": {},
   "outputs": [],
   "source": [
    "for detector in detectors:\n",
    "    print(f\"Training {detector.__class__.__name__}...\")\n",
    "    detector.fit(images, threshold_perc=99, epochs=12, verbose=True)"
   ]
  },
  {
   "cell_type": "markdown",
   "metadata": {},
   "source": [
    "## Test for OOD\n",
    "\n",
    "We have trained our detector on a dataset of digits.  \n",
    "What happens when we give it corrupted images of digits (which we expect to be \"OOD\")?\n"
   ]
  },
  {
   "cell_type": "code",
   "execution_count": 7,
   "metadata": {},
   "outputs": [],
   "source": [
    "corrbb = DataLoader(spikydata, collate_fn=collate_fn, batch_size=big_batch_size)\n",
    "for corrimages, corrlabels, corrmetadata in corrbb:\n",
    "    break\n",
    "\n",
    "# Now adjust shape of images array. \n",
    "bbshape = (*corrimages.shape,1)\n",
    "corrimages = corrimages.reshape(bbshape).detach().numpy()"
   ]
  },
  {
   "cell_type": "markdown",
   "metadata": {},
   "source": [
    "Now we evaluate the two datasets using the trained model.\n"
   ]
  },
  {
   "cell_type": "code",
   "execution_count": null,
   "metadata": {},
   "outputs": [],
   "source": [
    "[(type(detector).__name__, np.mean(detector.predict(images).is_ood)) for detector in detectors]"
   ]
  },
  {
   "cell_type": "code",
   "execution_count": null,
   "metadata": {},
   "outputs": [],
   "source": [
    "[(type(detector).__name__, np.mean(detector.predict(corrimages).is_ood)) for detector in detectors]"
   ]
  },
  {
   "cell_type": "markdown",
   "metadata": {},
   "source": [
    "### Results\n",
    "\n",
    "We can see that the Autoencoder based OOD detector was able to identify many of the shot_noise images as outliers.\n",
    "\n",
    "Depending on your needs, other outlier detectors may work better under specific conditions; you can add them to the detectors list.\n"
   ]
  },
  {
   "cell_type": "code",
   "execution_count": 10,
   "metadata": {},
   "outputs": [],
   "source": [
    "ood_detector = detectors[0]"
   ]
  },
  {
   "cell_type": "markdown",
   "metadata": {},
   "source": [
    "### Understand OOD using metadata\n",
    "\n",
    "We can now look at the metadata features for OOD examples, and find which metadata features are the most surprising for each one. The function [least_likely_features()](metadata_tools.py#least_likely_features) will do this for us.\n"
   ]
  },
  {
   "cell_type": "code",
   "execution_count": null,
   "metadata": {},
   "outputs": [],
   "source": [
    "from metadata_tools import least_likely_features\n",
    "od = least_likely_features(refdata, spikydata, ood_detector)\n"
   ]
  },
  {
   "cell_type": "markdown",
   "metadata": {},
   "source": [
    "We can also compare the distribution of each metadata feature to the reference. [ks_compare](metadata_tools.py#ks_compare) uses the Kolmogorov-Smirnov two-sample test to look for significant shifts of metadata features, and reports them in order of decreasing statitical significance. It also reports the Wasserstein distance between each pair of distributions, in units of the IQR of the reference.\n",
    "\n",
    "We compare first to the validation data, where we see no significant metadata shifts as expected.\n"
   ]
  },
  {
   "cell_type": "code",
   "execution_count": null,
   "metadata": {},
   "outputs": [],
   "source": [
    "from metadata_tools import ks_compare\n",
    "\n",
    "valbb = DataLoader(valdata, collate_fn=collate_fn, batch_size=big_batch_size)\n",
    "corr1bb = DataLoader(shiftdata, collate_fn=collate_fn, batch_size=big_batch_size)\n",
    "corr2bb = DataLoader(spikydata, collate_fn=collate_fn, batch_size=big_batch_size)\n",
    "corr3bb = DataLoader(blurdata, collate_fn=collate_fn, batch_size=big_batch_size)\n",
    "corr4bb = DataLoader(scaledata, collate_fn=collate_fn, batch_size=big_batch_size)\n",
    "\n",
    "print('identity')\n",
    "ks_compare(refbb, valbb);\n",
    "print('\\ntranslate')\n",
    "ks_compare(refbb, corr1bb);\n",
    "print('\\nshot_noise')\n",
    "ks_compare(refbb, corr2bb);\n",
    "print('\\nmotion_blur')\n",
    "ks_compare(refbb, corr3bb);\n",
    "print('\\nscale')\n",
    "ks_compare(refbb, corr4bb);"
   ]
  },
  {
   "cell_type": "markdown",
   "metadata": {},
   "source": [
    "### _Summary_\n",
    "\n",
    "We demonstrate a method for investigating individiual OOD examples using metadata, by finding which metadata feature is most unusual for each example, relative to the reference dataset.\n",
    "\n",
    "We also demonstrate a method for finding significant distributional shifts in metadata features, and display the p-values of these shifts. We also compute a measure of the magnitudes of distributional shifts, relative to the width of their reference distributions.\n"
   ]
  }
 ],
 "metadata": {
  "kernelspec": {
   "display_name": "3.11.9",
   "language": "python",
   "name": "python3"
  },
  "language_info": {
   "codemirror_mode": {
    "name": "ipython",
    "version": 3
   },
   "file_extension": ".py",
   "mimetype": "text/x-python",
   "name": "python",
   "nbconvert_exporter": "python",
   "pygments_lexer": "ipython3",
   "version": "3.11.9"
  },
  "orig_nbformat": 4
 },
 "nbformat": 4,
 "nbformat_minor": 2
}
