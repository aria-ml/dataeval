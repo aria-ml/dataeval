{
 "cells": [
  {
   "cell_type": "markdown",
   "metadata": {},
   "source": [
    "## Test Dataset splitting tools\n",
    "\n",
    "### Load metadata & labels (images are not necessary)\n"
   ]
  },
  {
   "cell_type": "code",
   "execution_count": 7,
   "metadata": {},
   "outputs": [],
   "source": [
    "import pandas as pd\n",
    "import numpy as np\n",
    "import split_dataset as split\n",
    "\n",
    "df_file = \"/mnt/nas_device_0/fmow/cleaned_trainval_labels.pkl\"\n",
    "df = pd.read_pickle(df_file)\n",
    "metadata = df.to_dict(orient=\"list\")\n",
    "labels = metadata.pop(\"category\")\n",
    "num_folds = 5"
   ]
  },
  {
   "cell_type": "markdown",
   "metadata": {},
   "source": [
    "For prototype, we want to check that three conditions are satisfied after splitting the dataset:\n",
    "\n",
    "- No leakage between train and validation splits\n",
    "- Stratified splits maintain the same (normalized) class frequency as the unsplit dataset\n",
    "- No \"group leakage\" between train and validation if groups are specified\n",
    "  - i.e. If \"Country Code\" is specified, images from the same country do not leak between train and validation sets\n"
   ]
  },
  {
   "cell_type": "code",
   "execution_count": 8,
   "metadata": {},
   "outputs": [],
   "source": [
    "def test_sample_leakage(splits):\n",
    "    test_inds = set(splits.get(\"test\", []))\n",
    "    print(\"\\nChecking for Sample Leakage\")\n",
    "    for foldname, folddict in splits.items():\n",
    "        if foldname == \"test\":\n",
    "            continue\n",
    "        train_inds = set(folddict[\"train\"])\n",
    "        val_inds = set(folddict[\"val\"])\n",
    "        assert test_inds.isdisjoint(train_inds), \"common elements between train and test\"\n",
    "        assert test_inds.isdisjoint(val_inds), \"common elements between val and test\"\n",
    "        assert val_inds.isdisjoint(train_inds), \"common elements between train and val\"\n",
    "        print(f\"{foldname} ok. No sample leakage detected\")\n",
    "\n",
    "\n",
    "def test_stratification(splits, all_labels):\n",
    "    unique_labels, label_counts = np.unique(all_labels, return_counts=True)\n",
    "    label_freq = label_counts / label_counts.sum()\n",
    "    test_inds = splits.get(\"test\")\n",
    "    print(\"\\nChecking label stratification\")\n",
    "    if test_inds is not None:\n",
    "        test_labels = all_labels[test_inds]\n",
    "        unique_test, test_counts = np.unique(test_labels, return_counts=True)\n",
    "        test_freq = test_counts / test_counts.sum()\n",
    "        assert len(unique_test) == len(unique_labels), \"Test set does not contain all labels\"\n",
    "        assert (unique_test == unique_labels).all(), \"Mismatch between test labels and all labels\"\n",
    "        assert np.allclose(test_freq, label_freq, rtol=0.05, atol=1/len(label_freq)), \"Test set difference greater than tolerance\"\n",
    "        print(\"Test split ok.\")\n",
    "    for foldname, folddict in splits.items():\n",
    "        if foldname == \"test\":\n",
    "            continue\n",
    "        train_labels = all_labels[folddict[\"train\"]]\n",
    "        unique_train, train_counts = np.unique(train_labels, return_counts=True)\n",
    "        train_freq = train_counts / train_counts.sum()\n",
    "        assert len(unique_train) == len(unique_labels), \"Test set does not contain all labels\"\n",
    "        assert (unique_train == unique_labels).all(), \"Mismatch between test labels and all labels\"\n",
    "        assert np.allclose(train_freq, label_freq, rtol=0.05), \"Test set difference greater than 5%\"\n",
    "        print(f\"{foldname} ok. Class frequencies match\")\n",
    "\n",
    "\n",
    "\n",
    "def test_group_leakage(splits, groups):\n",
    "    test_inds = splits.get(\"test\", [])\n",
    "    test_groups = set(groups[test_inds])\n",
    "    print(\"\\nChecking Group Leakage\")\n",
    "    for foldname, folddict in splits.items():\n",
    "        if foldname == \"test\": \n",
    "            continue\n",
    "        train_groups = set(groups[folddict[\"train\"]])\n",
    "        val_groups = set(groups[folddict[\"val\"]])\n",
    "        assert test_groups.isdisjoint(train_groups), \"common groups between train and test\"\n",
    "        assert test_groups.isdisjoint(val_groups),   \"common groups between val and test\"\n",
    "        assert val_groups.isdisjoint(train_groups),  \"common groups between train and val\"\n",
    "        print(f\"{foldname} ok. No group leakage detected\")\n"
   ]
  },
  {
   "cell_type": "markdown",
   "metadata": {},
   "source": [
    "### Test unstratified, ungrouped labels (Regular K-Fold)\n"
   ]
  },
  {
   "cell_type": "code",
   "execution_count": 9,
   "metadata": {},
   "outputs": [
    {
     "name": "stdout",
     "output_type": "stream",
     "text": [
      "\n",
      "Checking for Sample Leakage\n",
      "fold_0 ok. No sample leakage detected\n",
      "fold_1 ok. No sample leakage detected\n",
      "fold_2 ok. No sample leakage detected\n",
      "fold_3 ok. No sample leakage detected\n",
      "fold_4 ok. No sample leakage detected\n"
     ]
    }
   ],
   "source": [
    "vanilla_folds = split.split_dataset(labels=labels, num_folds=5, test_frac=0.15)\n",
    "test_sample_leakage(vanilla_folds)"
   ]
  },
  {
   "cell_type": "markdown",
   "metadata": {},
   "source": [
    "### Test unstratified, grouped labels (Group K-Fold)\n"
   ]
  },
  {
   "cell_type": "code",
   "execution_count": 10,
   "metadata": {},
   "outputs": [
    {
     "name": "stdout",
     "output_type": "stream",
     "text": [
      "\n",
      "Checking for Sample Leakage\n",
      "fold_0 ok. No sample leakage detected\n",
      "fold_1 ok. No sample leakage detected\n",
      "fold_2 ok. No sample leakage detected\n",
      "fold_3 ok. No sample leakage detected\n",
      "fold_4 ok. No sample leakage detected\n",
      "\n",
      "Checking Group Leakage\n",
      "fold_0 ok. No group leakage detected\n",
      "fold_1 ok. No group leakage detected\n",
      "fold_2 ok. No group leakage detected\n",
      "fold_3 ok. No group leakage detected\n",
      "fold_4 ok. No group leakage detected\n"
     ]
    }
   ],
   "source": [
    "grouped_folds = split.split_dataset(\n",
    "    labels=labels, num_folds=5, test_frac=0.15, split_on=[\"country_code\"], metadata=metadata)\n",
    "test_sample_leakage(grouped_folds)\n",
    "test_group_leakage(grouped_folds, np.array(metadata[\"country_code\"]))"
   ]
  },
  {
   "cell_type": "markdown",
   "metadata": {},
   "source": [
    "### Test stratified, ungrouped labels (Stratified K-Fold)\n"
   ]
  },
  {
   "cell_type": "code",
   "execution_count": 11,
   "metadata": {},
   "outputs": [
    {
     "name": "stdout",
     "output_type": "stream",
     "text": [
      "\n",
      "Checking for Sample Leakage\n",
      "fold_0 ok. No sample leakage detected\n",
      "fold_1 ok. No sample leakage detected\n",
      "fold_2 ok. No sample leakage detected\n",
      "fold_3 ok. No sample leakage detected\n",
      "fold_4 ok. No sample leakage detected\n",
      "\n",
      "Checking label stratification\n",
      "Test split ok.\n",
      "fold_0 ok. Class frequencies match\n",
      "fold_1 ok. Class frequencies match\n",
      "fold_2 ok. Class frequencies match\n",
      "fold_3 ok. Class frequencies match\n",
      "fold_4 ok. Class frequencies match\n"
     ]
    }
   ],
   "source": [
    "strat_folds = split.split_dataset(\n",
    "    labels=labels, num_folds=5, test_frac=0.15, stratified=True)\n",
    "test_sample_leakage(strat_folds)\n",
    "test_stratification(strat_folds, np.array(labels))"
   ]
  },
  {
   "cell_type": "markdown",
   "metadata": {},
   "source": [
    "### Test Stratified, Grouped Labels (Stratified Group K-Fold)\n",
    "\n",
    "We don't test stratified because we cannot guarantee that class labels will be identically\n",
    "stratified among groups. The results from stratified grouped k-fold are the best the splitting\n",
    "function can achieve.\n"
   ]
  },
  {
   "cell_type": "code",
   "execution_count": 12,
   "metadata": {},
   "outputs": [
    {
     "name": "stdout",
     "output_type": "stream",
     "text": [
      "\n",
      "Checking for Sample Leakage\n",
      "fold_0 ok. No sample leakage detected\n",
      "fold_1 ok. No sample leakage detected\n",
      "fold_2 ok. No sample leakage detected\n",
      "fold_3 ok. No sample leakage detected\n",
      "fold_4 ok. No sample leakage detected\n",
      "\n",
      "Checking Group Leakage\n",
      "fold_0 ok. No group leakage detected\n",
      "fold_1 ok. No group leakage detected\n",
      "fold_2 ok. No group leakage detected\n",
      "fold_3 ok. No group leakage detected\n",
      "fold_4 ok. No group leakage detected\n"
     ]
    }
   ],
   "source": [
    "strat_grouped = split.split_dataset(\n",
    "    labels=labels, \n",
    "    num_folds=5, \n",
    "    test_frac=0.15, \n",
    "    split_on=[\"country_code\"], \n",
    "    metadata=metadata, \n",
    "    stratified=True\n",
    ")\n",
    "test_sample_leakage(strat_grouped)\n",
    "test_group_leakage(strat_grouped, np.array(metadata[\"country_code\"]))"
   ]
  },
  {
   "cell_type": "code",
   "execution_count": null,
   "metadata": {},
   "outputs": [],
   "source": []
  }
 ],
 "metadata": {
  "kernelspec": {
   "display_name": "jatic",
   "language": "python",
   "name": "python3"
  },
  "language_info": {
   "codemirror_mode": {
    "name": "ipython",
    "version": 3
   },
   "file_extension": ".py",
   "mimetype": "text/x-python",
   "name": "python",
   "nbconvert_exporter": "python",
   "pygments_lexer": "ipython3",
   "version": "3.11.9"
  }
 },
 "nbformat": 4,
 "nbformat_minor": 2
}
