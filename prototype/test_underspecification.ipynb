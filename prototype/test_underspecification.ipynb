{
 "cells": [
  {
   "cell_type": "markdown",
   "metadata": {},
   "source": [
    "Lets test this with against a known example taken from scipy documentation\n",
    "Found at https://docs.scipy.org/doc/scipy/reference/generated/scipy.stats.spearmanr.html\n"
   ]
  },
  {
   "cell_type": "code",
   "execution_count": 1,
   "metadata": {},
   "outputs": [],
   "source": [
    "import numpy as np\n",
    "# total collagen (mg/g dry weight of liver)\n",
    "x = np.array([7.1, 7.1, 7.2, 8.3, 9.4, 10.5, 11.4])\n",
    "# free proline (μ mole/g dry weight of liver)\n",
    "y = np.array([2.8, 2.9, 2.8, 2.6, 3.5, 4.6, 5.0])"
   ]
  },
  {
   "cell_type": "markdown",
   "metadata": {},
   "source": [
    "Scipy implementation\n"
   ]
  },
  {
   "cell_type": "code",
   "execution_count": 2,
   "metadata": {},
   "outputs": [
    {
     "name": "stdout",
     "output_type": "stream",
     "text": [
      "Statistic: 2.1918, P value: 0.0913\n"
     ]
    }
   ],
   "source": [
    "from scipy import stats\n",
    "res = stats.spearmanr(x, y)\n",
    "dof = len(x)-2  # len(x) == len(y)\n",
    "dist = stats.t(df=dof)\n",
    "def statistic(x):  # explore all possible pairings by permuting `x`\n",
    "    rs = stats.spearmanr(x, y).statistic  # type: ignore\n",
    "    transformed = rs * np.sqrt(dof / ((rs+1.0)*(1.0-rs)))\n",
    "    return transformed\n",
    "ref = stats.permutation_test((x,), statistic, permutation_type='pairings')\n",
    "print(f\"Statistic: {ref.statistic:.4f}, P value: {ref.pvalue:.4f}\")\n"
   ]
  },
  {
   "cell_type": "markdown",
   "metadata": {},
   "source": [
    "Our Implementation\n"
   ]
  },
  {
   "cell_type": "code",
   "execution_count": 3,
   "metadata": {},
   "outputs": [
    {
     "name": "stdout",
     "output_type": "stream",
     "text": [
      "Statistic: 2.1918, P value: 0.0913\n"
     ]
    }
   ],
   "source": [
    "import underspecification as usp\n",
    "sprman = usp.spearman_test(x, y)\n",
    "print(f\"Statistic: {sprman['statistic']:.4f}, P value: {sprman['pvalue']:.4f}\")"
   ]
  },
  {
   "cell_type": "code",
   "execution_count": null,
   "metadata": {},
   "outputs": [],
   "source": []
  }
 ],
 "metadata": {
  "kernelspec": {
   "display_name": "jatic",
   "language": "python",
   "name": "python3"
  },
  "language_info": {
   "codemirror_mode": {
    "name": "ipython",
    "version": 3
   },
   "file_extension": ".py",
   "mimetype": "text/x-python",
   "name": "python",
   "nbconvert_exporter": "python",
   "pygments_lexer": "ipython3",
   "version": "3.11.9"
  }
 },
 "nbformat": 4,
 "nbformat_minor": 2
}
