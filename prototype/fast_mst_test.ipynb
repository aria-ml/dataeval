{
 "cells": [
  {
   "cell_type": "code",
   "execution_count": null,
   "metadata": {},
   "outputs": [],
   "source": [
    "import fast_mst as fm\n",
    "import matplotlib.pyplot as plt\n",
    "import numpy as np\n",
    "import sklearn.datasets as dsets\n",
    "from dataeval._internal.metrics.utils import minimum_spanning_tree as old_mst"
   ]
  },
  {
   "cell_type": "code",
   "execution_count": null,
   "metadata": {},
   "outputs": [],
   "source": [
    "small = np.load('./data/clusterable_data.npy')\n",
    "# Create scatter plot\n",
    "plt.figure(figsize=(20,20))\n",
    "plot_kwds = {\"alpha\": 0.5, \"s\": 50, \"linewidths\": 0}\n",
    "plt.scatter(small.T[0], small.T[1], **plot_kwds)\n",
    "plt.show()"
   ]
  },
  {
   "cell_type": "code",
   "execution_count": null,
   "metadata": {},
   "outputs": [],
   "source": [
    "small, small_label = dsets.make_circles(\n",
    "    n_samples=20000, factor=0.5, noise=0.05, random_state=30\n",
    ")\n",
    "# Create scatter plot\n",
    "plt.figure(figsize=(20,20))\n",
    "plot_kwds = {\"alpha\": 0.5, \"s\": 50, \"linewidths\": 0}\n",
    "plt.scatter(small.T[0], small.T[1], **plot_kwds)\n",
    "\n",
    "# Annotate each point in the scatter plot\n",
    "# that = np.concatenate(edge_points)\n",
    "# for i, (x, y) in enumerate(small[that,:2]):\n",
    "#     plt.annotate(str(that[i]), (x, y), textcoords=\"offset points\", xytext=(0, 1), ha=\"center\")\n",
    "\n",
    "plt.show()"
   ]
  },
  {
   "cell_type": "code",
   "execution_count": null,
   "metadata": {},
   "outputs": [],
   "source": [
    "blob, blob_label = dsets.make_blobs(  # type: ignore\n",
    "    n_samples=8000,\n",
    "    n_features=2,#048,\n",
    "    centers=4,\n",
    "    center_box=(-250,200),\n",
    "    cluster_std=35,\n",
    "    random_state=31,\n",
    ")\n",
    "blob2, blob_label2 = dsets.make_blobs(  # type: ignore\n",
    "    n_samples=1500,\n",
    "    n_features=2,#048,\n",
    "    centers=1,\n",
    "    center_box=(300,350),\n",
    "    cluster_std=50,\n",
    "    random_state=35,\n",
    ")\n",
    "blob3, blob_label3 = dsets.make_blobs(  # type: ignore\n",
    "    n_samples=500,\n",
    "    n_features=2,#048,\n",
    "    centers=1,\n",
    "    center_box=(-350,-400),\n",
    "    cluster_std=25,\n",
    "    random_state=33,\n",
    ")\n",
    "small = np.concatenate([blob,blob2,blob3])\n",
    "small_label = np.concatenate([blob_label, blob_label2+4, blob_label3+5])"
   ]
  },
  {
   "cell_type": "code",
   "execution_count": null,
   "metadata": {},
   "outputs": [],
   "source": [
    "# Mapping from labels to colors\n",
    "label_to_color = np.array([\"b\", \"r\", \"g\", \"y\", \"m\", 'c'])\n",
    "\n",
    "# Translate labels to colors using vectorized operation\n",
    "color_array = label_to_color[small_label]\n",
    "\n",
    "# Additional parameters for plotting\n",
    "plot_kwds = {\"alpha\": 0.5, \"s\": 50, \"linewidths\": 0}\n",
    "\n",
    "plt.figure(figsize=(20,20))\n",
    "\n",
    "# Create scatter plot\n",
    "plt.scatter(small.T[0], small.T[1], c=color_array, **plot_kwds)\n",
    "\n",
    "# Annotate each point in the scatter plot\n",
    "# check = np.nonzero(edge_points)[0]\n",
    "# for i, (x, y) in enumerate(small[check,:2]):\n",
    "#     plt.annotate(str(check[i]), (x, y), textcoords=\"offset points\", xytext=(0, 1), ha=\"center\")"
   ]
  },
  {
   "cell_type": "code",
   "execution_count": null,
   "metadata": {},
   "outputs": [],
   "source": [
    "neighbors, distances = fm.calculate_neighbor_distances(small, 20)"
   ]
  },
  {
   "cell_type": "code",
   "execution_count": null,
   "metadata": {},
   "outputs": [],
   "source": [
    "mst = fm.minimum_spanning_tree(small, neighbors, distances)"
   ]
  },
  {
   "cell_type": "code",
   "execution_count": null,
   "metadata": {},
   "outputs": [],
   "source": [
    "import matplotlib.pyplot as plt\n",
    "import matplotlib.collections as mc\n",
    "\n",
    "xs = small[:, 0]\n",
    "ys = small[:, 1]\n",
    "sources = mst[:, 0].astype(np.int64)\n",
    "targets = mst[:, 1].astype(np.int64)\n",
    "\n",
    "plt.figure(figsize=(20,16))\n",
    "plt.scatter(xs, ys, c=color_array, s=25, edgecolors=\"none\", linewidth=0)\n",
    "lc = mc.LineCollection(\n",
    "    list(zip(zip(xs[sources], ys[sources]), zip(xs[targets], ys[targets]))),\n",
    "    linewidth=1,\n",
    "    zorder=-1,\n",
    "    alpha=0.5,\n",
    "    color=\"k\",\n",
    ")\n",
    "ax = plt.gca()\n",
    "ax.add_collection(lc)\n",
    "ax.set_aspect(\"equal\")\n",
    "plt.subplots_adjust(0, 0, 1, 1)\n",
    "plt.axis(\"off\")\n",
    "\n",
    "# Annotate each point in the scatter plot\n",
    "# for i, (x, y) in enumerate(small[:,:2]):\n",
    "#     plt.annotate(str(i), (x, y), textcoords=\"offset points\", xytext=(0, 1), ha=\"center\")\n",
    "\n",
    "plt.show()"
   ]
  },
  {
   "cell_type": "code",
   "execution_count": null,
   "metadata": {},
   "outputs": [],
   "source": [
    "# This cell only exists for speed up comparison\n",
    "import time\n",
    "\n",
    "if small.shape[0] <= 10000:\n",
    "    print(f\"Comparison using (n_samples, n_features): {small.shape}\")\n",
    "    print(\"Old MST algorithm\")\n",
    "    start = time.time()\n",
    "    old_result = old_mst(small)\n",
    "    print((time.time()-start), \"secs\")\n",
    "\n",
    "    \n",
    "    print(\"New MST algorithm\")\n",
    "    start = time.time()\n",
    "    neighbors, distances = fm.calculate_neighbor_distances(small, 20)\n",
    "    new_result = fm.minimum_spanning_tree(small, neighbors, distances)\n",
    "    print((time.time()-start), \"secs\")"
   ]
  }
 ],
 "metadata": {
  "kernelspec": {
   "display_name": ".venv-3.11",
   "language": "python",
   "name": "python3"
  },
  "language_info": {
   "codemirror_mode": {
    "name": "ipython",
    "version": 3
   },
   "file_extension": ".py",
   "mimetype": "text/x-python",
   "name": "python",
   "nbconvert_exporter": "python",
   "pygments_lexer": "ipython3",
   "version": "3.11.10"
  }
 },
 "nbformat": 4,
 "nbformat_minor": 2
}
