{
 "cells": [
  {
   "cell_type": "code",
   "execution_count": null,
   "metadata": {},
   "outputs": [],
   "source": [
    "import matplotlib.pyplot as plt\n",
    "import numpy as np\n",
    "import pandas as pd\n",
    "import seaborn as sns\n",
    "from fmow_utils import extrinsic_factors_fmow, get_fmow_boxes, validate_dict\n",
    "from info_tools import compute_mutual_information, compute_mutual_information_class, str2int\n",
    "from intrinsic_factors import intrinsic_factors_xywh\n",
    "from matplotlib.patches import Rectangle\n",
    "\n",
    "demo_classes = [\n",
    "    \"airport\",\n",
    "    \"border_checkpoint\",\n",
    "    \"dam\",\n",
    "    \"factory_or_powerplant\",\n",
    "    \"hospital\",\n",
    "    \"military_facility\",\n",
    "    \"nuclear_powerplant\",\n",
    "    \"oil_or_gas_facility\",\n",
    "    \"place_of_worship\",\n",
    "    \"port\",\n",
    "    \"prison\",\n",
    "    \"stadium\",\n",
    "]"
   ]
  },
  {
   "cell_type": "code",
   "execution_count": null,
   "metadata": {},
   "outputs": [],
   "source": [
    "# load precomputed table of FMOW labels and metadata\n",
    "df = pd.read_pickle(\"../trainval_labels_factors.pkl\").reset_index(drop=True)\n",
    "df[\"class\"] = df[\"class\"].astype(\"category\")\n",
    "df[\"split\"] = df.split.astype(\"category\")\n",
    "df = df[df.country_code == \"USA\"]\n",
    "df = df[df[\"class\"].isin(demo_classes)]\n",
    "# xywh\n",
    "boxes = get_fmow_boxes(df)\n",
    "img_sizes = np.column_stack((df.img_width.to_numpy(), df.img_height.to_numpy()))\n",
    "\n",
    "# quick check for missing classes if we filter down to USA\n",
    "us_classes = list(df[\"class\"].unique())\n",
    "missing = [c for c in demo_classes if c not in us_classes]\n",
    "missing"
   ]
  },
  {
   "cell_type": "code",
   "execution_count": null,
   "metadata": {},
   "outputs": [],
   "source": [
    "# gather intrinsic factors (dataset agnostic)\n",
    "int_fmow, int_categorical = intrinsic_factors_xywh(boxes, img_sizes)\n",
    "\n",
    "# gather extrinsic factors (custom to FMOW)\n",
    "ext_fmow, ext_categorical = extrinsic_factors_fmow(df)\n",
    "\n",
    "# class labels\n",
    "cls_fmow = {\"class\": df[\"class\"].to_numpy()}\n",
    "cls_categorical = {\"class\": True}"
   ]
  },
  {
   "cell_type": "code",
   "execution_count": null,
   "metadata": {},
   "outputs": [],
   "source": [
    "# combine factors\n",
    "factors = {**cls_fmow, **int_fmow, **ext_fmow}\n",
    "is_categorical = {**cls_categorical, **int_categorical, **ext_categorical}\n",
    "\n",
    "# map non-numeric variables to integers\n",
    "factors = str2int(factors)\n",
    "\n",
    "# make sure we have a categorical label for each factor\n",
    "assert all(k in is_categorical for k in factors)\n",
    "# make sure each factor has the same number of entries\n",
    "validate_dict(factors)"
   ]
  },
  {
   "cell_type": "code",
   "execution_count": null,
   "metadata": {},
   "outputs": [],
   "source": [
    "# MI with one-hot classes\n",
    "mi, _vars = compute_mutual_information_class(factors, is_categorical)\n",
    "classes = np.unique(factors[\"class\"])\n",
    "\n",
    "f, ax = plt.subplots(figsize=(36, 12))\n",
    "cmap = sns.diverging_palette(220, 10, as_cmap=True)\n",
    "sns_plot = sns.heatmap(\n",
    "    mi.T,\n",
    "    cmap=cmap,\n",
    "    vmin=0,\n",
    "    vmax=1,\n",
    "    square=True,\n",
    "    linewidths=0.5,\n",
    "    cbar_kws={\"shrink\": 0.5, \"label\": \"Mutual Information [nat]\"},\n",
    "    xticklabels=classes,\n",
    "    yticklabels=_vars,\n",
    "    annot=True,\n",
    ")\n",
    "plt.xlabel(\"Class\")\n",
    "plt.tight_layout()"
   ]
  },
  {
   "cell_type": "code",
   "execution_count": null,
   "metadata": {},
   "outputs": [],
   "source": [
    "# MI between factors (all classes together)\n",
    "mi, _vars = compute_mutual_information(factors, is_categorical)\n",
    "f, ax = plt.subplots(figsize=(16, 12))\n",
    "mask = np.zeros_like(mi, dtype=np.bool_)\n",
    "mask[np.tril_indices_from(mask)] = True\n",
    "\n",
    "# Want diagonal elements as well\n",
    "mask[np.diag_indices_from(mask)] = True\n",
    "# Generate a custom diverging colormap\n",
    "cmap = sns.diverging_palette(220, 10, as_cmap=True)\n",
    "\n",
    "# Draw the heatmap with the mask and correct aspect ratio\n",
    "sns_plot = sns.heatmap(\n",
    "    mi[:, 1:],\n",
    "    mask=mask[:, 1:],\n",
    "    cmap=cmap,\n",
    "    vmin=0,\n",
    "    vmax=1,\n",
    "    square=True,\n",
    "    linewidths=0.5,\n",
    "    cbar_kws={\"shrink\": 0.5, \"label\": \"Mutual Information [nat]\"},\n",
    "    xticklabels=_vars[1:],\n",
    "    yticklabels=_vars,\n",
    "    annot=True,\n",
    ")\n",
    "# highlight correlation with class\n",
    "ax.add_patch(Rectangle((0, 0), mi.shape[0], 1, fill=False, edgecolor=\"k\", lw=4))\n",
    "plt.tight_layout()"
   ]
  }
 ],
 "metadata": {
  "kernelspec": {
   "display_name": "Python 3",
   "language": "python",
   "name": "python3"
  },
  "language_info": {
   "codemirror_mode": {
    "name": "ipython",
    "version": 3
   },
   "file_extension": ".py",
   "mimetype": "text/x-python",
   "name": "python",
   "nbconvert_exporter": "python",
   "pygments_lexer": "ipython3",
   "version": "3.11.9"
  }
 },
 "nbformat": 4,
 "nbformat_minor": 2
}
