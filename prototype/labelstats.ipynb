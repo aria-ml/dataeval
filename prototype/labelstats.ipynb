{
 "cells": [
  {
   "cell_type": "code",
   "execution_count": 1,
   "metadata": {},
   "outputs": [
    {
     "data": {
      "text/plain": [
       "[['cow'],\n",
       " ['pig', 'pig', 'sheep'],\n",
       " ['cow', 'sheep', 'horse', 'cow', 'sheep'],\n",
       " ['cow', 'pig', 'pig'],\n",
       " ['pig'],\n",
       " ['chicken', 'sheep', 'pig', 'sheep'],\n",
       " ['cow', 'sheep', 'chicken', 'pig'],\n",
       " ['pig'],\n",
       " ['pig', 'horse'],\n",
       " ['horse', 'chicken', 'cow', 'chicken', 'horse']]"
      ]
     },
     "execution_count": 1,
     "metadata": {},
     "output_type": "execute_result"
    }
   ],
   "source": [
    "import numpy as np\n",
    "\n",
    "label_array = np.random.choice(['horse', 'cow', 'sheep', 'pig', 'chicken'], 50)\n",
    "\n",
    "labels = []\n",
    "for i in range(10):\n",
    "    num_labels = np.random.choice(5) + 1\n",
    "    selected_labels = list(label_array[5*i:5*i+num_labels])\n",
    "    labels.append(selected_labels)\n",
    "\n",
    "labels"
   ]
  },
  {
   "cell_type": "code",
   "execution_count": 2,
   "metadata": {},
   "outputs": [
    {
     "name": "stderr",
     "output_type": "stream",
     "text": [
      "2024-09-20 20:27:42.165509: I tensorflow/core/util/port.cc:113] oneDNN custom operations are on. You may see slightly different numerical results due to floating-point round-off errors from different computation orders. To turn them off, set the environment variable `TF_ENABLE_ONEDNN_OPTS=0`.\n",
      "2024-09-20 20:27:42.167804: I external/local_tsl/tsl/cuda/cudart_stub.cc:31] Could not find cuda drivers on your machine, GPU will not be used.\n",
      "2024-09-20 20:27:42.194318: E external/local_xla/xla/stream_executor/cuda/cuda_dnn.cc:9261] Unable to register cuDNN factory: Attempting to register factory for plugin cuDNN when one has already been registered\n",
      "2024-09-20 20:27:42.194341: E external/local_xla/xla/stream_executor/cuda/cuda_fft.cc:607] Unable to register cuFFT factory: Attempting to register factory for plugin cuFFT when one has already been registered\n",
      "2024-09-20 20:27:42.195073: E external/local_xla/xla/stream_executor/cuda/cuda_blas.cc:1515] Unable to register cuBLAS factory: Attempting to register factory for plugin cuBLAS when one has already been registered\n",
      "2024-09-20 20:27:42.199484: I external/local_tsl/tsl/cuda/cudart_stub.cc:31] Could not find cuda drivers on your machine, GPU will not be used.\n",
      "2024-09-20 20:27:42.199894: I tensorflow/core/platform/cpu_feature_guard.cc:182] This TensorFlow binary is optimized to use available CPU instructions in performance-critical operations.\n",
      "To enable the following instructions: AVX2 AVX512F AVX512_VNNI FMA, in other operations, rebuild TensorFlow with the appropriate compiler flags.\n",
      "2024-09-20 20:27:42.824202: W tensorflow/compiler/tf2tensorrt/utils/py_utils.cc:38] TF-TRT Warning: Could not find TensorRT\n"
     ]
    },
    {
     "data": {
      "text/plain": [
       "LabelStatsOutput(label_counts_per_class=Counter({'pig': 9, 'cow': 6, 'sheep': 6, 'horse': 4, 'chicken': 4}), label_counts_per_image=array([1, 3, 5, 3, 1, 4, 4, 1, 2, 5]), image_counts_per_label=Counter({'pig': 7, 'cow': 5, 'sheep': 4, 'horse': 3, 'chicken': 3}), image_index_per_label=defaultdict(<class 'list'>, {'cow': [0, 2, 3, 6, 9], 'sheep': [1, 2, 5, 6], 'pig': [1, 3, 4, 5, 6, 7, 8], 'horse': [2, 8, 9], 'chicken': [5, 6, 9]}), total_label_count=29, total_class_count=5)"
      ]
     },
     "execution_count": 2,
     "metadata": {},
     "output_type": "execute_result"
    }
   ],
   "source": [
    "from labelstats import labelstats\n",
    "\n",
    "labelstats(labels)"
   ]
  }
 ],
 "metadata": {
  "kernelspec": {
   "display_name": ".venv-3.11",
   "language": "python",
   "name": "python3"
  },
  "language_info": {
   "codemirror_mode": {
    "name": "ipython",
    "version": 3
   },
   "file_extension": ".py",
   "mimetype": "text/x-python",
   "name": "python",
   "nbconvert_exporter": "python",
   "pygments_lexer": "ipython3",
   "version": "3.11.10"
  }
 },
 "nbformat": 4,
 "nbformat_minor": 2
}
