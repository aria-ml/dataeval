{
 "cells": [
  {
   "cell_type": "code",
   "execution_count": 92,
   "metadata": {},
   "outputs": [],
   "source": [
    "from importlib import reload\n",
    "\n",
    "import daml_stage\n",
    "import maite.protocols.image_classification as ic\n",
    "from torch.utils.data import Dataset\n",
    "from torchvision import transforms\n",
    "from torchvision.datasets import MNIST\n",
    "from torchvision.models import ResNet50_Weights, resnet50\n",
    "from utils import collect_metrics, collect_report_consumables, load_models_and_datasets, run_stages\n",
    "\n",
    "reload(daml_stage)\n",
    "from daml_stage import DamlStage"
   ]
  },
  {
   "cell_type": "markdown",
   "metadata": {},
   "source": [
    "# Configure Pipeline Stages\n"
   ]
  },
  {
   "cell_type": "markdown",
   "metadata": {},
   "source": [
    "### Panel Inputs\n"
   ]
  },
  {
   "cell_type": "code",
   "execution_count": 93,
   "metadata": {},
   "outputs": [],
   "source": [
    "# ['CenterNet V2', 'visdrone-yolo']\n",
    "model_str = \"CenterNet V2\"\n",
    "\n",
    "# ['dev_train', 'dev_val', 'dev_test', 'op_train', 'op_val', 'op_test']\n",
    "base_dataset_split = \"dev_train\"\n",
    "\n",
    "# ['dev_train', 'dev_val', 'dev_test', 'op_train', 'op_val', 'op_test']\n",
    "target_dataset_split = \"dev_val\"\n",
    "\n",
    "# ['Accuracy', 'mAP']\n",
    "metric = \"Accuracy\"\n",
    "\n",
    "# Float\n",
    "performance = 0.92\n",
    "\n",
    "# ['Base', 'Target', 'Both']\n",
    "linting = \"Both\"\n",
    "\n",
    "# ['Base', 'Target', 'Both']\n",
    "bias_detection = \"Both\"\n",
    "\n",
    "# ['Base', 'Target', 'Both']\n",
    "# feasibility = \"Target\"\n",
    "feasibility = \"Both\"\n",
    "\n",
    "# ['Base', 'Target', 'Both']\n",
    "sufficiency = \"Both\""
   ]
  },
  {
   "cell_type": "markdown",
   "metadata": {},
   "source": [
    "### Backend Script\n"
   ]
  },
  {
   "cell_type": "markdown",
   "metadata": {},
   "source": [
    "Load model\n"
   ]
  },
  {
   "cell_type": "code",
   "execution_count": 94,
   "metadata": {},
   "outputs": [
    {
     "data": {
      "text/plain": [
       "True"
      ]
     },
     "execution_count": 94,
     "metadata": {},
     "output_type": "execute_result"
    }
   ],
   "source": [
    "weights = ResNet50_Weights.DEFAULT\n",
    "preprocess = weights.transforms()\n",
    "model = resnet50(weights)\n",
    "isinstance(model, ic.Model)\n",
    "\n",
    "comparison_weights = ResNet50_Weights.IMAGENET1K_V1\n",
    "comparison_model = resnet50(comparison_weights)\n",
    "isinstance(comparison_model, ic.Model)"
   ]
  },
  {
   "cell_type": "markdown",
   "metadata": {},
   "source": [
    "Load datasets\n"
   ]
  },
  {
   "cell_type": "code",
   "execution_count": 95,
   "metadata": {},
   "outputs": [
    {
     "name": "stdout",
     "output_type": "stream",
     "text": [
      "Dev Dataset is MAITE compliant: True\n",
      "Op Dataset is MAITE compliant: True\n"
     ]
    }
   ],
   "source": [
    "class MaiteMNIST(Dataset):\n",
    "    def __init__(self, train=True, transforms=None):\n",
    "        self.dataset = MNIST(\"../data/\", train=train, transform=transforms, download=True)\n",
    "\n",
    "    def __len__(self):\n",
    "        return len(self.dataset)\n",
    "\n",
    "    def __getitem__(self, idx):\n",
    "        imgs, labels = self.dataset[idx]\n",
    "        return imgs, labels, {}\n",
    "\n",
    "\n",
    "t = transforms.Compose([transforms.Grayscale(num_output_channels=3), preprocess])\n",
    "dev_dataset = MaiteMNIST(True, t)\n",
    "op_dataset = MaiteMNIST(False, t)\n",
    "print(f\"Dev Dataset is MAITE compliant: {isinstance(dev_dataset, ic.Dataset)}\")\n",
    "print(f\"Op Dataset is MAITE compliant: {isinstance(op_dataset, ic.Dataset)}\")"
   ]
  },
  {
   "cell_type": "markdown",
   "metadata": {},
   "source": [
    "Create Stage\n"
   ]
  },
  {
   "cell_type": "code",
   "execution_count": 96,
   "metadata": {},
   "outputs": [],
   "source": [
    "ds = DamlStage(feasibility_opt=feasibility, bias_opt=bias_detection, linting_opt=linting, sufficiency_opt=sufficiency)\n",
    "stages = [ds]"
   ]
  },
  {
   "cell_type": "markdown",
   "metadata": {},
   "source": [
    "# Pipeline\n"
   ]
  },
  {
   "cell_type": "code",
   "execution_count": 97,
   "metadata": {},
   "outputs": [],
   "source": [
    "load_models_and_datasets(\n",
    "    dev_dataset=dev_dataset,\n",
    "    op_dataset=op_dataset,\n",
    "    model=model,\n",
    "    comparison_model=comparison_model,\n",
    "    target_performance=performance,\n",
    "    stages=stages,\n",
    ")"
   ]
  },
  {
   "cell_type": "code",
   "execution_count": 98,
   "metadata": {},
   "outputs": [
    {
     "name": "stdout",
     "output_type": "stream",
     "text": [
      "Cache miss\n"
     ]
    }
   ],
   "source": [
    "run_stages(stages=stages)"
   ]
  },
  {
   "cell_type": "code",
   "execution_count": 99,
   "metadata": {},
   "outputs": [
    {
     "name": "stdout",
     "output_type": "stream",
     "text": [
      "Returning metrics\n"
     ]
    },
    {
     "data": {
      "text/plain": [
       "{'dev_train': {'ber': 0.27, 'ber_lower': 0.147005976119332, 'bias': 0.5},\n",
       " 'op_val': {'ber': 0.33, 'ber_lower': 0.18375981682120068, 'bias': 0.5}}"
      ]
     },
     "execution_count": 99,
     "metadata": {},
     "output_type": "execute_result"
    }
   ],
   "source": [
    "collect_metrics(stages=stages)"
   ]
  },
  {
   "cell_type": "code",
   "execution_count": 100,
   "metadata": {},
   "outputs": [
    {
     "name": "stdout",
     "output_type": "stream",
     "text": [
      "Returning Gradient parameters\n"
     ]
    },
    {
     "data": {
      "text/plain": [
       "{'dev_train': {'ber': 0.27, 'ber_lower': 0.147005976119332, 'bias': 0.5},\n",
       " 'op_val': {'ber': 0.33, 'ber_lower': 0.18375981682120068, 'bias': 0.5}}"
      ]
     },
     "execution_count": 100,
     "metadata": {},
     "output_type": "execute_result"
    }
   ],
   "source": [
    "collect_report_consumables(stages=stages)"
   ]
  }
 ],
 "metadata": {
  "kernelspec": {
   "display_name": "Python 3",
   "language": "python",
   "name": "python3"
  },
  "language_info": {
   "codemirror_mode": {
    "name": "ipython",
    "version": 3
   },
   "file_extension": ".py",
   "mimetype": "text/x-python",
   "name": "python",
   "nbconvert_exporter": "python",
   "pygments_lexer": "ipython3",
   "version": "3.11.7"
  }
 },
 "nbformat": 4,
 "nbformat_minor": 2
}
