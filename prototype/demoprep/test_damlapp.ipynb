{
 "cells": [
  {
   "cell_type": "code",
   "execution_count": null,
   "metadata": {},
   "outputs": [],
   "source": [
    "import json\n",
    "import warnings\n",
    "from importlib import reload\n",
    "\n",
    "import maite.protocols.image_classification as ic\n",
    "import pandas as pd\n",
    "import test_stages.daml_test_stage\n",
    "from torch.utils.data import Dataset\n",
    "from torchvision import transforms\n",
    "from torchvision.datasets import MNIST\n",
    "from torchvision.models import ResNet50_Weights, resnet50\n",
    "from utils import collect_metrics, collect_report_consumables, load_models_and_datasets, run_stages\n",
    "\n",
    "reload(test_stages.daml_test_stage)\n",
    "\n",
    "from test_stages.daml_test_stage import DamlTestStage\n",
    "\n",
    "warnings.filterwarnings(\"ignore\")"
   ]
  },
  {
   "cell_type": "markdown",
   "metadata": {},
   "source": [
    "# Configure Pipeline Stages\n"
   ]
  },
  {
   "cell_type": "markdown",
   "metadata": {},
   "source": [
    "### Panel Inputs\n",
    "\n",
    "Based directly off of Panel mockup. Values expected to change\n"
   ]
  },
  {
   "cell_type": "code",
   "execution_count": null,
   "metadata": {},
   "outputs": [],
   "source": [
    "# ['Accuracy', 'mAP']\n",
    "metric = \"Accuracy\"\n",
    "\n",
    "# Float\n",
    "performance = 0.92"
   ]
  },
  {
   "cell_type": "markdown",
   "metadata": {},
   "source": [
    "Load model\n"
   ]
  },
  {
   "cell_type": "code",
   "execution_count": null,
   "metadata": {},
   "outputs": [],
   "source": [
    "# Mock model\n",
    "weights = ResNet50_Weights.DEFAULT\n",
    "preprocess = weights.transforms()\n",
    "model = resnet50(weights)\n",
    "isinstance(model, ic.Model)  # Not sure where Maite Protocol check is\n",
    "\n",
    "# Mock model with different weights\n",
    "comparison_weights = ResNet50_Weights.IMAGENET1K_V1\n",
    "comparison_model = resnet50(comparison_weights)\n",
    "isinstance(comparison_model, ic.Model)  # Not sure where in Maite Protocol check is"
   ]
  },
  {
   "cell_type": "markdown",
   "metadata": {},
   "source": [
    "Load datasets\n"
   ]
  },
  {
   "cell_type": "code",
   "execution_count": null,
   "metadata": {},
   "outputs": [],
   "source": [
    "# FMOW was too large for testing\n",
    "class MaiteMNIST(Dataset):\n",
    "    def __init__(self, train=True, transforms=None):\n",
    "        self.dataset = MNIST(\"../data/\", train=train, transform=transforms, download=True)\n",
    "\n",
    "    def __len__(self):\n",
    "        return len(self.dataset)\n",
    "\n",
    "    def __getitem__(self, idx):\n",
    "        imgs, labels = self.dataset[idx]\n",
    "        return imgs, labels, {}\n",
    "\n",
    "\n",
    "# ResNet50 wants 3 channels, MNIST is 1\n",
    "t = transforms.Compose([transforms.Grayscale(num_output_channels=3), preprocess])\n",
    "dev_dataset = MaiteMNIST(True, t)\n",
    "op_dataset = MaiteMNIST(False, t)\n",
    "print(f\"Dev Dataset is MAITE compliant: {isinstance(dev_dataset, ic.Dataset)}\")\n",
    "print(f\"Op Dataset is MAITE compliant: {isinstance(op_dataset, ic.Dataset)}\")"
   ]
  },
  {
   "cell_type": "code",
   "execution_count": null,
   "metadata": {},
   "outputs": [],
   "source": [
    "sample_config_json = '{\"dev\": [\"image properties\", \"visual quality\", \"duplicates\", \"outliers\", \"balance\", \"coverage\", \"parity\", \"feasibility\", \"sufficiency\"], \"op\": [\"image properties\", \"visual quality\", \"duplicates\", \"outliers\", \"balance\", \"coverage\", \"parity\", \"drift\", \"out-of-distribution\"]}'\n",
    "# sample_config_json = '{\"dev\": [\"image properties\", \"duplicates\", \"outliers\", \"balance\", \"coverage\", \"feasibility\", \"sufficiency\"], \"op\": [\"image properties\", \"visual quality\", \"outliers\", \"balance\", \"parity\", \"drift\", \"out-of-distribution\"]}'\n",
    "config_json = json.loads(sample_config_json)"
   ]
  },
  {
   "cell_type": "markdown",
   "metadata": {},
   "source": [
    "Create Stage\n"
   ]
  },
  {
   "cell_type": "code",
   "execution_count": null,
   "metadata": {},
   "outputs": [],
   "source": [
    "ds = DamlTestStage(config_json=config_json)\n",
    "stages = [ds]"
   ]
  },
  {
   "cell_type": "markdown",
   "metadata": {},
   "source": [
    "# Pipeline\n"
   ]
  },
  {
   "cell_type": "code",
   "execution_count": null,
   "metadata": {},
   "outputs": [],
   "source": [
    "load_models_and_datasets(\n",
    "    dev_dataset=dev_dataset,\n",
    "    op_dataset=op_dataset,\n",
    "    model=model,\n",
    "    comparison_model=comparison_model,\n",
    "    target_performance=performance,\n",
    "    stages=stages,\n",
    ")"
   ]
  },
  {
   "cell_type": "code",
   "execution_count": null,
   "metadata": {},
   "outputs": [],
   "source": [
    "run_stages(stages=stages)"
   ]
  },
  {
   "cell_type": "code",
   "execution_count": null,
   "metadata": {},
   "outputs": [],
   "source": [
    "df = collect_metrics(stages=stages)\n",
    "print(df)\n",
    "pd.Series(df)"
   ]
  },
  {
   "cell_type": "code",
   "execution_count": null,
   "metadata": {},
   "outputs": [],
   "source": [
    "collect_report_consumables(stages=stages)"
   ]
  }
 ],
 "metadata": {
  "kernelspec": {
   "display_name": "Python 3",
   "language": "python",
   "name": "python3"
  },
  "language_info": {
   "codemirror_mode": {
    "name": "ipython",
    "version": 3
   },
   "file_extension": ".py",
   "mimetype": "text/x-python",
   "name": "python",
   "nbconvert_exporter": "python",
   "pygments_lexer": "ipython3",
   "version": "3.11.7"
  }
 },
 "nbformat": 4,
 "nbformat_minor": 2
}
