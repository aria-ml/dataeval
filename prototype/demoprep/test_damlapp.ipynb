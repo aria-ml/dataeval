{
 "cells": [
  {
   "cell_type": "code",
   "execution_count": 1,
   "metadata": {},
   "outputs": [
    {
     "name": "stderr",
     "output_type": "stream",
     "text": [
      "2024-06-20 17:31:55.916662: I external/local_tsl/tsl/cuda/cudart_stub.cc:31] Could not find cuda drivers on your machine, GPU will not be used.\n",
      "2024-06-20 17:31:55.945179: E external/local_xla/xla/stream_executor/cuda/cuda_dnn.cc:9261] Unable to register cuDNN factory: Attempting to register factory for plugin cuDNN when one has already been registered\n",
      "2024-06-20 17:31:55.945201: E external/local_xla/xla/stream_executor/cuda/cuda_fft.cc:607] Unable to register cuFFT factory: Attempting to register factory for plugin cuFFT when one has already been registered\n",
      "2024-06-20 17:31:55.946052: E external/local_xla/xla/stream_executor/cuda/cuda_blas.cc:1515] Unable to register cuBLAS factory: Attempting to register factory for plugin cuBLAS when one has already been registered\n",
      "2024-06-20 17:31:55.950499: I external/local_tsl/tsl/cuda/cudart_stub.cc:31] Could not find cuda drivers on your machine, GPU will not be used.\n",
      "2024-06-20 17:31:55.951263: I tensorflow/core/platform/cpu_feature_guard.cc:182] This TensorFlow binary is optimized to use available CPU instructions in performance-critical operations.\n",
      "To enable the following instructions: AVX2 FMA, in other operations, rebuild TensorFlow with the appropriate compiler flags.\n",
      "2024-06-20 17:31:56.755147: W tensorflow/compiler/tf2tensorrt/utils/py_utils.cc:38] TF-TRT Warning: Could not find TensorRT\n"
     ]
    }
   ],
   "source": [
    "import json\n",
    "import warnings\n",
    "from importlib import reload\n",
    "\n",
    "import daml_stage\n",
    "import maite.protocols.image_classification as ic\n",
    "import pandas as pd\n",
    "from torch.utils.data import Dataset\n",
    "from torchvision import transforms\n",
    "from torchvision.datasets import MNIST\n",
    "from torchvision.models import ResNet50_Weights, resnet50\n",
    "from utils import collect_metrics, collect_report_consumables, load_models_and_datasets, run_stages\n",
    "\n",
    "reload(daml_stage)\n",
    "\n",
    "from daml_stage import DamlTestStage\n",
    "\n",
    "warnings.filterwarnings(\"ignore\")"
   ]
  },
  {
   "cell_type": "markdown",
   "metadata": {},
   "source": [
    "# Configure Pipeline Stages\n"
   ]
  },
  {
   "cell_type": "markdown",
   "metadata": {},
   "source": [
    "### Panel Inputs\n",
    "\n",
    "Based directly off of Panel mockup. Values expected to change\n"
   ]
  },
  {
   "cell_type": "code",
   "execution_count": 2,
   "metadata": {},
   "outputs": [],
   "source": [
    "# ['CenterNet V2', 'visdrone-yolo']\n",
    "model_str = \"CenterNet V2\"\n",
    "\n",
    "# ['dev_train', 'dev_val', 'dev_test', 'op_train', 'op_val', 'op_test']\n",
    "base_dataset_split = \"dev_train\"\n",
    "\n",
    "# ['dev_train', 'dev_val', 'dev_test', 'op_train', 'op_val', 'op_test']\n",
    "target_dataset_split = \"dev_val\"\n",
    "\n",
    "# ['Accuracy', 'mAP']\n",
    "metric = \"Accuracy\"\n",
    "\n",
    "# Float\n",
    "performance = 0.92\n",
    "\n",
    "# ['Base', 'Target', 'Both']\n",
    "linting = \"Both\"\n",
    "\n",
    "# ['Base', 'Target', 'Both']\n",
    "bias_detection = \"Both\"\n",
    "\n",
    "# ['Base', 'Target', 'Both']\n",
    "# feasibility = \"Target\"\n",
    "feasibility = \"Both\"\n",
    "\n",
    "# ['Base', 'Target', 'Both']\n",
    "sufficiency = \"Both\"\n",
    "\n",
    "# [\"AE\", \"VAE\", \"VAEGMM\"]\n",
    "outlier_detection = \"AE\""
   ]
  },
  {
   "cell_type": "markdown",
   "metadata": {},
   "source": [
    "### Backend Script\n",
    "\n",
    "A script must be used to convert the Panel config file into usable models, datasets, and TestStages\n"
   ]
  },
  {
   "cell_type": "markdown",
   "metadata": {},
   "source": [
    "Load model\n"
   ]
  },
  {
   "cell_type": "code",
   "execution_count": 3,
   "metadata": {},
   "outputs": [
    {
     "data": {
      "text/plain": [
       "True"
      ]
     },
     "execution_count": 3,
     "metadata": {},
     "output_type": "execute_result"
    }
   ],
   "source": [
    "# Mock model\n",
    "weights = ResNet50_Weights.DEFAULT\n",
    "preprocess = weights.transforms()\n",
    "model = resnet50(weights)\n",
    "isinstance(model, ic.Model)  # Not sure where Maite Protocol check is\n",
    "\n",
    "# Mock model with different weights\n",
    "comparison_weights = ResNet50_Weights.IMAGENET1K_V1\n",
    "comparison_model = resnet50(comparison_weights)\n",
    "isinstance(comparison_model, ic.Model)  # Not sure where in Maite Protocol check is"
   ]
  },
  {
   "cell_type": "markdown",
   "metadata": {},
   "source": [
    "Load datasets\n"
   ]
  },
  {
   "cell_type": "code",
   "execution_count": 4,
   "metadata": {},
   "outputs": [
    {
     "name": "stdout",
     "output_type": "stream",
     "text": [
      "Dev Dataset is MAITE compliant: True\n",
      "Op Dataset is MAITE compliant: True\n"
     ]
    }
   ],
   "source": [
    "# FMOW was too large for testing\n",
    "class MaiteMNIST(Dataset):\n",
    "    def __init__(self, train=True, transforms=None):\n",
    "        self.dataset = MNIST(\"../data/\", train=train, transform=transforms, download=True)\n",
    "\n",
    "    def __len__(self):\n",
    "        return len(self.dataset)\n",
    "\n",
    "    def __getitem__(self, idx):\n",
    "        imgs, labels = self.dataset[idx]\n",
    "        return imgs, labels, {}\n",
    "\n",
    "\n",
    "# ResNet50 wants 3 channels, MNIST is 1\n",
    "t = transforms.Compose([transforms.Grayscale(num_output_channels=3), preprocess])\n",
    "dev_dataset = MaiteMNIST(True, t)\n",
    "op_dataset = MaiteMNIST(False, t)\n",
    "print(f\"Dev Dataset is MAITE compliant: {isinstance(dev_dataset, ic.Dataset)}\")\n",
    "print(f\"Op Dataset is MAITE compliant: {isinstance(op_dataset, ic.Dataset)}\")"
   ]
  },
  {
   "cell_type": "code",
   "execution_count": 5,
   "metadata": {},
   "outputs": [],
   "source": [
    "sample_config_json = '{\"development\": [\"image properties\", \"visual quality\", \"duplicates\", \"outliers\", \"balance\", \"coverage\", \"parity\", \"feasibility\", \"sufficiency\"], \"operational\": [\"image properties\", \"visual quality\", \"duplicates\", \"outliers\", \"balance\", \"coverage\", \"parity\", \"drift\", \"out-of-distribution\"]}'\n",
    "config_json = json.loads(sample_config_json)"
   ]
  },
  {
   "cell_type": "markdown",
   "metadata": {},
   "source": [
    "Create Stage\n"
   ]
  },
  {
   "cell_type": "code",
   "execution_count": 6,
   "metadata": {},
   "outputs": [],
   "source": [
    "ds = DamlTestStage(config_json=config_json)\n",
    "stages = [ds]"
   ]
  },
  {
   "cell_type": "markdown",
   "metadata": {},
   "source": [
    "# Pipeline\n"
   ]
  },
  {
   "cell_type": "code",
   "execution_count": 7,
   "metadata": {},
   "outputs": [],
   "source": [
    "load_models_and_datasets(\n",
    "    dev_dataset=dev_dataset,\n",
    "    op_dataset=op_dataset,\n",
    "    model=model,\n",
    "    comparison_model=comparison_model,\n",
    "    target_performance=performance,\n",
    "    stages=stages,\n",
    ")"
   ]
  },
  {
   "cell_type": "code",
   "execution_count": 8,
   "metadata": {},
   "outputs": [
    {
     "name": "stderr",
     "output_type": "stream",
     "text": [
      "100%|██████████| 100/100 [00:01<00:00, 59.11it/s]\n"
     ]
    },
    {
     "name": "stdout",
     "output_type": "stream",
     "text": [
      "Saved development data\n"
     ]
    },
    {
     "name": "stderr",
     "output_type": "stream",
     "text": [
      "100%|██████████| 100/100 [00:01<00:00, 79.74it/s]\n"
     ]
    },
    {
     "name": "stdout",
     "output_type": "stream",
     "text": [
      "Saved operational data\n",
      "Cache hit\n",
      "{'development': {'balance': {'classes': [], 'factors': []}, 'coverage': {'coverage': 0.9}, 'duplicates': {}, 'feasibility': {'ber': 0.18, 'ber_lower': 0.095, 'max_accuracy': 0.82}, 'image properties': {}, 'outliers': {}, 'parity': {'parity': 0.25}, 'sufficiency': {'comp_model': [2, 3, 4], 'model': [1, 2, 3], 'steps': [1, 2, 3]}, 'visual quality': {}}, 'operational': {'balance': {'classes': [], 'factors': []}, 'coverage': {'coverage': 0.9}, 'drift': {'cvm': {'is_drift': False, 'pvalue': 0.6, 'val': 0.4}, 'ks': {'is_drift': True, 'pvalue': 0.8, 'val': 0.1}, 'mmd': {'is_drift': False, 'pvalue': 1.0, 'val': 0.7}}, 'duplicates': {}, 'image properties': {}, 'out-of-distribution': {}, 'outliers': {}, 'parity': {'parity': 0.25}, 'visual quality': {}}}\n"
     ]
    }
   ],
   "source": [
    "run_stages(stages=stages)"
   ]
  },
  {
   "cell_type": "code",
   "execution_count": 9,
   "metadata": {},
   "outputs": [
    {
     "name": "stdout",
     "output_type": "stream",
     "text": [
      "Returning metrics\n"
     ]
    },
    {
     "ename": "KeyError",
     "evalue": "'count'",
     "output_type": "error",
     "traceback": [
      "\u001b[0;31m---------------------------------------------------------------------------\u001b[0m",
      "\u001b[0;31mKeyError\u001b[0m                                  Traceback (most recent call last)",
      "Cell \u001b[0;32mIn[9], line 1\u001b[0m\n\u001b[0;32m----> 1\u001b[0m df \u001b[38;5;241m=\u001b[39m \u001b[43mcollect_metrics\u001b[49m\u001b[43m(\u001b[49m\u001b[43mstages\u001b[49m\u001b[38;5;241;43m=\u001b[39;49m\u001b[43mstages\u001b[49m\u001b[43m)\u001b[49m\n\u001b[1;32m      2\u001b[0m \u001b[38;5;28mprint\u001b[39m(df)\n\u001b[1;32m      3\u001b[0m pd\u001b[38;5;241m.\u001b[39mSeries(df)\n",
      "File \u001b[0;32m/workspaces/daml/prototype/demoprep/utils.py:32\u001b[0m, in \u001b[0;36mcollect_metrics\u001b[0;34m(stages)\u001b[0m\n\u001b[1;32m     30\u001b[0m return_dict \u001b[38;5;241m=\u001b[39m {}\n\u001b[1;32m     31\u001b[0m \u001b[38;5;28;01mfor\u001b[39;00m stage \u001b[38;5;129;01min\u001b[39;00m stages:\n\u001b[0;32m---> 32\u001b[0m     return_dict\u001b[38;5;241m.\u001b[39mupdate(\u001b[43mstage\u001b[49m\u001b[38;5;241;43m.\u001b[39;49m\u001b[43mcollect_metrics\u001b[49m\u001b[43m(\u001b[49m\u001b[43m)\u001b[49m)\n\u001b[1;32m     33\u001b[0m \u001b[38;5;28;01mreturn\u001b[39;00m return_dict\n",
      "File \u001b[0;32m/workspaces/daml/prototype/demoprep/daml_stage.py:281\u001b[0m, in \u001b[0;36mDamlTestStage.collect_metrics\u001b[0;34m(self)\u001b[0m\n\u001b[1;32m    279\u001b[0m name \u001b[38;5;241m=\u001b[39m short_name_key\u001b[38;5;241m.\u001b[39mget(dataset_name, \u001b[38;5;124m\"\u001b[39m\u001b[38;5;124m\"\u001b[39m)\n\u001b[1;32m    280\u001b[0m linting_rollup \u001b[38;5;241m=\u001b[39m \u001b[38;5;28mself\u001b[39m\u001b[38;5;241m.\u001b[39mcreate_linting_rollup(dataset, name)\n\u001b[0;32m--> 281\u001b[0m bias_rollup \u001b[38;5;241m=\u001b[39m \u001b[38;5;28;43mself\u001b[39;49m\u001b[38;5;241;43m.\u001b[39;49m\u001b[43mcreate_bias_rollup\u001b[49m\u001b[43m(\u001b[49m\u001b[43mdataset\u001b[49m\u001b[43m,\u001b[49m\u001b[43m \u001b[49m\u001b[43mname\u001b[49m\u001b[43m)\u001b[49m\n\u001b[1;32m    282\u001b[0m feasibility_rollup \u001b[38;5;241m=\u001b[39m \u001b[38;5;28mself\u001b[39m\u001b[38;5;241m.\u001b[39mcreate_feasibility_rollup(dataset, name)\n\u001b[1;32m    283\u001b[0m sufficiency_rollup \u001b[38;5;241m=\u001b[39m \u001b[38;5;28mself\u001b[39m\u001b[38;5;241m.\u001b[39mcreate_sufficiency_rollup(dataset, name)\n",
      "File \u001b[0;32m/workspaces/daml/prototype/demoprep/daml_stage.py:242\u001b[0m, in \u001b[0;36mDamlTestStage.create_bias_rollup\u001b[0;34m(self, results, dataset)\u001b[0m\n\u001b[1;32m    239\u001b[0m percent \u001b[38;5;241m=\u001b[39m \u001b[38;5;241m0.10\u001b[39m\n\u001b[1;32m    241\u001b[0m coverage \u001b[38;5;241m=\u001b[39m results[\u001b[38;5;124m\"\u001b[39m\u001b[38;5;124mcoverage\u001b[39m\u001b[38;5;124m\"\u001b[39m]\n\u001b[0;32m--> 242\u001b[0m cov_count \u001b[38;5;241m=\u001b[39m \u001b[43mcoverage\u001b[49m\u001b[43m[\u001b[49m\u001b[38;5;124;43m\"\u001b[39;49m\u001b[38;5;124;43mcount\u001b[39;49m\u001b[38;5;124;43m\"\u001b[39;49m\u001b[43m]\u001b[49m\n\u001b[1;32m    243\u001b[0m cov_percent \u001b[38;5;241m=\u001b[39m cov_count \u001b[38;5;241m/\u001b[39m total\n\u001b[1;32m    245\u001b[0m rollup \u001b[38;5;241m=\u001b[39m {}\n",
      "\u001b[0;31mKeyError\u001b[0m: 'count'"
     ]
    }
   ],
   "source": [
    "df = collect_metrics(stages=stages)\n",
    "print(df)\n",
    "pd.Series(df)"
   ]
  },
  {
   "cell_type": "code",
   "execution_count": null,
   "metadata": {},
   "outputs": [],
   "source": [
    "collect_report_consumables(stages=stages)"
   ]
  }
 ],
 "metadata": {
  "kernelspec": {
   "display_name": "Python 3",
   "language": "python",
   "name": "python3"
  },
  "language_info": {
   "codemirror_mode": {
    "name": "ipython",
    "version": 3
   },
   "file_extension": ".py",
   "mimetype": "text/x-python",
   "name": "python",
   "nbconvert_exporter": "python",
   "pygments_lexer": "ipython3",
   "version": "3.11.7"
  }
 },
 "nbformat": 4,
 "nbformat_minor": 2
}
