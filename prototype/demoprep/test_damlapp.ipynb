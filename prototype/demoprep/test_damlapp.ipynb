{
 "cells": [
  {
   "cell_type": "code",
   "execution_count": 219,
   "metadata": {},
   "outputs": [],
   "source": [
    "import warnings\n",
    "from importlib import reload\n",
    "\n",
    "import daml_stage\n",
    "import maite.protocols.image_classification as ic\n",
    "from torch.utils.data import Dataset\n",
    "from torchvision import transforms\n",
    "from torchvision.datasets import MNIST\n",
    "from torchvision.models import ResNet50_Weights, resnet50\n",
    "from utils import collect_metrics, collect_report_consumables, load_models_and_datasets, run_stages\n",
    "\n",
    "reload(daml_stage)\n",
    "\n",
    "from daml_stage import DamlTestStage\n",
    "\n",
    "warnings.filterwarnings(\"ignore\")"
   ]
  },
  {
   "cell_type": "markdown",
   "metadata": {},
   "source": [
    "# Configure Pipeline Stages\n"
   ]
  },
  {
   "cell_type": "markdown",
   "metadata": {},
   "source": [
    "### Panel Inputs\n",
    "\n",
    "Based directly off of Panel mockup. Values expected to change\n"
   ]
  },
  {
   "cell_type": "code",
   "execution_count": 220,
   "metadata": {},
   "outputs": [],
   "source": [
    "# ['CenterNet V2', 'visdrone-yolo']\n",
    "model_str = \"CenterNet V2\"\n",
    "\n",
    "# ['dev_train', 'dev_val', 'dev_test', 'op_train', 'op_val', 'op_test']\n",
    "base_dataset_split = \"dev_train\"\n",
    "\n",
    "# ['dev_train', 'dev_val', 'dev_test', 'op_train', 'op_val', 'op_test']\n",
    "target_dataset_split = \"dev_val\"\n",
    "\n",
    "# ['Accuracy', 'mAP']\n",
    "metric = \"Accuracy\"\n",
    "\n",
    "# Float\n",
    "performance = 0.92\n",
    "\n",
    "# ['Base', 'Target', 'Both']\n",
    "linting = \"Both\"\n",
    "\n",
    "# ['Base', 'Target', 'Both']\n",
    "bias_detection = \"Both\"\n",
    "\n",
    "# ['Base', 'Target', 'Both']\n",
    "# feasibility = \"Target\"\n",
    "feasibility = \"Both\"\n",
    "\n",
    "# ['Base', 'Target', 'Both']\n",
    "sufficiency = \"Both\"\n",
    "\n",
    "# [\"AE\", \"VAE\", \"VAEGMM\"]\n",
    "outlier_detection = \"AE\""
   ]
  },
  {
   "cell_type": "markdown",
   "metadata": {},
   "source": [
    "### Backend Script\n",
    "\n",
    "A script must be used to convert the Panel config file into usable models, datasets, and TestStages\n"
   ]
  },
  {
   "cell_type": "markdown",
   "metadata": {},
   "source": [
    "Load model\n"
   ]
  },
  {
   "cell_type": "code",
   "execution_count": 221,
   "metadata": {},
   "outputs": [
    {
     "data": {
      "text/plain": [
       "True"
      ]
     },
     "execution_count": 221,
     "metadata": {},
     "output_type": "execute_result"
    }
   ],
   "source": [
    "# Mock model\n",
    "weights = ResNet50_Weights.DEFAULT\n",
    "preprocess = weights.transforms()\n",
    "model = resnet50(weights)\n",
    "isinstance(model, ic.Model)  # Not sure where Maite Protocol check is\n",
    "\n",
    "# Mock model with different weights\n",
    "comparison_weights = ResNet50_Weights.IMAGENET1K_V1\n",
    "comparison_model = resnet50(comparison_weights)\n",
    "isinstance(comparison_model, ic.Model)  # Not sure where in Maite Protocol check is"
   ]
  },
  {
   "cell_type": "markdown",
   "metadata": {},
   "source": [
    "Load datasets\n"
   ]
  },
  {
   "cell_type": "code",
   "execution_count": 222,
   "metadata": {},
   "outputs": [
    {
     "name": "stdout",
     "output_type": "stream",
     "text": [
      "Dev Dataset is MAITE compliant: True\n",
      "Op Dataset is MAITE compliant: True\n"
     ]
    }
   ],
   "source": [
    "# FMOW was too large for testing\n",
    "class MaiteMNIST(Dataset):\n",
    "    def __init__(self, train=True, transforms=None):\n",
    "        self.dataset = MNIST(\"../data/\", train=train, transform=transforms, download=True)\n",
    "\n",
    "    def __len__(self):\n",
    "        return len(self.dataset)\n",
    "\n",
    "    def __getitem__(self, idx):\n",
    "        imgs, labels = self.dataset[idx]\n",
    "        return imgs, labels, {}\n",
    "\n",
    "\n",
    "# ResNet50 wants 3 channels, MNIST is 1\n",
    "t = transforms.Compose([transforms.Grayscale(num_output_channels=3), preprocess])\n",
    "dev_dataset = MaiteMNIST(True, t)\n",
    "op_dataset = MaiteMNIST(False, t)\n",
    "print(f\"Dev Dataset is MAITE compliant: {isinstance(dev_dataset, ic.Dataset)}\")\n",
    "print(f\"Op Dataset is MAITE compliant: {isinstance(op_dataset, ic.Dataset)}\")"
   ]
  },
  {
   "cell_type": "markdown",
   "metadata": {},
   "source": [
    "Create Stage\n"
   ]
  },
  {
   "cell_type": "code",
   "execution_count": 223,
   "metadata": {},
   "outputs": [],
   "source": [
    "ds = DamlTestStage(\n",
    "    target_performance=0.90,\n",
    "    linting_options=None,\n",
    "    linting_dataset=[\"development\", \"operational\"],\n",
    "    bias_options=[\"coverage\", \"parity\", \"balance\"],\n",
    "    bias_dataset=[\"development\", \"operational\"],\n",
    "    drift=True,\n",
    "    ood_detection=True,\n",
    "    feasibility_dataset=[\"development\", \"operational\"],\n",
    "    sufficiency_dataset=[\"development\", \"operational\"],\n",
    "    model_name=\"model1\",\n",
    "    comparison_model_name=\"model2\",\n",
    ")\n",
    "stages = [ds]"
   ]
  },
  {
   "cell_type": "markdown",
   "metadata": {},
   "source": [
    "# Pipeline\n"
   ]
  },
  {
   "cell_type": "code",
   "execution_count": 224,
   "metadata": {},
   "outputs": [],
   "source": [
    "load_models_and_datasets(\n",
    "    dev_dataset=dev_dataset,\n",
    "    op_dataset=op_dataset,\n",
    "    model=model,\n",
    "    comparison_model=comparison_model,\n",
    "    target_performance=performance,\n",
    "    stages=stages,\n",
    ")"
   ]
  },
  {
   "cell_type": "code",
   "execution_count": 225,
   "metadata": {},
   "outputs": [
    {
     "name": "stdout",
     "output_type": "stream",
     "text": [
      "Cache hit\n",
      "{'development': {'balance': {'classes': [], 'factors': []}, 'ber': {'ber': 0.18, 'ber_lower': 0.095}, 'coverage': {'value': 0.9}, 'parity': {'value': 0.25}, 'sufficiency': {'comp_model': [2, 3, 4], 'model': [1, 2, 3], 'steps': [1, 2, 3]}}, 'ks': {'is_drift': False, 'pvalue': 0.8, 'val': 0.1}, 'mmd': {'is_drift': True, 'pvalue': 1.0, 'val': 0.7}, 'operational': {'balance': {'classes': [], 'factors': []}, 'ber': {'ber': 0.18, 'ber_lower': 0.095}, 'coverage': {'value': 0.9}, 'parity': {'value': 0.25}, 'sufficiency': {'comp_model': [2, 3, 4], 'model': [1, 2, 3], 'steps': [1, 2, 3]}}}\n"
     ]
    }
   ],
   "source": [
    "run_stages(stages=stages)"
   ]
  },
  {
   "cell_type": "code",
   "execution_count": 226,
   "metadata": {},
   "outputs": [
    {
     "name": "stdout",
     "output_type": "stream",
     "text": [
      "Returning metrics\n"
     ]
    },
    {
     "data": {
      "text/plain": [
       "{'development': {'ber': {'ber': 0.18, 'ber_lower': 0.095},\n",
       "  'coverage': {'value': 0.9},\n",
       "  'parity': {'value': 0.25},\n",
       "  'balance': {'factors': [], 'classes': []},\n",
       "  'sufficiency': {'model': [1, 2, 3],\n",
       "   'comp_model': [2, 3, 4],\n",
       "   'steps': [1, 2, 3]}},\n",
       " 'operational': {'ber': {'ber': 0.18, 'ber_lower': 0.095},\n",
       "  'coverage': {'value': 0.9},\n",
       "  'parity': {'value': 0.25},\n",
       "  'balance': {'factors': [], 'classes': []},\n",
       "  'sufficiency': {'model': [1, 2, 3],\n",
       "   'comp_model': [2, 3, 4],\n",
       "   'steps': [1, 2, 3]}},\n",
       " 'mmd': {'pvalue': 1.0, 'is_drift': True, 'val': 0.7},\n",
       " 'ks': {'pvalue': 0.8, 'is_drift': False, 'val': 0.1}}"
      ]
     },
     "execution_count": 226,
     "metadata": {},
     "output_type": "execute_result"
    }
   ],
   "source": [
    "collect_metrics(stages=stages)"
   ]
  },
  {
   "cell_type": "code",
   "execution_count": 227,
   "metadata": {},
   "outputs": [
    {
     "name": "stdout",
     "output_type": "stream",
     "text": [
      "Returning Gradient parameters\n"
     ]
    },
    {
     "data": {
      "text/plain": [
       "{'development': {'ber': {'ber': 0.18, 'ber_lower': 0.095},\n",
       "  'coverage': {'value': 0.9},\n",
       "  'parity': {'value': 0.25},\n",
       "  'balance': {'factors': [], 'classes': []},\n",
       "  'sufficiency': {'model': [1, 2, 3],\n",
       "   'comp_model': [2, 3, 4],\n",
       "   'steps': [1, 2, 3]}},\n",
       " 'operational': {'ber': {'ber': 0.18, 'ber_lower': 0.095},\n",
       "  'coverage': {'value': 0.9},\n",
       "  'parity': {'value': 0.25},\n",
       "  'balance': {'factors': [], 'classes': []},\n",
       "  'sufficiency': {'model': [1, 2, 3],\n",
       "   'comp_model': [2, 3, 4],\n",
       "   'steps': [1, 2, 3]}},\n",
       " 'mmd': {'pvalue': 1.0, 'is_drift': True, 'val': 0.7},\n",
       " 'ks': {'pvalue': 0.8, 'is_drift': False, 'val': 0.1}}"
      ]
     },
     "execution_count": 227,
     "metadata": {},
     "output_type": "execute_result"
    }
   ],
   "source": [
    "collect_report_consumables(stages=stages)"
   ]
  }
 ],
 "metadata": {
  "kernelspec": {
   "display_name": "Python 3",
   "language": "python",
   "name": "python3"
  },
  "language_info": {
   "codemirror_mode": {
    "name": "ipython",
    "version": 3
   },
   "file_extension": ".py",
   "mimetype": "text/x-python",
   "name": "python",
   "nbconvert_exporter": "python",
   "pygments_lexer": "ipython3",
   "version": "3.11.7"
  }
 },
 "nbformat": 4,
 "nbformat_minor": 2
}
