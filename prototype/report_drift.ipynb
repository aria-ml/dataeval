{
 "cells": [
  {
   "cell_type": "code",
   "execution_count": 7,
   "metadata": {},
   "outputs": [],
   "source": [
    "import numpy as np\n",
    "import pandas as pd\n",
    "from mnist import load_mnist\n",
    "\n",
    "from daml.metrics.drift import CVMDrift, KSDrift, MMDDrift"
   ]
  },
  {
   "cell_type": "code",
   "execution_count": 8,
   "metadata": {},
   "outputs": [
    {
     "name": "stdout",
     "output_type": "stream",
     "text": [
      "(1000, 28, 28)\n"
     ]
    }
   ],
   "source": [
    "# Create\n",
    "rng = np.random.default_rng(33)\n",
    "size = 1000\n",
    "\n",
    "test_images, labels = load_mnist(size)\n",
    "test_images = test_images / 255\n",
    "\n",
    "rng.shuffle(test_images)\n",
    "print(test_images.shape)"
   ]
  },
  {
   "cell_type": "code",
   "execution_count": 9,
   "metadata": {},
   "outputs": [],
   "source": [
    "ks = KSDrift(test_images)\n",
    "cvm = CVMDrift(test_images)\n",
    "mmd = MMDDrift(test_images)"
   ]
  },
  {
   "cell_type": "code",
   "execution_count": 10,
   "metadata": {},
   "outputs": [
    {
     "name": "stderr",
     "output_type": "stream",
     "text": [
      "/workspaces/daml/src/daml/_internal/metrics/drift/ks.py:99: RuntimeWarning: ks_2samp: Exact calculation unsuccessful. Switching to method=asymp.\n",
      "  dist[f], p_val[f] = ks_2samp(x_ref[:, f], x[:, f], alternative=self.alternative, method=\"exact\")\n"
     ]
    },
    {
     "name": "stdout",
     "output_type": "stream",
     "text": [
      "1\n"
     ]
    }
   ],
   "source": [
    "ksr = ks.predict(test_images * 1.01)\n",
    "cvmr = cvm.predict(test_images * 1.01)\n",
    "mmdr = mmd.predict(test_images * 1.01)\n",
    "\n",
    "any_drift = mmdr[\"is_drift\"] or cvmr[\"is_drift\"] or ksr[\"is_drift\"]\n",
    "print(any_drift)\n",
    "\n",
    "drift_preds = {\"Maximum Mean Discrepency\": mmdr, \"Cramér-von Mises\": cvmr, \"Kolmogorov-Smirnov\": ksr}"
   ]
  },
  {
   "cell_type": "code",
   "execution_count": 13,
   "metadata": {},
   "outputs": [],
   "source": [
    "from gradient.slide_deck.shapes import SubText, Table, Text, TextContent\n",
    "from gradient.slide_deck.slidedeck import DefaultGradientSlideLayouts\n",
    "\n",
    "\n",
    "def generate_drift_rollup(drift_preds: dict) -> bool:\n",
    "    return any(preds[\"is_drift\"] for preds in drift_preds.values())\n",
    "\n",
    "\n",
    "def generate_drift_report_slide_kwargs(drift_preds: dict) -> dict:\n",
    "    text = [\n",
    "        \"Operational dataset \",\n",
    "        SubText(f\"{'has' if any_drift else 'has not'}\", bold=True),\n",
    "        \" drifted from Development dataset\",\n",
    "    ]\n",
    "\n",
    "    drift_table = pd.DataFrame(\n",
    "        {\n",
    "            \"Method\": list(drift_preds),\n",
    "            \"Has drifted?\": [\"Yes\" if preds[\"is_drift\"] else \"No\" for preds in drift_preds.values()],\n",
    "            \"Test statistic\": [np.mean(preds[\"distance\"]) for preds in drift_preds.values()],\n",
    "            \"Threshold\": [preds[\"threshold\"] for preds in drift_preds.values()],\n",
    "            \"Significance\": [np.mean(preds[\"p_val\"]) for preds in drift_preds.values()],\n",
    "        }\n",
    "    )\n",
    "\n",
    "    kwargs = {\n",
    "        \"title\": \"Drift Detection: Summary\",\n",
    "        \"layout\": DefaultGradientSlideLayouts.CONTENT_DEFAULT,\n",
    "        \"placeholder_fillings\": [TextContent(lines=[Text(content=text)])],\n",
    "        \"additional_shapes\": [\n",
    "            Table(\n",
    "                dataframe=drift_table,\n",
    "                fontsize=16,\n",
    "                left=2.0,\n",
    "                top=2.0,\n",
    "                width=9.0,\n",
    "                height=4.0,\n",
    "            ),\n",
    "        ],\n",
    "    }\n",
    "    return kwargs"
   ]
  },
  {
   "cell_type": "code",
   "execution_count": 14,
   "metadata": {},
   "outputs": [
    {
     "data": {
      "text/plain": [
       "True"
      ]
     },
     "execution_count": 14,
     "metadata": {},
     "output_type": "execute_result"
    }
   ],
   "source": [
    "generate_drift_rollup(drift_preds)"
   ]
  },
  {
   "cell_type": "code",
   "execution_count": null,
   "metadata": {},
   "outputs": [],
   "source": [
    "from pathlib import Path\n",
    "\n",
    "from gradient.slide_deck.slidedeck import DEFAULT_GRADIENT_PRESENTATION_TEMPLATE_PATH, SlideDeck\n",
    "\n",
    "example_directory = Path.cwd() / \"report_drift_example\"\n",
    "example_directory.mkdir(parents=True, exist_ok=True)\n",
    "\n",
    "deck = SlideDeck(presentation_template_path=DEFAULT_GRADIENT_PRESENTATION_TEMPLATE_PATH)\n",
    "\n",
    "deck.add_slide(**generate_drift_report_slide_kwargs(drift_preds))\n",
    "\n",
    "deck.save(\n",
    "    output_directory=example_directory,\n",
    "    name=\"report_drift_example\",\n",
    ")"
   ]
  }
 ],
 "metadata": {
  "kernelspec": {
   "display_name": "Python 3",
   "language": "python",
   "name": "python3"
  },
  "language_info": {
   "codemirror_mode": {
    "name": "ipython",
    "version": 3
   },
   "file_extension": ".py",
   "mimetype": "text/x-python",
   "name": "python",
   "nbconvert_exporter": "python",
   "pygments_lexer": "ipython3",
   "version": "3.11.9"
  }
 },
 "nbformat": 4,
 "nbformat_minor": 2
}
