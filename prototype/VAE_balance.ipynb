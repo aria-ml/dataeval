{
 "cells": [
  {
   "cell_type": "code",
   "execution_count": 1,
   "metadata": {},
   "outputs": [
    {
     "name": "stderr",
     "output_type": "stream",
     "text": [
      "2025-01-15 17:57:27.682807: I tensorflow/core/util/port.cc:153] oneDNN custom operations are on. You may see slightly different numerical results due to floating-point round-off errors from different computation orders. To turn them off, set the environment variable `TF_ENABLE_ONEDNN_OPTS=0`.\n",
      "2025-01-15 17:57:27.690908: E external/local_xla/xla/stream_executor/cuda/cuda_fft.cc:485] Unable to register cuFFT factory: Attempting to register factory for plugin cuFFT when one has already been registered\n",
      "2025-01-15 17:57:27.700490: E external/local_xla/xla/stream_executor/cuda/cuda_dnn.cc:8454] Unable to register cuDNN factory: Attempting to register factory for plugin cuDNN when one has already been registered\n",
      "2025-01-15 17:57:27.703366: E external/local_xla/xla/stream_executor/cuda/cuda_blas.cc:1452] Unable to register cuBLAS factory: Attempting to register factory for plugin cuBLAS when one has already been registered\n",
      "2025-01-15 17:57:27.711001: I tensorflow/core/platform/cpu_feature_guard.cc:210] This TensorFlow binary is optimized to use available CPU instructions in performance-critical operations.\n",
      "To enable the following instructions: AVX2 AVX_VNNI FMA, in other operations, rebuild TensorFlow with the appropriate compiler flags.\n",
      "2025-01-15 17:57:28.359662: W tensorflow/compiler/tf2tensorrt/utils/py_utils.cc:38] TF-TRT Warning: Could not find TensorRT\n"
     ]
    }
   ],
   "source": [
    "import numpy as np\n",
    "from metadata_utils import InstanceMNIST\n",
    "from metadata_utils import collate_fn_2 as collate_fn\n",
    "\n",
    "from torch.utils.data import DataLoader\n",
    "\n",
    "import torch\n",
    "\n",
    "from torch.utils.data import DataLoader\n",
    "\n",
    "from metadata_utils import InstanceMNIST\n",
    "\n",
    "from dataeval.detectors.ood.vae import OOD_VAE\n",
    "from dataeval.utils.torch.models import  AE\n",
    "from dataeval.utils.dataset.datasets import MNIST\n",
    "\n",
    "from dataeval.metrics.bias import balance\n",
    "from dataeval.utils.metadata import preprocess\n",
    "\n",
    "from tqdm import tqdm\n",
    "import matplotlib.pyplot as plt\n",
    "\n",
    "device = \"cuda\" if torch.cuda.is_available() else \"cpu\"\n",
    "\n"
   ]
  },
  {
   "cell_type": "code",
   "execution_count": 2,
   "metadata": {},
   "outputs": [
    {
     "name": "stdout",
     "output_type": "stream",
     "text": [
      "train is True, MNIST_NUM_IMAGES: 60000\n",
      "train is False, MNIST_NUM_IMAGES: 10000\n"
     ]
    }
   ],
   "source": [
    "corruption_list = ['identity', 'translate', 'shot_noise', 'motion_blur', 'scale']\n",
    "\n",
    "mnist = InstanceMNIST(corruption_list, size=8000)\n",
    "mnist_val = InstanceMNIST('identity', train=False, size=8000)\n",
    "\n",
    "refdata = mnist.identity\n",
    "valdata = mnist_val.identity\n",
    "shiftdata = mnist.translate\n",
    "spikydata = mnist.shot_noise\n",
    "blurdata = mnist.motion_blur\n",
    "scaledata = mnist.scale\n",
    "\n"
   ]
  },
  {
   "cell_type": "code",
   "execution_count": 3,
   "metadata": {},
   "outputs": [
    {
     "name": "stdout",
     "output_type": "stream",
     "text": [
      "Files already downloaded and verified\n",
      "Files already downloaded and verified\n"
     ]
    }
   ],
   "source": [
    "# Load in the training mnist dataset and use the first 2000\n",
    "train_ds = MNIST(root=\"./data/\", train=True, download=True, size=2000, unit_interval=True, channels=\"channels_first\")\n",
    "val_ds = MNIST(root=\"./data/\", train=False, download=True, size=2000, unit_interval=True, channels=\"channels_first\")\n",
    "\n",
    "# Split out the images and labels\n",
    "images, labels = train_ds.data, train_ds.targets\n",
    "val_images, val_labels  = val_ds.data, val_ds.targets\n",
    "\n",
    "input_shape = images[0].shape"
   ]
  },
  {
   "cell_type": "code",
   "execution_count": 4,
   "metadata": {},
   "outputs": [],
   "source": [
    "# from metadata_tools import ks_compare\n",
    "\n",
    "big_batch_size = 2000\n",
    "collate_fn = collate_fn\n",
    "\n",
    "refbb = DataLoader(refdata, collate_fn=collate_fn, batch_size=big_batch_size)\n",
    "\n",
    "valbb = DataLoader(valdata, collate_fn=collate_fn, batch_size=big_batch_size)\n",
    "corr1bb = DataLoader(shiftdata, collate_fn=collate_fn, batch_size=big_batch_size)\n",
    "corr2bb = DataLoader(spikydata, collate_fn=collate_fn, batch_size=big_batch_size)\n",
    "corr3bb = DataLoader(blurdata, collate_fn=collate_fn, batch_size=big_batch_size)\n",
    "corr4bb = DataLoader(scaledata, collate_fn=collate_fn, batch_size=big_batch_size)\n"
   ]
  },
  {
   "cell_type": "code",
   "execution_count": 5,
   "metadata": {},
   "outputs": [],
   "source": [
    "for data, labels, md in valbb:\n",
    "    break"
   ]
  },
  {
   "cell_type": "code",
   "execution_count": 6,
   "metadata": {},
   "outputs": [
    {
     "name": "stderr",
     "output_type": "stream",
     "text": [
      "/workspaces/dataeval/src/dataeval/utils/metadata.py:413: UserWarning: A user defined binning was not provided for fill_frac. Using the uniform_width method to discretize the data. It is recommended that the user rerun and supply the desired bins using the continuous_factor_bins parameter.\n",
      "  warnings.warn(\n",
      "/workspaces/dataeval/src/dataeval/utils/metadata.py:413: UserWarning: A user defined binning was not provided for cm_y. Using the uniform_width method to discretize the data. It is recommended that the user rerun and supply the desired bins using the continuous_factor_bins parameter.\n",
      "  warnings.warn(\n",
      "/workspaces/dataeval/src/dataeval/utils/metadata.py:413: UserWarning: A user defined binning was not provided for random. Using the uniform_width method to discretize the data. It is recommended that the user rerun and supply the desired bins using the continuous_factor_bins parameter.\n",
      "  warnings.warn(\n",
      "/workspaces/dataeval/src/dataeval/utils/metadata.py:413: UserWarning: A user defined binning was not provided for spikiness. Using the uniform_width method to discretize the data. It is recommended that the user rerun and supply the desired bins using the continuous_factor_bins parameter.\n",
      "  warnings.warn(\n",
      "/workspaces/dataeval/src/dataeval/utils/metadata.py:413: UserWarning: A user defined binning was not provided for cm_x. Using the uniform_width method to discretize the data. It is recommended that the user rerun and supply the desired bins using the continuous_factor_bins parameter.\n",
      "  warnings.warn(\n"
     ]
    }
   ],
   "source": [
    "mdnf = preprocess(md, labels)"
   ]
  },
  {
   "cell_type": "code",
   "execution_count": 7,
   "metadata": {},
   "outputs": [],
   "source": [
    "# mbal = balance(mdpp) # takes 47 seconds\n"
   ]
  },
  {
   "cell_type": "code",
   "execution_count": 8,
   "metadata": {},
   "outputs": [
    {
     "data": {
      "text/plain": [
       "['fill_frac', 'cm_y', 'random', 'spikiness', 'cm_x']"
      ]
     },
     "execution_count": 8,
     "metadata": {},
     "output_type": "execute_result"
    }
   ],
   "source": [
    "mdnf.continuous_factor_names"
   ]
  },
  {
   "cell_type": "code",
   "execution_count": 9,
   "metadata": {},
   "outputs": [
    {
     "data": {
      "text/plain": [
       "['fill_frac',\n",
       " 'cm_y',\n",
       " 'width',\n",
       " 'y_ctr',\n",
       " 'isolated_pixels',\n",
       " 'random',\n",
       " 'spikiness',\n",
       " 'cm_x',\n",
       " 'height',\n",
       " 'x_ctr']"
      ]
     },
     "execution_count": 9,
     "metadata": {},
     "output_type": "execute_result"
    }
   ],
   "source": [
    "mdnf.discrete_factor_names"
   ]
  },
  {
   "cell_type": "code",
   "execution_count": 10,
   "metadata": {},
   "outputs": [],
   "source": [
    "mbalnf = balance(mdnf)"
   ]
  },
  {
   "cell_type": "code",
   "execution_count": 12,
   "metadata": {},
   "outputs": [
    {
     "data": {
      "image/png": "[encoded data removed]",
      "text/plain": [
       "<Figure size 1000x1000 with 2 Axes>"
      ]
     },
     "metadata": {},
     "output_type": "display_data"
    }
   ],
   "source": [
    "mbalnf.plot();"
   ]
  },
  {
   "cell_type": "code",
   "execution_count": 13,
   "metadata": {},
   "outputs": [],
   "source": [
    "import torch\n",
    "import torch.nn as nn\n",
    "import torch.nn.functional as F\n",
    "\n",
    "class VAE(nn.Module):\n",
    "    def __init__(self, input_dim=784, hidden_dim=400, latent_dim=20):\n",
    "        super().__init__()\n",
    "\n",
    "        # Encoder\n",
    "        self.fc1 = nn.Linear(input_dim, hidden_dim)\n",
    "        self.fc21 = nn.Linear(hidden_dim, latent_dim)  # Mean\n",
    "        self.fc22 = nn.Linear(hidden_dim, latent_dim)  # Log variance\n",
    "\n",
    "        # Decoder\n",
    "        self.fc3 = nn.Linear(latent_dim, hidden_dim)\n",
    "        self.fc4 = nn.Linear(hidden_dim, input_dim)\n",
    "\n",
    "    def encode(self, x):\n",
    "        h1 = F.relu(self.fc1(x))\n",
    "        return self.fc21(h1), self.fc22(h1)\n",
    "\n",
    "    def reparameterize(self, mu, logvar):\n",
    "        std = torch.exp(0.5 * logvar)\n",
    "        eps = torch.randn_like(std)\n",
    "        return mu + eps * std\n",
    "\n",
    "    def decode(self, z):\n",
    "        h3 = F.relu(self.fc3(z))\n",
    "        return torch.sigmoid(self.fc4(h3))\n",
    "\n",
    "    def forward(self, x):\n",
    "        mu, logvar = self.encode(x.view(len(x), -1))\n",
    "        z = self.reparameterize(mu, logvar)\n",
    "        return self.decode(z), mu, logvar\n",
    "\n",
    "# Loss function\n",
    "def vae_loss(x, recon_x, mu, logvar): # BCE for recon, plus KL\n",
    "    recon_loss = F.binary_cross_entropy(recon_x, x.view(len(x), -1), reduction='sum')\n",
    "    kld_loss = -0.5 * torch.sum(1 + logvar - mu.pow(2) - logvar.exp())\n",
    "    return recon_loss + kld_loss\n",
    "\n",
    "# try different Loss function for CIFAR-10\n",
    "def vae_loss2(x, recon_x, mu, logvar):  # MSE for recon, plus KL\n",
    "    recon_loss = F.mse_loss(recon_x, x.view(len(x), -1), reduction='mean')\n",
    "    kld_loss = -0.5 * torch.sum(1 + logvar - mu.pow(2) - logvar.exp())\n",
    "    return recon_loss + kld_loss\n"
   ]
  },
  {
   "cell_type": "code",
   "execution_count": 14,
   "metadata": {},
   "outputs": [],
   "source": [
    "import torch.nn as nn\n",
    "import torch.optim as optim\n",
    "\n",
    "# Create the model\n",
    "model = VAE(latent_dim=12)\n",
    "\n",
    "# Define a loss function\n",
    "criterion = vae_loss\n",
    "\n",
    "\n",
    "# Create some dummy data\n",
    "for data in refbb:\n",
    "    x = data[0]\n",
    "    break\n",
    "\n",
    "y = labels\n",
    "\n"
   ]
  },
  {
   "cell_type": "code",
   "execution_count": 23,
   "metadata": {},
   "outputs": [
    {
     "name": "stderr",
     "output_type": "stream",
     "text": [
      "Epoch: 4975, loss: 184876.469: 100%|██████████| 5000/5000 [02:46<00:00, 30.11it/s]\n"
     ]
    }
   ],
   "source": [
    "# Define an optimizer\n",
    "optimizer = optim.Adam(model.parameters(), lr=1e-4)\n",
    "\n",
    "# Training loop\n",
    "epochs = 5000\n",
    "for epoch in (pbar := tqdm(range(epochs))):\n",
    "# for epoch in range(1000):\n",
    "    # Zero the gradients\n",
    "    optimizer.zero_grad()\n",
    "\n",
    "    # Forward pass\n",
    "    # x_pred, mu_pred, sig_pred = model(x)\n",
    "\n",
    "    # Calculate forward pass and loss\n",
    "    loss = criterion(x, *model(x))\n",
    "    # loss = criterion(x, )\n",
    "\n",
    "    # Backward pass\n",
    "    loss.backward()\n",
    "\n",
    "    # Update weights\n",
    "    optimizer.step()\n",
    "\n",
    "    # Print progress\n",
    "    if epoch % 25 == 0:\n",
    "        pbar.set_description(f\"Epoch: {epoch}, loss: {loss.item():.3f}\")\n"
   ]
  },
  {
   "cell_type": "code",
   "execution_count": 24,
   "metadata": {},
   "outputs": [
    {
     "data": {
      "text/plain": [
       "torch.Size([2000, 1, 28, 28])"
      ]
     },
     "execution_count": 24,
     "metadata": {},
     "output_type": "execute_result"
    }
   ],
   "source": [
    "x.shape"
   ]
  },
  {
   "cell_type": "code",
   "execution_count": 16,
   "metadata": {},
   "outputs": [],
   "source": [
    "def L2(x, y):\n",
    "    x, y = x.detach().numpy().reshape((len(x), -1)), y.detach().numpy().reshape((len(y), -1)) \n",
    "    return np.sum((x - y)**2, axis=1)\n",
    "\n",
    "def normdot(x, y): # just correlation except I forogt to remove means\n",
    "    x, y = x.detach().numpy().reshape((len(x), -1)), y.detach().numpy().reshape((len(y), -1)) \n",
    "    xdenom = np.sqrt(np.sum(x*x, axis=1))\n",
    "    ydenom = np.sqrt(np.sum(y*y, axis=1))\n",
    "\n",
    "    return np.sum(x*y, axis=1)/(xdenom*ydenom)\n",
    "\n",
    "def rho(x, y): # correlation for real\n",
    "    x, y = x.detach().numpy().reshape((len(x), -1)), y.detach().numpy().reshape((len(y), -1)) \n",
    "    x -= np.mean(x, axis=1, keepdims=True)\n",
    "    y -= np.mean(y, axis=1, keepdims=True)\n",
    "    \n",
    "    xdenom = np.sqrt(np.sum(x*x, axis=1))\n",
    "    ydenom = np.sqrt(np.sum(y*y, axis=1))\n",
    "\n",
    "    return np.sum(x*y, axis=1)/(xdenom*ydenom)\n"
   ]
  },
  {
   "cell_type": "code",
   "execution_count": 22,
   "metadata": {},
   "outputs": [
    {
     "name": "stdout",
     "output_type": "stream",
     "text": [
      "cutoff: 0.60, TP:  0.616, FP: 0.002\n",
      "cutoff: 0.62, TP:  0.679, FP: 0.003\n",
      "cutoff: 0.64, TP:  0.745, FP: 0.004\n",
      "cutoff: 0.66, TP:  0.805, FP: 0.006\n",
      "cutoff: 0.68, TP:  0.849, FP: 0.007\n",
      "cutoff: 0.70, TP:  0.879, FP: 0.011\n",
      "cutoff: 0.72, TP:  0.905, FP: 0.014\n",
      "cutoff: 0.74, TP:  0.927, FP: 0.021\n",
      "cutoff: 0.76, TP:  0.944, FP: 0.029\n",
      "cutoff: 0.78, TP:  0.962, FP: 0.045\n"
     ]
    },
    {
     "data": {
      "image/png": "[encoded data removed]",
      "text/plain": [
       "<Figure size 640x480 with 1 Axes>"
      ]
     },
     "metadata": {},
     "output_type": "display_data"
    }
   ],
   "source": [
    "for xval, _, _ in valbb:\n",
    "    break\n",
    "\n",
    "xval_pred, _, _ = model(xval)\n",
    "recon = normdot(xval, xval_pred)\n",
    "\n",
    "for xcorr,_,_ in corr1bb:\n",
    "    break\n",
    "xcorr_pred, _, _ = model(xcorr)\n",
    "corr_recon = normdot(xcorr_pred, xcorr)\n",
    "\n",
    "plt.hist((corr_recon, recon), density=True, cumulative=True);\n",
    "plt.legend(['OOD', 'control'])\n",
    "plt.title('VAE reconstruction error - normdot');\n",
    "\n",
    "cutoff = 0.6\n",
    "\n",
    "for i in range(10):\n",
    "    is_ood_test = corr_recon < cutoff\n",
    "    is_ood_ctrl = recon < cutoff\n",
    "    print(f'cutoff: {cutoff:0.2f}, TP: {np.mean(is_ood_test): 0.3f}, FP: {np.mean(is_ood_ctrl):.3f}')\n",
    "    cutoff += 0.02\n",
    "\n"
   ]
  },
  {
   "cell_type": "code",
   "execution_count": null,
   "metadata": {},
   "outputs": [],
   "source": []
  },
  {
   "cell_type": "code",
   "execution_count": null,
   "metadata": {},
   "outputs": [],
   "source": [
    "OOD_detectors = [\n",
    "    OOD_VAE(VAE(latent_dim=15)),\n",
    "]\n",
    "for detector in OOD_detectors:\n",
    "    print(f\"Training {detector.__class__.__name__}...\")\n",
    "    detector.fit(images, threshold_perc=99, epochs=10000, loss_fn=vae_loss, verbose=True, batch_size=2000, optimizer=torch.optim.Adam(detector.model.parameters(), lr=1e-3))"
   ]
  },
  {
   "cell_type": "code",
   "execution_count": null,
   "metadata": {},
   "outputs": [],
   "source": [
    "print(f'threshold instance score is {detector._threshold_score()}')"
   ]
  },
  {
   "cell_type": "code",
   "execution_count": null,
   "metadata": {},
   "outputs": [],
   "source": [
    "results = {type(detector).__name__: np.mean(detector.predict(images).is_ood) for detector in OOD_detectors}\n",
    "print(results)"
   ]
  },
  {
   "cell_type": "code",
   "execution_count": null,
   "metadata": {},
   "outputs": [],
   "source": [
    "results = {type(detector).__name__: np.mean(detector.predict(val_images).is_ood) for detector in OOD_detectors}\n",
    "print(results)"
   ]
  },
  {
   "cell_type": "code",
   "execution_count": null,
   "metadata": {},
   "outputs": [],
   "source": [
    "detector._threshold_score()"
   ]
  },
  {
   "cell_type": "code",
   "execution_count": null,
   "metadata": {},
   "outputs": [],
   "source": [
    "dir(detector)"
   ]
  },
  {
   "cell_type": "code",
   "execution_count": null,
   "metadata": {},
   "outputs": [],
   "source": [
    "for x, _, _ in refbb:\n",
    "    break\n",
    "\n",
    "for xval, _, _ in valbb:\n",
    "    break\n",
    "\n",
    "for xcorr,_,_ in corr1bb:\n",
    "    break\n",
    "\n",
    "print(torch.sum(torch.abs(x-xval)))"
   ]
  },
  {
   "cell_type": "code",
   "execution_count": null,
   "metadata": {},
   "outputs": [],
   "source": [
    "import matplotlib.pyplot as plt\n",
    "import copy\n",
    "\n",
    "ctrl_scores = copy.deepcopy(detector._ref_score.instance_score)\n",
    "# val_scores = detector.predict(xval).instance_score\n",
    "val_scores = detector.predict(val_images).instance_score\n",
    "\n",
    "detector.predict(xcorr);\n",
    "expt_scores = detector.predict(xcorr).instance_score\n",
    "\n",
    "plt.hist((val_scores, expt_scores), 40, cumulative=True, density = True);\n",
    "plt.legend(['reference', 'corrupted'])"
   ]
  },
  {
   "cell_type": "code",
   "execution_count": null,
   "metadata": {},
   "outputs": [],
   "source": [
    "np.sum(detector.predict(val_images).instance_score < 0.01)"
   ]
  },
  {
   "cell_type": "code",
   "execution_count": null,
   "metadata": {},
   "outputs": [],
   "source": [
    "dir(detector.predict(xcorr))"
   ]
  },
  {
   "cell_type": "code",
   "execution_count": null,
   "metadata": {},
   "outputs": [],
   "source": [
    "\n",
    "\n",
    "results = {type(detector).__name__: np.mean(detector.predict(xcorr).is_ood) for detector in OOD_detectors}\n",
    "print(results)"
   ]
  },
  {
   "cell_type": "code",
   "execution_count": 25,
   "metadata": {},
   "outputs": [],
   "source": [
    "model = VAE(latent_dim=12)"
   ]
  },
  {
   "cell_type": "code",
   "execution_count": 26,
   "metadata": {},
   "outputs": [],
   "source": [
    "def ecdf(data):\n",
    "    \"\"\"Compute the empirical cumulative distribution function (ECDF) of a sample.\"\"\"\n",
    "    x = np.sort(data)\n",
    "    y = np.arange(1, len(data) + 1) / len(data)\n",
    "    return x, y\n",
    "\n",
    "def ecdf_ratio(sample1, sample2):\n",
    "    \"\"\"Compute the ratio of the ECDFs of two samples.\"\"\"\n",
    "    x1, y1 = ecdf(sample1)\n",
    "    x2, y2 = ecdf(sample2)\n",
    "\n",
    "    x_all = np.sort(np.concatenate((x1, x2)))\n",
    "    # Interpolate y values at x_all points\n",
    "    y1_all = np.interp(x_all, x1, y1)\n",
    "    y2_all = np.interp(x_all, x2, y2)\n",
    "\n",
    "    # Compute the ratio of the ECDFs\n",
    "    ratio = y1_all / y2_all\n",
    "\n",
    "    return x_all, ratio\n"
   ]
  },
  {
   "cell_type": "code",
   "execution_count": 41,
   "metadata": {},
   "outputs": [],
   "source": []
  },
  {
   "cell_type": "code",
   "execution_count": null,
   "metadata": {},
   "outputs": [],
   "source": []
  },
  {
   "cell_type": "code",
   "execution_count": null,
   "metadata": {},
   "outputs": [],
   "source": [
    "print(x.shape, xval.shape)"
   ]
  },
  {
   "cell_type": "code",
   "execution_count": null,
   "metadata": {},
   "outputs": [],
   "source": [
    "torch.sum(torch.abs(x - xval))"
   ]
  },
  {
   "cell_type": "code",
   "execution_count": null,
   "metadata": {},
   "outputs": [],
   "source": [
    "import matplotlib.pyplot as plt\n",
    "\n",
    "x_pred, mu_pred, sig_pred = model(xval)\n",
    "\n",
    "pick = 1234\n",
    "plt.imshow(np.concatenate((xval[pick].reshape((28,28)), x_pred[pick].detach().numpy().reshape((28,28))), axis=1))"
   ]
  },
  {
   "cell_type": "code",
   "execution_count": 46,
   "metadata": {},
   "outputs": [],
   "source": []
  },
  {
   "cell_type": "code",
   "execution_count": null,
   "metadata": {},
   "outputs": [],
   "source": []
  },
  {
   "cell_type": "code",
   "execution_count": null,
   "metadata": {},
   "outputs": [],
   "source": [
    "for xval, _, _ in valbb:\n",
    "    break\n",
    "\n",
    "xval_pred, _, _ = model(xval)\n",
    "recon = L2(xval, xval_pred)\n",
    "\n",
    "for xcorr,_,_ in corr1bb:\n",
    "    break\n",
    "\n",
    "xcorr_pred, _, _ = model(xcorr)\n",
    "corr_recon = L2(xcorr_pred, xcorr)\n",
    "\n",
    "plt.hist((corr_recon, recon), density=True, cumulative=True);\n",
    "plt.legend(['OOD', 'control'])\n",
    "plt.title('VAE reconstruction error - L2');\n",
    "\n",
    "cutoff = 30\n",
    "\n",
    "for i in range(10):\n",
    "    is_ood_test = corr_recon > cutoff\n",
    "    is_ood_ctrl = recon > cutoff\n",
    "    print(f'cutoff: {cutoff:0.2f}, TP: {np.mean(is_ood_test): 0.3f}, FP: {np.mean(is_ood_ctrl):.3f}')\n",
    "    cutoff += 5\n"
   ]
  },
  {
   "cell_type": "code",
   "execution_count": null,
   "metadata": {},
   "outputs": [],
   "source": [
    "for xval, _, _ in valbb:\n",
    "    break\n",
    "\n",
    "xval_pred, _, _ = model(xval)\n",
    "recon = rho(xval, xval_pred)\n",
    "\n",
    "for xcorr,_,_ in corr4bb:\n",
    "    break\n",
    "xcorr_pred, _, _ = model(xcorr)\n",
    "corr_recon = rho(xcorr_pred, xcorr)\n",
    "\n",
    "plt.hist((corr_recon, recon), density=True, cumulative=True);\n",
    "plt.legend(['OOD', 'control'])\n",
    "plt.title('VAE reconstruction error - rho');\n",
    "\n",
    "cutoff = 0.8\n",
    "\n",
    "for i in range(10):\n",
    "    is_ood_test = corr_recon < cutoff\n",
    "    is_ood_ctrl = recon < cutoff\n",
    "    print(f'cutoff: {cutoff:0.2f}, TP: {np.mean(is_ood_test): 0.3f}, FP: {np.mean(is_ood_ctrl):.3f}')\n",
    "    cutoff += 0.02\n"
   ]
  },
  {
   "cell_type": "code",
   "execution_count": null,
   "metadata": {},
   "outputs": [],
   "source": []
  },
  {
   "cell_type": "code",
   "execution_count": null,
   "metadata": {},
   "outputs": [],
   "source": [
    "cutoff = 0.8\n",
    "\n",
    "for i in range(10):\n",
    "    is_ood_test = corr_recon < cutoff\n",
    "    is_ood_ctrl = recon < cutoff\n",
    "    print(f'cutoff: {cutoff:0.2f}, TP: {np.mean(is_ood_test): 0.3f}, FP: {np.mean(is_ood_ctrl):.3f}')\n",
    "    cutoff += 0.02\n"
   ]
  },
  {
   "cell_type": "code",
   "execution_count": null,
   "metadata": {},
   "outputs": [],
   "source": [
    "pick = 1234\n",
    "plt.imshow(np.concatenate((xcorr[pick].reshape((28,28)), xcorr_pred[pick].detach().numpy().reshape((28,28))), axis=1))"
   ]
  },
  {
   "cell_type": "code",
   "execution_count": null,
   "metadata": {},
   "outputs": [],
   "source": []
  },
  {
   "cell_type": "code",
   "execution_count": null,
   "metadata": {},
   "outputs": [],
   "source": [
    "plt.plot(*ecdf_ratio(recon, corr_recon))"
   ]
  },
  {
   "cell_type": "code",
   "execution_count": 42,
   "metadata": {},
   "outputs": [],
   "source": [
    "def ROC_curve(xref, xcorr):\n",
    "    xref, cref = ecdf(xref)\n",
    "    xcorr, ccorr = ecdf(xcorr)\n",
    "\n",
    "    x_all = np.sort(np.concatenate((xref, xcorr)))\n",
    "\n",
    "    FP = 1.0 - np.interp(x_all, xref, cref)\n",
    "    TP = 1.0 - np.interp(x_all, xcorr, ccorr)\n",
    "    iord = np.argsort(FP)\n",
    "\n",
    "    return FP[iord], TP[iord]"
   ]
  },
  {
   "cell_type": "code",
   "execution_count": 43,
   "metadata": {},
   "outputs": [],
   "source": [
    "FP, TP = ROC_curve(recon, corr_recon)"
   ]
  },
  {
   "cell_type": "code",
   "execution_count": null,
   "metadata": {},
   "outputs": [],
   "source": [
    "FP[0:10]"
   ]
  },
  {
   "cell_type": "code",
   "execution_count": null,
   "metadata": {},
   "outputs": [],
   "source": [
    "plt.plot(*ROC_curve(recon, corr_recon))\n",
    "plt.plot([0, 1], [0, 1], 'k:')\n",
    "plt.gca().set_aspect(1.0)"
   ]
  },
  {
   "cell_type": "code",
   "execution_count": null,
   "metadata": {},
   "outputs": [],
   "source": [
    "FP, TP = ROC_curve(recon, corr_recon)\n",
    "\n",
    "np.trapz(TP, FP)"
   ]
  },
  {
   "cell_type": "code",
   "execution_count": null,
   "metadata": {},
   "outputs": [],
   "source": [
    "import torchvision\n",
    "from torchvision import transforms\n",
    "\n",
    "device = torch.device(\"cuda:0\" if torch.cuda.is_available() else \"cpu\")\n",
    "print(device)\n",
    "\n",
    "transform = transforms.Compose(\n",
    "    [transforms.ToTensor(),\n",
    "     transforms.Normalize((0.5, 0.5, 0.5), (0.5, 0.5, 0.5))])\n",
    "\n",
    "trainset = torchvision.datasets.CIFAR10(root='./data', train=True,\n",
    "                                        download=True, transform=transform)\n",
    "trainloader = torch.utils.data.DataLoader(trainset, batch_size=200,\n",
    "                                          shuffle=True, num_workers=2)\n",
    "\n",
    "testset = torchvision.datasets.CIFAR10(root='./data', train=False,\n",
    "                                       download=True, transform=transform)\n",
    "testloader = torch.utils.data.DataLoader(testset, batch_size=4,\n",
    "                                         shuffle=False, num_workers=2)"
   ]
  },
  {
   "cell_type": "code",
   "execution_count": 48,
   "metadata": {},
   "outputs": [],
   "source": []
  },
  {
   "cell_type": "code",
   "execution_count": null,
   "metadata": {},
   "outputs": [],
   "source": [
    "\n",
    "for cdata in trainloader:\n",
    "    break\n",
    "\n",
    "img = cdata[0][0]  # type: ignore\n",
    "for i in range(111,115):\n",
    "    img = np.concatenate((img, cdata[0][i,:,:,:]), axis=2) # type: ignore\n",
    "\n",
    "img = img.transpose((1, 2, 0))\n",
    "img = (img + 1.0)/2.0\n",
    "\n",
    "plt.imshow(img)"
   ]
  },
  {
   "cell_type": "code",
   "execution_count": 49,
   "metadata": {},
   "outputs": [],
   "source": [
    "cmodel = VAE(input_dim = 3072, latent_dim = 42, hidden_dim = 800) # model(crap[0])\n",
    "criterion = vae_loss2"
   ]
  },
  {
   "cell_type": "code",
   "execution_count": null,
   "metadata": {},
   "outputs": [],
   "source": [
    "# Define an optimizer\n",
    "optimizer = torch.optim.Adam(cmodel.parameters(), lr=1e-5)\n",
    "\n",
    "# Training loop\n",
    "epochs = 10\n",
    "for epoch in (pbar := tqdm(range(epochs))):\n",
    "    for x, _ in trainloader:\n",
    "        x = (x + 1.0)/2.0\n",
    "        # Zero the gradients\n",
    "        optimizer.zero_grad()\n",
    "\n",
    "        # Forward pass\n",
    "        # x_pred, mu_pred, sig_pred = model(x)\n",
    "\n",
    "        # Calculate forward pass and loss\n",
    "        loss = criterion(x, *cmodel(x))\n",
    "        # loss = criterion(x, )\n",
    "\n",
    "        # Backward pass\n",
    "        loss.backward()\n",
    "\n",
    "        # Update weights\n",
    "        optimizer.step()\n",
    "\n",
    "    # Print progress\n",
    "    pbar.set_description(f\"Epoch: {epoch}, loss: {loss.item():.3f}\")\n"
   ]
  },
  {
   "cell_type": "code",
   "execution_count": null,
   "metadata": {},
   "outputs": [],
   "source": [
    "plt.imshow((cdata[0][0].reshape(3, 32, 32).permute(1,2,0)+1)/2.0) # first try"
   ]
  },
  {
   "cell_type": "code",
   "execution_count": null,
   "metadata": {},
   "outputs": [],
   "source": [
    "chk = cmodel(cdata[0])\n",
    "print(chk[0].shape)\n",
    "show = (chk[0].reshape((-1,3,32,32)))\n",
    "show = show.permute(0, 2, 3, 1)\n",
    "print(show.shape)\n",
    "plt.imshow(show[0].detach().numpy())"
   ]
  },
  {
   "cell_type": "code",
   "execution_count": null,
   "metadata": {},
   "outputs": [],
   "source": [
    "show[0].min()"
   ]
  },
  {
   "cell_type": "code",
   "execution_count": 11,
   "metadata": {},
   "outputs": [],
   "source": [
    "import torch\n",
    "import torch.nn as nn\n",
    "import torch.nn.functional as F\n",
    "\n",
    "class ConvVAE(nn.Module):\n",
    "    def __init__(self, latent_dim, input_channels=None):\n",
    "        super(ConvVAE, self).__init__()\n",
    "        self.latent_dim = latent_dim\n",
    "        self.input_channels = 3 if input_channels is None else input_channels\n",
    "\n",
    "        # Encoder\n",
    "        self.encoder = nn.Sequential(\n",
    "            nn.Conv2d(self.input_channels, 16, kernel_size=3, stride=2, padding=1),\n",
    "            nn.ReLU(),\n",
    "            nn.Conv2d(16, 32, kernel_size=3, stride=2, padding=1),\n",
    "            nn.ReLU(),\n",
    "            nn.Flatten()\n",
    "        )\n",
    "\n",
    "        self.fc_mu = nn.Linear(32 * 7 * 7, latent_dim)\n",
    "        self.fc_logvar = nn.Linear(32 * 7 * 7, latent_dim)\n",
    "\n",
    "        # Decoder\n",
    "        self.decoder = nn.Sequential(\n",
    "            nn.Linear(latent_dim, 32 * 7 * 7),\n",
    "            nn.ReLU(),\n",
    "            nn.Unflatten(1, (32, 7, 7)),\n",
    "            nn.ConvTranspose2d(32, 16, kernel_size=3, stride=2, padding=1, output_padding=1),\n",
    "            nn.ReLU(),\n",
    "            nn.ConvTranspose2d(16, self.input_channels, kernel_size=3, stride=2, padding=1, output_padding=1),\n",
    "            nn.Sigmoid()\n",
    "        )\n",
    "\n",
    "    def reparameterize(self, mu, logvar):\n",
    "        std = torch.exp(0.5 * logvar)\n",
    "        eps = torch.randn_like(std)\n",
    "        return mu + eps * std\n",
    "\n",
    "    def forward(self, x):\n",
    "        x = self.encoder(x)\n",
    "        mu = self.fc_mu(x)\n",
    "        logvar = self.fc_logvar(x)\n",
    "        z = self.reparameterize(mu, logvar)\n",
    "        x_recon = self.decoder(z)\n",
    "        return x_recon, mu, logvar\n",
    "\n",
    "def loss_function(x_recon, x, mu, logvar):\n",
    "    recon_loss = F.binary_cross_entropy(x_recon, x, reduction='sum')\n",
    "    kl_loss = -0.5 * torch.sum(1 + logvar - mu.pow(2) - logvar.exp())\n",
    "    return recon_loss + kl_loss"
   ]
  },
  {
   "cell_type": "code",
   "execution_count": 12,
   "metadata": {},
   "outputs": [],
   "source": [
    "convmodel = ConvVAE(42)\n",
    "criterion = loss_function"
   ]
  },
  {
   "cell_type": "code",
   "execution_count": null,
   "metadata": {},
   "outputs": [],
   "source": [
    "from tqdm import tqdm\n",
    "# Define an optimizer\n",
    "optimizer = torch.optim.Adam(convmodel.parameters(), lr=1e-9)\n",
    "\n",
    "# Training loop\n",
    "epochs = 10\n",
    "for epoch in (pbar := tqdm(range(epochs))):\n",
    "    for x, _ in trainloader:\n",
    "        x = (x + 1.0)/2.0\n",
    "        # Zero the gradients\n",
    "        optimizer.zero_grad()\n",
    "\n",
    "        # Forward pass\n",
    "        # x_pred, mu_pred, sig_pred = model(x)\n",
    "\n",
    "        # Calculate forward pass and loss\n",
    "        x_pred, mu, logvar = convmodel(x)\n",
    "        loss = criterion(x, x_pred, mu, logvar)\n",
    "        # loss = criterion(x, )\n",
    "\n",
    "        # Backward pass\n",
    "        loss.backward()\n",
    "\n",
    "        # Update weights\n",
    "        optimizer.step()\n",
    "\n",
    "    # Print progress\n",
    "    pbar.set_description(f\"Epoch: {epoch}, loss: {loss.item():.3f}\")\n"
   ]
  }
 ],
 "metadata": {
  "kernelspec": {
   "display_name": ".venv-3.11",
   "language": "python",
   "name": "python3"
  },
  "language_info": {
   "codemirror_mode": {
    "name": "ipython",
    "version": 3
   },
   "file_extension": ".py",
   "mimetype": "text/x-python",
   "name": "python",
   "nbconvert_exporter": "python",
   "pygments_lexer": "ipython3",
   "version": "3.11.10"
  }
 },
 "nbformat": 4,
 "nbformat_minor": 2
}
