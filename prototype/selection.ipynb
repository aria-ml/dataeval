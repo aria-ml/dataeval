{
 "cells": [
  {
   "cell_type": "code",
   "execution_count": 1,
   "metadata": {},
   "outputs": [
    {
     "name": "stdout",
     "output_type": "stream",
     "text": [
      "MNIST Dataset\n",
      "-------------\n",
      "    Corruption: None\n",
      "    Transforms: []\n",
      "    Image_set: train\n",
      "    Metadata: {'id': 'MNIST_train', 'index2label': {0: 'zero', 1: 'one', 2: 'two', 3: 'three', 4: 'four', 5: 'five', 6: 'six', 7: 'seven', 8: 'eight', 9: 'nine'}, 'split': 'train'}\n",
      "    Path: /home/aweng/dataeval/prototype/data/mnist\n",
      "    Size: 60000\n"
     ]
    }
   ],
   "source": [
    "import numpy as np\n",
    "\n",
    "from dataeval.utils.data.datasets import MNIST\n",
    "from dataeval.utils.data.datasets._types import SelectionDataset\n",
    "from dataeval.utils.data.selection._limit import Limit\n",
    "from dataeval.utils.data.selection._shuffle import Shuffle\n",
    "from dataeval.utils.data.selection._sliceback import SliceBack\n",
    "from dataeval.utils.data.selection._classfilter import ClassFilter\n",
    "\n",
    "# Load the MNIST dataset\n",
    "mnist = MNIST(root=\"data\", download=True)\n",
    "print(mnist)"
   ]
  },
  {
   "cell_type": "code",
   "execution_count": 2,
   "metadata": {},
   "outputs": [
    {
     "name": "stdout",
     "output_type": "stream",
     "text": [
      "SelectionDataset\n",
      "----------------\n",
      "    Selections: [Limit(1000), Shuffle(0), ClassFilter(classes=None, balance=True)]\n",
      "\n",
      "MNIST Dataset\n",
      "-------------\n",
      "    Corruption: None\n",
      "    Transforms: []\n",
      "    Image_set: train\n",
      "    Metadata: {'id': 'MNIST_train', 'index2label': {0: 'zero', 1: 'one', 2: 'two', 3: 'three', 4: 'four', 5: 'five', 6: 'six', 7: 'seven', 8: 'eight', 9: 'nine'}, 'split': 'train'}\n",
      "    Path: /home/aweng/dataeval/prototype/data/mnist\n",
      "    Size: 60000\n",
      "dict_keys(['_dataset', '_size_limit', '_selection', '_selections', 'corruption', '_resource_index', '_root', 'transforms', 'image_set', '_verbose', '_download', '_resource', '_label2index', 'metadata', 'path', '_loaded_data', '_filepaths', '_targets', '_datum_metadata', 'size'])\n",
      "Limit(1000)\n"
     ]
    }
   ],
   "source": [
    "# Wrap in a SelectionDataset\n",
    "smnist = SelectionDataset(mnist, selections=[Limit(1000), ClassFilter(balance=True), Shuffle(0)])\n",
    "print(str(smnist))\n",
    "print(smnist.__dict__.keys())\n",
    "\n",
    "print(str(Limit(1000)))"
   ]
  },
  {
   "cell_type": "code",
   "execution_count": 3,
   "metadata": {},
   "outputs": [
    {
     "name": "stdout",
     "output_type": "stream",
     "text": [
      "5\n",
      "60000\n"
     ]
    }
   ],
   "source": [
    "print(np.argmax(mnist[0][1]))\n",
    "print(len(mnist))"
   ]
  },
  {
   "cell_type": "code",
   "execution_count": 4,
   "metadata": {},
   "outputs": [
    {
     "name": "stdout",
     "output_type": "stream",
     "text": [
      "6\n",
      "1000\n",
      "{1: 100, 7: 100, 0: 100, 9: 100, 4: 100, 6: 100, 3: 100, 5: 100, 2: 100, 8: 100}\n"
     ]
    }
   ],
   "source": [
    "print(np.argmax(smnist[6][1]))\n",
    "print(len(smnist))\n",
    "\n",
    "c = {}\n",
    "for i in range(len(smnist)):\n",
    "    l = int(np.argmax(smnist[i][1]))\n",
    "    c[l] = c.setdefault(l, 0) + 1\n",
    "print(c)"
   ]
  }
 ],
 "metadata": {
  "kernelspec": {
   "display_name": ".venv-3.11",
   "language": "python",
   "name": "python3"
  },
  "language_info": {
   "codemirror_mode": {
    "name": "ipython",
    "version": 3
   },
   "file_extension": ".py",
   "mimetype": "text/x-python",
   "name": "python",
   "nbconvert_exporter": "python",
   "pygments_lexer": "ipython3",
   "version": "3.11.9"
  }
 },
 "nbformat": 4,
 "nbformat_minor": 2
}
