{
 "cells": [
  {
   "cell_type": "code",
   "execution_count": 1,
   "metadata": {
    "tags": [
     "remove_cell"
    ]
   },
   "outputs": [],
   "source": [
    "try:\n",
    "    import google.colab  # noqa: F401\n",
    "\n",
    "    # specify the version of DataEval (==X.XX.X) for versions other than the latest\n",
    "    %pip install -q dataeval\n",
    "except Exception:\n",
    "    pass"
   ]
  },
  {
   "cell_type": "code",
   "execution_count": 2,
   "metadata": {},
   "outputs": [],
   "source": [
    "import numpy as np\n",
    "\n",
    "from dataeval.detectors.linters import Duplicates\n",
    "from dataeval.utils.torch.datasets import MNIST"
   ]
  },
  {
   "cell_type": "code",
   "execution_count": 3,
   "metadata": {},
   "outputs": [
    {
     "name": "stdout",
     "output_type": "stream",
     "text": [
      "Files already downloaded and verified\n"
     ]
    }
   ],
   "source": [
    "# Load in the mnist dataset\n",
    "testing_dataset = MNIST(root=\"./data/\", train=False, download=True, unit_interval=True)\n",
    "test_data = testing_dataset.data\n",
    "labels = testing_dataset.targets"
   ]
  },
  {
   "cell_type": "code",
   "execution_count": 4,
   "metadata": {},
   "outputs": [
    {
     "name": "stdout",
     "output_type": "stream",
     "text": [
      "Exact duplicates\n",
      "\t1 - (231, 781)\n",
      "\t2 - (232, 782)\n",
      "\t5 - (235, 785)\n",
      "\t9 - (239, 789)\n"
     ]
    }
   ],
   "source": [
    "# Creating some duplicates\n",
    "print(\"Exact duplicates\")\n",
    "duplicates = {}\n",
    "for i in [1, 2, 5, 9]:\n",
    "    matching_indices = np.where(labels == i)[0]\n",
    "    test_data[matching_indices[78]] = test_data[matching_indices[23]]\n",
    "    print(f\"\\t{i} - ({matching_indices[23]}, {matching_indices[78]})\")\n",
    "    duplicates[i] = (matching_indices[23], matching_indices[78], matching_indices[2])"
   ]
  },
  {
   "cell_type": "code",
   "execution_count": 5,
   "metadata": {},
   "outputs": [
    {
     "name": "stdout",
     "output_type": "stream",
     "text": [
      "Number of samples:  8920\n"
     ]
    }
   ],
   "source": [
    "print(\"Number of samples: \", len(test_data))"
   ]
  },
  {
   "cell_type": "code",
   "execution_count": 6,
   "metadata": {},
   "outputs": [],
   "source": [
    "# Initialize the Duplicates class\n",
    "duplicator = Duplicates()\n",
    "\n",
    "# Evaluate the data\n",
    "results = duplicator.evaluate(test_data)"
   ]
  },
  {
   "cell_type": "code",
   "execution_count": 7,
   "metadata": {},
   "outputs": [
    {
     "name": "stdout",
     "output_type": "stream",
     "text": [
      "exact - 4\n",
      "\t[[231, 781], [232, 782], [235, 785], [239, 789]]\n",
      "near - 72\n",
      "\t[[91, 4601], [211, 6691], [221, 2181, 2201, 7021, 7851, 7881, 8251], [257, 6287], [291, 371, 3211, 3401, 3871, 6441, 6521, 6741], [307, 4067], [441, 1531, 2921, 4831], [481, 1471], [521, 8321], [611, 1901, 5271, 8701], [641, 1351, 8241], [771, 2031, 3571], [801, 1031], [830, 2620], [941, 8631], [947, 6957], [961, 3231, 3471, 6471, 8681], [991, 7871], [1091, 6931], [1131, 3971, 5101, 5951], [1141, 1501, 4931, 5451, 7001, 7761], [1281, 3241, 4791], [1301, 7521], [1371, 4611], [1381, 6711], [1421, 2471, 2771], [1571, 2981], [1731, 6771], [1761, 5501], [1781, 3381, 8281], [1941, 4271], [2001, 3911], [2141, 2161, 2551, 4511], [2171, 3011], [2281, 6421], [2507, 8077], [2731, 4721], [2841, 5251], [2867, 5047], [3031, 4221], [3107, 7487], [3151, 3391, 4671, 7031], [3275, 5105], [3454, 8644], [3591, 8331], [3610, 3660], [3861, 6191], [3991, 5541], [4101, 5691], [4391, 7211], [4541, 7841], [4641, 7271], [4751, 8301], [4961, 5321], [5051, 6941], [5171, 7171], [5241, 5781], [5261, 6371], [5289, 8209], [5421, 7981], [5577, 8527], [6007, 7427], [6071, 8371], [6141, 7361, 7941], [6311, 6331, 7251, 7801], [6407, 7497, 7507], [6671, 7111], [6991, 7091, 7101], [7177, 8477], [7287, 7949], [7561, 8571], [7891, 8341]]\n"
     ]
    }
   ],
   "source": [
    "for category, images in results.dict().items():\n",
    "    print(f\"{category} - {len(images)}\")\n",
    "    print(f\"\\t{images}\")"
   ]
  }
 ],
 "metadata": {
  "kernelspec": {
   "display_name": "Python 3",
   "language": "python",
   "name": "python3"
  },
  "language_info": {
   "codemirror_mode": {
    "name": "ipython",
    "version": 3
   },
   "file_extension": ".py",
   "mimetype": "text/x-python",
   "name": "python",
   "nbconvert_exporter": "python",
   "pygments_lexer": "ipython3",
   "version": "3.11.10"
  }
 },
 "nbformat": 4,
 "nbformat_minor": 2
}