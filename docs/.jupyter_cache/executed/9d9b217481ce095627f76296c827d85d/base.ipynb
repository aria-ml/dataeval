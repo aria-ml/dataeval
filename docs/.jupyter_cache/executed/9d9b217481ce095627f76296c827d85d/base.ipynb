{
 "cells": [
  {
   "cell_type": "code",
   "execution_count": 1,
   "metadata": {
    "tags": [
     "remove_cell"
    ]
   },
   "outputs": [
    {
     "name": "stdout",
     "output_type": "stream",
     "text": [
      "/home/aweng/dataeval/.tox/docs/bin/python3: No module named pip\r\n"
     ]
    },
    {
     "name": "stdout",
     "output_type": "stream",
     "text": [
      "Note: you may need to restart the kernel to use updated packages.\n"
     ]
    }
   ],
   "source": [
    "try:\n",
    "    import google.colab  # noqa: F401\n",
    "\n",
    "    # specify the version of DataEval (==X.XX.X) for versions other than the latest\n",
    "    %pip install -q dataeval[torch]\n",
    "    !export LC_ALL=\"en_US.UTF-8\"\n",
    "    !export LD_LIBRARY_PATH=\"/usr/lib64-nvidia\"\n",
    "    !export LIBRARY_PATH=\"/usr/local/cuda/lib64/stubs\"\n",
    "    !ldconfig /usr/lib64-nvidia\n",
    "except Exception:\n",
    "    pass\n",
    "\n",
    "%pip install -q tabulate"
   ]
  },
  {
   "cell_type": "code",
   "execution_count": 2,
   "metadata": {},
   "outputs": [],
   "source": [
    "import os\n",
    "import random\n",
    "from typing import Dict, Sequence, cast\n",
    "\n",
    "import matplotlib.pyplot as plt\n",
    "import numpy as np\n",
    "import torch\n",
    "import torch.nn as nn\n",
    "import torch.nn.functional as F\n",
    "import torch.optim as optim\n",
    "import torchmetrics\n",
    "from tabulate import tabulate\n",
    "from torch.utils.data import DataLoader, Dataset, Subset\n",
    "\n",
    "from dataeval.utils.torch.datasets import MNIST\n",
    "from dataeval.workflows import Sufficiency\n",
    "\n",
    "np.random.seed(0)\n",
    "np.set_printoptions(formatter={\"float\": lambda x: f\"{x:0.4f}\"})\n",
    "torch.manual_seed(0)\n",
    "torch.set_float32_matmul_precision(\"high\")\n",
    "device = \"cuda\" if torch.cuda.is_available() else \"cpu\"\n",
    "torch._dynamo.config.suppress_errors = True\n",
    "\n",
    "random.seed(0)\n",
    "torch.use_deterministic_algorithms(True)\n",
    "os.environ[\"CUBLAS_WORKSPACE_CONFIG\"] = \":4096:8\""
   ]
  },
  {
   "cell_type": "code",
   "execution_count": 3,
   "metadata": {},
   "outputs": [
    {
     "name": "stdout",
     "output_type": "stream",
     "text": [
      "Files already downloaded and verified\n"
     ]
    },
    {
     "name": "stdout",
     "output_type": "stream",
     "text": [
      "Files already downloaded and verified\n"
     ]
    }
   ],
   "source": [
    "# Download the mnist dataset and preview the images\n",
    "train_ds = MNIST(\n",
    "    root=\"./data\", train=True, download=True, size=2000, unit_interval=True, dtype=np.float32, channels=\"channels_first\"\n",
    ")\n",
    "test_ds = MNIST(\n",
    "    root=\"./data\", train=False, download=True, size=500, unit_interval=True, dtype=np.float32, channels=\"channels_first\"\n",
    ")"
   ]
  },
  {
   "cell_type": "code",
   "execution_count": 4,
   "metadata": {},
   "outputs": [
    {
     "data": {
      "image/png": "[encoded data removed]",
      "text/plain": [
       "<Figure size 800x300 with 10 Axes>"
      ]
     },
     "metadata": {},
     "output_type": "display_data"
    }
   ],
   "source": [
    "fig = plt.figure(figsize=(8, 3))\n",
    "\n",
    "for lbl in range(10):\n",
    "    i = (train_ds.targets == lbl).nonzero()[0][0]\n",
    "    img = train_ds.data[i, 0, :, :]\n",
    "    ax = fig.add_subplot(2, 5, lbl + 1)\n",
    "    ax.xaxis.set_visible(False)\n",
    "    ax.yaxis.set_visible(False)\n",
    "    ax.imshow(img, cmap=\"gray_r\")"
   ]
  },
  {
   "cell_type": "code",
   "execution_count": 5,
   "metadata": {},
   "outputs": [],
   "source": [
    "# Define our network architecture\n",
    "class Net(nn.Module):\n",
    "    def __init__(self):\n",
    "        super().__init__()\n",
    "        self.conv1 = nn.Conv2d(1, 6, 5)\n",
    "        self.conv2 = nn.Conv2d(6, 16, 5)\n",
    "        self.fc1 = nn.Linear(6400, 120)\n",
    "        self.fc2 = nn.Linear(120, 84)\n",
    "        self.fc3 = nn.Linear(84, 10)\n",
    "\n",
    "    def forward(self, x):\n",
    "        x = F.relu(self.conv1(x))\n",
    "        x = F.relu(self.conv2(x))\n",
    "        x = torch.flatten(x, 1)  # flatten all dimensions except batch\n",
    "        x = F.relu(self.fc1(x))\n",
    "        x = F.relu(self.fc2(x))\n",
    "        x = self.fc3(x)\n",
    "        return x\n",
    "\n",
    "\n",
    "# Compile the model\n",
    "model = torch.compile(Net().to(device))\n",
    "\n",
    "# Type cast the model back to Net as torch.compile returns a Unknown\n",
    "# Nothing internally changes from the cast; we are simply signaling the type\n",
    "model = cast(Net, model)"
   ]
  },
  {
   "cell_type": "code",
   "execution_count": 6,
   "metadata": {},
   "outputs": [],
   "source": [
    "def custom_train(model: nn.Module, dataset: Dataset, indices: Sequence[int]):\n",
    "    # Defined only for this testing scenario\n",
    "    criterion = torch.nn.CrossEntropyLoss().to(device)\n",
    "    optimizer = optim.SGD(model.parameters(), lr=0.01, momentum=0.9)\n",
    "    epochs = 10\n",
    "\n",
    "    # Define the dataloader for training\n",
    "    dataloader = DataLoader(Subset(dataset, indices), batch_size=16)\n",
    "\n",
    "    for epoch in range(epochs):\n",
    "        for batch in dataloader:\n",
    "            # Load data/images to device\n",
    "            X = torch.Tensor(batch[0]).to(device)\n",
    "            # Load targets/labels to device\n",
    "            y = torch.Tensor(batch[1]).to(device)\n",
    "            # Zero out gradients\n",
    "            optimizer.zero_grad()\n",
    "            # Forward propagation\n",
    "            outputs = model(X)\n",
    "            # Compute loss\n",
    "            loss = criterion(outputs, y)\n",
    "            # Back prop\n",
    "            loss.backward()\n",
    "            # Update weights/parameters\n",
    "            optimizer.step()"
   ]
  },
  {
   "cell_type": "code",
   "execution_count": 7,
   "metadata": {},
   "outputs": [],
   "source": [
    "def custom_eval(model: nn.Module, dataset: Dataset) -> Dict[str, float]:\n",
    "    metric = torchmetrics.Accuracy(task=\"multiclass\", num_classes=10).to(device)\n",
    "    result = 0\n",
    "\n",
    "    # Set model layers into evaluation mode\n",
    "    model.eval()\n",
    "    dataloader = DataLoader(dataset, batch_size=16)\n",
    "    # Tell PyTorch to not track gradients, greatly speeds up processing\n",
    "    with torch.no_grad():\n",
    "        for batch in dataloader:\n",
    "            # Load data/images to device\n",
    "            X = torch.Tensor(batch[0]).to(device)\n",
    "            # Load targets/labels to device\n",
    "            y = torch.Tensor(batch[1]).to(device)\n",
    "            preds = model(X)\n",
    "            metric.update(preds, y)\n",
    "        result = metric.compute().cpu()\n",
    "    return {\"Accuracy\": result}"
   ]
  },
  {
   "cell_type": "code",
   "execution_count": 8,
   "metadata": {},
   "outputs": [],
   "source": [
    "# Instantiate sufficiency metric\n",
    "suff = Sufficiency(\n",
    "    model=model,\n",
    "    train_ds=train_ds,\n",
    "    test_ds=test_ds,\n",
    "    train_fn=custom_train,\n",
    "    eval_fn=custom_eval,\n",
    "    runs=5,\n",
    "    substeps=10,\n",
    ")"
   ]
  },
  {
   "cell_type": "code",
   "execution_count": 9,
   "metadata": {},
   "outputs": [
    {
     "name": "stderr",
     "output_type": "stream",
     "text": [
      "[2024-10-18 12:47:11,087] torch._dynamo.convert_frame: [WARNING] WON'T CONVERT forward /tmp/ipykernel_2885594/1712871160.py line 11 \n",
      "[2024-10-18 12:47:11,087] torch._dynamo.convert_frame: [WARNING] due to: \n",
      "[2024-10-18 12:47:11,087] torch._dynamo.convert_frame: [WARNING] Traceback (most recent call last):\n",
      "[2024-10-18 12:47:11,087] torch._dynamo.convert_frame: [WARNING]   File \"/home/aweng/dataeval/.tox/docs/lib/python3.11/site-packages/torch/_dynamo/convert_frame.py\", line 727, in _convert_frame\n",
      "[2024-10-18 12:47:11,087] torch._dynamo.convert_frame: [WARNING]     result = inner_convert(frame, cache_entry, hooks, frame_state)\n",
      "[2024-10-18 12:47:11,087] torch._dynamo.convert_frame: [WARNING]              ^^^^^^^^^^^^^^^^^^^^^^^^^^^^^^^^^^^^^^^^^^^^^^^^^^^^^\n",
      "[2024-10-18 12:47:11,087] torch._dynamo.convert_frame: [WARNING]   File \"/home/aweng/dataeval/.tox/docs/lib/python3.11/site-packages/torch/_dynamo/convert_frame.py\", line 383, in _convert_frame_assert\n",
      "[2024-10-18 12:47:11,087] torch._dynamo.convert_frame: [WARNING]     compiled_product = _compile(\n",
      "[2024-10-18 12:47:11,087] torch._dynamo.convert_frame: [WARNING]                        ^^^^^^^^^\n",
      "[2024-10-18 12:47:11,087] torch._dynamo.convert_frame: [WARNING]   File \"/home/aweng/dataeval/.tox/docs/lib/python3.11/site-packages/torch/_dynamo/convert_frame.py\", line 646, in _compile\n",
      "[2024-10-18 12:47:11,087] torch._dynamo.convert_frame: [WARNING]     guarded_code = compile_inner(code, one_graph, hooks, transform)\n",
      "[2024-10-18 12:47:11,087] torch._dynamo.convert_frame: [WARNING]                    ^^^^^^^^^^^^^^^^^^^^^^^^^^^^^^^^^^^^^^^^^^^^^^^^\n",
      "[2024-10-18 12:47:11,087] torch._dynamo.convert_frame: [WARNING]   File \"/home/aweng/dataeval/.tox/docs/lib/python3.11/site-packages/torch/_dynamo/utils.py\", line 244, in time_wrapper\n",
      "[2024-10-18 12:47:11,087] torch._dynamo.convert_frame: [WARNING]     r = func(*args, **kwargs)\n",
      "[2024-10-18 12:47:11,087] torch._dynamo.convert_frame: [WARNING]         ^^^^^^^^^^^^^^^^^^^^^\n",
      "[2024-10-18 12:47:11,087] torch._dynamo.convert_frame: [WARNING]   File \"/home/aweng/dataeval/.tox/docs/lib/python3.11/site-packages/torch/_dynamo/convert_frame.py\", line 562, in compile_inner\n",
      "[2024-10-18 12:47:11,087] torch._dynamo.convert_frame: [WARNING]     out_code = transform_code_object(code, transform)\n",
      "[2024-10-18 12:47:11,087] torch._dynamo.convert_frame: [WARNING]                ^^^^^^^^^^^^^^^^^^^^^^^^^^^^^^^^^^^^^^\n",
      "[2024-10-18 12:47:11,087] torch._dynamo.convert_frame: [WARNING]   File \"/home/aweng/dataeval/.tox/docs/lib/python3.11/site-packages/torch/_dynamo/bytecode_transformation.py\", line 1033, in transform_code_object\n",
      "[2024-10-18 12:47:11,087] torch._dynamo.convert_frame: [WARNING]     transformations(instructions, code_options)\n",
      "[2024-10-18 12:47:11,087] torch._dynamo.convert_frame: [WARNING]   File \"/home/aweng/dataeval/.tox/docs/lib/python3.11/site-packages/torch/_dynamo/convert_frame.py\", line 151, in _fn\n",
      "[2024-10-18 12:47:11,087] torch._dynamo.convert_frame: [WARNING]     return fn(*args, **kwargs)\n",
      "[2024-10-18 12:47:11,087] torch._dynamo.convert_frame: [WARNING]            ^^^^^^^^^^^^^^^^^^^\n",
      "[2024-10-18 12:47:11,087] torch._dynamo.convert_frame: [WARNING]   File \"/home/aweng/dataeval/.tox/docs/lib/python3.11/site-packages/torch/_dynamo/convert_frame.py\", line 527, in transform\n",
      "[2024-10-18 12:47:11,087] torch._dynamo.convert_frame: [WARNING]     tracer.run()\n",
      "[2024-10-18 12:47:11,087] torch._dynamo.convert_frame: [WARNING]   File \"/home/aweng/dataeval/.tox/docs/lib/python3.11/site-packages/torch/_dynamo/symbolic_convert.py\", line 2128, in run\n",
      "[2024-10-18 12:47:11,087] torch._dynamo.convert_frame: [WARNING]     super().run()\n",
      "[2024-10-18 12:47:11,087] torch._dynamo.convert_frame: [WARNING]   File \"/home/aweng/dataeval/.tox/docs/lib/python3.11/site-packages/torch/_dynamo/symbolic_convert.py\", line 818, in run\n",
      "[2024-10-18 12:47:11,087] torch._dynamo.convert_frame: [WARNING]     and self.step()\n",
      "[2024-10-18 12:47:11,087] torch._dynamo.convert_frame: [WARNING]         ^^^^^^^^^^^\n",
      "[2024-10-18 12:47:11,087] torch._dynamo.convert_frame: [WARNING]   File \"/home/aweng/dataeval/.tox/docs/lib/python3.11/site-packages/torch/_dynamo/symbolic_convert.py\", line 781, in step\n",
      "[2024-10-18 12:47:11,087] torch._dynamo.convert_frame: [WARNING]     getattr(self, inst.opname)(inst)\n",
      "[2024-10-18 12:47:11,087] torch._dynamo.convert_frame: [WARNING]   File \"/home/aweng/dataeval/.tox/docs/lib/python3.11/site-packages/torch/_dynamo/symbolic_convert.py\", line 2243, in RETURN_VALUE\n",
      "[2024-10-18 12:47:11,087] torch._dynamo.convert_frame: [WARNING]     self.output.compile_subgraph(\n",
      "[2024-10-18 12:47:11,087] torch._dynamo.convert_frame: [WARNING]   File \"/home/aweng/dataeval/.tox/docs/lib/python3.11/site-packages/torch/_dynamo/output_graph.py\", line 919, in compile_subgraph\n",
      "[2024-10-18 12:47:11,087] torch._dynamo.convert_frame: [WARNING]     self.compile_and_call_fx_graph(tx, list(reversed(stack_values)), root)\n",
      "[2024-10-18 12:47:11,087] torch._dynamo.convert_frame: [WARNING]   File \"/home/aweng/.local/share/uv/python/cpython-3.11.10-linux-x86_64-gnu/lib/python3.11/contextlib.py\", line 81, in inner\n",
      "[2024-10-18 12:47:11,087] torch._dynamo.convert_frame: [WARNING]     return func(*args, **kwds)\n",
      "[2024-10-18 12:47:11,087] torch._dynamo.convert_frame: [WARNING]            ^^^^^^^^^^^^^^^^^^^\n",
      "[2024-10-18 12:47:11,087] torch._dynamo.convert_frame: [WARNING]   File \"/home/aweng/dataeval/.tox/docs/lib/python3.11/site-packages/torch/_dynamo/output_graph.py\", line 1087, in compile_and_call_fx_graph\n",
      "[2024-10-18 12:47:11,087] torch._dynamo.convert_frame: [WARNING]     compiled_fn = self.call_user_compiler(gm)\n",
      "[2024-10-18 12:47:11,087] torch._dynamo.convert_frame: [WARNING]                   ^^^^^^^^^^^^^^^^^^^^^^^^^^^\n",
      "[2024-10-18 12:47:11,087] torch._dynamo.convert_frame: [WARNING]   File \"/home/aweng/dataeval/.tox/docs/lib/python3.11/site-packages/torch/_dynamo/utils.py\", line 244, in time_wrapper\n",
      "[2024-10-18 12:47:11,087] torch._dynamo.convert_frame: [WARNING]     r = func(*args, **kwargs)\n",
      "[2024-10-18 12:47:11,087] torch._dynamo.convert_frame: [WARNING]         ^^^^^^^^^^^^^^^^^^^^^\n",
      "[2024-10-18 12:47:11,087] torch._dynamo.convert_frame: [WARNING]   File \"/home/aweng/dataeval/.tox/docs/lib/python3.11/site-packages/torch/_dynamo/output_graph.py\", line 1159, in call_user_compiler\n",
      "[2024-10-18 12:47:11,087] torch._dynamo.convert_frame: [WARNING]     raise BackendCompilerFailed(self.compiler_fn, e).with_traceback(\n",
      "[2024-10-18 12:47:11,087] torch._dynamo.convert_frame: [WARNING]   File \"/home/aweng/dataeval/.tox/docs/lib/python3.11/site-packages/torch/_dynamo/output_graph.py\", line 1140, in call_user_compiler\n",
      "[2024-10-18 12:47:11,087] torch._dynamo.convert_frame: [WARNING]     compiled_fn = compiler_fn(gm, self.example_inputs())\n",
      "[2024-10-18 12:47:11,087] torch._dynamo.convert_frame: [WARNING]                   ^^^^^^^^^^^^^^^^^^^^^^^^^^^^^^^^^^^^^^\n",
      "[2024-10-18 12:47:11,087] torch._dynamo.convert_frame: [WARNING]   File \"/home/aweng/dataeval/.tox/docs/lib/python3.11/site-packages/torch/_dynamo/repro/after_dynamo.py\", line 117, in debug_wrapper\n",
      "[2024-10-18 12:47:11,087] torch._dynamo.convert_frame: [WARNING]     compiled_gm = compiler_fn(gm, example_inputs)\n",
      "[2024-10-18 12:47:11,087] torch._dynamo.convert_frame: [WARNING]                   ^^^^^^^^^^^^^^^^^^^^^^^^^^^^^^^\n",
      "[2024-10-18 12:47:11,087] torch._dynamo.convert_frame: [WARNING]   File \"/home/aweng/dataeval/.tox/docs/lib/python3.11/site-packages/torch/__init__.py\", line 1662, in __call__\n",
      "[2024-10-18 12:47:11,087] torch._dynamo.convert_frame: [WARNING]     return compile_fx(model_, inputs_, config_patches=self.config)\n",
      "[2024-10-18 12:47:11,087] torch._dynamo.convert_frame: [WARNING]            ^^^^^^^^^^^^^^^^^^^^^^^^^^^^^^^^^^^^^^^^^^^^^^^^^^^^^^^\n",
      "[2024-10-18 12:47:11,087] torch._dynamo.convert_frame: [WARNING]   File \"/home/aweng/dataeval/.tox/docs/lib/python3.11/site-packages/torch/_inductor/compile_fx.py\", line 1168, in compile_fx\n",
      "[2024-10-18 12:47:11,087] torch._dynamo.convert_frame: [WARNING]     return aot_autograd(\n",
      "[2024-10-18 12:47:11,087] torch._dynamo.convert_frame: [WARNING]            ^^^^^^^^^^^^^\n",
      "[2024-10-18 12:47:11,087] torch._dynamo.convert_frame: [WARNING]   File \"/home/aweng/dataeval/.tox/docs/lib/python3.11/site-packages/torch/_dynamo/backends/common.py\", line 55, in compiler_fn\n",
      "[2024-10-18 12:47:11,087] torch._dynamo.convert_frame: [WARNING]     cg = aot_module_simplified(gm, example_inputs, **kwargs)\n",
      "[2024-10-18 12:47:11,087] torch._dynamo.convert_frame: [WARNING]          ^^^^^^^^^^^^^^^^^^^^^^^^^^^^^^^^^^^^^^^^^^^^^^^^^^^\n",
      "[2024-10-18 12:47:11,087] torch._dynamo.convert_frame: [WARNING]   File \"/home/aweng/dataeval/.tox/docs/lib/python3.11/site-packages/torch/_functorch/aot_autograd.py\", line 887, in aot_module_simplified\n",
      "[2024-10-18 12:47:11,087] torch._dynamo.convert_frame: [WARNING]     compiled_fn = create_aot_dispatcher_function(\n",
      "[2024-10-18 12:47:11,087] torch._dynamo.convert_frame: [WARNING]                   ^^^^^^^^^^^^^^^^^^^^^^^^^^^^^^^\n",
      "[2024-10-18 12:47:11,087] torch._dynamo.convert_frame: [WARNING]   File \"/home/aweng/dataeval/.tox/docs/lib/python3.11/site-packages/torch/_dynamo/utils.py\", line 244, in time_wrapper\n",
      "[2024-10-18 12:47:11,087] torch._dynamo.convert_frame: [WARNING]     r = func(*args, **kwargs)\n",
      "[2024-10-18 12:47:11,087] torch._dynamo.convert_frame: [WARNING]         ^^^^^^^^^^^^^^^^^^^^^\n",
      "[2024-10-18 12:47:11,087] torch._dynamo.convert_frame: [WARNING]   File \"/home/aweng/dataeval/.tox/docs/lib/python3.11/site-packages/torch/_functorch/aot_autograd.py\", line 600, in create_aot_dispatcher_function\n",
      "[2024-10-18 12:47:11,087] torch._dynamo.convert_frame: [WARNING]     compiled_fn = compiler_fn(flat_fn, fake_flat_args, aot_config, fw_metadata=fw_metadata)\n",
      "[2024-10-18 12:47:11,087] torch._dynamo.convert_frame: [WARNING]                   ^^^^^^^^^^^^^^^^^^^^^^^^^^^^^^^^^^^^^^^^^^^^^^^^^^^^^^^^^^^^^^^^^^^^^^^^^\n",
      "[2024-10-18 12:47:11,087] torch._dynamo.convert_frame: [WARNING]   File \"/home/aweng/dataeval/.tox/docs/lib/python3.11/site-packages/torch/_functorch/_aot_autograd/runtime_wrappers.py\", line 425, in aot_wrapper_dedupe\n",
      "[2024-10-18 12:47:11,087] torch._dynamo.convert_frame: [WARNING]     return compiler_fn(flat_fn, leaf_flat_args, aot_config, fw_metadata=fw_metadata)\n",
      "[2024-10-18 12:47:11,087] torch._dynamo.convert_frame: [WARNING]            ^^^^^^^^^^^^^^^^^^^^^^^^^^^^^^^^^^^^^^^^^^^^^^^^^^^^^^^^^^^^^^^^^^^^^^^^^\n",
      "[2024-10-18 12:47:11,087] torch._dynamo.convert_frame: [WARNING]   File \"/home/aweng/dataeval/.tox/docs/lib/python3.11/site-packages/torch/_functorch/_aot_autograd/runtime_wrappers.py\", line 630, in aot_wrapper_synthetic_base\n",
      "[2024-10-18 12:47:11,087] torch._dynamo.convert_frame: [WARNING]     return compiler_fn(flat_fn, flat_args, aot_config, fw_metadata=fw_metadata)\n",
      "[2024-10-18 12:47:11,087] torch._dynamo.convert_frame: [WARNING]            ^^^^^^^^^^^^^^^^^^^^^^^^^^^^^^^^^^^^^^^^^^^^^^^^^^^^^^^^^^^^^^^^^^^^\n",
      "[2024-10-18 12:47:11,087] torch._dynamo.convert_frame: [WARNING]   File \"/home/aweng/dataeval/.tox/docs/lib/python3.11/site-packages/torch/_functorch/_aot_autograd/jit_compile_runtime_wrappers.py\", line 295, in aot_dispatch_autograd\n",
      "[2024-10-18 12:47:11,087] torch._dynamo.convert_frame: [WARNING]     compiled_fw_func = aot_config.fw_compiler(fw_module, adjusted_flat_args)\n",
      "[2024-10-18 12:47:11,087] torch._dynamo.convert_frame: [WARNING]                        ^^^^^^^^^^^^^^^^^^^^^^^^^^^^^^^^^^^^^^^^^^^^^^^^^^^^^\n",
      "[2024-10-18 12:47:11,087] torch._dynamo.convert_frame: [WARNING]   File \"/home/aweng/dataeval/.tox/docs/lib/python3.11/site-packages/torch/_dynamo/utils.py\", line 244, in time_wrapper\n",
      "[2024-10-18 12:47:11,087] torch._dynamo.convert_frame: [WARNING]     r = func(*args, **kwargs)\n",
      "[2024-10-18 12:47:11,087] torch._dynamo.convert_frame: [WARNING]         ^^^^^^^^^^^^^^^^^^^^^\n",
      "[2024-10-18 12:47:11,087] torch._dynamo.convert_frame: [WARNING]   File \"/home/aweng/dataeval/.tox/docs/lib/python3.11/site-packages/torch/_inductor/compile_fx.py\", line 1100, in fw_compiler_base\n",
      "[2024-10-18 12:47:11,087] torch._dynamo.convert_frame: [WARNING]     return inner_compile(\n",
      "[2024-10-18 12:47:11,087] torch._dynamo.convert_frame: [WARNING]            ^^^^^^^^^^^^^^\n",
      "[2024-10-18 12:47:11,087] torch._dynamo.convert_frame: [WARNING]   File \"/home/aweng/dataeval/.tox/docs/lib/python3.11/site-packages/torch/_dynamo/repro/after_aot.py\", line 83, in debug_wrapper\n",
      "[2024-10-18 12:47:11,087] torch._dynamo.convert_frame: [WARNING]     inner_compiled_fn = compiler_fn(gm, example_inputs)\n",
      "[2024-10-18 12:47:11,087] torch._dynamo.convert_frame: [WARNING]                         ^^^^^^^^^^^^^^^^^^^^^^^^^^^^^^^\n",
      "[2024-10-18 12:47:11,087] torch._dynamo.convert_frame: [WARNING]   File \"/home/aweng/dataeval/.tox/docs/lib/python3.11/site-packages/torch/_inductor/debug.py\", line 305, in inner\n",
      "[2024-10-18 12:47:11,087] torch._dynamo.convert_frame: [WARNING]     return fn(*args, **kwargs)\n",
      "[2024-10-18 12:47:11,087] torch._dynamo.convert_frame: [WARNING]            ^^^^^^^^^^^^^^^^^^^\n",
      "[2024-10-18 12:47:11,087] torch._dynamo.convert_frame: [WARNING]   File \"/home/aweng/.local/share/uv/python/cpython-3.11.10-linux-x86_64-gnu/lib/python3.11/contextlib.py\", line 81, in inner\n",
      "[2024-10-18 12:47:11,087] torch._dynamo.convert_frame: [WARNING]     return func(*args, **kwds)\n",
      "[2024-10-18 12:47:11,087] torch._dynamo.convert_frame: [WARNING]            ^^^^^^^^^^^^^^^^^^^\n",
      "[2024-10-18 12:47:11,087] torch._dynamo.convert_frame: [WARNING]   File \"/home/aweng/dataeval/.tox/docs/lib/python3.11/site-packages/torch/_inductor/compile_fx.py\", line 320, in compile_fx_inner\n",
      "[2024-10-18 12:47:11,087] torch._dynamo.convert_frame: [WARNING]     compiled_graph = fx_codegen_and_compile(\n",
      "[2024-10-18 12:47:11,087] torch._dynamo.convert_frame: [WARNING]                      ^^^^^^^^^^^^^^^^^^^^^^^\n",
      "[2024-10-18 12:47:11,087] torch._dynamo.convert_frame: [WARNING]   File \"/home/aweng/dataeval/.tox/docs/lib/python3.11/site-packages/torch/_inductor/compile_fx.py\", line 550, in fx_codegen_and_compile\n",
      "[2024-10-18 12:47:11,087] torch._dynamo.convert_frame: [WARNING]     compiled_fn = graph.compile_to_fn()\n",
      "[2024-10-18 12:47:11,087] torch._dynamo.convert_frame: [WARNING]                   ^^^^^^^^^^^^^^^^^^^^^\n",
      "[2024-10-18 12:47:11,087] torch._dynamo.convert_frame: [WARNING]   File \"/home/aweng/dataeval/.tox/docs/lib/python3.11/site-packages/torch/_inductor/graph.py\", line 1116, in compile_to_fn\n",
      "[2024-10-18 12:47:11,087] torch._dynamo.convert_frame: [WARNING]     return self.compile_to_module().call\n",
      "[2024-10-18 12:47:11,087] torch._dynamo.convert_frame: [WARNING]            ^^^^^^^^^^^^^^^^^^^^^^^^\n",
      "[2024-10-18 12:47:11,087] torch._dynamo.convert_frame: [WARNING]   File \"/home/aweng/dataeval/.tox/docs/lib/python3.11/site-packages/torch/_dynamo/utils.py\", line 244, in time_wrapper\n",
      "[2024-10-18 12:47:11,087] torch._dynamo.convert_frame: [WARNING]     r = func(*args, **kwargs)\n",
      "[2024-10-18 12:47:11,087] torch._dynamo.convert_frame: [WARNING]         ^^^^^^^^^^^^^^^^^^^^^\n",
      "[2024-10-18 12:47:11,087] torch._dynamo.convert_frame: [WARNING]   File \"/home/aweng/dataeval/.tox/docs/lib/python3.11/site-packages/torch/_inductor/graph.py\", line 1070, in compile_to_module\n",
      "[2024-10-18 12:47:11,087] torch._dynamo.convert_frame: [WARNING]     mod = PyCodeCache.load_by_key_path(\n",
      "[2024-10-18 12:47:11,087] torch._dynamo.convert_frame: [WARNING]           ^^^^^^^^^^^^^^^^^^^^^^^^^^^^^\n",
      "[2024-10-18 12:47:11,087] torch._dynamo.convert_frame: [WARNING]   File \"/home/aweng/dataeval/.tox/docs/lib/python3.11/site-packages/torch/_inductor/codecache.py\", line 1892, in load_by_key_path\n",
      "[2024-10-18 12:47:11,087] torch._dynamo.convert_frame: [WARNING]     exec(code, mod.__dict__, mod.__dict__)\n",
      "[2024-10-18 12:47:11,087] torch._dynamo.convert_frame: [WARNING]   File \"/tmp/torchinductor_aweng/bl/cblkclwqnrsizao6uhuijfqfi7jmfrlu43taqueiqj65jt2cdqwz.py\", line 180, in <module>\n",
      "[2024-10-18 12:47:11,087] torch._dynamo.convert_frame: [WARNING]     async_compile.wait(globals())\n",
      "[2024-10-18 12:47:11,087] torch._dynamo.convert_frame: [WARNING]   File \"/home/aweng/dataeval/.tox/docs/lib/python3.11/site-packages/torch/_inductor/codecache.py\", line 2471, in wait\n",
      "[2024-10-18 12:47:11,087] torch._dynamo.convert_frame: [WARNING]     scope[key] = result.result()\n",
      "[2024-10-18 12:47:11,087] torch._dynamo.convert_frame: [WARNING]                  ^^^^^^^^^^^^^^^\n",
      "[2024-10-18 12:47:11,087] torch._dynamo.convert_frame: [WARNING]   File \"/home/aweng/dataeval/.tox/docs/lib/python3.11/site-packages/torch/_inductor/codecache.py\", line 2314, in result\n",
      "[2024-10-18 12:47:11,087] torch._dynamo.convert_frame: [WARNING]     self.future.result()\n",
      "[2024-10-18 12:47:11,087] torch._dynamo.convert_frame: [WARNING]   File \"/home/aweng/.local/share/uv/python/cpython-3.11.10-linux-x86_64-gnu/lib/python3.11/concurrent/futures/_base.py\", line 456, in result\n",
      "[2024-10-18 12:47:11,087] torch._dynamo.convert_frame: [WARNING]     return self.__get_result()\n",
      "[2024-10-18 12:47:11,087] torch._dynamo.convert_frame: [WARNING]            ^^^^^^^^^^^^^^^^^^^\n",
      "[2024-10-18 12:47:11,087] torch._dynamo.convert_frame: [WARNING]   File \"/home/aweng/.local/share/uv/python/cpython-3.11.10-linux-x86_64-gnu/lib/python3.11/concurrent/futures/_base.py\", line 401, in __get_result\n",
      "[2024-10-18 12:47:11,087] torch._dynamo.convert_frame: [WARNING]     raise self._exception\n",
      "[2024-10-18 12:47:11,087] torch._dynamo.convert_frame: [WARNING] torch._dynamo.exc.BackendCompilerFailed: backend='inductor' raised:\n",
      "[2024-10-18 12:47:11,087] torch._dynamo.convert_frame: [WARNING] RuntimeError: Failed to find C compiler. Please specify via CC environment variable.\n",
      "[2024-10-18 12:47:11,087] torch._dynamo.convert_frame: [WARNING] \n",
      "[2024-10-18 12:47:11,087] torch._dynamo.convert_frame: [WARNING] Set TORCH_LOGS=\"+dynamo\" and TORCHDYNAMO_VERBOSE=1 for more information\n",
      "[2024-10-18 12:47:11,087] torch._dynamo.convert_frame: [WARNING] \n",
      "[2024-10-18 12:47:11,087] torch._dynamo.convert_frame: [WARNING] Traceback (most recent call last):\n",
      "[2024-10-18 12:47:11,087] torch._dynamo.convert_frame: [WARNING]   File \"/home/aweng/dataeval/.tox/docs/lib/python3.11/site-packages/torch/_dynamo/convert_frame.py\", line 727, in _convert_frame\n",
      "[2024-10-18 12:47:11,087] torch._dynamo.convert_frame: [WARNING]     result = inner_convert(frame, cache_entry, hooks, frame_state)\n",
      "[2024-10-18 12:47:11,087] torch._dynamo.convert_frame: [WARNING]              ^^^^^^^^^^^^^^^^^^^^^^^^^^^^^^^^^^^^^^^^^^^^^^^^^^^^^\n",
      "[2024-10-18 12:47:11,087] torch._dynamo.convert_frame: [WARNING]   File \"/home/aweng/dataeval/.tox/docs/lib/python3.11/site-packages/torch/_dynamo/convert_frame.py\", line 383, in _convert_frame_assert\n",
      "[2024-10-18 12:47:11,087] torch._dynamo.convert_frame: [WARNING]     compiled_product = _compile(\n",
      "[2024-10-18 12:47:11,087] torch._dynamo.convert_frame: [WARNING]                        ^^^^^^^^^\n",
      "[2024-10-18 12:47:11,087] torch._dynamo.convert_frame: [WARNING]   File \"/home/aweng/dataeval/.tox/docs/lib/python3.11/site-packages/torch/_dynamo/convert_frame.py\", line 646, in _compile\n",
      "[2024-10-18 12:47:11,087] torch._dynamo.convert_frame: [WARNING]     guarded_code = compile_inner(code, one_graph, hooks, transform)\n",
      "[2024-10-18 12:47:11,087] torch._dynamo.convert_frame: [WARNING]                    ^^^^^^^^^^^^^^^^^^^^^^^^^^^^^^^^^^^^^^^^^^^^^^^^\n",
      "[2024-10-18 12:47:11,087] torch._dynamo.convert_frame: [WARNING]   File \"/home/aweng/dataeval/.tox/docs/lib/python3.11/site-packages/torch/_dynamo/utils.py\", line 244, in time_wrapper\n",
      "[2024-10-18 12:47:11,087] torch._dynamo.convert_frame: [WARNING]     r = func(*args, **kwargs)\n",
      "[2024-10-18 12:47:11,087] torch._dynamo.convert_frame: [WARNING]         ^^^^^^^^^^^^^^^^^^^^^\n",
      "[2024-10-18 12:47:11,087] torch._dynamo.convert_frame: [WARNING]   File \"/home/aweng/dataeval/.tox/docs/lib/python3.11/site-packages/torch/_dynamo/convert_frame.py\", line 562, in compile_inner\n",
      "[2024-10-18 12:47:11,087] torch._dynamo.convert_frame: [WARNING]     out_code = transform_code_object(code, transform)\n",
      "[2024-10-18 12:47:11,087] torch._dynamo.convert_frame: [WARNING]                ^^^^^^^^^^^^^^^^^^^^^^^^^^^^^^^^^^^^^^\n",
      "[2024-10-18 12:47:11,087] torch._dynamo.convert_frame: [WARNING]   File \"/home/aweng/dataeval/.tox/docs/lib/python3.11/site-packages/torch/_dynamo/bytecode_transformation.py\", line 1033, in transform_code_object\n",
      "[2024-10-18 12:47:11,087] torch._dynamo.convert_frame: [WARNING]     transformations(instructions, code_options)\n",
      "[2024-10-18 12:47:11,087] torch._dynamo.convert_frame: [WARNING]   File \"/home/aweng/dataeval/.tox/docs/lib/python3.11/site-packages/torch/_dynamo/convert_frame.py\", line 151, in _fn\n",
      "[2024-10-18 12:47:11,087] torch._dynamo.convert_frame: [WARNING]     return fn(*args, **kwargs)\n",
      "[2024-10-18 12:47:11,087] torch._dynamo.convert_frame: [WARNING]            ^^^^^^^^^^^^^^^^^^^\n",
      "[2024-10-18 12:47:11,087] torch._dynamo.convert_frame: [WARNING]   File \"/home/aweng/dataeval/.tox/docs/lib/python3.11/site-packages/torch/_dynamo/convert_frame.py\", line 527, in transform\n",
      "[2024-10-18 12:47:11,087] torch._dynamo.convert_frame: [WARNING]     tracer.run()\n",
      "[2024-10-18 12:47:11,087] torch._dynamo.convert_frame: [WARNING]   File \"/home/aweng/dataeval/.tox/docs/lib/python3.11/site-packages/torch/_dynamo/symbolic_convert.py\", line 2128, in run\n",
      "[2024-10-18 12:47:11,087] torch._dynamo.convert_frame: [WARNING]     super().run()\n",
      "[2024-10-18 12:47:11,087] torch._dynamo.convert_frame: [WARNING]   File \"/home/aweng/dataeval/.tox/docs/lib/python3.11/site-packages/torch/_dynamo/symbolic_convert.py\", line 818, in run\n",
      "[2024-10-18 12:47:11,087] torch._dynamo.convert_frame: [WARNING]     and self.step()\n",
      "[2024-10-18 12:47:11,087] torch._dynamo.convert_frame: [WARNING]         ^^^^^^^^^^^\n",
      "[2024-10-18 12:47:11,087] torch._dynamo.convert_frame: [WARNING]   File \"/home/aweng/dataeval/.tox/docs/lib/python3.11/site-packages/torch/_dynamo/symbolic_convert.py\", line 781, in step\n",
      "[2024-10-18 12:47:11,087] torch._dynamo.convert_frame: [WARNING]     getattr(self, inst.opname)(inst)\n",
      "[2024-10-18 12:47:11,087] torch._dynamo.convert_frame: [WARNING]   File \"/home/aweng/dataeval/.tox/docs/lib/python3.11/site-packages/torch/_dynamo/symbolic_convert.py\", line 2243, in RETURN_VALUE\n",
      "[2024-10-18 12:47:11,087] torch._dynamo.convert_frame: [WARNING]     self.output.compile_subgraph(\n",
      "[2024-10-18 12:47:11,087] torch._dynamo.convert_frame: [WARNING]   File \"/home/aweng/dataeval/.tox/docs/lib/python3.11/site-packages/torch/_dynamo/output_graph.py\", line 919, in compile_subgraph\n",
      "[2024-10-18 12:47:11,087] torch._dynamo.convert_frame: [WARNING]     self.compile_and_call_fx_graph(tx, list(reversed(stack_values)), root)\n",
      "[2024-10-18 12:47:11,087] torch._dynamo.convert_frame: [WARNING]   File \"/home/aweng/.local/share/uv/python/cpython-3.11.10-linux-x86_64-gnu/lib/python3.11/contextlib.py\", line 81, in inner\n",
      "[2024-10-18 12:47:11,087] torch._dynamo.convert_frame: [WARNING]     return func(*args, **kwds)\n",
      "[2024-10-18 12:47:11,087] torch._dynamo.convert_frame: [WARNING]            ^^^^^^^^^^^^^^^^^^^\n",
      "[2024-10-18 12:47:11,087] torch._dynamo.convert_frame: [WARNING]   File \"/home/aweng/dataeval/.tox/docs/lib/python3.11/site-packages/torch/_dynamo/output_graph.py\", line 1087, in compile_and_call_fx_graph\n",
      "[2024-10-18 12:47:11,087] torch._dynamo.convert_frame: [WARNING]     compiled_fn = self.call_user_compiler(gm)\n",
      "[2024-10-18 12:47:11,087] torch._dynamo.convert_frame: [WARNING]                   ^^^^^^^^^^^^^^^^^^^^^^^^^^^\n",
      "[2024-10-18 12:47:11,087] torch._dynamo.convert_frame: [WARNING]   File \"/home/aweng/dataeval/.tox/docs/lib/python3.11/site-packages/torch/_dynamo/utils.py\", line 244, in time_wrapper\n",
      "[2024-10-18 12:47:11,087] torch._dynamo.convert_frame: [WARNING]     r = func(*args, **kwargs)\n",
      "[2024-10-18 12:47:11,087] torch._dynamo.convert_frame: [WARNING]         ^^^^^^^^^^^^^^^^^^^^^\n",
      "[2024-10-18 12:47:11,087] torch._dynamo.convert_frame: [WARNING]   File \"/home/aweng/dataeval/.tox/docs/lib/python3.11/site-packages/torch/_dynamo/output_graph.py\", line 1159, in call_user_compiler\n",
      "[2024-10-18 12:47:11,087] torch._dynamo.convert_frame: [WARNING]     raise BackendCompilerFailed(self.compiler_fn, e).with_traceback(\n",
      "[2024-10-18 12:47:11,087] torch._dynamo.convert_frame: [WARNING]   File \"/home/aweng/dataeval/.tox/docs/lib/python3.11/site-packages/torch/_dynamo/output_graph.py\", line 1140, in call_user_compiler\n",
      "[2024-10-18 12:47:11,087] torch._dynamo.convert_frame: [WARNING]     compiled_fn = compiler_fn(gm, self.example_inputs())\n",
      "[2024-10-18 12:47:11,087] torch._dynamo.convert_frame: [WARNING]                   ^^^^^^^^^^^^^^^^^^^^^^^^^^^^^^^^^^^^^^\n",
      "[2024-10-18 12:47:11,087] torch._dynamo.convert_frame: [WARNING]   File \"/home/aweng/dataeval/.tox/docs/lib/python3.11/site-packages/torch/_dynamo/repro/after_dynamo.py\", line 117, in debug_wrapper\n",
      "[2024-10-18 12:47:11,087] torch._dynamo.convert_frame: [WARNING]     compiled_gm = compiler_fn(gm, example_inputs)\n",
      "[2024-10-18 12:47:11,087] torch._dynamo.convert_frame: [WARNING]                   ^^^^^^^^^^^^^^^^^^^^^^^^^^^^^^^\n",
      "[2024-10-18 12:47:11,087] torch._dynamo.convert_frame: [WARNING]   File \"/home/aweng/dataeval/.tox/docs/lib/python3.11/site-packages/torch/__init__.py\", line 1662, in __call__\n",
      "[2024-10-18 12:47:11,087] torch._dynamo.convert_frame: [WARNING]     return compile_fx(model_, inputs_, config_patches=self.config)\n",
      "[2024-10-18 12:47:11,087] torch._dynamo.convert_frame: [WARNING]            ^^^^^^^^^^^^^^^^^^^^^^^^^^^^^^^^^^^^^^^^^^^^^^^^^^^^^^^\n",
      "[2024-10-18 12:47:11,087] torch._dynamo.convert_frame: [WARNING]   File \"/home/aweng/dataeval/.tox/docs/lib/python3.11/site-packages/torch/_inductor/compile_fx.py\", line 1168, in compile_fx\n",
      "[2024-10-18 12:47:11,087] torch._dynamo.convert_frame: [WARNING]     return aot_autograd(\n",
      "[2024-10-18 12:47:11,087] torch._dynamo.convert_frame: [WARNING]            ^^^^^^^^^^^^^\n",
      "[2024-10-18 12:47:11,087] torch._dynamo.convert_frame: [WARNING]   File \"/home/aweng/dataeval/.tox/docs/lib/python3.11/site-packages/torch/_dynamo/backends/common.py\", line 55, in compiler_fn\n",
      "[2024-10-18 12:47:11,087] torch._dynamo.convert_frame: [WARNING]     cg = aot_module_simplified(gm, example_inputs, **kwargs)\n",
      "[2024-10-18 12:47:11,087] torch._dynamo.convert_frame: [WARNING]          ^^^^^^^^^^^^^^^^^^^^^^^^^^^^^^^^^^^^^^^^^^^^^^^^^^^\n",
      "[2024-10-18 12:47:11,087] torch._dynamo.convert_frame: [WARNING]   File \"/home/aweng/dataeval/.tox/docs/lib/python3.11/site-packages/torch/_functorch/aot_autograd.py\", line 887, in aot_module_simplified\n",
      "[2024-10-18 12:47:11,087] torch._dynamo.convert_frame: [WARNING]     compiled_fn = create_aot_dispatcher_function(\n",
      "[2024-10-18 12:47:11,087] torch._dynamo.convert_frame: [WARNING]                   ^^^^^^^^^^^^^^^^^^^^^^^^^^^^^^^\n",
      "[2024-10-18 12:47:11,087] torch._dynamo.convert_frame: [WARNING]   File \"/home/aweng/dataeval/.tox/docs/lib/python3.11/site-packages/torch/_dynamo/utils.py\", line 244, in time_wrapper\n",
      "[2024-10-18 12:47:11,087] torch._dynamo.convert_frame: [WARNING]     r = func(*args, **kwargs)\n",
      "[2024-10-18 12:47:11,087] torch._dynamo.convert_frame: [WARNING]         ^^^^^^^^^^^^^^^^^^^^^\n",
      "[2024-10-18 12:47:11,087] torch._dynamo.convert_frame: [WARNING]   File \"/home/aweng/dataeval/.tox/docs/lib/python3.11/site-packages/torch/_functorch/aot_autograd.py\", line 600, in create_aot_dispatcher_function\n",
      "[2024-10-18 12:47:11,087] torch._dynamo.convert_frame: [WARNING]     compiled_fn = compiler_fn(flat_fn, fake_flat_args, aot_config, fw_metadata=fw_metadata)\n",
      "[2024-10-18 12:47:11,087] torch._dynamo.convert_frame: [WARNING]                   ^^^^^^^^^^^^^^^^^^^^^^^^^^^^^^^^^^^^^^^^^^^^^^^^^^^^^^^^^^^^^^^^^^^^^^^^^\n",
      "[2024-10-18 12:47:11,087] torch._dynamo.convert_frame: [WARNING]   File \"/home/aweng/dataeval/.tox/docs/lib/python3.11/site-packages/torch/_functorch/_aot_autograd/runtime_wrappers.py\", line 425, in aot_wrapper_dedupe\n",
      "[2024-10-18 12:47:11,087] torch._dynamo.convert_frame: [WARNING]     return compiler_fn(flat_fn, leaf_flat_args, aot_config, fw_metadata=fw_metadata)\n",
      "[2024-10-18 12:47:11,087] torch._dynamo.convert_frame: [WARNING]            ^^^^^^^^^^^^^^^^^^^^^^^^^^^^^^^^^^^^^^^^^^^^^^^^^^^^^^^^^^^^^^^^^^^^^^^^^\n",
      "[2024-10-18 12:47:11,087] torch._dynamo.convert_frame: [WARNING]   File \"/home/aweng/dataeval/.tox/docs/lib/python3.11/site-packages/torch/_functorch/_aot_autograd/runtime_wrappers.py\", line 630, in aot_wrapper_synthetic_base\n",
      "[2024-10-18 12:47:11,087] torch._dynamo.convert_frame: [WARNING]     return compiler_fn(flat_fn, flat_args, aot_config, fw_metadata=fw_metadata)\n",
      "[2024-10-18 12:47:11,087] torch._dynamo.convert_frame: [WARNING]            ^^^^^^^^^^^^^^^^^^^^^^^^^^^^^^^^^^^^^^^^^^^^^^^^^^^^^^^^^^^^^^^^^^^^\n",
      "[2024-10-18 12:47:11,087] torch._dynamo.convert_frame: [WARNING]   File \"/home/aweng/dataeval/.tox/docs/lib/python3.11/site-packages/torch/_functorch/_aot_autograd/jit_compile_runtime_wrappers.py\", line 295, in aot_dispatch_autograd\n",
      "[2024-10-18 12:47:11,087] torch._dynamo.convert_frame: [WARNING]     compiled_fw_func = aot_config.fw_compiler(fw_module, adjusted_flat_args)\n",
      "[2024-10-18 12:47:11,087] torch._dynamo.convert_frame: [WARNING]                        ^^^^^^^^^^^^^^^^^^^^^^^^^^^^^^^^^^^^^^^^^^^^^^^^^^^^^\n",
      "[2024-10-18 12:47:11,087] torch._dynamo.convert_frame: [WARNING]   File \"/home/aweng/dataeval/.tox/docs/lib/python3.11/site-packages/torch/_dynamo/utils.py\", line 244, in time_wrapper\n",
      "[2024-10-18 12:47:11,087] torch._dynamo.convert_frame: [WARNING]     r = func(*args, **kwargs)\n",
      "[2024-10-18 12:47:11,087] torch._dynamo.convert_frame: [WARNING]         ^^^^^^^^^^^^^^^^^^^^^\n",
      "[2024-10-18 12:47:11,087] torch._dynamo.convert_frame: [WARNING]   File \"/home/aweng/dataeval/.tox/docs/lib/python3.11/site-packages/torch/_inductor/compile_fx.py\", line 1100, in fw_compiler_base\n",
      "[2024-10-18 12:47:11,087] torch._dynamo.convert_frame: [WARNING]     return inner_compile(\n",
      "[2024-10-18 12:47:11,087] torch._dynamo.convert_frame: [WARNING]            ^^^^^^^^^^^^^^\n",
      "[2024-10-18 12:47:11,087] torch._dynamo.convert_frame: [WARNING]   File \"/home/aweng/dataeval/.tox/docs/lib/python3.11/site-packages/torch/_dynamo/repro/after_aot.py\", line 83, in debug_wrapper\n",
      "[2024-10-18 12:47:11,087] torch._dynamo.convert_frame: [WARNING]     inner_compiled_fn = compiler_fn(gm, example_inputs)\n",
      "[2024-10-18 12:47:11,087] torch._dynamo.convert_frame: [WARNING]                         ^^^^^^^^^^^^^^^^^^^^^^^^^^^^^^^\n",
      "[2024-10-18 12:47:11,087] torch._dynamo.convert_frame: [WARNING]   File \"/home/aweng/dataeval/.tox/docs/lib/python3.11/site-packages/torch/_inductor/debug.py\", line 305, in inner\n",
      "[2024-10-18 12:47:11,087] torch._dynamo.convert_frame: [WARNING]     return fn(*args, **kwargs)\n",
      "[2024-10-18 12:47:11,087] torch._dynamo.convert_frame: [WARNING]            ^^^^^^^^^^^^^^^^^^^\n",
      "[2024-10-18 12:47:11,087] torch._dynamo.convert_frame: [WARNING]   File \"/home/aweng/.local/share/uv/python/cpython-3.11.10-linux-x86_64-gnu/lib/python3.11/contextlib.py\", line 81, in inner\n",
      "[2024-10-18 12:47:11,087] torch._dynamo.convert_frame: [WARNING]     return func(*args, **kwds)\n",
      "[2024-10-18 12:47:11,087] torch._dynamo.convert_frame: [WARNING]            ^^^^^^^^^^^^^^^^^^^\n",
      "[2024-10-18 12:47:11,087] torch._dynamo.convert_frame: [WARNING]   File \"/home/aweng/dataeval/.tox/docs/lib/python3.11/site-packages/torch/_inductor/compile_fx.py\", line 320, in compile_fx_inner\n",
      "[2024-10-18 12:47:11,087] torch._dynamo.convert_frame: [WARNING]     compiled_graph = fx_codegen_and_compile(\n",
      "[2024-10-18 12:47:11,087] torch._dynamo.convert_frame: [WARNING]                      ^^^^^^^^^^^^^^^^^^^^^^^\n",
      "[2024-10-18 12:47:11,087] torch._dynamo.convert_frame: [WARNING]   File \"/home/aweng/dataeval/.tox/docs/lib/python3.11/site-packages/torch/_inductor/compile_fx.py\", line 550, in fx_codegen_and_compile\n",
      "[2024-10-18 12:47:11,087] torch._dynamo.convert_frame: [WARNING]     compiled_fn = graph.compile_to_fn()\n",
      "[2024-10-18 12:47:11,087] torch._dynamo.convert_frame: [WARNING]                   ^^^^^^^^^^^^^^^^^^^^^\n",
      "[2024-10-18 12:47:11,087] torch._dynamo.convert_frame: [WARNING]   File \"/home/aweng/dataeval/.tox/docs/lib/python3.11/site-packages/torch/_inductor/graph.py\", line 1116, in compile_to_fn\n",
      "[2024-10-18 12:47:11,087] torch._dynamo.convert_frame: [WARNING]     return self.compile_to_module().call\n",
      "[2024-10-18 12:47:11,087] torch._dynamo.convert_frame: [WARNING]            ^^^^^^^^^^^^^^^^^^^^^^^^\n",
      "[2024-10-18 12:47:11,087] torch._dynamo.convert_frame: [WARNING]   File \"/home/aweng/dataeval/.tox/docs/lib/python3.11/site-packages/torch/_dynamo/utils.py\", line 244, in time_wrapper\n",
      "[2024-10-18 12:47:11,087] torch._dynamo.convert_frame: [WARNING]     r = func(*args, **kwargs)\n",
      "[2024-10-18 12:47:11,087] torch._dynamo.convert_frame: [WARNING]         ^^^^^^^^^^^^^^^^^^^^^\n",
      "[2024-10-18 12:47:11,087] torch._dynamo.convert_frame: [WARNING]   File \"/home/aweng/dataeval/.tox/docs/lib/python3.11/site-packages/torch/_inductor/graph.py\", line 1070, in compile_to_module\n",
      "[2024-10-18 12:47:11,087] torch._dynamo.convert_frame: [WARNING]     mod = PyCodeCache.load_by_key_path(\n",
      "[2024-10-18 12:47:11,087] torch._dynamo.convert_frame: [WARNING]           ^^^^^^^^^^^^^^^^^^^^^^^^^^^^^\n",
      "[2024-10-18 12:47:11,087] torch._dynamo.convert_frame: [WARNING]   File \"/home/aweng/dataeval/.tox/docs/lib/python3.11/site-packages/torch/_inductor/codecache.py\", line 1892, in load_by_key_path\n",
      "[2024-10-18 12:47:11,087] torch._dynamo.convert_frame: [WARNING]     exec(code, mod.__dict__, mod.__dict__)\n",
      "[2024-10-18 12:47:11,087] torch._dynamo.convert_frame: [WARNING]   File \"/tmp/torchinductor_aweng/bl/cblkclwqnrsizao6uhuijfqfi7jmfrlu43taqueiqj65jt2cdqwz.py\", line 180, in <module>\n",
      "[2024-10-18 12:47:11,087] torch._dynamo.convert_frame: [WARNING]     async_compile.wait(globals())\n",
      "[2024-10-18 12:47:11,087] torch._dynamo.convert_frame: [WARNING]   File \"/home/aweng/dataeval/.tox/docs/lib/python3.11/site-packages/torch/_inductor/codecache.py\", line 2471, in wait\n",
      "[2024-10-18 12:47:11,087] torch._dynamo.convert_frame: [WARNING]     scope[key] = result.result()\n",
      "[2024-10-18 12:47:11,087] torch._dynamo.convert_frame: [WARNING]                  ^^^^^^^^^^^^^^^\n",
      "[2024-10-18 12:47:11,087] torch._dynamo.convert_frame: [WARNING]   File \"/home/aweng/dataeval/.tox/docs/lib/python3.11/site-packages/torch/_inductor/codecache.py\", line 2314, in result\n",
      "[2024-10-18 12:47:11,087] torch._dynamo.convert_frame: [WARNING]     self.future.result()\n",
      "[2024-10-18 12:47:11,087] torch._dynamo.convert_frame: [WARNING]   File \"/home/aweng/.local/share/uv/python/cpython-3.11.10-linux-x86_64-gnu/lib/python3.11/concurrent/futures/_base.py\", line 456, in result\n",
      "[2024-10-18 12:47:11,087] torch._dynamo.convert_frame: [WARNING]     return self.__get_result()\n",
      "[2024-10-18 12:47:11,087] torch._dynamo.convert_frame: [WARNING]            ^^^^^^^^^^^^^^^^^^^\n",
      "[2024-10-18 12:47:11,087] torch._dynamo.convert_frame: [WARNING]   File \"/home/aweng/.local/share/uv/python/cpython-3.11.10-linux-x86_64-gnu/lib/python3.11/concurrent/futures/_base.py\", line 401, in __get_result\n",
      "[2024-10-18 12:47:11,087] torch._dynamo.convert_frame: [WARNING]     raise self._exception\n",
      "[2024-10-18 12:47:11,087] torch._dynamo.convert_frame: [WARNING] torch._dynamo.exc.BackendCompilerFailed: backend='inductor' raised:\n",
      "[2024-10-18 12:47:11,087] torch._dynamo.convert_frame: [WARNING] RuntimeError: Failed to find C compiler. Please specify via CC environment variable.\n",
      "[2024-10-18 12:47:11,087] torch._dynamo.convert_frame: [WARNING] \n",
      "[2024-10-18 12:47:11,087] torch._dynamo.convert_frame: [WARNING] Set TORCH_LOGS=\"+dynamo\" and TORCHDYNAMO_VERBOSE=1 for more information\n",
      "[2024-10-18 12:47:11,087] torch._dynamo.convert_frame: [WARNING] \n"
     ]
    },
    {
     "name": "stderr",
     "output_type": "stream",
     "text": [
      "/home/aweng/dataeval/.tox/docs/lib/python3.11/site-packages/torch/nn/modules/conv.py:456: UserWarning: Applied workaround for CuDNN issue, install nvrtc.so (Triggered internally at ../aten/src/ATen/native/cudnn/Conv_v8.cpp:80.)\n",
      "  return F.conv2d(input, weight, bias, self.stride,\n"
     ]
    }
   ],
   "source": [
    "# Train & test model\n",
    "output = suff.evaluate()"
   ]
  },
  {
   "cell_type": "code",
   "execution_count": 10,
   "metadata": {},
   "outputs": [
    {
     "name": "stdout",
     "output_type": "stream",
     "text": [
      "+-------+---------------------+\n",
      "| Steps |      Accuracy       |\n",
      "+-------+---------------------+\n",
      "|  20   | 0.1156000018119812  |\n",
      "|  33   | 0.17200000286102296 |\n",
      "|  55   | 0.4956000328063965  |\n",
      "|  92   | 0.6631999969482422  |\n",
      "|  154  | 0.7303999900817871  |\n",
      "|  258  | 0.8151999473571777  |\n",
      "|  430  | 0.8464000701904297  |\n",
      "|  718  | 0.8864000320434571  |\n",
      "| 1198  | 0.9104000091552734  |\n",
      "| 2000  | 0.9255999565124512  |\n",
      "+-------+---------------------+\n"
     ]
    }
   ],
   "source": [
    "# Print out sufficiency output in a table format\n",
    "formatted = {\"Steps\": output.steps, **output.measures}\n",
    "print(tabulate(formatted, headers=list(formatted), tablefmt=\"pretty\"))"
   ]
  },
  {
   "cell_type": "code",
   "execution_count": 11,
   "metadata": {},
   "outputs": [
    {
     "name": "stdout",
     "output_type": "stream",
     "text": [
      "+-------+--------------------+\n",
      "| Steps |      Accuracy      |\n",
      "+-------+--------------------+\n",
      "| 1000  | 0.9099031214304232 |\n",
      "| 2000  | 0.9420567106877576 |\n",
      "| 4000  | 0.9634943617735365 |\n",
      "+-------+--------------------+\n"
     ]
    }
   ],
   "source": [
    "# Print out projected output values\n",
    "projection = output.project([1000, 2000, 4000])\n",
    "projected = {\"Steps\": projection.steps, **projection.measures}\n",
    "print(tabulate(projected, list(projected), tablefmt=\"pretty\"))"
   ]
  },
  {
   "cell_type": "code",
   "execution_count": 12,
   "metadata": {
    "tags": [
     "remove_cell"
    ]
   },
   "outputs": [
    {
     "name": "stdout",
     "output_type": "stream",
     "text": [
      "0.9255999565124512\n",
      "0.9634943617735365\n"
     ]
    }
   ],
   "source": [
    "### TEST ASSERTION ###\n",
    "print(output.measures[\"Accuracy\"][-1])\n",
    "print(projection.measures[\"Accuracy\"][-1])"
   ]
  },
  {
   "cell_type": "code",
   "execution_count": 13,
   "metadata": {},
   "outputs": [
    {
     "data": {
      "image/png": "[encoded data removed]",
      "text/plain": [
       "<Figure size 640x480 with 1 Axes>"
      ]
     },
     "metadata": {},
     "output_type": "display_data"
    }
   ],
   "source": [
    "# Plot the output using the convenience function\n",
    "_ = output.plot()"
   ]
  },
  {
   "cell_type": "code",
   "execution_count": 14,
   "metadata": {},
   "outputs": [],
   "source": [
    "# Initialize the array of desired accuracies\n",
    "desired_accuracies = np.array([0.90, 0.95, 0.99])\n",
    "\n",
    "# Evaluate the learning curve to infer the needed amount of training data\n",
    "samples_needed = output.inv_project({\"Accuracy\": desired_accuracies})"
   ]
  },
  {
   "cell_type": "code",
   "execution_count": 15,
   "metadata": {},
   "outputs": [
    {
     "name": "stdout",
     "output_type": "stream",
     "text": [
      "To achieve 90% accuracy, 846 samples are needed.\n",
      "To achieve 95% accuracy, 2505 samples are needed.\n",
      "To achieve 99% accuracy, 20737 samples are needed.\n"
     ]
    }
   ],
   "source": [
    "# Print the amount of needed data needed to achieve the accuracies of interest\n",
    "for i, accuracy in enumerate(desired_accuracies):\n",
    "    print(f\"To achieve {int(accuracy*100)}% accuracy, {int(samples_needed['Accuracy'][i])} samples are needed.\")"
   ]
  },
  {
   "cell_type": "code",
   "execution_count": 16,
   "metadata": {
    "tags": [
     "remove_cell"
    ]
   },
   "outputs": [
    {
     "data": {
      "text/plain": [
       "95.89999999999999"
      ]
     },
     "execution_count": 16,
     "metadata": {},
     "output_type": "execute_result"
    }
   ],
   "source": [
    "# Future BER tie in?\n",
    "\n",
    "images, labels = [], []\n",
    "for data in train_ds:\n",
    "    images.append(np.array(data[0]))\n",
    "    labels.append(data[1])\n",
    "\n",
    "images = np.array(images)\n",
    "labels = np.array(labels)\n",
    "\n",
    "from dataeval.metrics.estimators import ber\n",
    "\n",
    "ber_output = ber(images, labels)\n",
    "np.round(1 - ber_output.ber_lower, 3) * 100"
   ]
  }
 ],
 "metadata": {
  "kernelspec": {
   "display_name": "Python 3",
   "language": "python",
   "name": "python3"
  },
  "language_info": {
   "codemirror_mode": {
    "name": "ipython",
    "version": 3
   },
   "file_extension": ".py",
   "mimetype": "text/x-python",
   "name": "python",
   "nbconvert_exporter": "python",
   "pygments_lexer": "ipython3",
   "version": "3.11.10"
  }
 },
 "nbformat": 4,
 "nbformat_minor": 2
}