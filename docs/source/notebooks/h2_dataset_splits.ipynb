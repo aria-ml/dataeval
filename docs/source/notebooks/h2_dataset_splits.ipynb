{
 "cells": [
  {
   "cell_type": "markdown",
   "id": "70bd31a9",
   "metadata": {},
   "source": [
    "# How to Split your Dataset"
   ]
  },
  {
   "cell_type": "markdown",
   "id": "0027b637",
   "metadata": {},
   "source": [
    "## Coming Soon\n",
    "\n",
    "This page is under development - reach out to us for more information."
   ]
  }
 ],
 "metadata": {
  "language_info": {
   "name": "python"
  }
 },
 "nbformat": 4,
 "nbformat_minor": 5
}
