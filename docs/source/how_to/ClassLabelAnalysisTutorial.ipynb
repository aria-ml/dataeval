{
 "cells": [
  {
   "cell_type": "markdown",
   "metadata": {},
   "source": [
    "# Class Parity Label Analysis Tutorial\n"
   ]
  },
  {
   "cell_type": "markdown",
   "metadata": {},
   "source": [
    "## _Problem Statement_\n",
    "\n",
    "For machine learning tasks, a discrepancy in label frequencies between train and test datasets can result in poor model performance.\n",
    "\n",
    "To help with this, DataEval has a tool that compares the label distributions of two datasets.\n"
   ]
  },
  {
   "cell_type": "markdown",
   "metadata": {},
   "source": [
    "### _When to use_\n",
    "\n",
    "DataEval provides a {func}`.label_parity` function to use when you would like to determine if two datasets have statistically independent labels.\n"
   ]
  },
  {
   "cell_type": "markdown",
   "metadata": {},
   "source": [
    "### _What you will need_\n",
    "\n",
    "1. A Python environment with the following packages installed:\n",
    "   - dataeval\n",
    "2. A labeled training image dataset\n",
    "3. A labeled test image dataset to evaluate the label distribution of\n"
   ]
  },
  {
   "cell_type": "markdown",
   "metadata": {},
   "source": [
    "### _Setting up_\n",
    "\n",
    "Let's import the required libraries needed to set up a minimal working example\n"
   ]
  },
  {
   "cell_type": "code",
   "execution_count": null,
   "metadata": {
    "tags": [
     "remove_cell"
    ]
   },
   "outputs": [],
   "source": [
    "# Google Colab Only\n",
    "try:\n",
    "    import google.colab  # noqa: F401\n",
    "\n",
    "    # specify the version of DataEval (==X.XX.X) for versions other than the latest\n",
    "    %pip install -q dataeval\n",
    "except Exception:\n",
    "    pass"
   ]
  },
  {
   "cell_type": "code",
   "execution_count": null,
   "metadata": {},
   "outputs": [],
   "source": [
    "from dataeval.metrics.bias import label_parity\n",
    "from dataeval.utils.data import DataProcessor\n",
    "from dataeval.utils.data.datasets import MNIST"
   ]
  },
  {
   "cell_type": "markdown",
   "metadata": {},
   "source": [
    "## Load the data\n",
    "\n",
    "While you can use your own dataset, for this example we imported the `MNIST` dataset and will use it going forward.\n",
    "It was imported from the DataEval utils package.\n"
   ]
  },
  {
   "cell_type": "code",
   "execution_count": null,
   "metadata": {},
   "outputs": [],
   "source": [
    "train_ds = MNIST(\"./data\", train=True, balance=False)\n",
    "test_ds = MNIST(\"./data\", train=False, balance=False)\n",
    "\n",
    "train_dp = DataProcessor(train_ds, batch_size=64)\n",
    "test_dp = DataProcessor(test_ds, batch_size=64)\n",
    "\n",
    "# Get the labels from the collated dataset targets\n",
    "train_labels = train_dp.targets.labels\n",
    "test_labels = test_dp.targets.labels"
   ]
  },
  {
   "cell_type": "markdown",
   "metadata": {},
   "source": [
    "## Evaluate label statistical independence\n",
    "\n",
    "Now, let's look at how to use DataEval's label statistics analyzer.\n",
    "Using the {func}`.label_parity` function, compute the chi-squared value of hypothesis that test_ds has the same class distribution as train_ds by specifying the labels of the two datasets to be compared. It also returns the p-value of the test.\n"
   ]
  },
  {
   "cell_type": "code",
   "execution_count": null,
   "metadata": {},
   "outputs": [],
   "source": [
    "results = label_parity(train_labels, test_labels)\n",
    "print(f\"The chi-squared value for the two label distributions is {results.score}, with p-value {results.p_value}\")"
   ]
  },
  {
   "cell_type": "code",
   "execution_count": null,
   "metadata": {
    "tags": [
     "remove_cell"
    ]
   },
   "outputs": [],
   "source": [
    "### TEST ASSERTION CELL ###\n",
    "assert 0 <= results.score < 4\n",
    "assert 0.9 < results.p_value <= 1.0"
   ]
  }
 ],
 "metadata": {
  "kernelspec": {
   "display_name": ".venv-3.11",
   "language": "python",
   "name": "python3"
  },
  "language_info": {
   "codemirror_mode": {
    "name": "ipython",
    "version": 3
   },
   "file_extension": ".py",
   "mimetype": "text/x-python",
   "name": "python",
   "nbconvert_exporter": "python",
   "pygments_lexer": "ipython3",
   "version": "3.11.11"
  },
  "orig_nbformat": 4
 },
 "nbformat": 4,
 "nbformat_minor": 2
}
