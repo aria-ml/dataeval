{
 "cells": [
  {
   "cell_type": "markdown",
   "metadata": {},
   "source": [
    "# How to add intrinsic metadata factors\n"
   ]
  },
  {
   "cell_type": "markdown",
   "metadata": {},
   "source": [
    "## Problem Statement\n",
    "\n",
    "When performing analysis on datasets, metadata may sometimes be sparse or unavailable.\n",
    "Adding metadata to a dataset for analysis may be necessary at times, and can come in\n",
    "the forms of calculated intrinsic values or additional information originally\n",
    "unavailable on the source dataset.\n",
    "\n",
    "This guide will show you how to add in the calculated statistics from DataEval's\n",
    "{func}`.imagestats` function to the metadata for bias analysis.\n"
   ]
  },
  {
   "cell_type": "markdown",
   "metadata": {},
   "source": [
    "### _When to use_\n",
    "\n",
    "Adding metadata factors should be done when little or no metadata is available on the\n",
    "dataset, or to gain insights specific to metadata of interest that is not present natively\n",
    "in the dataset metadata.\n"
   ]
  },
  {
   "cell_type": "markdown",
   "metadata": {},
   "source": [
    "### _What you will need_\n",
    "\n",
    "1. A dataset to analyze\n",
    "2. A Python environment with the following packages installed:\n",
    "   - `dataeval[all]`\n"
   ]
  },
  {
   "cell_type": "markdown",
   "metadata": {},
   "source": [
    "## _Getting Started_\n",
    "\n",
    "First import the required libraries needed to set up the example.\n"
   ]
  },
  {
   "cell_type": "code",
   "execution_count": null,
   "metadata": {
    "tags": [
     "remove_cell"
    ]
   },
   "outputs": [],
   "source": [
    "try:\n",
    "    import google.colab  # noqa: F401\n",
    "\n",
    "    # specify the version of DataEval (==X.XX.X) for versions other than the latest\n",
    "    %pip install -q dataeval[all]\n",
    "except Exception:\n",
    "    pass"
   ]
  },
  {
   "cell_type": "code",
   "execution_count": null,
   "metadata": {},
   "outputs": [],
   "source": [
    "from dataeval.metrics.bias import balance, diversity, parity\n",
    "from dataeval.metrics.stats import imagestats\n",
    "from dataeval.utils.data import Metadata, Select\n",
    "from dataeval.utils.data.datasets import CIFAR10\n",
    "from dataeval.utils.data.selections import Limit, Shuffle"
   ]
  },
  {
   "cell_type": "markdown",
   "metadata": {},
   "source": [
    "## Load the dataset\n",
    "\n",
    "Begin by loading in the CIFAR-10 dataset.\n",
    "\n",
    "The CIFAR-10 dataset contains 60,000 images - 50,000 in the train set and 10,000\n",
    "in the test set. We will use a shuffled sample of 20,000 images from both sets.\n"
   ]
  },
  {
   "cell_type": "code",
   "execution_count": null,
   "metadata": {},
   "outputs": [],
   "source": [
    "# Load in the CIFAR10 dataset and limit to 20,000 images with random shuffling\n",
    "cifar10 = Select(CIFAR10(\"data\", image_set=\"base\", download=True), [Limit(20000), Shuffle(seed=0)])\n",
    "print(cifar10)\n"
   ]
  },
  {
   "cell_type": "markdown",
   "metadata": {},
   "source": [
    "## Inspect the metadata\n",
    "\n",
    "You can begin by inspecting the available factor names in the dataset.\n"
   ]
  },
  {
   "cell_type": "code",
   "execution_count": null,
   "metadata": {},
   "outputs": [],
   "source": [
    "metadata = Metadata(cifar10)\n",
    "print(f\"Factor names: {metadata.discrete_factor_names + metadata.continuous_factor_names}\")\n"
   ]
  },
  {
   "cell_type": "markdown",
   "metadata": {},
   "source": [
    "A quick check of the {func}`.balance` of the single factor will show no mutual information\n",
    "between the classes and the `batch_num` which indicates the on-disk binary file the image\n",
    "was extracted from."
   ]
  },
  {
   "cell_type": "code",
   "execution_count": null,
   "metadata": {},
   "outputs": [],
   "source": [
    "# Balance at index 0 is always class\n",
    "balance(metadata).balance[1]\n"
   ]
  },
  {
   "cell_type": "markdown",
   "metadata": {},
   "source": [
    "## Add image statistics to the metadata\n",
    "\n",
    "In order to perform additional bias analysis on the dataset when no meaningful metadata\n",
    "are provided, you will augment the metadata with statistics of the images using the\n",
    "{func}`.imagestats` function.\n",
    "\n",
    "Begin by running `imagestats` on the dataset and adding the factors to the `metadata`.\n"
   ]
  },
  {
   "cell_type": "code",
   "execution_count": null,
   "metadata": {},
   "outputs": [],
   "source": [
    "# Calculate image statistics\n",
    "stats = imagestats(cifar10)\n",
    "\n",
    "# Append the factors to the metadata\n",
    "metadata.add_factors(stats.factors())"
   ]
  },
  {
   "cell_type": "markdown",
   "metadata": {},
   "source": [
    ":::{note}\n",
    "\n",
    "When calculating {func}`.imagestats` for an object detection dataset, you will want\n",
    "to provide `per_box=True` to get statistics calculated for each target.\n",
    "\n",
    ":::"
   ]
  },
  {
   "cell_type": "markdown",
   "metadata": {},
   "source": [
    "Next you will add the `imagestats` output to the metadata as factors, and exclude\n",
    "factors that are uniform or without significance.\n",
    "\n",
    "Additionally, you will specify a binning strategy for continuous statistical factors,\n",
    "which are, for our purposes, continuous. For this example, bin everything into 10\n",
    "uniform-width bins."
   ]
  },
  {
   "cell_type": "code",
   "execution_count": null,
   "metadata": {},
   "outputs": [],
   "source": [
    "# Exclude dimension statistics (as CIFAR10 images are all of uniform shape) and the batch_num\n",
    "metadata.exclude = [\"aspect_ratio\", \"width\", \"height\", \"depth\", \"channels\", \"size\", \"batch_num\"]\n",
    "\n",
    "# Provide binning for the continuous statistical factors using 10 uniform-width bins for each factor\n",
    "keys = (\"mean\", \"std\", \"var\", \"skew\", \"kurtosis\", \"entropy\", \"brightness\", \"darkness\", \"sharpness\", \"contrast\", \"zeros\")\n",
    "metadata.continuous_factor_bins = dict.fromkeys(keys, 10)"
   ]
  },
  {
   "cell_type": "markdown",
   "metadata": {},
   "source": [
    "## Perform bias analysis\n",
    "\n",
    "Now you can run the bias analysis functions {func}`.balance`, {func}`.diversity` and\n",
    "{func}`.parity` on the dataset metadata augmented with intrinsic statistical factors.\n"
   ]
  },
  {
   "cell_type": "code",
   "execution_count": null,
   "metadata": {},
   "outputs": [],
   "source": [
    "balance_output = balance(metadata)\n",
    "_ = balance_output.plot()"
   ]
  },
  {
   "cell_type": "markdown",
   "metadata": {},
   "source": [
    "Notice the very high mutual information between the variance and standard deviation\n",
    "of image intensities, which is expected. Mean image intensity correlates with\n",
    "brightness, darkness, and contrast. However, none of the intrinsic factors correlate\n",
    "strongly with class label."
   ]
  },
  {
   "cell_type": "code",
   "execution_count": null,
   "metadata": {},
   "outputs": [],
   "source": [
    "_ = balance_output.plot(plot_classwise=True)"
   ]
  },
  {
   "cell_type": "markdown",
   "metadata": {},
   "source": [
    "Classwise balance also indicates minimal correlation of image statistics and individual\n",
    "classes. Uniform mutual information between individual classes and all class labels\n",
    "indicates balanced class representation in the subsampled dataset."
   ]
  },
  {
   "cell_type": "code",
   "execution_count": null,
   "metadata": {},
   "outputs": [],
   "source": [
    "diversity_output = diversity(metadata)\n",
    "_ = diversity_output.plot()"
   ]
  },
  {
   "cell_type": "markdown",
   "metadata": {},
   "source": [
    "The diversity index also indicates uniform sampling of classes within the dataset. The\n",
    "apparently low diversity of kurtosis across the dataset may indicate an inadequate binning\n",
    "strategy (for metric computation) given that the other statistical moments appear to be\n",
    "more evenly distributed.  Further investigation and iteration could be done to assess\n",
    "sensitivity to binning strategy."
   ]
  },
  {
   "cell_type": "code",
   "execution_count": null,
   "metadata": {},
   "outputs": [],
   "source": [
    "parity_output = parity(metadata)\n",
    "parity_output.to_dataframe()"
   ]
  },
  {
   "cell_type": "markdown",
   "metadata": {},
   "source": [
    "You can now augment your datasets with additional metadata information, either from\n",
    "additional sources or using `dataeval` statistical functions for insights into your data.\n"
   ]
  }
 ],
 "metadata": {
  "kernelspec": {
   "display_name": ".venv-3.11",
   "language": "python",
   "name": "python3"
  },
  "language_info": {
   "codemirror_mode": {
    "name": "ipython",
    "version": 3
   },
   "file_extension": ".py",
   "mimetype": "text/x-python",
   "name": "python",
   "nbconvert_exporter": "python",
   "pygments_lexer": "ipython3",
   "version": "3.11.9"
  }
 },
 "nbformat": 4,
 "nbformat_minor": 2
}
