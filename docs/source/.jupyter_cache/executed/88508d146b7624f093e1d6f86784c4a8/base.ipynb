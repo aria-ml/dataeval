{
 "cells": [
  {
   "cell_type": "code",
   "execution_count": 1,
   "metadata": {
    "tags": [
     "remove_cell"
    ]
   },
   "outputs": [],
   "source": [
    "try:\n",
    "    import google.colab  # noqa: F401\n",
    "\n",
    "    # specify the version of DataEval (==X.XX.X) for versions other than the latest\n",
    "    %pip install -q dataeval\n",
    "except Exception:\n",
    "    pass"
   ]
  },
  {
   "cell_type": "code",
   "execution_count": 2,
   "metadata": {},
   "outputs": [],
   "source": [
    "import numpy as np\n",
    "\n",
    "from dataeval.detectors.linters import Duplicates\n",
    "from dataeval.utils.data import collate\n",
    "from dataeval.utils.data.datasets import MNIST"
   ]
  },
  {
   "cell_type": "code",
   "execution_count": 3,
   "metadata": {},
   "outputs": [
    {
     "name": "stdout",
     "output_type": "stream",
     "text": [
      "Files already downloaded and verified\n"
     ]
    }
   ],
   "source": [
    "# Load in the mnist dataset\n",
    "testing_dataset = MNIST(root=\"./data/\", train=False, download=True, unit_interval=True)\n",
    "\n",
    "# Collate image data and targets\n",
    "test_data, test_targets, _ = collate(testing_dataset)"
   ]
  },
  {
   "cell_type": "code",
   "execution_count": 4,
   "metadata": {},
   "outputs": [
    {
     "name": "stdout",
     "output_type": "stream",
     "text": [
      "Exact duplicates\n",
      "\t1 - (231, 781)\n",
      "\t2 - (232, 782)\n",
      "\t5 - (235, 785)\n",
      "\t9 - (239, 789)\n"
     ]
    }
   ],
   "source": [
    "# Creating some duplicates\n",
    "print(\"Exact duplicates\")\n",
    "duplicates = {}\n",
    "for i in [1, 2, 5, 9]:\n",
    "    matching_indices = np.where(test_targets.labels == i)[0]\n",
    "    test_data[matching_indices[78]] = test_data[matching_indices[23]]\n",
    "    print(f\"\\t{i} - ({matching_indices[23]}, {matching_indices[78]})\")\n",
    "    duplicates[i] = (matching_indices[23], matching_indices[78], matching_indices[2])"
   ]
  },
  {
   "cell_type": "code",
   "execution_count": 5,
   "metadata": {},
   "outputs": [
    {
     "name": "stdout",
     "output_type": "stream",
     "text": [
      "Number of samples:  8920\n"
     ]
    }
   ],
   "source": [
    "print(\"Number of samples: \", len(test_data))"
   ]
  },
  {
   "cell_type": "code",
   "execution_count": 6,
   "metadata": {},
   "outputs": [],
   "source": [
    "# Initialize the Duplicates class to begin to identify duplicate images.\n",
    "identifyDuplicates = Duplicates()\n",
    "\n",
    "# Evaluate the data\n",
    "results = identifyDuplicates.evaluate(test_data)"
   ]
  },
  {
   "cell_type": "code",
   "execution_count": 7,
   "metadata": {},
   "outputs": [
    {
     "name": "stdout",
     "output_type": "stream",
     "text": [
      "exact - 4\n",
      "\t[[231, 781], [232, 782], [235, 785], [239, 789]]\n",
      "near - 69\n",
      "\t[[1, 1571, 6631], [31, 7221], [141, 4771, 4851, 5881, 6191, 7791], [147, 3987], [151, 5131], [161, 8141], [171, 2251], [241, 7161], [270, 2910], [281, 751, 951, 2721, 2801], [291, 701, 3911], [311, 5281], [341, 1741], [451, 8591], [711, 3341], [821, 5221], [911, 5421], [921, 4951], [961, 8021], [1019, 4629], [1021, 2931, 8481], [1051, 4101], [1104, 3414], [1281, 2781], [1415, 5635], [1511, 3861], [1531, 1731, 1821, 5811, 6261, 8031], [1670, 2710], [1687, 5827], [1791, 3761], [1831, 5021], [1891, 3791], [2021, 2141, 3661, 8051], [2051, 4471, 4871, 5031, 8191], [2057, 6947], [2101, 4781], [2191, 4741], [2211, 7601, 8421], [2377, 6657], [2407, 3417], [2481, 3541, 7501, 8521, 8571], [2631, 4261], [2791, 5561, 7371, 7841, 8261], [2911, 7551], [3061, 3551], [3151, 6551, 8631], [3177, 6887], [3249, 3367], [3301, 6021, 8361], [3361, 3711, 4051, 4831, 7381, 8641], [3441, 8811], [3571, 5371, 5651, 5761, 6891, 7061, 8231, 8401, 8621], [3577, 4687], [3649, 4329], [3851, 4691], [4241, 6421], [4407, 7487], [4501, 4991], [4581, 6881], [4641, 7361], [4821, 6341, 8471, 8801], [5041, 5401], [5081, 6471], [5197, 7977], [5361, 5661], [5461, 7041], [5511, 7071], [6379, 8429], [7021, 7981]]\n"
     ]
    }
   ],
   "source": [
    "for category, images in results.dict().items():\n",
    "    print(f\"{category} - {len(images)}\")\n",
    "    print(f\"\\t{images}\")"
   ]
  },
  {
   "cell_type": "code",
   "execution_count": 8,
   "metadata": {
    "tags": [
     "remove_cell"
    ]
   },
   "outputs": [],
   "source": [
    "### TEST ASSERTION CELL ###\n",
    "assert len(results.exact) == 4\n",
    "assert [231, 781] in results.exact\n",
    "assert [232, 782] in results.exact\n",
    "assert [235, 785] in results.exact\n",
    "assert [239, 789] in results.exact"
   ]
  }
 ],
 "metadata": {
  "kernelspec": {
   "display_name": ".venv-3.11",
   "language": "python",
   "name": "python3"
  },
  "language_info": {
   "codemirror_mode": {
    "name": "ipython",
    "version": 3
   },
   "file_extension": ".py",
   "mimetype": "text/x-python",
   "name": "python",
   "nbconvert_exporter": "python",
   "pygments_lexer": "ipython3",
   "version": "3.11.11"
  }
 },
 "nbformat": 4,
 "nbformat_minor": 2
}