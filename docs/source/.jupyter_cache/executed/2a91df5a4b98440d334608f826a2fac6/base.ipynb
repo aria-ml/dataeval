{
 "cells": [
  {
   "cell_type": "code",
   "execution_count": 1,
   "metadata": {
    "tags": [
     "remove_cell"
    ]
   },
   "outputs": [],
   "source": [
    "try:\n",
    "    import google.colab  # noqa: F401\n",
    "\n",
    "    %pip install -q dataeval\n",
    "except Exception:\n",
    "    pass"
   ]
  },
  {
   "cell_type": "code",
   "execution_count": 2,
   "metadata": {},
   "outputs": [],
   "source": [
    "import numpy as np\n",
    "import torch\n",
    "import torch.nn as nn\n",
    "from torchvision import datasets, models\n",
    "\n",
    "# Drift\n",
    "from dataeval.detectors.drift import DriftCVM, DriftKS, DriftMMD\n",
    "from dataeval.metrics.bias import label_parity\n",
    "\n",
    "# Set a random seed\n",
    "rng = np.random.default_rng(213)\n",
    "\n",
    "# Set default torch device for notebook\n",
    "device = torch.device(\"cuda\" if torch.cuda.is_available() else \"cpu\")\n",
    "torch.set_default_device(device)"
   ]
  },
  {
   "cell_type": "code",
   "execution_count": 3,
   "metadata": {},
   "outputs": [],
   "source": [
    "# Define the embedding network\n",
    "class EmbeddingNet(nn.Module):\n",
    "    def __init__(self):\n",
    "        super().__init__()\n",
    "        # Load in pretrained resnet18 model\n",
    "        self.model = models.resnet18(weights=models.ResNet18_Weights.DEFAULT)\n",
    "        # Add an additional fully connected layer with an embedding dimension of 128\n",
    "        self.model.fc = nn.Linear(self.model.fc.in_features, 128)\n",
    "\n",
    "    def forward(self, x):\n",
    "        \"\"\"Run input data through the model\"\"\"\n",
    "\n",
    "        return self.model(x)"
   ]
  },
  {
   "cell_type": "code",
   "execution_count": 4,
   "metadata": {},
   "outputs": [
    {
     "name": "stderr",
     "output_type": "stream",
     "text": [
      "Downloading: \"https://download.pytorch.org/models/resnet18-f37072fd.pth\" to /home/dataeval/.cache/torch/hub/checkpoints/resnet18-f37072fd.pth\n"
     ]
    },
    {
     "name": "stderr",
     "output_type": "stream",
     "text": [
      "\r",
      "  0% 0.00/44.7M [00:00<?, ?B/s]"
     ]
    },
    {
     "name": "stderr",
     "output_type": "stream",
     "text": [
      "\r",
      " 29% 12.9M/44.7M [00:00<00:00, 134MB/s]"
     ]
    },
    {
     "name": "stderr",
     "output_type": "stream",
     "text": [
      "\r",
      " 77% 34.5M/44.7M [00:00<00:00, 188MB/s]"
     ]
    },
    {
     "name": "stderr",
     "output_type": "stream",
     "text": [
      "\r",
      "100% 44.7M/44.7M [00:00<00:00, 192MB/s]"
     ]
    },
    {
     "name": "stderr",
     "output_type": "stream",
     "text": [
      "\n"
     ]
    }
   ],
   "source": [
    "embedding_net = EmbeddingNet()"
   ]
  },
  {
   "cell_type": "code",
   "execution_count": 5,
   "metadata": {},
   "outputs": [
    {
     "name": "stdout",
     "output_type": "stream",
     "text": [
      "Training\n",
      "--------\n",
      "Dataset VOCDetection\n",
      "    Number of datapoints: 5717\n",
      "    Root location: ./data\n",
      "    StandardTransform\n",
      "Transform: ImageClassification(\n",
      "               crop_size=[224]\n",
      "               resize_size=[256]\n",
      "               mean=[0.485, 0.456, 0.406]\n",
      "               std=[0.229, 0.224, 0.225]\n",
      "               interpolation=InterpolationMode.BILINEAR\n",
      "           )\n",
      "\n",
      "Operational\n",
      "-----------\n",
      "Dataset VOCDetection\n",
      "    Number of datapoints: 5823\n",
      "    Root location: ./data\n",
      "    StandardTransform\n",
      "Transform: ImageClassification(\n",
      "               crop_size=[224]\n",
      "               resize_size=[256]\n",
      "               mean=[0.485, 0.456, 0.406]\n",
      "               std=[0.229, 0.224, 0.225]\n",
      "               interpolation=InterpolationMode.BILINEAR\n",
      "           )\n",
      "\n"
     ]
    }
   ],
   "source": [
    "# Define pretrained model transformations\n",
    "preprocess = models.ResNet18_Weights.DEFAULT.transforms()\n",
    "\n",
    "# Load the training dataset\n",
    "train_ds = datasets.VOCDetection(\"./data\", year=\"2011\", image_set=\"train\", download=False, transform=preprocess)\n",
    "# Load the \"operational\" dataset\n",
    "operational_ds = datasets.VOCDetection(\"./data\", year=\"2011\", image_set=\"val\", download=False, transform=preprocess)\n",
    "\n",
    "\n",
    "def print_dataset_info(dataset, split_name):\n",
    "    \"\"\"Pretty prints dataset name and info\"\"\"\n",
    "    print(f\"{split_name}\\n{'-' * len(split_name)}\\n{dataset}\\n\")\n",
    "\n",
    "\n",
    "print_dataset_info(train_ds, \"Training\")\n",
    "print_dataset_info(operational_ds, \"Operational\")"
   ]
  },
  {
   "cell_type": "code",
   "execution_count": 6,
   "metadata": {},
   "outputs": [],
   "source": [
    "# Reduce overhead cost by not tracking tensor gradients\n",
    "@torch.no_grad\n",
    "def custom_batch(dataset: datasets.VOCDetection, model: nn.Module) -> tuple[torch.Tensor, list[str]]:\n",
    "    \"\"\"\n",
    "    Iterates through the dataset to generate model embeddings and stores labels into a flat list\n",
    "\n",
    "    Note\n",
    "    ----\n",
    "    Due to a bug with the VOCDetection dataset and DataLoaders,\n",
    "    the batching is done manually\n",
    "    \"\"\"\n",
    "\n",
    "    model.eval()\n",
    "    BATCH_SIZE = 64  # Can be adjusted depending on available GPU memory\n",
    "    embeddings = []\n",
    "    images, labels = [], []\n",
    "\n",
    "    for i, (image, targets) in enumerate(dataset):  # type: ignore\n",
    "        # Aggregate images\n",
    "        images.append(image)\n",
    "        # Aggregate labels only\n",
    "        objects = targets[\"annotation\"][\"object\"]\n",
    "        labels.extend([obj[\"name\"] for obj in objects])\n",
    "\n",
    "        if (i + 1) % BATCH_SIZE == 0:\n",
    "            outputs = model(torch.stack(images))\n",
    "            embeddings.append(outputs)\n",
    "            images = []\n",
    "\n",
    "    # Add last batch even if not full batch size\n",
    "    embeddings.append(model(torch.stack(images)))\n",
    "\n",
    "    return torch.vstack(embeddings).cpu(), labels\n"
   ]
  },
  {
   "cell_type": "code",
   "execution_count": 7,
   "metadata": {},
   "outputs": [],
   "source": [
    "# This step can take ~1 minute depending on hardware\n",
    "\n",
    "# Create training batches and labels\n",
    "train_embs, train_labels = custom_batch(train_ds, model=embedding_net)\n",
    "\n",
    "# Create operational batches and labels\n",
    "operational_embs, operational_labels = custom_batch(operational_ds, model=embedding_net)"
   ]
  },
  {
   "cell_type": "code",
   "execution_count": 8,
   "metadata": {},
   "outputs": [
    {
     "name": "stdout",
     "output_type": "stream",
     "text": [
      "torch.Size([5717, 128])\n",
      "torch.Size([5823, 128])\n"
     ]
    }
   ],
   "source": [
    "print(train_embs.shape)\n",
    "print(operational_embs.shape)"
   ]
  },
  {
   "cell_type": "code",
   "execution_count": 9,
   "metadata": {},
   "outputs": [],
   "source": [
    "# A type alias for all of the drift detectors\n",
    "DriftDetector = DriftMMD | DriftCVM | DriftKS\n",
    "\n",
    "# Create a mapping for the detectors to iterate over\n",
    "detectors: dict[str, DriftDetector] = {\n",
    "    \"MMD\": DriftMMD(train_embs),\n",
    "    \"CVM\": DriftCVM(train_embs),\n",
    "    \"KS\": DriftKS(train_embs),\n",
    "}"
   ]
  },
  {
   "cell_type": "code",
   "execution_count": 10,
   "metadata": {},
   "outputs": [
    {
     "name": "stdout",
     "output_type": "stream",
     "text": [
      "MMD detected drift? False\n",
      "CVM detected drift? False\n"
     ]
    },
    {
     "name": "stdout",
     "output_type": "stream",
     "text": [
      "KS detected drift? False\n"
     ]
    }
   ],
   "source": [
    "# Iterate and print the name of the detector class and its boolean drift prediction\n",
    "for name, detector in detectors.items():\n",
    "    print(f\"{name} detected drift? {detector.predict(operational_embs).is_drift}\")"
   ]
  },
  {
   "cell_type": "code",
   "execution_count": 11,
   "metadata": {},
   "outputs": [],
   "source": [
    "# Creates a normal distribution around the operational embeddings\n",
    "noisy_embs = torch.normal(mean=operational_embs)"
   ]
  },
  {
   "cell_type": "code",
   "execution_count": 12,
   "metadata": {},
   "outputs": [
    {
     "name": "stdout",
     "output_type": "stream",
     "text": [
      "MMD detected drift? True\n"
     ]
    },
    {
     "name": "stdout",
     "output_type": "stream",
     "text": [
      "CVM detected drift? True\n"
     ]
    },
    {
     "name": "stdout",
     "output_type": "stream",
     "text": [
      "KS detected drift? True\n"
     ]
    }
   ],
   "source": [
    "# Iterate and print the name of the detector class and its boolean drift prediction\n",
    "for name, detector in detectors.items():\n",
    "    print(f\"{name} detected drift? {detector.predict(noisy_embs).is_drift}\")"
   ]
  },
  {
   "cell_type": "code",
   "execution_count": 13,
   "metadata": {},
   "outputs": [],
   "source": [
    "from sklearn import preprocessing\n",
    "\n",
    "# Turns string labels into integer labels\n",
    "label_encoder = preprocessing.LabelEncoder()\n",
    "\n",
    "# Train the label encoder on the training labels\n",
    "label_encoder.fit(train_labels)\n",
    "\n",
    "# Transform both training and operational labels into integers\n",
    "train_encoded = label_encoder.transform(train_labels)\n",
    "operational_encoded = label_encoder.transform(operational_labels)"
   ]
  },
  {
   "cell_type": "code",
   "execution_count": 14,
   "metadata": {},
   "outputs": [
    {
     "data": {
      "text/plain": [
       "ParityOutput(score=np.float64(10.122611673242247), p_value=np.float64(0.949856067521638), metadata_names=None, insufficient_data={})"
      ]
     },
     "execution_count": 14,
     "metadata": {},
     "output_type": "execute_result"
    }
   ],
   "source": [
    "# The VOC dataset has 20 classes\n",
    "label_parity(train_encoded, operational_encoded, num_classes=20)"
   ]
  }
 ],
 "metadata": {
  "kernelspec": {
   "display_name": ".venv-3.11",
   "language": "python",
   "name": "python3"
  },
  "language_info": {
   "codemirror_mode": {
    "name": "ipython",
    "version": 3
   },
   "file_extension": ".py",
   "mimetype": "text/x-python",
   "name": "python",
   "nbconvert_exporter": "python",
   "pygments_lexer": "ipython3",
   "version": "3.11.11"
  }
 },
 "nbformat": 4,
 "nbformat_minor": 2
}