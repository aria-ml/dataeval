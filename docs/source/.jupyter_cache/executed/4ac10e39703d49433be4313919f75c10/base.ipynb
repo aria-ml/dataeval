{
 "cells": [
  {
   "cell_type": "code",
   "execution_count": 1,
   "metadata": {
    "tags": [
     "remove_cell"
    ]
   },
   "outputs": [],
   "source": [
    "# Google Colab Only\n",
    "try:\n",
    "    import google.colab  # noqa: F401\n",
    "\n",
    "    # specify the version of DataEval (==X.XX.X) for versions other than the latest\n",
    "    %pip install -q dataeval\n",
    "except Exception:\n",
    "    pass"
   ]
  },
  {
   "cell_type": "code",
   "execution_count": 2,
   "metadata": {},
   "outputs": [],
   "source": [
    "from dataeval.metrics.bias import label_parity\n",
    "from dataeval.utils.data import collate\n",
    "from dataeval.utils.data.datasets import MNIST"
   ]
  },
  {
   "cell_type": "code",
   "execution_count": 3,
   "metadata": {},
   "outputs": [
    {
     "name": "stdout",
     "output_type": "stream",
     "text": [
      "Determining if data needs to be downloaded\n",
      "Loaded data successfully\n",
      "Running data preprocessing steps\n",
      "Determining if data needs to be downloaded\n",
      "Loaded data successfully\n",
      "Running data preprocessing steps\n"
     ]
    }
   ],
   "source": [
    "train_ds = MNIST(\"./data\", train=True, balance=False)\n",
    "test_ds = MNIST(\"./data\", train=False, balance=False)\n",
    "\n",
    "# Get the labels from the collated dataset targets\n",
    "train_labels = collate(train_ds)[1].labels\n",
    "test_labels = collate(test_ds)[1].labels"
   ]
  },
  {
   "cell_type": "code",
   "execution_count": 4,
   "metadata": {},
   "outputs": [
    {
     "name": "stdout",
     "output_type": "stream",
     "text": [
      "The chi-squared value for the two label distributions is 3.4272710666174526, with p-value 0.9449259505581811\n"
     ]
    }
   ],
   "source": [
    "results = label_parity(train_labels, test_labels)\n",
    "print(f\"The chi-squared value for the two label distributions is {results.score}, with p-value {results.p_value}\")"
   ]
  },
  {
   "cell_type": "code",
   "execution_count": 5,
   "metadata": {
    "tags": [
     "remove_cell"
    ]
   },
   "outputs": [],
   "source": [
    "### TEST ASSERTION CELL ###\n",
    "assert 0 <= results.score < 4\n",
    "assert 0.9 < results.p_value <= 1.0"
   ]
  }
 ],
 "metadata": {
  "kernelspec": {
   "display_name": ".venv-3.11",
   "language": "python",
   "name": "python3"
  },
  "language_info": {
   "codemirror_mode": {
    "name": "ipython",
    "version": 3
   },
   "file_extension": ".py",
   "mimetype": "text/x-python",
   "name": "python",
   "nbconvert_exporter": "python",
   "pygments_lexer": "ipython3",
   "version": "3.11.11"
  }
 },
 "nbformat": 4,
 "nbformat_minor": 2
}