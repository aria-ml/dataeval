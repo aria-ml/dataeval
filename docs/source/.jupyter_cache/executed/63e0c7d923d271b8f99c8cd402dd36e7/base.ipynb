{
 "cells": [
  {
   "cell_type": "code",
   "execution_count": 1,
   "metadata": {
    "tags": [
     "remove_cell"
    ]
   },
   "outputs": [],
   "source": [
    "# Google Colab Only\n",
    "try:\n",
    "    import google.colab  # noqa: F401\n",
    "\n",
    "    # specify the version of DataEval (==X.XX.X) for versions other than the latest\n",
    "    %pip install -q dataeval\n",
    "except Exception:\n",
    "    pass"
   ]
  },
  {
   "cell_type": "code",
   "execution_count": 2,
   "metadata": {},
   "outputs": [],
   "source": [
    "import numpy as np\n",
    "from torch.utils.data import Subset\n",
    "\n",
    "from dataeval.detectors.linters import Duplicates\n",
    "from dataeval.utils.data import Metadata\n",
    "from dataeval.utils.data.datasets import MNIST"
   ]
  },
  {
   "cell_type": "code",
   "execution_count": 3,
   "metadata": {},
   "outputs": [],
   "source": [
    "# Load in the mnist dataset\n",
    "testing_dataset = MNIST(root=\"./data/\", image_set=\"test\", unit_interval=True)\n",
    "\n",
    "# Get the labels\n",
    "labels = Metadata(testing_dataset).targets.labels"
   ]
  },
  {
   "cell_type": "code",
   "execution_count": 4,
   "metadata": {},
   "outputs": [
    {
     "name": "stdout",
     "output_type": "stream",
     "text": [
      "Exact duplicates\n",
      "\t1 - (239, 789)\n",
      "\t2 - (238, 788)\n",
      "\t5 - (230, 780)\n",
      "\t9 - (235, 785)\n"
     ]
    }
   ],
   "source": [
    "# Creating some indices to duplicate\n",
    "print(\"Exact duplicates\")\n",
    "duplicates = {}\n",
    "for i in [1, 2, 5, 9]:\n",
    "    matching_indices = np.where(labels == i)[0]\n",
    "    print(f\"\\t{i} - ({matching_indices[23]}, {matching_indices[78]})\")\n",
    "    duplicates[int(matching_indices[78])] = int(matching_indices[23])"
   ]
  },
  {
   "cell_type": "code",
   "execution_count": 5,
   "metadata": {},
   "outputs": [],
   "source": [
    "# Create a subset with the identified duplicate indices swapped\n",
    "indices_with_duplicates = [duplicates.get(i, i) for i in range(len(testing_dataset))]\n",
    "duplicates_ds = Subset(testing_dataset, indices_with_duplicates)"
   ]
  },
  {
   "cell_type": "code",
   "execution_count": 6,
   "metadata": {},
   "outputs": [],
   "source": [
    "# Initialize the Duplicates class to begin to identify duplicate images.\n",
    "identifyDuplicates = Duplicates()\n",
    "\n",
    "# Evaluate the data\n",
    "results = identifyDuplicates.evaluate(duplicates_ds)"
   ]
  },
  {
   "cell_type": "code",
   "execution_count": 7,
   "metadata": {},
   "outputs": [
    {
     "name": "stdout",
     "output_type": "stream",
     "text": [
      "exact - 4\n",
      "\t[[230, 780], [235, 785], [238, 788], [239, 789]]\n",
      "near - 72\n",
      "\t[[99, 4609], [219, 6699], [229, 2189, 2209, 7029, 7859, 7889, 8259], [257, 6287], [299, 379, 3219, 3409, 3879, 6449, 6529, 6749], [307, 4067], [449, 1539, 2929, 4839], [489, 1479], [529, 8329], [619, 1909, 5279, 8709], [649, 1359, 8249], [779, 2039, 3579], [809, 1039], [833, 2623], [947, 6957], [949, 8639], [969, 3239, 3479, 6479, 8689], [999, 7879], [1099, 6939], [1139, 3979, 5109, 5959], [1149, 1509, 4939, 5459, 7009, 7769], [1289, 3249, 4799], [1309, 7529], [1379, 4619], [1389, 6719], [1429, 2479, 2779], [1579, 2989], [1739, 6779], [1769, 5509], [1789, 3389, 8289], [1949, 4279], [2009, 3919], [2149, 2169, 2559, 4519], [2179, 3019], [2289, 6429], [2507, 8077], [2739, 4729], [2849, 5259], [2867, 5047], [3039, 4229], [3107, 7487], [3159, 3399, 4679, 7039], [3270, 5100], [3454, 8644], [3599, 8339], [3613, 3663], [3869, 6199], [3999, 5549], [4109, 5699], [4399, 7219], [4549, 7849], [4649, 7279], [4759, 8309], [4969, 5329], [5059, 6949], [5179, 7179], [5249, 5789], [5269, 6379], [5285, 8205], [5429, 7989], [5577, 8527], [6007, 7427], [6079, 8379], [6149, 7369, 7949], [6319, 6339, 7259, 7809], [6407, 7497, 7507], [6679, 7119], [6999, 7099, 7109], [7177, 8477], [7287, 7945], [7569, 8579], [7899, 8349]]\n"
     ]
    }
   ],
   "source": [
    "for category, images in results.dict().items():\n",
    "    print(f\"{category} - {len(images)}\")\n",
    "    print(f\"\\t{images}\")"
   ]
  },
  {
   "cell_type": "code",
   "execution_count": 8,
   "metadata": {
    "tags": [
     "remove_cell"
    ]
   },
   "outputs": [],
   "source": [
    "### TEST ASSERTION CELL ###\n",
    "assert len(results.exact) == 4\n",
    "assert [230, 780] in results.exact\n",
    "assert [235, 785] in results.exact\n",
    "assert [238, 788] in results.exact\n",
    "assert [239, 789] in results.exact"
   ]
  }
 ],
 "metadata": {
  "kernelspec": {
   "display_name": ".venv-3.11",
   "language": "python",
   "name": "python3"
  },
  "language_info": {
   "codemirror_mode": {
    "name": "ipython",
    "version": 3
   },
   "file_extension": ".py",
   "mimetype": "text/x-python",
   "name": "python",
   "nbconvert_exporter": "python",
   "pygments_lexer": "ipython3",
   "version": "3.11.11"
  }
 },
 "nbformat": 4,
 "nbformat_minor": 2
}