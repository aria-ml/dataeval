{
 "cells": [
  {
   "cell_type": "code",
   "execution_count": 1,
   "metadata": {
    "tags": [
     "remove_cell"
    ]
   },
   "outputs": [],
   "source": [
    "# Google Colab Only\n",
    "try:\n",
    "    import google.colab  # noqa: F401\n",
    "\n",
    "    # specify the version of DataEval (==X.XX.X) for versions other than the latest\n",
    "    %pip install -q dataeval\n",
    "except Exception:\n",
    "    pass"
   ]
  },
  {
   "cell_type": "code",
   "execution_count": 2,
   "metadata": {},
   "outputs": [],
   "source": [
    "from dataeval.metrics.estimators import divergence\n",
    "from dataeval.utils.data import DataProcessor\n",
    "from dataeval.utils.data.datasets import MNIST"
   ]
  },
  {
   "cell_type": "code",
   "execution_count": 3,
   "metadata": {},
   "outputs": [
    {
     "name": "stdout",
     "output_type": "stream",
     "text": [
      "Determining if data needs to be downloaded\n",
      "Loaded data successfully\n",
      "Running data preprocessing steps\n"
     ]
    }
   ],
   "source": [
    "# Load in the training mnist dataset and use the first 4000\n",
    "train_ds = MNIST(root=\"./data/\", train=True, size=4000, unit_interval=True)\n",
    "\n",
    "# Create the data processor and extract the embeddings\n",
    "train_dp = DataProcessor(train_ds, batch_size=64)\n",
    "embeddings = train_dp.embeddings.to_tensor()"
   ]
  },
  {
   "cell_type": "code",
   "execution_count": 4,
   "metadata": {},
   "outputs": [
    {
     "name": "stdout",
     "output_type": "stream",
     "text": [
      "Number of samples:  4000\n",
      "Image shape: torch.Size([784])\n"
     ]
    }
   ],
   "source": [
    "print(\"Number of samples: \", len(embeddings))\n",
    "print(\"Image shape:\", embeddings[0].shape)"
   ]
  },
  {
   "cell_type": "code",
   "execution_count": 5,
   "metadata": {},
   "outputs": [],
   "source": [
    "data_a = embeddings[0:2000]\n",
    "data_b = embeddings[2000:]"
   ]
  },
  {
   "cell_type": "code",
   "execution_count": 6,
   "metadata": {},
   "outputs": [
    {
     "name": "stdout",
     "output_type": "stream",
     "text": [
      "DivergenceOutput: {'divergence': 0.0, 'errors': np.int64(2026)}\n"
     ]
    }
   ],
   "source": [
    "div = divergence(data_a, data_b)\n",
    "print(div)"
   ]
  },
  {
   "cell_type": "code",
   "execution_count": 7,
   "metadata": {},
   "outputs": [
    {
     "name": "stdout",
     "output_type": "stream",
     "text": [
      "Determining if data needs to be downloaded\n",
      "Loaded data successfully\n",
      "Running data preprocessing steps\n"
     ]
    }
   ],
   "source": [
    "corrupted_ds = MNIST(root=\"./data\", train=True, size=2000, unit_interval=True, corruption=\"translate\")\n",
    "corrupted_dp = DataProcessor(corrupted_ds, batch_size=64)\n",
    "corrupted_emb = corrupted_dp.embeddings.to_tensor()"
   ]
  },
  {
   "cell_type": "code",
   "execution_count": 8,
   "metadata": {},
   "outputs": [
    {
     "name": "stdout",
     "output_type": "stream",
     "text": [
      "Number of corrupted samples:  2000\n",
      "Corrupted image shape: torch.Size([784])\n"
     ]
    }
   ],
   "source": [
    "print(\"Number of corrupted samples: \", len(corrupted_emb))\n",
    "print(\"Corrupted image shape:\", corrupted_emb[0].shape)"
   ]
  },
  {
   "cell_type": "code",
   "execution_count": 9,
   "metadata": {},
   "outputs": [
    {
     "name": "stdout",
     "output_type": "stream",
     "text": [
      "DivergenceOutput: {'divergence': np.float64(0.97), 'errors': np.int64(60)}\n"
     ]
    }
   ],
   "source": [
    "div = divergence(data_a, corrupted_emb)\n",
    "print(div)"
   ]
  },
  {
   "cell_type": "code",
   "execution_count": 10,
   "metadata": {
    "tags": [
     "remove_cell"
    ]
   },
   "outputs": [],
   "source": [
    "### TEST ASSERTION CELL ###\n",
    "assert div.divergence > 0.95"
   ]
  }
 ],
 "metadata": {
  "kernelspec": {
   "display_name": ".venv-3.11",
   "language": "python",
   "name": "python3"
  },
  "language_info": {
   "codemirror_mode": {
    "name": "ipython",
    "version": 3
   },
   "file_extension": ".py",
   "mimetype": "text/x-python",
   "name": "python",
   "nbconvert_exporter": "python",
   "pygments_lexer": "ipython3",
   "version": "3.11.11"
  }
 },
 "nbformat": 4,
 "nbformat_minor": 4
}