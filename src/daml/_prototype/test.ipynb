{
 "cells": [
  {
   "cell_type": "code",
   "execution_count": 37,
   "metadata": {},
   "outputs": [],
   "source": [
    "import numpy as np\n",
    "from scipy.spatial import distance_matrix, minkowski_distance_p"
   ]
  },
  {
   "cell_type": "code",
   "execution_count": 19,
   "metadata": {},
   "outputs": [],
   "source": [
    "def psquare(x):\n",
    "    mat = squareform(pdist(x))\n",
    "    return mat\n",
    "\n",
    "\n",
    "def dismat(x):\n",
    "    mat = distance_matrix(x, x)\n",
    "    return mat\n",
    "\n",
    "\n",
    "def mindist(x):\n",
    "    mat = minkowski_distance_p(x[:, np.newaxis, :], x[np.newaxis, :, :], 2) ** (1 / 2)\n",
    "    return mat\n",
    "\n",
    "\n",
    "def manual(x):\n",
    "    mat = np.matmul(x, x.T)\n",
    "    x2 = np.sum(np.square(x), axis=1)\n",
    "\n",
    "    for i in range(mat.shape[0]):\n",
    "        mat[i, :] = np.multiply(mat[i, :], -2)\n",
    "        mat[i, :] = np.add(mat[i, :], x2.T[i])\n",
    "        mat[i, :] = np.add(mat[i, :], x2)\n",
    "\n",
    "    np.fill_diagonal(mat, 0)\n",
    "    return np.sqrt(mat)\n",
    "\n",
    "\n",
    "def opt_man(x):\n",
    "    # Compute the squared magnitudes of each vector\n",
    "    x2 = np.sum(np.square(x), axis=1, keepdims=True)\n",
    "    # Compute the matrix product between x and its transpose\n",
    "    mat = np.matmul(x, x.T)\n",
    "    # Utilize broadcasting to perform the subtraction and addition operations\n",
    "    mat *= -2\n",
    "    mat += x2\n",
    "    mat += x2.T\n",
    "    # Ensure the diagonal elements are 0 and not a tiny negative number due to floating point arithmetic issues\n",
    "    np.fill_diagonal(mat, 0)\n",
    "    # Square root of the matrix to get the Euclidean distances\n",
    "    return np.sqrt(mat)"
   ]
  },
  {
   "cell_type": "code",
   "execution_count": 4,
   "metadata": {},
   "outputs": [],
   "source": [
    "rng = np.random.default_rng(33)"
   ]
  },
  {
   "cell_type": "code",
   "execution_count": 8,
   "metadata": {},
   "outputs": [],
   "source": [
    "x10_256 = rng.random((10000, 256))\n",
    "x10_512 = rng.random((10000, 512))\n",
    "x10_1024 = rng.random((10000, 1024))\n",
    "\n",
    "x30_256 = rng.random((30000, 256))\n",
    "x30_512 = rng.random((30000, 512))\n",
    "x30_1024 = rng.random((30000, 1024))"
   ]
  },
  {
   "cell_type": "code",
   "execution_count": 4,
   "metadata": {},
   "outputs": [
    {
     "name": "stdout",
     "output_type": "stream",
     "text": [
      "5.36 s ± 97.5 ms per loop (mean ± std. dev. of 7 runs, 1 loop each)\n"
     ]
    }
   ],
   "source": [
    "%timeit psquare(x10_256)"
   ]
  },
  {
   "cell_type": "code",
   "execution_count": 5,
   "metadata": {},
   "outputs": [
    {
     "name": "stdout",
     "output_type": "stream",
     "text": [
      "10.7 s ± 132 ms per loop (mean ± std. dev. of 7 runs, 1 loop each)\n"
     ]
    }
   ],
   "source": [
    "%timeit psquare(x10_512)"
   ]
  },
  {
   "cell_type": "code",
   "execution_count": 6,
   "metadata": {},
   "outputs": [
    {
     "name": "stdout",
     "output_type": "stream",
     "text": [
      "20.8 s ± 167 ms per loop (mean ± std. dev. of 7 runs, 1 loop each)\n"
     ]
    }
   ],
   "source": [
    "%timeit psquare(x10_1024)"
   ]
  },
  {
   "cell_type": "code",
   "execution_count": 7,
   "metadata": {},
   "outputs": [
    {
     "name": "stdout",
     "output_type": "stream",
     "text": [
      "1min 56s ± 783 ms per loop (mean ± std. dev. of 7 runs, 1 loop each)\n"
     ]
    }
   ],
   "source": [
    "%timeit dismat(x10_256)"
   ]
  },
  {
   "cell_type": "code",
   "execution_count": 9,
   "metadata": {},
   "outputs": [
    {
     "name": "stdout",
     "output_type": "stream",
     "text": [
      "890 ms ± 6.19 ms per loop (mean ± std. dev. of 7 runs, 1 loop each)\n"
     ]
    }
   ],
   "source": [
    "%timeit manual(x10_256)"
   ]
  },
  {
   "cell_type": "code",
   "execution_count": 10,
   "metadata": {},
   "outputs": [
    {
     "name": "stdout",
     "output_type": "stream",
     "text": [
      "947 ms ± 11.8 ms per loop (mean ± std. dev. of 7 runs, 1 loop each)\n"
     ]
    }
   ],
   "source": [
    "%timeit manual(x10_512)"
   ]
  },
  {
   "cell_type": "code",
   "execution_count": 20,
   "metadata": {},
   "outputs": [
    {
     "name": "stdout",
     "output_type": "stream",
     "text": [
      "1min 22s ± 669 ms per loop (mean ± std. dev. of 7 runs, 1 loop each)\n"
     ]
    }
   ],
   "source": [
    "%timeit psquare(x30_256)"
   ]
  },
  {
   "cell_type": "code",
   "execution_count": 22,
   "metadata": {},
   "outputs": [
    {
     "name": "stdout",
     "output_type": "stream",
     "text": [
      "1.5 s ± 17.7 ms per loop (mean ± std. dev. of 7 runs, 1 loop each)\n"
     ]
    }
   ],
   "source": [
    "%timeit opt_man(x10_1024)"
   ]
  },
  {
   "cell_type": "code",
   "execution_count": 11,
   "metadata": {},
   "outputs": [
    {
     "name": "stdout",
     "output_type": "stream",
     "text": [
      "1.15 s ± 25.1 ms per loop (mean ± std. dev. of 7 runs, 1 loop each)\n"
     ]
    }
   ],
   "source": [
    "%timeit manual(x10_1024)"
   ]
  },
  {
   "cell_type": "code",
   "execution_count": 19,
   "metadata": {},
   "outputs": [
    {
     "name": "stdout",
     "output_type": "stream",
     "text": [
      "10 s ± 114 ms per loop (mean ± std. dev. of 7 runs, 1 loop each)\n"
     ]
    }
   ],
   "source": [
    "%timeit manual(x30_1024)"
   ]
  },
  {
   "cell_type": "code",
   "execution_count": 33,
   "metadata": {},
   "outputs": [
    {
     "name": "stdout",
     "output_type": "stream",
     "text": [
      "11.2 s ± 210 ms per loop (mean ± std. dev. of 7 runs, 1 loop each)\n"
     ]
    }
   ],
   "source": [
    "%timeit opt_man(x30_1024)"
   ]
  },
  {
   "cell_type": "code",
   "execution_count": 34,
   "metadata": {},
   "outputs": [
    {
     "name": "stdout",
     "output_type": "stream",
     "text": [
      "1.2 s ± 23 ms per loop (mean ± std. dev. of 7 runs, 1 loop each)\n"
     ]
    }
   ],
   "source": [
    "%timeit opt_man(x10_1024)"
   ]
  },
  {
   "cell_type": "code",
   "execution_count": 35,
   "metadata": {},
   "outputs": [],
   "source": [
    "checko = opt_man(x10_512)\n",
    "assert checko.all() == checkp.all()"
   ]
  },
  {
   "cell_type": "code",
   "execution_count": 5,
   "metadata": {},
   "outputs": [],
   "source": [
    "x50_1024 = rng.random((50000, 1024), dtype=np.float32)"
   ]
  },
  {
   "cell_type": "code",
   "execution_count": 6,
   "metadata": {},
   "outputs": [
    {
     "name": "stdout",
     "output_type": "stream",
     "text": [
      "16 s ± 213 ms per loop (mean ± std. dev. of 7 runs, 1 loop each)\n"
     ]
    }
   ],
   "source": [
    "%timeit opt_man(x50_1024)"
   ]
  },
  {
   "cell_type": "code",
   "execution_count": 7,
   "metadata": {},
   "outputs": [
    {
     "name": "stdout",
     "output_type": "stream",
     "text": [
      "14.8 s ± 201 ms per loop (mean ± std. dev. of 7 runs, 1 loop each)\n"
     ]
    }
   ],
   "source": [
    "%timeit manual(x50_1024)"
   ]
  },
  {
   "cell_type": "code",
   "execution_count": 14,
   "metadata": {},
   "outputs": [
    {
     "name": "stdout",
     "output_type": "stream",
     "text": [
      "11.4 s ± 240 ms per loop (mean ± std. dev. of 7 runs, 1 loop each)\n"
     ]
    }
   ],
   "source": [
    "%timeit manual(x30_1024)"
   ]
  },
  {
   "cell_type": "code",
   "execution_count": 19,
   "metadata": {},
   "outputs": [
    {
     "name": "stdout",
     "output_type": "stream",
     "text": [
      "13.6 s ± 175 ms per loop (mean ± std. dev. of 7 runs, 1 loop each)\n"
     ]
    }
   ],
   "source": [
    "%timeit opt_man(x30_1024)"
   ]
  },
  {
   "cell_type": "code",
   "execution_count": 20,
   "metadata": {},
   "outputs": [
    {
     "name": "stdout",
     "output_type": "stream",
     "text": [
      "[[0.         9.05017016 8.90532485 9.19391913 9.57348328]\n",
      " [9.05017016 0.         9.89339359 9.64133312 9.07223626]\n",
      " [8.90532485 9.89339359 0.         9.23835396 9.33599252]\n",
      " [9.19391913 9.64133312 9.23835396 0.         8.91816132]\n",
      " [9.57348328 9.07223626 9.33599252 8.91816132 0.        ]]\n",
      "[[0.         9.05017016 8.90532485 9.19391913 9.57348328]\n",
      " [9.05017016 0.         9.89339359 9.64133312 9.07223626]\n",
      " [8.90532485 9.89339359 0.         9.23835396 9.33599252]\n",
      " [9.19391913 9.64133312 9.23835396 0.         8.91816132]\n",
      " [9.57348328 9.07223626 9.33599252 8.91816132 0.        ]]\n",
      "[[0.         9.05017016 8.90532485 9.19391913 9.57348328]\n",
      " [9.05017016 0.         9.89339359 9.64133312 9.07223626]\n",
      " [8.90532485 9.89339359 0.         9.23835396 9.33599252]\n",
      " [9.19391913 9.64133312 9.23835396 0.         8.91816132]\n",
      " [9.57348328 9.07223626 9.33599252 8.91816132 0.        ]]\n"
     ]
    }
   ],
   "source": [
    "checkp = psquare(x10_512)\n",
    "checko = opt_man(x10_512)\n",
    "checkm = manual(x10_512)\n",
    "\n",
    "print(checkp[:5, :5])\n",
    "print(checko[:5, :5])\n",
    "print(checkm[:5, :5])"
   ]
  },
  {
   "cell_type": "code",
   "execution_count": 21,
   "metadata": {},
   "outputs": [
    {
     "name": "stdout",
     "output_type": "stream",
     "text": [
      "[[0.         9.05017016 8.90532485 9.19391913 9.57348328]\n",
      " [9.05017016 0.         9.89339359 9.64133312 9.07223626]\n",
      " [8.90532485 9.89339359 0.         9.23835396 9.33599252]\n",
      " [9.19391913 9.64133312 9.23835396 0.         8.91816132]\n",
      " [9.57348328 9.07223626 9.33599252 8.91816132 0.        ]]\n"
     ]
    }
   ],
   "source": [
    "from sklearn.metrics import pairwise_distances\n",
    "\n",
    "distance_matrix = pairwise_distances(x10_512, metric=\"euclidean\")\n",
    "print(distance_matrix[:5, :5])"
   ]
  },
  {
   "cell_type": "code",
   "execution_count": 22,
   "metadata": {},
   "outputs": [
    {
     "name": "stdout",
     "output_type": "stream",
     "text": [
      "12 s ± 174 ms per loop (mean ± std. dev. of 7 runs, 1 loop each)\n"
     ]
    }
   ],
   "source": [
    "%timeit pairwise_distances(x30_1024)"
   ]
  },
  {
   "cell_type": "code",
   "execution_count": 23,
   "metadata": {},
   "outputs": [
    {
     "ename": "ModuleNotFoundError",
     "evalue": "No module named 'faiss'",
     "output_type": "error",
     "traceback": [
      "\u001b[0;31m---------------------------------------------------------------------------\u001b[0m",
      "\u001b[0;31mModuleNotFoundError\u001b[0m                       Traceback (most recent call last)",
      "Cell \u001b[0;32mIn[23], line 1\u001b[0m\n\u001b[0;32m----> 1\u001b[0m \u001b[38;5;28;01mimport\u001b[39;00m \u001b[38;5;21;01mfaiss\u001b[39;00m\n\u001b[1;32m      3\u001b[0m x \u001b[38;5;241m=\u001b[39m x10_1024\u001b[38;5;241m.\u001b[39mastype(np\u001b[38;5;241m.\u001b[39mfloat32)\n\u001b[1;32m      4\u001b[0m index \u001b[38;5;241m=\u001b[39m faiss\u001b[38;5;241m.\u001b[39mIndexFlatL2(x\u001b[38;5;241m.\u001b[39mshape[\u001b[38;5;241m1\u001b[39m])  \u001b[38;5;66;03m# L2 distance\u001b[39;00m\n",
      "\u001b[0;31mModuleNotFoundError\u001b[0m: No module named 'faiss'"
     ]
    }
   ],
   "source": [
    "import faiss\n",
    "\n",
    "x = x10_1024.astype(np.float32)\n",
    "index = faiss.IndexFlatL2(x.shape[1])  # L2 distance\n",
    "index.add(x)\n",
    "D, I = index.search(x, k=x.shape[0])\n",
    "print(D.shape)\n",
    "print(I.shape)"
   ]
  },
  {
   "cell_type": "markdown",
   "metadata": {},
   "source": [
    "Faiss on the cpu is not faster if everything fits into memory. Faiss comes into play with larger datasets and the use of the gpu.\n"
   ]
  },
  {
   "cell_type": "markdown",
   "metadata": {},
   "source": [
    "Could adjust mst to use linkage and just create labels for new rows such that labels are aggregated for clusters, allows easy combining with cleaning code and cluster formation/mislabeling.\n"
   ]
  },
  {
   "cell_type": "markdown",
   "metadata": {},
   "source": [
    "# Testing Starts Here\n"
   ]
  },
  {
   "cell_type": "code",
   "execution_count": 1,
   "metadata": {},
   "outputs": [],
   "source": [
    "import hashlib\n",
    "import os\n",
    "import typing\n",
    "from copy import deepcopy\n",
    "from urllib.error import HTTPError, URLError\n",
    "from urllib.request import urlretrieve\n",
    "\n",
    "import numpy as np\n",
    "from scipy.cluster.hierarchy import linkage\n",
    "from scipy.spatial.distance import pdist, squareform"
   ]
  },
  {
   "cell_type": "code",
   "execution_count": 2,
   "metadata": {},
   "outputs": [],
   "source": [
    "def _validate_file(fpath, file_hash, chunk_size=65535):\n",
    "    hasher = hashlib.sha256()\n",
    "    with open(fpath, \"rb\") as fpath_file:\n",
    "        for chunk in iter(lambda: fpath_file.read(chunk_size), b\"\"):\n",
    "            hasher.update(chunk)\n",
    "\n",
    "    return str(hasher.hexdigest()) == str(file_hash)\n",
    "\n",
    "\n",
    "def _get_file(\n",
    "    fname: str,\n",
    "    origin: str,\n",
    "    file_hash: typing.Optional[str] = None,\n",
    "):\n",
    "    cache_dir = os.path.join(os.path.expanduser(\"~\"), \".keras\")\n",
    "    datadir_base = os.path.expanduser(cache_dir)\n",
    "    if not os.access(datadir_base, os.W_OK):\n",
    "        datadir_base = os.path.join(\"/tmp\", \".keras\")\n",
    "    datadir = os.path.join(datadir_base, \"datasets\")\n",
    "    os.makedirs(datadir, exist_ok=True)\n",
    "\n",
    "    fname = os.fspath(fname) if isinstance(fname, os.PathLike) else fname\n",
    "    fpath = os.path.join(datadir, fname)\n",
    "\n",
    "    download = False\n",
    "    if os.path.exists(fpath):\n",
    "        if file_hash is not None and not _validate_file(fpath, file_hash):\n",
    "            download = True\n",
    "    else:\n",
    "        download = True\n",
    "\n",
    "    if download:\n",
    "        try:\n",
    "            error_msg = \"URL fetch failure on {}: {} -- {}\"\n",
    "            try:\n",
    "                urlretrieve(origin, fpath)\n",
    "            except HTTPError as e:\n",
    "                raise Exception(error_msg.format(origin, e.code, e.msg)) from e\n",
    "            except URLError as e:\n",
    "                raise Exception(error_msg.format(origin, e.errno, e.reason)) from e\n",
    "        except (Exception, KeyboardInterrupt):\n",
    "            if os.path.exists(fpath):\n",
    "                os.remove(fpath)\n",
    "            raise\n",
    "\n",
    "        if (\n",
    "            os.path.exists(fpath)\n",
    "            and file_hash is not None\n",
    "            and not _validate_file(fpath, file_hash)\n",
    "        ):\n",
    "            raise ValueError(\n",
    "                \"Incomplete or corrupted file detected. \"\n",
    "                f\"The sha256 file hash does not match the provided value \"\n",
    "                f\"of {file_hash}.\",\n",
    "            )\n",
    "    return fpath"
   ]
  },
  {
   "cell_type": "code",
   "execution_count": 3,
   "metadata": {},
   "outputs": [],
   "source": [
    "origin_folder = \"https://storage.googleapis.com/tensorflow/tf-keras-datasets/\"\n",
    "path = _get_file(\n",
    "    \"mnist.npz\",\n",
    "    origin=origin_folder + \"mnist.npz\",\n",
    "    file_hash=(\"731c5ac602752760c8e48fbffcf8c3b850d9dc2a2aedcf2cc48468fc17b673d1\"),\n",
    ")\n",
    "\n",
    "with np.load(path, allow_pickle=True) as fp:\n",
    "    images, labels = fp[\"x_train\"][:100], fp[\"y_train\"][:100]"
   ]
  },
  {
   "cell_type": "code",
   "execution_count": 4,
   "metadata": {},
   "outputs": [],
   "source": [
    "rng = np.random.default_rng(33)"
   ]
  },
  {
   "cell_type": "code",
   "execution_count": 5,
   "metadata": {},
   "outputs": [
    {
     "data": {
      "text/plain": [
       "(100, 28, 28)"
      ]
     },
     "execution_count": 5,
     "metadata": {},
     "output_type": "execute_result"
    }
   ],
   "source": [
    "images.shape"
   ]
  },
  {
   "cell_type": "code",
   "execution_count": 6,
   "metadata": {},
   "outputs": [],
   "source": [
    "dup_images = deepcopy(images[:8])\n",
    "dup_images[:, :21, :21] = images[:8, 7:, 7:]\n",
    "dup_images[:, 21:, 21:] = images[:8, :7, :7]"
   ]
  },
  {
   "cell_type": "code",
   "execution_count": 7,
   "metadata": {},
   "outputs": [],
   "source": [
    "test_img = np.concatenate([images, dup_images])"
   ]
  },
  {
   "cell_type": "code",
   "execution_count": 8,
   "metadata": {},
   "outputs": [
    {
     "data": {
      "text/plain": [
       "(108, 28, 28)"
      ]
     },
     "execution_count": 8,
     "metadata": {},
     "output_type": "execute_result"
    }
   ],
   "source": [
    "test_img.shape"
   ]
  },
  {
   "cell_type": "code",
   "execution_count": 9,
   "metadata": {},
   "outputs": [],
   "source": [
    "rng.shuffle(test_img)"
   ]
  },
  {
   "cell_type": "code",
   "execution_count": 10,
   "metadata": {},
   "outputs": [],
   "source": [
    "def square_to_condensed(square_matrix):\n",
    "    \"\"\"Convert a square distance matrix to a condensed distance matrix.\"\"\"\n",
    "    assert square_matrix.shape[0] == square_matrix.shape[1], \"Matrix must be square\"\n",
    "    n = square_matrix.shape[0]\n",
    "    tri_indices = np.triu_indices(n, 1)\n",
    "    condensed_matrix = square_matrix[tri_indices]\n",
    "    return condensed_matrix\n",
    "\n",
    "\n",
    "def L2_distance_matrix_sq(x):\n",
    "    \"\"\"\n",
    "    Takes advantage that Euclidean distance can be written as\n",
    "    ||a-b||**2 = ||a||**2 + ||b||**2 - 2 a @ b\n",
    "    Also, does not compute the sqrt at the end since the squared distance\n",
    "    is still going to produce an equivalent nearest neighbor matrix\n",
    "    \"\"\"\n",
    "    # Adjusting dtype to be friendlier for speed and memory\n",
    "    # x = x.astype(np.float32)\n",
    "    # Compute the squared magnitude of the vector\n",
    "    x2 = np.sum(np.square(x), axis=1, keepdims=True, dtype=x.dtype)\n",
    "    # Compute the matrix product between x and its transpose\n",
    "    mat = np.matmul(x, x.T) * -2\n",
    "    # Utilize broadcasting to perform the addition\n",
    "    mat += x2\n",
    "    mat += x2.T\n",
    "\n",
    "    return square_to_condensed(np.abs(mat))\n",
    "\n",
    "\n",
    "def sort_linkage(Z):\n",
    "    \"\"\"\n",
    "    Sort the linkage matrix Z in reverse order by distance and\n",
    "    then by cluster size (new_size).\n",
    "\n",
    "    Parameters:\n",
    "    - arr: linkage matrix\n",
    "\n",
    "    Returns:\n",
    "    - arr: Sorted linkage matrix\n",
    "    \"\"\"\n",
    "    # Adjusting linkage matrix to accomodate renumbering\n",
    "    arr = np.zeros((Z.shape[0], Z.shape[1] + 1))\n",
    "    arr[:, :-1] = Z.copy()\n",
    "    arr[:, -1] = np.arange(Z.shape[0] + 1, 2 * Z.shape[0] + 1)\n",
    "\n",
    "    # Sort by decreasing distance, then by increasing new_size\n",
    "    # arr = arr[arr[:, 2].argsort()[::-1]]\n",
    "    # arr = arr[arr[:, -2].argsort(kind=\"stable\")]\n",
    "\n",
    "    return arr"
   ]
  },
  {
   "cell_type": "code",
   "execution_count": 30,
   "metadata": {},
   "outputs": [],
   "source": [
    "dist_mat = pdist(test_img.reshape((test_img.shape[0], -1)), metric=\"euclidean\")\n",
    "Z = linkage(dist_mat)\n",
    "Zsort = sort_linkage(Z)"
   ]
  },
  {
   "cell_type": "code",
   "execution_count": 32,
   "metadata": {},
   "outputs": [],
   "source": [
    "def get_duplicate(link_arr, distance):\n",
    "    link_std = link_arr.std()\n",
    "\n",
    "    if distance <= link_std / 1e3:\n",
    "        return \"exact duplicate\"\n",
    "    elif distance <= link_std:\n",
    "        return \"near duplicate\"\n",
    "    else:\n",
    "        return \"\"\n",
    "\n",
    "\n",
    "def get_outlier(level, distance, dist_arr):\n",
    "    dist_mean, dist_std = dist_arr[level].mean(), dist_arr[level].std()\n",
    "\n",
    "    if abs(dist_mean - distance) < dist_std * 2:\n",
    "        return \"outlier\"\n",
    "    elif level >= dist_arr.shape[0] * 2 / 3:\n",
    "        return \"potential outlier\"\n",
    "    else:\n",
    "        return \"\"\n",
    "\n",
    "\n",
    "def get_distance(\n",
    "    cluster, level, sample, distance_array, distance_matrix, sample_clusters\n",
    "):\n",
    "    # Convert the condensed distance matrix to a square form\n",
    "    square_distance_matrix = squareform(distance_matrix)\n",
    "\n",
    "    # For each cluster, check if it is active at the current level\n",
    "    for cluster_num, level_info in sample_clusters.items():\n",
    "        if cluster_num != cluster and level in level_info:\n",
    "            samples = level_info[level][\"samples\"]\n",
    "\n",
    "            for other_sample in samples:\n",
    "                if (\n",
    "                    square_distance_matrix[sample, other_sample]\n",
    "                    < distance_array[cluster]\n",
    "                ):\n",
    "                    distance_array[cluster] = square_distance_matrix[\n",
    "                        sample, other_sample\n",
    "                    ]\n",
    "\n",
    "    return distance_array\n",
    "\n",
    "\n",
    "def reorganize_clusters(clusters):\n",
    "    \"\"\"\n",
    "    Reorganize the clusters dictionary to be nested by cluster_num, then by level,\n",
    "    and include avg_dist, sample_dist, and samples within each level.\n",
    "\n",
    "    Parameters:\n",
    "    - clusters: A dictionary containing the original clusters information.\n",
    "\n",
    "    Returns:\n",
    "    - new_structure: A dictionary reorganized by cluster_num,\n",
    "                      then by level, with details.\n",
    "    \"\"\"\n",
    "    new_structure = {}\n",
    "\n",
    "    for _, info in clusters.items():\n",
    "        # Extract necessary information\n",
    "        cluster_num = info[\"cluster_num\"]\n",
    "        level = info[\"level\"]\n",
    "        samples = info.get(\"samples_added\", [])\n",
    "\n",
    "        # Initialize the structure if not present\n",
    "        if cluster_num not in new_structure:\n",
    "            new_structure[cluster_num] = {}\n",
    "\n",
    "        if level not in new_structure[cluster_num] and level == 1:\n",
    "            new_structure[cluster_num][level] = {\"samples\": []}\n",
    "        elif level not in new_structure[cluster_num] and level > 1:\n",
    "            new_structure[cluster_num][level] = {\n",
    "                \"samples\": deepcopy(new_structure[cluster_num][level - 1][\"samples\"])\n",
    "            }\n",
    "\n",
    "        # Extending the samples list.\n",
    "        new_structure[cluster_num][level][\"samples\"].extend(samples)\n",
    "\n",
    "    return new_structure\n",
    "\n",
    "\n",
    "def get_sample_info(arr, distance_matrix):\n",
    "    \"\"\"\n",
    "    Initialize clusters based on number of individual sample merges.\n",
    "\n",
    "    Parameters:\n",
    "    - arr: sorted linkage matrix\n",
    "\n",
    "    Returns:\n",
    "    - clusters: A dictionary containing the clusters\n",
    "    \"\"\"\n",
    "    # Determining maximum number of levels and clusters\n",
    "    max_clusters = 1\n",
    "    max_levels = 1\n",
    "    clusters = {}\n",
    "    for i in range(len(arr)):\n",
    "        level = 1\n",
    "        cluster_num = max_clusters\n",
    "        distance = 0\n",
    "        count = 0\n",
    "        sample_added = []\n",
    "        if arr[i, 0] in clusters:\n",
    "            cluster_num = min([cluster_num, clusters[arr[i, 0]][\"cluster_num\"]])\n",
    "            left_level = max([level, clusters[arr[i, 0]][\"level\"] + 1])\n",
    "            distance += clusters[arr[i, 0]][\"total_dist\"]\n",
    "            count += clusters[arr[i, 0]][\"count\"]\n",
    "        else:\n",
    "            sample_added.append(int(arr[i, 0]))\n",
    "\n",
    "        if arr[i, 1] in clusters:\n",
    "            cluster_num = min([cluster_num, clusters[arr[i, 1]][\"cluster_num\"]])\n",
    "            right_level = max([level, clusters[arr[i, 1]][\"level\"] + 1])\n",
    "            distance += clusters[arr[i, 1]][\"total_dist\"]\n",
    "            count += clusters[arr[i, 1]][\"count\"]\n",
    "        else:\n",
    "            sample_added.append(int(arr[i, 1]))\n",
    "\n",
    "        if arr[i, 0] in clusters and arr[i, 1] in clusters:\n",
    "            if cluster_num == clusters[arr[i, 0]][\"cluster_num\"]:\n",
    "                level = left_level\n",
    "            elif cluster_num == clusters[arr[i, 1]][\"cluster_num\"]:\n",
    "                level = right_level\n",
    "        elif arr[i, 0] in clusters:\n",
    "            level = left_level\n",
    "        elif arr[i, 1] in clusters:\n",
    "            level = right_level\n",
    "\n",
    "        count += 1\n",
    "        distance += arr[i, 2]\n",
    "\n",
    "        clusters[arr[i, -1]] = {\n",
    "            \"cluster_num\": cluster_num,\n",
    "            \"level\": level,\n",
    "            \"total_dist\": distance,\n",
    "            \"count\": count,\n",
    "            \"avg_dist\": distance / count,\n",
    "            \"samples_added\": sample_added,\n",
    "            \"sample_dist\": arr[i, 2],\n",
    "        }\n",
    "\n",
    "        if cluster_num == max_clusters and i < len(arr) - 1:\n",
    "            max_clusters += 1\n",
    "\n",
    "        if level > max_levels:\n",
    "            max_levels = level\n",
    "\n",
    "    # Reorganizing the clusters dictionary\n",
    "    sample_clusters = reorganize_clusters(clusters)\n",
    "\n",
    "    # Creating the cluster tracking dictionary\n",
    "    sample_tracking = {\n",
    "        i: {\n",
    "            \"cluster\": np.zeros(max_levels),\n",
    "            \"distance\": np.full((max_levels, max_clusters), np.inf),\n",
    "            \"duplicate\": \"\",\n",
    "            \"outlier\": \"\",\n",
    "        }\n",
    "        for i in range(len(arr) + 1)\n",
    "    }\n",
    "\n",
    "    for _, values in clusters.items():\n",
    "        if values[\"samples_added\"]:\n",
    "            level = values[\"level\"] - 1\n",
    "            cluster = values[\"cluster_num\"] - 1\n",
    "            for sample in values[\"samples_added\"]:\n",
    "                sample_tracking[sample][\"cluster\"][level] = values[\"cluster_num\"]\n",
    "                sample_tracking[sample][\"distance\"][level, cluster] = values[\n",
    "                    \"sample_dist\"\n",
    "                ]\n",
    "                sample_tracking[sample][\"distance\"][level, :] = get_distance(\n",
    "                    cluster,\n",
    "                    level,\n",
    "                    sample,\n",
    "                    sample_tracking[sample][\"distance\"][level, :],\n",
    "                    distance_matrix,\n",
    "                    sample_clusters,\n",
    "                )\n",
    "                sample_tracking[sample][\"duplicate\"] = get_duplicate(\n",
    "                    Zsort[:, 2],\n",
    "                    values[\"sample_dist\"],\n",
    "                )\n",
    "                sample_tracking[sample][\"outlier\"] = get_outlier(\n",
    "                    level,\n",
    "                    values[\"sample_dist\"],\n",
    "                    sample_tracking[sample][\"distance\"],\n",
    "                )\n",
    "\n",
    "    return clusters, sample_tracking"
   ]
  },
  {
   "cell_type": "code",
   "execution_count": 33,
   "metadata": {},
   "outputs": [],
   "source": [
    "clusters, sample_tracking = get_sample_info(Zsort, dist_mat)"
   ]
  },
  {
   "cell_type": "code",
   "execution_count": 34,
   "metadata": {},
   "outputs": [
    {
     "name": "stdout",
     "output_type": "stream",
     "text": [
      "{'cluster_num': 1, 'level': 1, 'total_dist': 419.583126448145, 'count': 1, 'avg_dist': 419.583126448145, 'samples_added': [13, 107], 'sample_dist': 419.583126448145}\n"
     ]
    }
   ],
   "source": [
    "for _, values in clusters.items():\n",
    "    if values[\"samples_added\"]:\n",
    "        print(values)\n",
    "        break"
   ]
  },
  {
   "cell_type": "code",
   "execution_count": 35,
   "metadata": {},
   "outputs": [
    {
     "data": {
      "text/plain": [
       "array([[1.30000000e+01, 1.07000000e+02, 4.19583126e+02, 2.00000000e+00,\n",
       "        1.08000000e+02],\n",
       "       [8.20000000e+01, 1.08000000e+02, 8.09468344e+02, 3.00000000e+00,\n",
       "        1.09000000e+02],\n",
       "       [2.30000000e+01, 4.50000000e+01, 9.43248642e+02, 2.00000000e+00,\n",
       "        1.10000000e+02],\n",
       "       [4.20000000e+01, 1.10000000e+02, 9.64527864e+02, 3.00000000e+00,\n",
       "        1.11000000e+02],\n",
       "       [3.70000000e+01, 1.09000000e+02, 9.68168890e+02, 4.00000000e+00,\n",
       "        1.12000000e+02],\n",
       "       [3.00000000e+01, 1.11000000e+02, 9.87199575e+02, 4.00000000e+00,\n",
       "        1.13000000e+02],\n",
       "       [6.50000000e+01, 7.10000000e+01, 1.03831017e+03, 2.00000000e+00,\n",
       "        1.14000000e+02],\n",
       "       [3.20000000e+01, 9.70000000e+01, 1.04582121e+03, 2.00000000e+00,\n",
       "        1.15000000e+02],\n",
       "       [1.90000000e+01, 6.10000000e+01, 1.10696883e+03, 2.00000000e+00,\n",
       "        1.16000000e+02],\n",
       "       [3.60000000e+01, 8.60000000e+01, 1.12729056e+03, 2.00000000e+00,\n",
       "        1.17000000e+02],\n",
       "       [4.10000000e+01, 1.12000000e+02, 1.15781907e+03, 5.00000000e+00,\n",
       "        1.18000000e+02],\n",
       "       [7.80000000e+01, 1.13000000e+02, 1.16085313e+03, 5.00000000e+00,\n",
       "        1.19000000e+02],\n",
       "       [1.14000000e+02, 1.18000000e+02, 1.23162981e+03, 7.00000000e+00,\n",
       "        1.20000000e+02],\n",
       "       [4.40000000e+01, 5.40000000e+01, 1.28236578e+03, 2.00000000e+00,\n",
       "        1.21000000e+02],\n",
       "       [3.00000000e+00, 2.90000000e+01, 1.30118139e+03, 2.00000000e+00,\n",
       "        1.22000000e+02],\n",
       "       [5.20000000e+01, 5.90000000e+01, 1.32788591e+03, 2.00000000e+00,\n",
       "        1.23000000e+02],\n",
       "       [7.20000000e+01, 1.15000000e+02, 1.34008731e+03, 3.00000000e+00,\n",
       "        1.24000000e+02],\n",
       "       [3.40000000e+01, 1.21000000e+02, 1.35069019e+03, 3.00000000e+00,\n",
       "        1.25000000e+02],\n",
       "       [3.50000000e+01, 4.80000000e+01, 1.35911994e+03, 2.00000000e+00,\n",
       "        1.26000000e+02],\n",
       "       [8.10000000e+01, 1.26000000e+02, 1.36369241e+03, 3.00000000e+00,\n",
       "        1.27000000e+02],\n",
       "       [2.40000000e+01, 8.30000000e+01, 1.37076657e+03, 2.00000000e+00,\n",
       "        1.28000000e+02],\n",
       "       [6.80000000e+01, 1.00000000e+02, 1.37494654e+03, 2.00000000e+00,\n",
       "        1.29000000e+02],\n",
       "       [2.00000000e+01, 8.80000000e+01, 1.37630411e+03, 2.00000000e+00,\n",
       "        1.30000000e+02],\n",
       "       [1.70000000e+01, 1.25000000e+02, 1.37827392e+03, 4.00000000e+00,\n",
       "        1.31000000e+02],\n",
       "       [1.10000000e+01, 6.70000000e+01, 1.38800576e+03, 2.00000000e+00,\n",
       "        1.32000000e+02],\n",
       "       [1.19000000e+02, 1.20000000e+02, 1.39784763e+03, 1.20000000e+01,\n",
       "        1.33000000e+02],\n",
       "       [5.10000000e+01, 1.30000000e+02, 1.40087437e+03, 3.00000000e+00,\n",
       "        1.34000000e+02],\n",
       "       [1.24000000e+02, 1.31000000e+02, 1.40106103e+03, 7.00000000e+00,\n",
       "        1.35000000e+02],\n",
       "       [2.20000000e+01, 1.35000000e+02, 1.40337593e+03, 8.00000000e+00,\n",
       "        1.36000000e+02],\n",
       "       [6.00000000e+01, 1.34000000e+02, 1.40923809e+03, 4.00000000e+00,\n",
       "        1.37000000e+02],\n",
       "       [1.28000000e+02, 1.36000000e+02, 1.41020424e+03, 1.00000000e+01,\n",
       "        1.38000000e+02],\n",
       "       [5.00000000e+00, 1.38000000e+02, 1.41525934e+03, 1.10000000e+01,\n",
       "        1.39000000e+02],\n",
       "       [1.03000000e+02, 1.23000000e+02, 1.42747539e+03, 3.00000000e+00,\n",
       "        1.40000000e+02],\n",
       "       [8.40000000e+01, 1.33000000e+02, 1.44127131e+03, 1.30000000e+01,\n",
       "        1.41000000e+02],\n",
       "       [4.60000000e+01, 1.41000000e+02, 1.46053860e+03, 1.40000000e+01,\n",
       "        1.42000000e+02],\n",
       "       [9.30000000e+01, 1.06000000e+02, 1.49115962e+03, 2.00000000e+00,\n",
       "        1.43000000e+02],\n",
       "       [3.10000000e+01, 1.40000000e+02, 1.49316376e+03, 4.00000000e+00,\n",
       "        1.44000000e+02],\n",
       "       [8.70000000e+01, 1.17000000e+02, 1.50219972e+03, 3.00000000e+00,\n",
       "        1.45000000e+02],\n",
       "       [1.39000000e+02, 1.42000000e+02, 1.51157864e+03, 2.50000000e+01,\n",
       "        1.46000000e+02],\n",
       "       [1.27000000e+02, 1.43000000e+02, 1.52962054e+03, 5.00000000e+00,\n",
       "        1.47000000e+02],\n",
       "       [1.29000000e+02, 1.46000000e+02, 1.53253352e+03, 2.70000000e+01,\n",
       "        1.48000000e+02],\n",
       "       [1.05000000e+02, 1.37000000e+02, 1.54041001e+03, 5.00000000e+00,\n",
       "        1.49000000e+02],\n",
       "       [1.45000000e+02, 1.48000000e+02, 1.55637463e+03, 3.00000000e+01,\n",
       "        1.50000000e+02],\n",
       "       [9.80000000e+01, 1.44000000e+02, 1.55989198e+03, 5.00000000e+00,\n",
       "        1.51000000e+02],\n",
       "       [1.60000000e+01, 6.60000000e+01, 1.56114349e+03, 2.00000000e+00,\n",
       "        1.52000000e+02],\n",
       "       [7.00000000e+01, 1.51000000e+02, 1.56194270e+03, 6.00000000e+00,\n",
       "        1.53000000e+02],\n",
       "       [7.90000000e+01, 1.47000000e+02, 1.57443101e+03, 6.00000000e+00,\n",
       "        1.54000000e+02],\n",
       "       [1.52000000e+02, 1.53000000e+02, 1.60564816e+03, 8.00000000e+00,\n",
       "        1.55000000e+02],\n",
       "       [9.00000000e+01, 1.50000000e+02, 1.60871129e+03, 3.10000000e+01,\n",
       "        1.56000000e+02],\n",
       "       [4.70000000e+01, 7.50000000e+01, 1.61396499e+03, 2.00000000e+00,\n",
       "        1.57000000e+02],\n",
       "       [1.49000000e+02, 1.56000000e+02, 1.62296149e+03, 3.60000000e+01,\n",
       "        1.58000000e+02],\n",
       "       [7.70000000e+01, 1.16000000e+02, 1.62574014e+03, 3.00000000e+00,\n",
       "        1.59000000e+02],\n",
       "       [1.20000000e+01, 2.60000000e+01, 1.62762066e+03, 2.00000000e+00,\n",
       "        1.60000000e+02],\n",
       "       [0.00000000e+00, 1.58000000e+02, 1.64051699e+03, 3.70000000e+01,\n",
       "        1.61000000e+02],\n",
       "       [6.30000000e+01, 1.60000000e+02, 1.65856354e+03, 3.00000000e+00,\n",
       "        1.62000000e+02],\n",
       "       [4.00000000e+00, 8.90000000e+01, 1.66055954e+03, 2.00000000e+00,\n",
       "        1.63000000e+02],\n",
       "       [5.30000000e+01, 1.59000000e+02, 1.68496380e+03, 4.00000000e+00,\n",
       "        1.64000000e+02],\n",
       "       [5.80000000e+01, 1.62000000e+02, 1.69738033e+03, 4.00000000e+00,\n",
       "        1.65000000e+02],\n",
       "       [3.80000000e+01, 1.64000000e+02, 1.72327943e+03, 5.00000000e+00,\n",
       "        1.66000000e+02],\n",
       "       [1.61000000e+02, 1.63000000e+02, 1.73025489e+03, 3.90000000e+01,\n",
       "        1.67000000e+02],\n",
       "       [1.65000000e+02, 1.66000000e+02, 1.74451512e+03, 9.00000000e+00,\n",
       "        1.68000000e+02],\n",
       "       [2.50000000e+01, 1.67000000e+02, 1.75761571e+03, 4.00000000e+01,\n",
       "        1.69000000e+02],\n",
       "       [2.80000000e+01, 1.55000000e+02, 1.75878594e+03, 9.00000000e+00,\n",
       "        1.70000000e+02],\n",
       "       [1.57000000e+02, 1.70000000e+02, 1.77286237e+03, 1.10000000e+01,\n",
       "        1.71000000e+02],\n",
       "       [9.50000000e+01, 1.01000000e+02, 1.77495296e+03, 2.00000000e+00,\n",
       "        1.72000000e+02],\n",
       "       [1.22000000e+02, 1.69000000e+02, 1.81198841e+03, 4.20000000e+01,\n",
       "        1.73000000e+02],\n",
       "       [1.50000000e+01, 1.73000000e+02, 1.83250539e+03, 4.30000000e+01,\n",
       "        1.74000000e+02],\n",
       "       [4.00000000e+01, 1.72000000e+02, 1.83536427e+03, 3.00000000e+00,\n",
       "        1.75000000e+02],\n",
       "       [1.32000000e+02, 1.54000000e+02, 1.83834572e+03, 8.00000000e+00,\n",
       "        1.76000000e+02],\n",
       "       [1.68000000e+02, 1.74000000e+02, 1.84413611e+03, 5.20000000e+01,\n",
       "        1.77000000e+02],\n",
       "       [8.00000000e+00, 1.77000000e+02, 1.85105618e+03, 5.30000000e+01,\n",
       "        1.78000000e+02],\n",
       "       [5.00000000e+01, 6.20000000e+01, 1.89192653e+03, 2.00000000e+00,\n",
       "        1.79000000e+02],\n",
       "       [1.75000000e+02, 1.78000000e+02, 1.89650863e+03, 5.60000000e+01,\n",
       "        1.80000000e+02],\n",
       "       [1.71000000e+02, 1.80000000e+02, 1.90578409e+03, 6.70000000e+01,\n",
       "        1.81000000e+02],\n",
       "       [1.76000000e+02, 1.81000000e+02, 1.90639581e+03, 7.50000000e+01,\n",
       "        1.82000000e+02],\n",
       "       [9.40000000e+01, 1.82000000e+02, 1.91215219e+03, 7.60000000e+01,\n",
       "        1.83000000e+02],\n",
       "       [1.00000000e+01, 1.83000000e+02, 1.91448818e+03, 7.70000000e+01,\n",
       "        1.84000000e+02],\n",
       "       [4.90000000e+01, 1.84000000e+02, 1.91556623e+03, 7.80000000e+01,\n",
       "        1.85000000e+02],\n",
       "       [1.00000000e+00, 1.85000000e+02, 1.91782976e+03, 7.90000000e+01,\n",
       "        1.86000000e+02],\n",
       "       [7.00000000e+00, 1.86000000e+02, 1.95102076e+03, 8.00000000e+01,\n",
       "        1.87000000e+02],\n",
       "       [1.02000000e+02, 1.87000000e+02, 1.95359182e+03, 8.10000000e+01,\n",
       "        1.88000000e+02],\n",
       "       [2.70000000e+01, 1.88000000e+02, 1.96883087e+03, 8.20000000e+01,\n",
       "        1.89000000e+02],\n",
       "       [2.10000000e+01, 1.89000000e+02, 1.99036303e+03, 8.30000000e+01,\n",
       "        1.90000000e+02],\n",
       "       [2.00000000e+00, 3.90000000e+01, 1.99520676e+03, 2.00000000e+00,\n",
       "        1.91000000e+02],\n",
       "       [8.00000000e+01, 1.90000000e+02, 1.99965072e+03, 8.40000000e+01,\n",
       "        1.92000000e+02],\n",
       "       [1.91000000e+02, 1.92000000e+02, 2.00364668e+03, 8.60000000e+01,\n",
       "        1.93000000e+02],\n",
       "       [6.00000000e+00, 1.93000000e+02, 2.01557014e+03, 8.70000000e+01,\n",
       "        1.94000000e+02],\n",
       "       [1.80000000e+01, 1.94000000e+02, 2.03516928e+03, 8.80000000e+01,\n",
       "        1.95000000e+02],\n",
       "       [3.30000000e+01, 1.95000000e+02, 2.03874128e+03, 8.90000000e+01,\n",
       "        1.96000000e+02],\n",
       "       [5.50000000e+01, 1.96000000e+02, 2.09835364e+03, 9.00000000e+01,\n",
       "        1.97000000e+02],\n",
       "       [9.10000000e+01, 1.97000000e+02, 2.10541112e+03, 9.10000000e+01,\n",
       "        1.98000000e+02],\n",
       "       [1.04000000e+02, 1.98000000e+02, 2.13715605e+03, 9.20000000e+01,\n",
       "        1.99000000e+02],\n",
       "       [6.40000000e+01, 1.99000000e+02, 2.13979298e+03, 9.30000000e+01,\n",
       "        2.00000000e+02],\n",
       "       [9.00000000e+00, 2.00000000e+02, 2.15228994e+03, 9.40000000e+01,\n",
       "        2.01000000e+02],\n",
       "       [1.40000000e+01, 2.01000000e+02, 2.17481126e+03, 9.50000000e+01,\n",
       "        2.02000000e+02],\n",
       "       [9.90000000e+01, 2.02000000e+02, 2.19915848e+03, 9.60000000e+01,\n",
       "        2.03000000e+02],\n",
       "       [1.79000000e+02, 2.03000000e+02, 2.23221213e+03, 9.80000000e+01,\n",
       "        2.04000000e+02],\n",
       "       [4.30000000e+01, 2.04000000e+02, 2.23906878e+03, 9.90000000e+01,\n",
       "        2.05000000e+02],\n",
       "       [7.30000000e+01, 7.40000000e+01, 2.24120793e+03, 2.00000000e+00,\n",
       "        2.06000000e+02],\n",
       "       [9.60000000e+01, 2.05000000e+02, 2.25981415e+03, 1.00000000e+02,\n",
       "        2.07000000e+02],\n",
       "       [8.50000000e+01, 2.07000000e+02, 2.35447085e+03, 1.01000000e+02,\n",
       "        2.08000000e+02],\n",
       "       [9.20000000e+01, 2.08000000e+02, 2.43200658e+03, 1.02000000e+02,\n",
       "        2.09000000e+02],\n",
       "       [7.60000000e+01, 2.09000000e+02, 2.46408624e+03, 1.03000000e+02,\n",
       "        2.10000000e+02],\n",
       "       [5.70000000e+01, 2.10000000e+02, 2.46718848e+03, 1.04000000e+02,\n",
       "        2.11000000e+02],\n",
       "       [6.90000000e+01, 2.11000000e+02, 2.47132636e+03, 1.05000000e+02,\n",
       "        2.12000000e+02],\n",
       "       [5.60000000e+01, 2.06000000e+02, 2.50021519e+03, 3.00000000e+00,\n",
       "        2.13000000e+02],\n",
       "       [2.12000000e+02, 2.13000000e+02, 2.58931709e+03, 1.08000000e+02,\n",
       "        2.14000000e+02]])"
      ]
     },
     "execution_count": 35,
     "metadata": {},
     "output_type": "execute_result"
    }
   ],
   "source": [
    "Zsort"
   ]
  },
  {
   "cell_type": "code",
   "execution_count": 37,
   "metadata": {},
   "outputs": [
    {
     "data": {
      "text/plain": [
       "{'cluster': array([1., 0., 0., 0., 0., 0., 0., 0., 0., 0., 0., 0., 0., 0., 0., 0., 0.,\n",
       "        0., 0., 0., 0., 0., 0., 0., 0., 0., 0., 0., 0., 0., 0., 0., 0., 0.,\n",
       "        0., 0., 0., 0., 0., 0., 0., 0., 0., 0., 0., 0., 0., 0., 0., 0., 0.,\n",
       "        0.]),\n",
       " 'distance': array([[419.58312645,          inf,          inf, ...,          inf,\n",
       "                  inf,          inf],\n",
       "        [         inf,          inf,          inf, ...,          inf,\n",
       "                  inf,          inf],\n",
       "        [         inf,          inf,          inf, ...,          inf,\n",
       "                  inf,          inf],\n",
       "        ...,\n",
       "        [         inf,          inf,          inf, ...,          inf,\n",
       "                  inf,          inf],\n",
       "        [         inf,          inf,          inf, ...,          inf,\n",
       "                  inf,          inf],\n",
       "        [         inf,          inf,          inf, ...,          inf,\n",
       "                  inf,          inf]]),\n",
       " 'duplicate': '',\n",
       " 'outlier': ''}"
      ]
     },
     "execution_count": 37,
     "metadata": {},
     "output_type": "execute_result"
    }
   ],
   "source": [
    "sample_tracking[13]"
   ]
  },
  {
   "cell_type": "code",
   "execution_count": 106,
   "metadata": {},
   "outputs": [
    {
     "data": {
      "text/plain": [
       "1071"
      ]
     },
     "execution_count": 106,
     "metadata": {},
     "output_type": "execute_result"
    }
   ],
   "source": [
    "len(sample_tracking[205][\"cluster\"])"
   ]
  },
  {
   "cell_type": "code",
   "execution_count": 100,
   "metadata": {},
   "outputs": [
    {
     "data": {
      "text/plain": [
       "{'cluster': array([ 0., 13.,  0., ...,  0.,  0.,  0.]),\n",
       " 'distance': array([[inf, inf, inf, ..., inf, inf, inf],\n",
       "        [inf, inf, inf, ..., inf, inf, inf],\n",
       "        [inf, inf, inf, ..., inf, inf, inf],\n",
       "        ...,\n",
       "        [inf, inf, inf, ..., inf, inf, inf],\n",
       "        [inf, inf, inf, ..., inf, inf, inf],\n",
       "        [inf, inf, inf, ..., inf, inf, inf]]),\n",
       " 'duplicate': '',\n",
       " 'outlier': ''}"
      ]
     },
     "execution_count": 100,
     "metadata": {},
     "output_type": "execute_result"
    }
   ],
   "source": [
    "sample_tracking[205]"
   ]
  },
  {
   "cell_type": "code",
   "execution_count": null,
   "metadata": {},
   "outputs": [],
   "source": []
  }
 ],
 "metadata": {
  "kernelspec": {
   "display_name": "Python 3",
   "language": "python",
   "name": "python3"
  },
  "language_info": {
   "codemirror_mode": {
    "name": "ipython",
    "version": 3
   },
   "file_extension": ".py",
   "mimetype": "text/x-python",
   "name": "python",
   "nbconvert_exporter": "python",
   "pygments_lexer": "ipython3",
   "version": "3.11.7"
  }
 },
 "nbformat": 4,
 "nbformat_minor": 2
}
