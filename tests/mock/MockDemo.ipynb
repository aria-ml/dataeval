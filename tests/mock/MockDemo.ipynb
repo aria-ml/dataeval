{
 "cells": [
  {
   "cell_type": "markdown",
   "metadata": {},
   "source": [
    "# How To Use Mock Dataset Object\n"
   ]
  },
  {
   "cell_type": "markdown",
   "metadata": {},
   "source": [
    "This notebook will give an overview of how to use the\n",
    "\n",
    "1. [`MockImageClassificationGenerator`](#mockimageclassificationgenerator)\n",
    "2. [`MockImageClassificationDataset`](#mockimageclassificationdataset)\n",
    "3. [`MockCIFAR10`](#mockcifar10)\n",
    "\n",
    "And additional information\n",
    "\n",
    "1. [Additional Information](#additional-information)\n",
    "2. [Warnings](#warnings)\n",
    "3. [Future Additions](#future-additions)\n"
   ]
  },
  {
   "cell_type": "markdown",
   "metadata": {},
   "source": [
    "## `MockImageClassificationGenerator`\n",
    "\n",
    "---\n"
   ]
  },
  {
   "cell_type": "markdown",
   "metadata": {},
   "source": [
    "The `MockImageClassificationGenerator` has 4 input parameters:\n",
    "\n",
    "- Limit:\n",
    "  - The total number of images in the dataset\n",
    "- Labels\n",
    "  - A list of labels to be used\n",
    "- Image Dimensions\n",
    "  - The height and width of the images\n",
    "- Channels\n",
    "  - The number of channels in the images\n"
   ]
  },
  {
   "cell_type": "markdown",
   "metadata": {},
   "source": [
    "### Setting up a `MockImageClassificationGenerator`\n"
   ]
  },
  {
   "cell_type": "markdown",
   "metadata": {},
   "source": [
    "**Import dependencies**\n"
   ]
  },
  {
   "cell_type": "code",
   "execution_count": 18,
   "metadata": {},
   "outputs": [],
   "source": [
    "import numpy as np\n",
    "from utils.MockGenerators import MockImageClassificationGenerator"
   ]
  },
  {
   "cell_type": "markdown",
   "metadata": {},
   "source": [
    "**Set up generator parameters**  \n",
    "These should be changed to fit **your** testing needs.  \n",
    "Parameters _limit_, _labels_, and _image dimensions_ are **required**.\n"
   ]
  },
  {
   "cell_type": "code",
   "execution_count": 19,
   "metadata": {},
   "outputs": [],
   "source": [
    "default_limit = 100\n",
    "default_labels = [1, 2, 3, 4, 5]\n",
    "default_image_dimensions = [32, 32]\n",
    "default_channels = 3"
   ]
  },
  {
   "cell_type": "markdown",
   "metadata": {},
   "source": [
    "**Create the dataset by instantiating the `MockImageClassificationGenerator`**\n"
   ]
  },
  {
   "cell_type": "code",
   "execution_count": 20,
   "metadata": {},
   "outputs": [],
   "source": [
    "generator = MockImageClassificationGenerator(\n",
    "    limit=default_limit,\n",
    "    labels=default_labels,\n",
    "    img_dims=default_image_dimensions,\n",
    "    channels=default_channels,\n",
    ")"
   ]
  },
  {
   "cell_type": "markdown",
   "metadata": {},
   "source": [
    "**Retrieve the newly created `MockImageClassificationDataset`**\n",
    "\n",
    "Now we confirm that the dataset is of type `MockImageClassificationDataset`.\n"
   ]
  },
  {
   "cell_type": "code",
   "execution_count": 21,
   "metadata": {},
   "outputs": [
    {
     "name": "stdout",
     "output_type": "stream",
     "text": [
      "<class 'utils.MockDatasets.MockImageClassificationDataset'>\n"
     ]
    }
   ],
   "source": [
    "mock_dataset = generator.dataset\n",
    "print(type(mock_dataset))"
   ]
  },
  {
   "cell_type": "markdown",
   "metadata": {},
   "source": [
    "## `MockImageClassificationDataset`\n",
    "\n",
    "---\n"
   ]
  },
  {
   "cell_type": "markdown",
   "metadata": {},
   "source": [
    "The `MockImageClassificationDataset` contains all of your images and labels.  \n",
    "This class should not be created on its own, and should instead by created by a `MockImageClassificationGenerator` to ensure reproducibility.  \n",
    "This class outputs a dictionary containing keys _image_ and _label_.\n"
   ]
  },
  {
   "cell_type": "markdown",
   "metadata": {},
   "source": [
    "### **Accessing the data**\n"
   ]
  },
  {
   "cell_type": "markdown",
   "metadata": {},
   "source": [
    "The data can be accessed in 3 ways:\n",
    "\n",
    "1. Manually\n",
    "2. Individually\n",
    "3. Iteratively\n"
   ]
  },
  {
   "cell_type": "markdown",
   "metadata": {},
   "source": [
    "**Manually**  \n",
    "To access the entire image and label data, you can call the `images` and `labels` attributes directly from the dataset.\n"
   ]
  },
  {
   "cell_type": "code",
   "execution_count": 22,
   "metadata": {},
   "outputs": [],
   "source": [
    "mds_images = mock_dataset.images\n",
    "mds_labels = mock_dataset.labels"
   ]
  },
  {
   "cell_type": "markdown",
   "metadata": {},
   "source": [
    "Now we check to make sure the length of the `images` and `labels` are the same as the length of the dataset.\n"
   ]
  },
  {
   "cell_type": "code",
   "execution_count": 23,
   "metadata": {},
   "outputs": [
    {
     "name": "stdout",
     "output_type": "stream",
     "text": [
      "Dataset length: 100\n",
      "Images length: 100\n",
      "Labels length: 100\n"
     ]
    }
   ],
   "source": [
    "mds_len = len(mock_dataset)\n",
    "images_len = len(mds_images)\n",
    "labels_len = len(mds_labels)\n",
    "\n",
    "print(\"Dataset length:\", mds_len)\n",
    "print(\"Images length:\", images_len)\n",
    "print(\"Labels length:\", labels_len)"
   ]
  },
  {
   "cell_type": "markdown",
   "metadata": {},
   "source": [
    "As you can see, the dataset, `images`, and `labels` all have a length of 100, so all data must have been grabbed.\n"
   ]
  },
  {
   "cell_type": "markdown",
   "metadata": {},
   "source": [
    "**Individually**  \n",
    "We can also access individual images and labels directly. This can be done in two ways:\n"
   ]
  },
  {
   "cell_type": "code",
   "execution_count": 24,
   "metadata": {},
   "outputs": [
    {
     "name": "stdout",
     "output_type": "stream",
     "text": [
      "Image shape from pair at index 0: (32, 32, 3)\n",
      "Label from pair at index 0: 1\n"
     ]
    }
   ],
   "source": [
    "# Example 1: Grab a dictionary at a specific index containing the image-label pair\n",
    "index = 0\n",
    "data_0 = mock_dataset[index]\n",
    "image_pair_0 = data_0[\"image\"]\n",
    "label_pair_0 = data_0[\"label\"]\n",
    "print(f\"Image shape from pair at index {index}:\", image_pair_0.shape)\n",
    "print(f\"Label from pair at index {index}:\", label_pair_0)"
   ]
  },
  {
   "cell_type": "code",
   "execution_count": 25,
   "metadata": {},
   "outputs": [
    {
     "name": "stdout",
     "output_type": "stream",
     "text": [
      "Image shape from images array at index 0: (32, 32, 3)\n",
      "Label from images array at index 0: 1\n"
     ]
    }
   ],
   "source": [
    "# Example 2: Grab the image and label individually at a specific index\n",
    "index = 0\n",
    "image_index_0 = mock_dataset.images[index]\n",
    "label_index_0 = mock_dataset.labels[index]\n",
    "print(f\"Image shape from images array at index {index}:\", image_index_0.shape)\n",
    "print(f\"Label from images array at index {index}:\", label_index_0)"
   ]
  },
  {
   "cell_type": "markdown",
   "metadata": {},
   "source": [
    "Based on the shape of image and labels above, we can see that they are equivalent to a single image in the dataset and were specified by the `img_dims` and `channels` parameters.  \n",
    "For further proof, see below\n"
   ]
  },
  {
   "cell_type": "code",
   "execution_count": 26,
   "metadata": {},
   "outputs": [
    {
     "name": "stdout",
     "output_type": "stream",
     "text": [
      "Single image shape: (32, 32, 3)\n",
      "Individual image shape: (32, 32, 3)\n",
      "Single label: 1\n",
      "Individual label: 1\n"
     ]
    }
   ],
   "source": [
    "# First we get the the image and label at index 0\n",
    "index = 0\n",
    "single_image = mock_dataset.images[index]\n",
    "single_label = mock_dataset.labels[index]\n",
    "\n",
    "# Then we compare the shape of a single image to our individually accessed image\n",
    "print(\"Single image shape:\", single_image.shape)\n",
    "print(\"Individual image shape:\", image_index_0.shape)\n",
    "\n",
    "# And do the same for the label\n",
    "print(\"Single label:\", single_label)\n",
    "print(\"Individual label:\", single_label)"
   ]
  },
  {
   "cell_type": "markdown",
   "metadata": {},
   "source": [
    "We have now confirmed that grabbing an image or label individually gives us a single image or label.\n"
   ]
  },
  {
   "cell_type": "markdown",
   "metadata": {},
   "source": [
    "**Iteratively**\n",
    "\n",
    "Lastly, the data can be accessed through iterative methods (loops)  \n",
    "This is possible because the return function is defined using Python `Iterator` standards\n"
   ]
  },
  {
   "cell_type": "code",
   "execution_count": 27,
   "metadata": {},
   "outputs": [
    {
     "name": "stdout",
     "output_type": "stream",
     "text": [
      "Image shape at loop iteration 0: (32, 32, 3)\n",
      "Label at loop iteration 0: 1\n"
     ]
    }
   ],
   "source": [
    "# Example 1:\n",
    "# Similar to a ML training cycle (without batching),\n",
    "# we can use a for loop to iterate over the data.\n",
    "for i, data in enumerate(mock_dataset):\n",
    "    image = data[\"image\"]\n",
    "    label = data[\"label\"]\n",
    "    print(f\"Image shape at loop iteration {i}:\", image.shape)\n",
    "    print(f\"Label at loop iteration {i}:\", label)\n",
    "    break"
   ]
  },
  {
   "cell_type": "markdown",
   "metadata": {},
   "source": [
    "Now it has been shown that using an iterative method gives the same result as individually indexing the dataset,  \n",
    "even allowing the `enumerate` function to be used for indexing if needed\n"
   ]
  },
  {
   "cell_type": "markdown",
   "metadata": {},
   "source": [
    "**Confirm image parameters equal the generator inputs**  \n",
    "Now we want to confirm that the image shape is the same as our inputs to the generator.\n",
    "We also want to confirm that all the labels exist in the dataset.\n"
   ]
  },
  {
   "cell_type": "code",
   "execution_count": 28,
   "metadata": {},
   "outputs": [
    {
     "name": "stdout",
     "output_type": "stream",
     "text": [
      "Passed\n"
     ]
    }
   ],
   "source": [
    "# First lets get our entire array of images\n",
    "all_images = mock_dataset.images\n",
    "\n",
    "# Then get the shape, which has the format (limit, height, width, channels)\n",
    "ishape = all_images.shape\n",
    "\n",
    "# Now we compare each dimension to their corresponding input parameter for the generator\n",
    "assert ishape[0] == default_limit  # Image count equals limit parameter\n",
    "assert ishape[1] == default_image_dimensions[0]  # Image height equals height parameter\n",
    "assert ishape[2] == default_image_dimensions[1]  # Image width equals width parameter\n",
    "assert ishape[3] == default_channels  # Image channels equals parameter channels\n",
    "print(\"Passed\")"
   ]
  },
  {
   "cell_type": "code",
   "execution_count": 29,
   "metadata": {},
   "outputs": [
    {
     "name": "stdout",
     "output_type": "stream",
     "text": [
      "Generator Labels: [1, 2, 3, 4, 5]\n",
      "Unique labels: [1 2 3 4 5]\n",
      "Passed\n",
      "Label counts [20 20 20 20 20]\n"
     ]
    }
   ],
   "source": [
    "# First lets get our entire array of labels\n",
    "all_labels = mock_dataset.labels\n",
    "\n",
    "# Then we can use numpy.unique to get all the unique label values and their counts\n",
    "label_counts = np.unique(all_labels, return_counts=True)\n",
    "\n",
    "# Now we check that all the labels to the generator are in the dataset\n",
    "print(\"Generator Labels:\", default_labels)\n",
    "print(\"Unique labels:\", label_counts[0])\n",
    "\n",
    "# Only pass if they are the same\n",
    "assert list(label_counts[0]) == default_labels\n",
    "print(\"Passed\")\n",
    "\n",
    "# And lastly check the counts of the labels\n",
    "print(\"Label counts\", label_counts[1])"
   ]
  },
  {
   "cell_type": "markdown",
   "metadata": {},
   "source": [
    "Since these have passed, you can see that the data was made accordingly\n"
   ]
  },
  {
   "cell_type": "markdown",
   "metadata": {},
   "source": [
    "# `MockCifar10`\n",
    "\n",
    "---\n"
   ]
  },
  {
   "cell_type": "markdown",
   "metadata": {},
   "source": [
    "The `MockCifar10` class creates two `MockImageClassificationDatasets` using `MockImageClassificationGenerators`.  \n",
    "These two datasets represent the training and testing datasets used for `CIFAR10`\n",
    "\n",
    "This class takes in 0 parameters and has 2 attributes( `train_dataset`, `test_dataset`)\n",
    "\n",
    "To access these datasets, instantiate the `MockCifar10` class and call `MockCifar10.train_dataset` and `MockCifar10.test_dataset` respectively\n"
   ]
  },
  {
   "cell_type": "code",
   "execution_count": 30,
   "metadata": {},
   "outputs": [],
   "source": [
    "from utils.MockObjects import MockCifar10"
   ]
  },
  {
   "cell_type": "code",
   "execution_count": 31,
   "metadata": {},
   "outputs": [
    {
     "name": "stdout",
     "output_type": "stream",
     "text": [
      "Train dataset type: <class 'utils.MockDatasets.MockImageClassificationDataset'>\n",
      "Test dataset type: <class 'utils.MockDatasets.MockImageClassificationDataset'>\n"
     ]
    }
   ],
   "source": [
    "# Here we create a MockCifar10 object containing a mock train and test dataset\n",
    "mc10 = MockCifar10()\n",
    "train_cifar10 = mc10.train_dataset\n",
    "test_cifar10 = mc10.test_dataset\n",
    "\n",
    "# Let us see that each dataset is of type MockImageClassificationDataset\n",
    "print(\"Train dataset type:\", type(train_cifar10))\n",
    "print(\"Test dataset type:\", type(test_cifar10))"
   ]
  },
  {
   "cell_type": "markdown",
   "metadata": {},
   "source": [
    "The real Cifar10 dataset contains 60,000 total images, typically split into a 50,000 and 10,000 train and test set respectively  \n",
    "We can show here that the mock version is split the same way\n"
   ]
  },
  {
   "cell_type": "code",
   "execution_count": 32,
   "metadata": {},
   "outputs": [
    {
     "name": "stdout",
     "output_type": "stream",
     "text": [
      "Training data count: 50000\n",
      "Training size: (50000, 32, 32, 3)\n",
      "Testing data count: 10000\n",
      "Testing size: (10000, 32, 32, 3)\n"
     ]
    }
   ],
   "source": [
    "print(\"Training data count:\", len(train_cifar10))\n",
    "print(\"Training size:\", train_cifar10.images.shape)\n",
    "print(\"Testing data count:\", len(test_cifar10))\n",
    "print(\"Testing size:\", test_cifar10.images.shape)"
   ]
  },
  {
   "cell_type": "markdown",
   "metadata": {},
   "source": [
    "Each image in the dataset has a shape of (32, 32, 3).  \n",
    "This means each image has a height of 32px, a width of 32px, and 3 channels (Red, Green, Blue)  \n",
    "We can show that the mock has the same size.\n"
   ]
  },
  {
   "cell_type": "code",
   "execution_count": 33,
   "metadata": {},
   "outputs": [
    {
     "name": "stdout",
     "output_type": "stream",
     "text": [
      "Image height: 32\n",
      "Image width: 32\n",
      "Image channels: 3\n"
     ]
    }
   ],
   "source": [
    "for data in train_cifar10:\n",
    "    img = data[\"image\"]\n",
    "    print(\"Image height:\", img.shape[0])\n",
    "    print(\"Image width:\", img.shape[1])\n",
    "    print(\"Image channels:\", img.shape[2])\n",
    "    break"
   ]
  },
  {
   "cell_type": "markdown",
   "metadata": {},
   "source": [
    "## Additional Information\n",
    "\n",
    "---\n"
   ]
  },
  {
   "cell_type": "markdown",
   "metadata": {},
   "source": [
    "**Variations in the `MockImageClassificationGenerator` parameters**  \n",
    "In this section, we will explain other ways to specify parameters and potentially cases when you might do so\n"
   ]
  },
  {
   "cell_type": "code",
   "execution_count": 34,
   "metadata": {},
   "outputs": [],
   "source": [
    "# These were the previous parameters for the generated dataset\n",
    "default_limit = 100\n",
    "default_labels = [1, 2, 3, 4, 5]\n",
    "default_image_dimensions = [32, 32]\n",
    "default_channels = 3"
   ]
  },
  {
   "cell_type": "markdown",
   "metadata": {},
   "source": [
    "**A Single Label**  \n",
    "If labels are not important, or the data only has a single label, there are two ways to give that to the generator\n",
    "\n",
    "1. A single item list\n",
    "2. An integer\n"
   ]
  },
  {
   "cell_type": "code",
   "execution_count": 35,
   "metadata": {},
   "outputs": [
    {
     "name": "stdout",
     "output_type": "stream",
     "text": [
      "Unique Labels: [1]\n",
      "Label counts: [100]\n",
      "First 10 labels: [1 1 1 1 1 1 1 1 1 1]\n"
     ]
    }
   ],
   "source": [
    "# In this first example, we give the generator a single item list\n",
    "new_label = [1]\n",
    "gen_one_label = MockImageClassificationGenerator(\n",
    "    limit=default_limit,\n",
    "    labels=new_label,\n",
    "    img_dims=default_image_dimensions,\n",
    "    channels=default_channels,\n",
    ")\n",
    "# We then confirm that there is only one label in the dataset\n",
    "labels = gen_one_label.dataset.labels\n",
    "unique_labels = np.unique(labels, return_counts=True)\n",
    "print(\"Unique Labels:\", unique_labels[0])\n",
    "print(\"Label counts:\", unique_labels[1])\n",
    "print(\"First 10 labels:\", labels[:10])"
   ]
  },
  {
   "cell_type": "markdown",
   "metadata": {},
   "source": [
    "The `gen_one_label.dataset.labels` contains only one label, and it equals the size of our dataset. Therefore this works as expected.  \n",
    "But there is also the second way; specifying an integer. We will now show an example of that\n"
   ]
  },
  {
   "cell_type": "code",
   "execution_count": 36,
   "metadata": {},
   "outputs": [
    {
     "name": "stdout",
     "output_type": "stream",
     "text": [
      "Unique Labels: [1]\n",
      "Label counts: [100]\n",
      "First 10 labels: [1 1 1 1 1 1 1 1 1 1]\n"
     ]
    }
   ],
   "source": [
    "int_label = 1\n",
    "gen_int_label = MockImageClassificationGenerator(\n",
    "    limit=default_limit,\n",
    "    labels=int_label,\n",
    "    img_dims=default_image_dimensions,\n",
    "    channels=default_channels,\n",
    ")\n",
    "labels = gen_int_label.dataset.labels\n",
    "unique_labels = np.unique(labels, return_counts=True)\n",
    "print(\"Unique Labels:\", unique_labels[0])\n",
    "print(\"Label counts:\", unique_labels[1])\n",
    "print(\"First 10 labels:\", labels[:10])"
   ]
  },
  {
   "cell_type": "markdown",
   "metadata": {},
   "source": [
    "Again we can see that there is only 1 unique label.  \n",
    "To further prove this, the value of the label does not have to equal the value 1, as long as it is an integer\n"
   ]
  },
  {
   "cell_type": "code",
   "execution_count": 37,
   "metadata": {},
   "outputs": [
    {
     "name": "stdout",
     "output_type": "stream",
     "text": [
      "Labels: [42]\n",
      "Label counts: [100]\n",
      "First 10 labels: [42 42 42 42 42 42 42 42 42 42]\n"
     ]
    }
   ],
   "source": [
    "int_label_42 = 42\n",
    "gen_int_label = MockImageClassificationGenerator(\n",
    "    limit=default_limit,\n",
    "    labels=int_label_42,\n",
    "    img_dims=default_image_dimensions,\n",
    "    channels=default_channels,\n",
    ")\n",
    "labels = gen_int_label.dataset.labels\n",
    "unique_labels = np.unique(labels, return_counts=True)\n",
    "print(\"Labels:\", unique_labels[0])\n",
    "print(\"Label counts:\", unique_labels[1])\n",
    "print(\"First 10 labels:\", labels[:10])"
   ]
  },
  {
   "cell_type": "markdown",
   "metadata": {},
   "source": [
    "**Repeated labels**  \n",
    "Repeated labels are allowed, but will count towards the number of splits. This can be used to create imbalances in the dataset\n"
   ]
  },
  {
   "cell_type": "code",
   "execution_count": 38,
   "metadata": {},
   "outputs": [
    {
     "name": "stdout",
     "output_type": "stream",
     "text": [
      "Unique Labels: [1 2 3]\n",
      "Label counts: [50 25 25]\n"
     ]
    }
   ],
   "source": [
    "repeat_labels = [1, 1, 2, 3]\n",
    "gen_repeat_label = MockImageClassificationGenerator(\n",
    "    limit=default_limit,\n",
    "    labels=repeat_labels,\n",
    "    img_dims=default_image_dimensions,\n",
    "    channels=default_channels,\n",
    ")\n",
    "labels = gen_repeat_label.dataset.labels\n",
    "unique_labels = np.unique(labels, return_counts=True)\n",
    "print(\"Unique Labels:\", unique_labels[0])\n",
    "print(\"Label counts:\", unique_labels[1])"
   ]
  },
  {
   "cell_type": "markdown",
   "metadata": {},
   "source": [
    "The unique labels correctly show that there were only 3 (1, 2, 3), but _why_ does this happen?  \n",
    "During generation, the limit is simply divided by the length of the labels' list.  \n",
    "So each label in the list (4 items) is given 100 / 4 = `25 images`\n"
   ]
  },
  {
   "cell_type": "markdown",
   "metadata": {},
   "source": [
    "**Uneven Splits**  \n",
    "Based on the explanation above, it would make sense to wonder what happens if the limit divided by the length of the labels is not whole.  \n",
    "In the current implementation, the generator attempts to evenly split the labels. Let's look at a couple examples\n"
   ]
  },
  {
   "cell_type": "code",
   "execution_count": 39,
   "metadata": {},
   "outputs": [
    {
     "name": "stdout",
     "output_type": "stream",
     "text": [
      "Unique Labels: [1 2 3]\n",
      "Label counts: [34 33 33]\n"
     ]
    }
   ],
   "source": [
    "# Example 1\n",
    "# Set the label length to 3\n",
    "# 100 / 3 = 33r1\n",
    "labels_3 = [1, 2, 3]\n",
    "gen_3_labels = MockImageClassificationGenerator(\n",
    "    limit=default_limit,\n",
    "    labels=labels_3,\n",
    "    img_dims=default_image_dimensions,\n",
    "    channels=default_channels,\n",
    ")\n",
    "labels = gen_3_labels.dataset.labels\n",
    "unique_labels = np.unique(labels, return_counts=True)\n",
    "print(\"Unique Labels:\", unique_labels[0])\n",
    "print(\"Label counts:\", unique_labels[1])"
   ]
  },
  {
   "cell_type": "markdown",
   "metadata": {},
   "source": [
    "So we can see that each label is given an equal amount, but the overflow is given to the first label.  \n",
    "Let's now do a more extreme version, where there is a larger remainder for the division.\n"
   ]
  },
  {
   "cell_type": "code",
   "execution_count": 40,
   "metadata": {},
   "outputs": [
    {
     "name": "stdout",
     "output_type": "stream",
     "text": [
      "Unique Labels: [0 1 2 3 4 5]\n",
      "Label counts: [17 17 17 17 16 16]\n"
     ]
    }
   ],
   "source": [
    "# Example 2\n",
    "# Set the label length to 6\n",
    "# 100 / 6 = 98r4\n",
    "labels_6 = [0, 1, 2, 3, 4, 5]\n",
    "gen_6_labels = MockImageClassificationGenerator(\n",
    "    limit=default_limit,\n",
    "    labels=labels_6,\n",
    "    img_dims=default_image_dimensions,\n",
    "    channels=default_channels,\n",
    ")\n",
    "labels = gen_6_labels.dataset.labels\n",
    "unique_labels = np.unique(labels, return_counts=True)\n",
    "print(\"Unique Labels:\", unique_labels[0])\n",
    "print(\"Label counts:\", unique_labels[1])"
   ]
  },
  {
   "cell_type": "markdown",
   "metadata": {},
   "source": [
    "Similar to the first example, there is a remainder after the division.  \n",
    "With this more extreme example, you can see that the remainders are evenly split as well over the labels  \n",
    "rather than giving all of the remainder to one label.\n"
   ]
  },
  {
   "cell_type": "markdown",
   "metadata": {},
   "source": [
    "**Using range instead of a list**  \n",
    "One last thing you can do for the `labels` parameter is use a range instead of writing out the entire list.\n"
   ]
  },
  {
   "cell_type": "code",
   "execution_count": 41,
   "metadata": {},
   "outputs": [
    {
     "name": "stdout",
     "output_type": "stream",
     "text": [
      "Unique Labels: [0 1 2 3 4]\n",
      "Label counts: [20 20 20 20 20]\n"
     ]
    }
   ],
   "source": [
    "# This will give us 5 labels [0, 1, 2, 3, 4]\n",
    "range_labels = range(0, 5)\n",
    "gen_range_labels = MockImageClassificationGenerator(\n",
    "    limit=default_limit,\n",
    "    labels=range_labels,\n",
    "    img_dims=default_image_dimensions,\n",
    "    channels=default_channels,\n",
    ")\n",
    "labels = gen_range_labels.dataset.labels\n",
    "unique_labels = np.unique(labels, return_counts=True)\n",
    "print(\"Unique Labels:\", unique_labels[0])\n",
    "print(\"Label counts:\", unique_labels[1])"
   ]
  },
  {
   "cell_type": "markdown",
   "metadata": {},
   "source": [
    "As we can see, there are 5 labels, each with a count of 20, the same as if had explicitly used a list.\n"
   ]
  },
  {
   "cell_type": "markdown",
   "metadata": {},
   "source": [
    "**Image Dimensions**  \n",
    "Next we will give examples for the `img_dims` parameter.  \n",
    "Image dimensions can be given as an integer, height-width, or height-width-channel.\n"
   ]
  },
  {
   "cell_type": "code",
   "execution_count": 42,
   "metadata": {},
   "outputs": [
    {
     "name": "stdout",
     "output_type": "stream",
     "text": [
      "Image dimensions using an integer: (100, 32, 32, 3)\n",
      "Image dimensions as list: (100, 32, 32, 3)\n",
      "Image dimensions from tuple: (100, 32, 32, 3)\n"
     ]
    }
   ],
   "source": [
    "# Example 1: Using an integer for img_dims will create a square image (height == width)\n",
    "image_dimensions_int = 32\n",
    "gen_int_dim = MockImageClassificationGenerator(\n",
    "    limit=default_limit,\n",
    "    labels=default_labels,\n",
    "    img_dims=image_dimensions_int,\n",
    "    channels=default_channels,\n",
    ")\n",
    "print(\"Image dimensions using an integer:\", gen_int_dim.dataset.images.shape)\n",
    "\n",
    "# Example 2: Using a list or tuple gives the same results\n",
    "image_dimensions_list = [32, 32]\n",
    "gen_list_dim = MockImageClassificationGenerator(\n",
    "    limit=default_limit,\n",
    "    labels=default_labels,\n",
    "    img_dims=image_dimensions_list,\n",
    "    channels=default_channels,\n",
    ")\n",
    "image_dimesions_tuple = (32, 32)\n",
    "gen_tuple_dim = MockImageClassificationGenerator(\n",
    "    limit=default_limit,\n",
    "    labels=default_labels,\n",
    "    img_dims=image_dimesions_tuple,\n",
    "    channels=default_channels,\n",
    ")\n",
    "print(\"Image dimensions as list:\", gen_list_dim.dataset.images.shape)\n",
    "print(\"Image dimensions from tuple:\", gen_tuple_dim.dataset.images.shape)"
   ]
  },
  {
   "cell_type": "markdown",
   "metadata": {},
   "source": [
    "Even though each method was different, the results for the image shapes were the same.  \n",
    "Now we will show that supplying the channel within `img_dims` will overwrite the `channels` parameter.\n"
   ]
  },
  {
   "cell_type": "code",
   "execution_count": 43,
   "metadata": {},
   "outputs": [
    {
     "name": "stdout",
     "output_type": "stream",
     "text": [
      "Image dimensions with channel: (100, 32, 32, 2)\n"
     ]
    }
   ],
   "source": [
    "image_dimensions_channel = [32, 32, 2]\n",
    "channels = 15\n",
    "gen_channel_dim = MockImageClassificationGenerator(\n",
    "    limit=default_limit,\n",
    "    labels=default_labels,\n",
    "    img_dims=image_dimensions_channel,\n",
    "    channels=channels,\n",
    ")\n",
    "print(\"Image dimensions with channel:\", gen_channel_dim.dataset.images.shape)"
   ]
  },
  {
   "cell_type": "markdown",
   "metadata": {},
   "source": [
    "The size of the channels is equal to 2 even though we specified it to be 3 with the `channels` parameter. This works as intended, so be careful when supplying 3 dimensions.\n"
   ]
  },
  {
   "cell_type": "markdown",
   "metadata": {},
   "source": [
    "In all of the previous examples, the image has been square. This is not a requirement and can be easily set to any size.\n"
   ]
  },
  {
   "cell_type": "code",
   "execution_count": 44,
   "metadata": {},
   "outputs": [
    {
     "name": "stdout",
     "output_type": "stream",
     "text": [
      "Non square dimensions: (100, 32, 256, 3)\n"
     ]
    }
   ],
   "source": [
    "# Create non-square dimensions\n",
    "image_dimensions_nonsqr = [32, 256]\n",
    "gen_nonsquare_dim = MockImageClassificationGenerator(\n",
    "    limit=default_limit,\n",
    "    labels=default_labels,\n",
    "    img_dims=image_dimensions_nonsqr,\n",
    "    channels=default_channels,\n",
    ")\n",
    "print(\"Non square dimensions:\", gen_nonsquare_dim.dataset.images.shape)"
   ]
  },
  {
   "cell_type": "markdown",
   "metadata": {},
   "source": [
    "## Warnings\n",
    "\n",
    "---\n",
    "\n",
    "Note that most parameters can be set to 0 and will not give a warning\n"
   ]
  },
  {
   "cell_type": "code",
   "execution_count": 45,
   "metadata": {},
   "outputs": [
    {
     "name": "stdout",
     "output_type": "stream",
     "text": [
      "Dataset with no images:  (0, 32, 32, 3)\n",
      "Dataset with no image dimensions:  (100, 0, 0, 3)\n",
      "Dataset with no channels:  (100, 32, 32, 0)\n",
      "Dataset with no data (0, 0, 0, 0)\n"
     ]
    }
   ],
   "source": [
    "gen_0_limit = MockImageClassificationGenerator(\n",
    "    limit=0,\n",
    "    labels=default_labels,\n",
    "    img_dims=default_image_dimensions,\n",
    "    channels=default_channels,\n",
    ")\n",
    "print(\"Dataset with no images: \", gen_0_limit.dataset.images.shape)\n",
    "\n",
    "gen_0_dims = MockImageClassificationGenerator(\n",
    "    limit=default_limit, labels=default_labels, img_dims=0, channels=default_channels\n",
    ")\n",
    "print(\"Dataset with no image dimensions: \", gen_0_dims.dataset.images.shape)\n",
    "\n",
    "gen_0_channels = MockImageClassificationGenerator(\n",
    "    limit=default_limit,\n",
    "    labels=default_labels,\n",
    "    img_dims=default_image_dimensions,\n",
    "    channels=0,\n",
    ")\n",
    "print(\"Dataset with no channels: \", gen_0_channels.dataset.images.shape)\n",
    "\n",
    "gen_0 = MockImageClassificationGenerator(limit=0, labels=0, img_dims=0, channels=0)\n",
    "print(\"Dataset with no data\", gen_0.dataset.images.shape)"
   ]
  },
  {
   "cell_type": "markdown",
   "metadata": {},
   "source": [
    "## Future Additions\n",
    "\n",
    "---\n",
    "\n",
    "- Return the dataset when calling the generator (instead of the generator)\n",
    "- Warnings when parameters are set to 0\n",
    "- Function to recreate a dataset from a current generator instead of a new generator\n"
   ]
  },
  {
   "cell_type": "markdown",
   "metadata": {},
   "source": []
  }
 ],
 "metadata": {
  "kernelspec": {
   "display_name": "env",
   "language": "python",
   "name": "python3"
  },
  "language_info": {
   "codemirror_mode": {
    "name": "ipython",
    "version": 3
   },
   "file_extension": ".py",
   "mimetype": "text/x-python",
   "name": "python",
   "nbconvert_exporter": "python",
   "pygments_lexer": "ipython3",
   "version": "3.10.11"
  },
  "orig_nbformat": 4
 },
 "nbformat": 4,
 "nbformat_minor": 2
}
